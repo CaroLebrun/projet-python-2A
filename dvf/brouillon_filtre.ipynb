{
 "cells": [
  {
   "cell_type": "markdown",
   "metadata": {},
   "source": [
    "Importation des packages"
   ]
  },
  {
   "cell_type": "code",
   "execution_count": 3,
   "metadata": {},
   "outputs": [],
   "source": [
    "import pandas as pd\n",
    "import geopandas as gpd\n",
    "import requests\n",
    "from io import StringIO"
   ]
  },
  {
   "cell_type": "markdown",
   "metadata": {},
   "source": [
    "Paramétrage de l'API"
   ]
  },
  {
   "cell_type": "code",
   "execution_count": 4,
   "metadata": {},
   "outputs": [
    {
     "ename": "SyntaxError",
     "evalue": "invalid syntax (3147738439.py, line 1)",
     "output_type": "error",
     "traceback": [
      "\u001b[0;36m  Cell \u001b[0;32mIn[4], line 1\u001b[0;36m\u001b[0m\n\u001b[0;31m    BASE_URL_API = https://apidf-preprod.cerema.fr\"\"\u001b[0m\n\u001b[0m                        ^\u001b[0m\n\u001b[0;31mSyntaxError\u001b[0m\u001b[0;31m:\u001b[0m invalid syntax\n"
     ]
    }
   ],
   "source": [
    "BASE_URL_API = https://apidf-preprod.cerema.fr\"\"\n",
    "#code_insee, nom =  \"59512\", \"Roubaix\" #\"75015\", \"Paris\"\n",
    "#code_insee Lille = 59350\n",
    "code_insee = \"78220\"\n",
    "url = BASE_URL_API + f\"/dvf_opendata/geomutations/?anneemut=2020&code_insee=59350\"\n",
    "# %% \n",
    "print(url)"
   ]
  },
  {
   "cell_type": "code",
   "execution_count": 1,
   "metadata": {},
   "outputs": [
    {
     "ename": "NameError",
     "evalue": "name 'requests' is not defined",
     "output_type": "error",
     "traceback": [
      "\u001b[0;31m---------------------------------------------------------------------------\u001b[0m",
      "\u001b[0;31mNameError\u001b[0m                                 Traceback (most recent call last)",
      "Cell \u001b[0;32mIn[1], line 1\u001b[0m\n\u001b[0;32m----> 1\u001b[0m response \u001b[38;5;241m=\u001b[39m \u001b[43mrequests\u001b[49m\u001b[38;5;241m.\u001b[39mget(url)\u001b[38;5;66;03m#, params=params)\u001b[39;00m\n\u001b[1;32m      2\u001b[0m \u001b[38;5;66;03m# Vérification du succès de la requête\u001b[39;00m\n\u001b[1;32m      3\u001b[0m \u001b[38;5;28;01mif\u001b[39;00m response\u001b[38;5;241m.\u001b[39mstatus_code \u001b[38;5;241m==\u001b[39m \u001b[38;5;241m200\u001b[39m:\n",
      "\u001b[0;31mNameError\u001b[0m: name 'requests' is not defined"
     ]
    }
   ],
   "source": [
    "response = requests.get(url)#, params=params)\n",
    "# Vérification du succès de la requête\n",
    "if response.status_code == 200:\n",
    "    data = response.json()  # On récupère les données au format JSON\n",
    "else:\n",
    "    print(f\"Erreur : {response.status_code}\")"
   ]
  },
  {
   "cell_type": "code",
   "execution_count": 5,
   "metadata": {},
   "outputs": [
    {
     "ename": "NameError",
     "evalue": "name 'data' is not defined",
     "output_type": "error",
     "traceback": [
      "\u001b[0;31m---------------------------------------------------------------------------\u001b[0m",
      "\u001b[0;31mNameError\u001b[0m                                 Traceback (most recent call last)",
      "Cell \u001b[0;32mIn[5], line 2\u001b[0m\n\u001b[1;32m      1\u001b[0m \u001b[38;5;66;03m# Conversion en DataFrame pandas\u001b[39;00m\n\u001b[0;32m----> 2\u001b[0m df \u001b[38;5;241m=\u001b[39m pd\u001b[38;5;241m.\u001b[39mDataFrame(\u001b[43mdata\u001b[49m[\u001b[38;5;124m\"\u001b[39m\u001b[38;5;124mfeatures\u001b[39m\u001b[38;5;124m\"\u001b[39m])\n",
      "\u001b[0;31mNameError\u001b[0m: name 'data' is not defined"
     ]
    }
   ],
   "source": [
    "# Conversion en DataFrame pandas\n",
    "df = pd.DataFrame(data[\"features\"])"
   ]
  },
  {
   "cell_type": "code",
   "execution_count": 6,
   "metadata": {},
   "outputs": [
    {
     "ename": "NameError",
     "evalue": "name 'response' is not defined",
     "output_type": "error",
     "traceback": [
      "\u001b[0;31m---------------------------------------------------------------------------\u001b[0m",
      "\u001b[0;31mNameError\u001b[0m                                 Traceback (most recent call last)",
      "Cell \u001b[0;32mIn[6], line 1\u001b[0m\n\u001b[0;32m----> 1\u001b[0m mut_gdf \u001b[38;5;241m=\u001b[39m gpd\u001b[38;5;241m.\u001b[39mread_file(StringIO(\u001b[43mresponse\u001b[49m\u001b[38;5;241m.\u001b[39mtext))\n",
      "\u001b[0;31mNameError\u001b[0m: name 'response' is not defined"
     ]
    }
   ],
   "source": [
    "mut_gdf = gpd.read_file(StringIO(response.text))"
   ]
  },
  {
   "cell_type": "code",
   "execution_count": 114,
   "metadata": {},
   "outputs": [
    {
     "data": {
      "text/html": [
       "<div>\n",
       "<style scoped>\n",
       "    .dataframe tbody tr th:only-of-type {\n",
       "        vertical-align: middle;\n",
       "    }\n",
       "\n",
       "    .dataframe tbody tr th {\n",
       "        vertical-align: top;\n",
       "    }\n",
       "\n",
       "    .dataframe thead th {\n",
       "        text-align: right;\n",
       "    }\n",
       "</style>\n",
       "<table border=\"1\" class=\"dataframe\">\n",
       "  <thead>\n",
       "    <tr style=\"text-align: right;\">\n",
       "      <th></th>\n",
       "      <th>idmutinvar</th>\n",
       "      <th>idopendata</th>\n",
       "      <th>datemut</th>\n",
       "      <th>anneemut</th>\n",
       "      <th>coddep</th>\n",
       "      <th>libnatmut</th>\n",
       "      <th>vefa</th>\n",
       "      <th>valeurfonc</th>\n",
       "      <th>nbcomm</th>\n",
       "      <th>nbpar</th>\n",
       "      <th>nbparmut</th>\n",
       "      <th>sterr</th>\n",
       "      <th>nbvolmut</th>\n",
       "      <th>nblocmut</th>\n",
       "      <th>sbati</th>\n",
       "      <th>codtypbien</th>\n",
       "      <th>libtypbien</th>\n",
       "      <th>geometry</th>\n",
       "    </tr>\n",
       "  </thead>\n",
       "  <tbody>\n",
       "    <tr>\n",
       "      <th>0</th>\n",
       "      <td>83a68c1f0c617ae2609e8ade54c11804</td>\n",
       "      <td>83a68c1f0c617ae2609e8ade54c11804</td>\n",
       "      <td>2020-09-10</td>\n",
       "      <td>2020</td>\n",
       "      <td>59</td>\n",
       "      <td>Vente</td>\n",
       "      <td>False</td>\n",
       "      <td>200000.00</td>\n",
       "      <td>1</td>\n",
       "      <td>1</td>\n",
       "      <td>0</td>\n",
       "      <td>0.00</td>\n",
       "      <td>0</td>\n",
       "      <td>1</td>\n",
       "      <td>37.00</td>\n",
       "      <td>121</td>\n",
       "      <td>UN APPARTEMENT</td>\n",
       "      <td>MULTIPOLYGON (((3.05323 50.6372, 3.05317 50.63...</td>\n",
       "    </tr>\n",
       "    <tr>\n",
       "      <th>1</th>\n",
       "      <td>45005cd8bafee591ed6debb57bbc6613</td>\n",
       "      <td>45005cd8bafee591ed6debb57bbc6613</td>\n",
       "      <td>2020-12-23</td>\n",
       "      <td>2020</td>\n",
       "      <td>59</td>\n",
       "      <td>Vente en l'état futur d'achèvement</td>\n",
       "      <td>True</td>\n",
       "      <td>238800.02</td>\n",
       "      <td>1</td>\n",
       "      <td>1</td>\n",
       "      <td>0</td>\n",
       "      <td>0.00</td>\n",
       "      <td>0</td>\n",
       "      <td>0</td>\n",
       "      <td>0.00</td>\n",
       "      <td>101</td>\n",
       "      <td>BATI - INDETERMINE : Vefa sans descriptif</td>\n",
       "      <td>MULTIPOLYGON (((3.06685 50.62606, 3.06694 50.6...</td>\n",
       "    </tr>\n",
       "    <tr>\n",
       "      <th>2</th>\n",
       "      <td>ebbcec3f97add3b68e7b452f8ba73f21</td>\n",
       "      <td>ebbcec3f97add3b68e7b452f8ba73f21</td>\n",
       "      <td>2020-12-17</td>\n",
       "      <td>2020</td>\n",
       "      <td>59</td>\n",
       "      <td>Vente</td>\n",
       "      <td>False</td>\n",
       "      <td>294000.00</td>\n",
       "      <td>1</td>\n",
       "      <td>1</td>\n",
       "      <td>0</td>\n",
       "      <td>0.00</td>\n",
       "      <td>0</td>\n",
       "      <td>1</td>\n",
       "      <td>40.00</td>\n",
       "      <td>121</td>\n",
       "      <td>UN APPARTEMENT</td>\n",
       "      <td>MULTIPOLYGON (((3.05946 50.64373, 3.05957 50.6...</td>\n",
       "    </tr>\n",
       "    <tr>\n",
       "      <th>3</th>\n",
       "      <td>7bcb49cdc14b9303042d3938d9ff7510</td>\n",
       "      <td>7bcb49cdc14b9303042d3938d9ff7510</td>\n",
       "      <td>2020-07-07</td>\n",
       "      <td>2020</td>\n",
       "      <td>59</td>\n",
       "      <td>Vente</td>\n",
       "      <td>False</td>\n",
       "      <td>1.00</td>\n",
       "      <td>1</td>\n",
       "      <td>1</td>\n",
       "      <td>0</td>\n",
       "      <td>0.00</td>\n",
       "      <td>0</td>\n",
       "      <td>1</td>\n",
       "      <td>54.00</td>\n",
       "      <td>121</td>\n",
       "      <td>UN APPARTEMENT</td>\n",
       "      <td>MULTIPOLYGON (((3.05761 50.6304, 3.05759 50.63...</td>\n",
       "    </tr>\n",
       "    <tr>\n",
       "      <th>4</th>\n",
       "      <td>aee36b8e79a346304326d5bbed32e4f5</td>\n",
       "      <td>aee36b8e79a346304326d5bbed32e4f5</td>\n",
       "      <td>2020-12-04</td>\n",
       "      <td>2020</td>\n",
       "      <td>59</td>\n",
       "      <td>Vente</td>\n",
       "      <td>False</td>\n",
       "      <td>4500.00</td>\n",
       "      <td>1</td>\n",
       "      <td>1</td>\n",
       "      <td>0</td>\n",
       "      <td>0.00</td>\n",
       "      <td>0</td>\n",
       "      <td>1</td>\n",
       "      <td>0.00</td>\n",
       "      <td>131</td>\n",
       "      <td>UNE DEPENDANCE</td>\n",
       "      <td>MULTIPOLYGON (((3.0738 50.61993, 3.07384 50.61...</td>\n",
       "    </tr>\n",
       "  </tbody>\n",
       "</table>\n",
       "</div>"
      ],
      "text/plain": [
       "                         idmutinvar                        idopendata  \\\n",
       "0  83a68c1f0c617ae2609e8ade54c11804  83a68c1f0c617ae2609e8ade54c11804   \n",
       "1  45005cd8bafee591ed6debb57bbc6613  45005cd8bafee591ed6debb57bbc6613   \n",
       "2  ebbcec3f97add3b68e7b452f8ba73f21  ebbcec3f97add3b68e7b452f8ba73f21   \n",
       "3  7bcb49cdc14b9303042d3938d9ff7510  7bcb49cdc14b9303042d3938d9ff7510   \n",
       "4  aee36b8e79a346304326d5bbed32e4f5  aee36b8e79a346304326d5bbed32e4f5   \n",
       "\n",
       "     datemut  anneemut coddep                           libnatmut   vefa  \\\n",
       "0 2020-09-10      2020     59                               Vente  False   \n",
       "1 2020-12-23      2020     59  Vente en l'état futur d'achèvement   True   \n",
       "2 2020-12-17      2020     59                               Vente  False   \n",
       "3 2020-07-07      2020     59                               Vente  False   \n",
       "4 2020-12-04      2020     59                               Vente  False   \n",
       "\n",
       "  valeurfonc  nbcomm  nbpar  nbparmut sterr  nbvolmut  nblocmut  sbati  \\\n",
       "0  200000.00       1      1         0  0.00         0         1  37.00   \n",
       "1  238800.02       1      1         0  0.00         0         0   0.00   \n",
       "2  294000.00       1      1         0  0.00         0         1  40.00   \n",
       "3       1.00       1      1         0  0.00         0         1  54.00   \n",
       "4    4500.00       1      1         0  0.00         0         1   0.00   \n",
       "\n",
       "  codtypbien                                 libtypbien  \\\n",
       "0        121                             UN APPARTEMENT   \n",
       "1        101  BATI - INDETERMINE : Vefa sans descriptif   \n",
       "2        121                             UN APPARTEMENT   \n",
       "3        121                             UN APPARTEMENT   \n",
       "4        131                             UNE DEPENDANCE   \n",
       "\n",
       "                                            geometry  \n",
       "0  MULTIPOLYGON (((3.05323 50.6372, 3.05317 50.63...  \n",
       "1  MULTIPOLYGON (((3.06685 50.62606, 3.06694 50.6...  \n",
       "2  MULTIPOLYGON (((3.05946 50.64373, 3.05957 50.6...  \n",
       "3  MULTIPOLYGON (((3.05761 50.6304, 3.05759 50.63...  \n",
       "4  MULTIPOLYGON (((3.0738 50.61993, 3.07384 50.61...  "
      ]
     },
     "execution_count": 114,
     "metadata": {},
     "output_type": "execute_result"
    }
   ],
   "source": [
    "mut_gdf.head()"
   ]
  },
  {
   "cell_type": "markdown",
   "metadata": {},
   "source": [
    "Description des variables de ce dataframe :\n",
    "- idmutinvar = identifiant unique entre les diff bases pour retrouver chaque mutation\n",
    "- idopendata = identifiant de mutation utilisé depuis l'ouverture de données DVF\n",
    "- datemut = date de signature de l'acte de vente\n",
    "- anneemut = annee de signature du doc\n",
    "- codedep\n",
    "- libnatmut = Libellé de nature de mutation tel que défini dans la donnée source DVF 6 catégories : Vente, Vente en l'état futur d'achèvement, Adjudication, Echange, Vente terrain à bâtir et Expropriation.\n",
    "- vefa = booléen selon si la vente est en VEFA (vente en l'état futur d'achèvement) ou non\n",
    "- valeurfonc = valeur foncière en euro déclarée lors de la vente ; prix net vendeur, inclut la TVA mais n'inclut pas les frais de notaire, d'agence ou des meubles. \n",
    "- nbcomm = nombre de communes concernée par la mutation (i.e. sur lesquelles se trouve la parcelle cadastrale concernée par la mutation)\n",
    "- nbpar = comme nbcomm mais pour les parcelles.\n",
    "- nbparmut = nb de parcelles ayant muté (i.e. dont la pleine propriété a été transférée lors de la mutation)\n",
    "- sterr = surface de terrain ayant muté (mutation = transfert de propriété, donc surface de terrain ayant muté = surface du terrain qui a été vendu)\n",
    "- nbvolmut = variable obscure, flemme \n",
    "- nblocmut = nb de locaux ayant muté\n",
    "- sbati = surface de l'ensemble du bati ayant muté\n",
    "- codtypbien = typologie des biens ; on pourra s'en servir pour filter les maisons et appartements et virer tous les types de batiments bizarres (cf schéma ici) https://doc-datafoncier.cerema.fr/doc/dv3f/mutation/codtypbien\n",
    "- libtypbien = comme codtypbien mais pour la base DV3F et non issu de juste DVF\n",
    "- geometry"
   ]
  },
  {
   "cell_type": "markdown",
   "metadata": {},
   "source": [
    "Il va falloir nettoyer notre jeu de toutes les observations qui ne nous intéressent pas. Par exemple, pour enlever toutes les transactions qui ne sont pas des ventes :"
   ]
  },
  {
   "cell_type": "code",
   "execution_count": 115,
   "metadata": {},
   "outputs": [
    {
     "data": {
      "text/plain": [
       "86"
      ]
     },
     "execution_count": 115,
     "metadata": {},
     "output_type": "execute_result"
    }
   ],
   "source": [
    "mut_gdf= mut_gdf[mut_gdf[\"libnatmut\"] == \"Vente\"]\n",
    "len(mut_gdf)"
   ]
  },
  {
   "cell_type": "markdown",
   "metadata": {},
   "source": [
    "Noter qu'on peut donc travailler sur des colonnes de types object sans changer ce type s'il s'agit de texte (on n'a pas besoin de les transformer en string). On est sûr que le filtre a fonctionné car on a moins d'observation après filtre."
   ]
  },
  {
   "cell_type": "markdown",
   "metadata": {},
   "source": [
    "Mais on a un problème avec la surface transférée : parfois on voit 0 pour le terrain vendu ET pour le bâti vendu (respectivement sterr et sbati). Il faut écarter ces anomalies. Mais ces deux variables sont du type \"object\", ce qui nous empêche de les comparer numériquement."
   ]
  },
  {
   "cell_type": "code",
   "execution_count": 116,
   "metadata": {},
   "outputs": [
    {
     "data": {
      "text/plain": [
       "idmutinvar            object\n",
       "idopendata            object\n",
       "datemut       datetime64[ms]\n",
       "anneemut               int32\n",
       "coddep                object\n",
       "libnatmut             object\n",
       "vefa                    bool\n",
       "valeurfonc            object\n",
       "nbcomm                 int32\n",
       "nbpar                  int32\n",
       "nbparmut               int32\n",
       "sterr                 object\n",
       "nbvolmut               int32\n",
       "nblocmut               int32\n",
       "sbati                 object\n",
       "codtypbien            object\n",
       "libtypbien            object\n",
       "geometry            geometry\n",
       "dtype: object"
      ]
     },
     "execution_count": 116,
     "metadata": {},
     "output_type": "execute_result"
    }
   ],
   "source": [
    "mut_gdf.dtypes"
   ]
  },
  {
   "cell_type": "markdown",
   "metadata": {},
   "source": [
    "On va donc changer le type de ces deux variables en décimaux."
   ]
  },
  {
   "cell_type": "code",
   "execution_count": 117,
   "metadata": {},
   "outputs": [],
   "source": [
    "mut_gdf['sterr']  = mut_gdf[\"sterr\"].astype(float)\n",
    "mut_gdf['sbati']  = mut_gdf[\"sbati\"].astype(float)"
   ]
  },
  {
   "cell_type": "code",
   "execution_count": 118,
   "metadata": {},
   "outputs": [
    {
     "data": {
      "text/plain": [
       "idmutinvar            object\n",
       "idopendata            object\n",
       "datemut       datetime64[ms]\n",
       "anneemut               int32\n",
       "coddep                object\n",
       "libnatmut             object\n",
       "vefa                    bool\n",
       "valeurfonc            object\n",
       "nbcomm                 int32\n",
       "nbpar                  int32\n",
       "nbparmut               int32\n",
       "sterr                float64\n",
       "nbvolmut               int32\n",
       "nblocmut               int32\n",
       "sbati                float64\n",
       "codtypbien            object\n",
       "libtypbien            object\n",
       "geometry            geometry\n",
       "dtype: object"
      ]
     },
     "execution_count": 118,
     "metadata": {},
     "output_type": "execute_result"
    }
   ],
   "source": [
    "mut_gdf.dtypes"
   ]
  },
  {
   "cell_type": "markdown",
   "metadata": {},
   "source": [
    "Et maintenant on peut appliquer un filtre : (peut-être d'une meilleure manière que d'enchaîner les filtres)."
   ]
  },
  {
   "cell_type": "code",
   "execution_count": 119,
   "metadata": {},
   "outputs": [
    {
     "data": {
      "text/plain": [
       "81"
      ]
     },
     "execution_count": 119,
     "metadata": {},
     "output_type": "execute_result"
    }
   ],
   "source": [
    "mut_gdf[\"stotale\"] = mut_gdf[\"sterr\"] + mut_gdf[\"sbati\"]\n",
    "mut_gdf = mut_gdf[mut_gdf[\"stotale\"] != 0]\n",
    "len(mut_gdf)"
   ]
  },
  {
   "cell_type": "markdown",
   "metadata": {},
   "source": [
    "Voilà le genre de filtre qu'on veut appliquer sur notre jeu de données. "
   ]
  },
  {
   "cell_type": "markdown",
   "metadata": {},
   "source": [
    "On peut chercher parmi nos observations le maximum et le minimum pour une variable. Par exemple, pour le prix de l'achat (\"valeurfonc\")."
   ]
  },
  {
   "cell_type": "code",
   "execution_count": 120,
   "metadata": {},
   "outputs": [],
   "source": [
    "mut_gdf['valeurfonc']  = mut_gdf[\"valeurfonc\"].astype(float)\n"
   ]
  },
  {
   "cell_type": "code",
   "execution_count": 121,
   "metadata": {},
   "outputs": [
    {
     "name": "stdout",
     "output_type": "stream",
     "text": [
      "1.0 957000.0\n"
     ]
    }
   ],
   "source": [
    "maxi = 0\n",
    "mini = 10000000000000000000000000000000000000\n",
    "for index, row in mut_gdf.iterrows():\n",
    "    if row[\"valeurfonc\"] > maxi : \n",
    "        maxi = row[\"valeurfonc\"]\n",
    "    if row[\"valeurfonc\"] < mini : \n",
    "        mini = row[\"valeurfonc\"]\n",
    "print(mini, maxi)"
   ]
  },
  {
   "cell_type": "markdown",
   "metadata": {},
   "source": [
    "Ce qui laisse bien l'impression d'avoir des outliers."
   ]
  }
 ],
 "metadata": {
  "kernelspec": {
   "display_name": "base",
   "language": "python",
   "name": "python3"
  },
  "language_info": {
   "codemirror_mode": {
    "name": "ipython",
    "version": 3
   },
   "file_extension": ".py",
   "mimetype": "text/x-python",
   "name": "python",
   "nbconvert_exporter": "python",
   "pygments_lexer": "ipython3",
   "version": "3.12.7"
  }
 },
 "nbformat": 4,
 "nbformat_minor": 2
}
