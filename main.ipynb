{
 "cells": [
  {
   "cell_type": "markdown",
   "metadata": {},
   "source": [
    "Importation des packages"
   ]
  },
  {
   "cell_type": "code",
   "execution_count": 8,
   "metadata": {},
   "outputs": [],
   "source": [
    "import pandas as pd\n",
    "import requests"
   ]
  },
  {
   "cell_type": "markdown",
   "metadata": {},
   "source": [
    "Paramétrage de l'API"
   ]
  },
  {
   "cell_type": "code",
   "execution_count": 9,
   "metadata": {},
   "outputs": [
    {
     "name": "stdout",
     "output_type": "stream",
     "text": [
      "https://apidf-preprod.cerema.fr/indicateurs/dv3f/communes/annuel/78220\n"
     ]
    }
   ],
   "source": [
    "BASE_URL_API = \"https://apidf-preprod.cerema.fr\"\n",
    "#code_insee, nom =  \"59512\", \"Roubaix\" #\"75015\", \"Paris\"\n",
    "code_insee = \"78220\"\n",
    "url = BASE_URL_API + f\"/indicateurs/dv3f/communes/annuel/{code_insee}\"\n",
    "# %%\n",
    "print(url)"
   ]
  },
  {
   "cell_type": "code",
   "execution_count": 10,
   "metadata": {},
   "outputs": [],
   "source": [
    "# %%\n",
    "params = {\n",
    "    'code_commune': '75056',  # Exemple de code commune pour Paris (75056)\n",
    "    'date_min': '2022-01-01', # Transactions depuis 2022\n",
    "    'date_max': '2023-01-01', # Transactions jusqu'en 2023\n",
    "    'type': 'Vente',           # Type de transaction (Vente, etc.)\n",
    "    'limit': 1000              # Limite de résultats\n",
    "}\n",
    "# %%"
   ]
  },
  {
   "cell_type": "code",
   "execution_count": 11,
   "metadata": {},
   "outputs": [
    {
     "name": "stdout",
     "output_type": "stream",
     "text": [
      "<class 'dict'>\n",
      "dict_keys(['count', 'next', 'previous', 'results'])\n"
     ]
    }
   ],
   "source": [
    "response = requests.get(url)#, params=params)\n",
    "# Vérification du succès de la requête\n",
    "if response.status_code == 200:\n",
    "    data = response.json()  # On récupère les données au format JSON\n",
    "else:\n",
    "    print(f\"Erreur : {response.status_code}\")\n",
    "# %%\n",
    "print(type(data))\n",
    "print(data.keys())"
   ]
  },
  {
   "cell_type": "markdown",
   "metadata": {},
   "source": [
    "Data est un dictionnaire ; on va transformer son entrée \"results\" en un dataframe python"
   ]
  },
  {
   "cell_type": "code",
   "execution_count": 12,
   "metadata": {},
   "outputs": [
    {
     "name": "stdout",
     "output_type": "stream",
     "text": [
      "  annee codgeo              libgeo  nbtrans_cod1  valeurfonc_sum_cod1  \\\n",
      "0  2010  78220  Les Essarts-le-Roi           110          29119176.00   \n",
      "1  2011  78220  Les Essarts-le-Roi           117          35915128.11   \n",
      "2  2012  78220  Les Essarts-le-Roi            92          24185911.92   \n",
      "3  2013  78220  Les Essarts-le-Roi            75          21053459.00   \n",
      "4  2014  78220  Les Essarts-le-Roi            91          25406500.00   \n",
      "\n",
      "   nbtrans_cod2  valeurfonc_sum_cod2  nbtrans_cod11  valeurfonc_sum_cod11  \\\n",
      "0            13           8231455.50             64           21563525.00   \n",
      "1             9                  NaN             63           21171328.11   \n",
      "2            11           4442819.93             45           14792260.98   \n",
      "3             2                  NaN             34           10975843.00   \n",
      "4             1                  NaN             53           16275400.00   \n",
      "\n",
      "   nbtrans_cod111  ...  nbtrans_cod1311  valeurfonc_sum_cod1311  \\\n",
      "0              64  ...                4                    None   \n",
      "1              63  ...                1                    None   \n",
      "2              45  ...                2                    None   \n",
      "3              34  ...                2                    None   \n",
      "4              53  ...                0                    None   \n",
      "\n",
      "   nbtrans_cod14  valeurfonc_sum_cod14  nbtrans_cod142  valeurfonc_sum_cod142  \\\n",
      "0              0                   NaN               0                   None   \n",
      "1              4                   NaN               0                   None   \n",
      "2             11            3540328.07               0                   None   \n",
      "3             12            2344000.00               0                   None   \n",
      "4              4                   NaN               0                   None   \n",
      "\n",
      "   nbtrans_cod143  valeurfonc_sum_cod143  nbtrans_cod149  \\\n",
      "0               0                    NaN               0   \n",
      "1               4                    NaN               0   \n",
      "2              11             3540328.07               0   \n",
      "3              11             2302000.00               1   \n",
      "4               4                    NaN               0   \n",
      "\n",
      "   valeurfonc_sum_cod149  \n",
      "0                   None  \n",
      "1                   None  \n",
      "2                   None  \n",
      "3                   None  \n",
      "4                   None  \n",
      "\n",
      "[5 rows x 617 columns]\n"
     ]
    }
   ],
   "source": [
    "# Conversion en DataFrame pandas\n",
    "df = pd.DataFrame.from_dict(data[\"results\"])\n",
    "print(df.head())\n",
    "#print(df.columns)"
   ]
  },
  {
   "cell_type": "code",
   "execution_count": 13,
   "metadata": {},
   "outputs": [
    {
     "data": {
      "text/html": [
       "<div>\n",
       "<style scoped>\n",
       "    .dataframe tbody tr th:only-of-type {\n",
       "        vertical-align: middle;\n",
       "    }\n",
       "\n",
       "    .dataframe tbody tr th {\n",
       "        vertical-align: top;\n",
       "    }\n",
       "\n",
       "    .dataframe thead th {\n",
       "        text-align: right;\n",
       "    }\n",
       "</style>\n",
       "<table border=\"1\" class=\"dataframe\">\n",
       "  <thead>\n",
       "    <tr style=\"text-align: right;\">\n",
       "      <th></th>\n",
       "      <th>annee</th>\n",
       "      <th>codgeo</th>\n",
       "      <th>libgeo</th>\n",
       "      <th>nbtrans_cod1</th>\n",
       "      <th>valeurfonc_sum_cod1</th>\n",
       "      <th>nbtrans_cod2</th>\n",
       "      <th>valeurfonc_sum_cod2</th>\n",
       "      <th>nbtrans_cod11</th>\n",
       "      <th>valeurfonc_sum_cod11</th>\n",
       "      <th>nbtrans_cod111</th>\n",
       "      <th>...</th>\n",
       "      <th>nbtrans_cod1311</th>\n",
       "      <th>valeurfonc_sum_cod1311</th>\n",
       "      <th>nbtrans_cod14</th>\n",
       "      <th>valeurfonc_sum_cod14</th>\n",
       "      <th>nbtrans_cod142</th>\n",
       "      <th>valeurfonc_sum_cod142</th>\n",
       "      <th>nbtrans_cod143</th>\n",
       "      <th>valeurfonc_sum_cod143</th>\n",
       "      <th>nbtrans_cod149</th>\n",
       "      <th>valeurfonc_sum_cod149</th>\n",
       "    </tr>\n",
       "  </thead>\n",
       "  <tbody>\n",
       "    <tr>\n",
       "      <th>0</th>\n",
       "      <td>2010</td>\n",
       "      <td>78220</td>\n",
       "      <td>Les Essarts-le-Roi</td>\n",
       "      <td>110</td>\n",
       "      <td>29119176.0</td>\n",
       "      <td>13</td>\n",
       "      <td>8231455.5</td>\n",
       "      <td>64</td>\n",
       "      <td>21563525.0</td>\n",
       "      <td>64</td>\n",
       "      <td>...</td>\n",
       "      <td>4</td>\n",
       "      <td>None</td>\n",
       "      <td>0</td>\n",
       "      <td>NaN</td>\n",
       "      <td>0</td>\n",
       "      <td>None</td>\n",
       "      <td>0</td>\n",
       "      <td>NaN</td>\n",
       "      <td>0</td>\n",
       "      <td>None</td>\n",
       "    </tr>\n",
       "  </tbody>\n",
       "</table>\n",
       "<p>1 rows × 617 columns</p>\n",
       "</div>"
      ],
      "text/plain": [
       "  annee codgeo              libgeo  nbtrans_cod1  valeurfonc_sum_cod1  \\\n",
       "0  2010  78220  Les Essarts-le-Roi           110           29119176.0   \n",
       "\n",
       "   nbtrans_cod2  valeurfonc_sum_cod2  nbtrans_cod11  valeurfonc_sum_cod11  \\\n",
       "0            13            8231455.5             64            21563525.0   \n",
       "\n",
       "   nbtrans_cod111  ...  nbtrans_cod1311  valeurfonc_sum_cod1311  \\\n",
       "0              64  ...                4                    None   \n",
       "\n",
       "   nbtrans_cod14  valeurfonc_sum_cod14  nbtrans_cod142  valeurfonc_sum_cod142  \\\n",
       "0              0                   NaN               0                   None   \n",
       "\n",
       "   nbtrans_cod143  valeurfonc_sum_cod143  nbtrans_cod149  \\\n",
       "0               0                    NaN               0   \n",
       "\n",
       "   valeurfonc_sum_cod149  \n",
       "0                   None  \n",
       "\n",
       "[1 rows x 617 columns]"
      ]
     },
     "execution_count": 13,
     "metadata": {},
     "output_type": "execute_result"
    }
   ],
   "source": [
    "df.head(1)"
   ]
  },
  {
   "cell_type": "markdown",
   "metadata": {},
   "source": [
    "Tête très bizarre des données : vu les montants et la variable \"nombre de transactions\", j'ai l'impression qu'on accède plutôt à un \"résumé des données DVF, où les données sont agrégées\n",
    "De plus, bizarre d'avoir 617 colonnes ; et on voit dans la première colonne qu'ici on a plutôt 1ligne = une année !! pas du tout ce qu'on veut\n",
    "Nous on veut une ligne = une transaction\n",
    "\n",
    "Bref, je tente d'accéder à la base via l'API du gouvernement et pas via celle du CEREMA"
   ]
  },
  {
   "cell_type": "code",
   "execution_count": 22,
   "metadata": {},
   "outputs": [
    {
     "name": "stdout",
     "output_type": "stream",
     "text": [
      " https://www.data.gouv.fr/api/1/dvf_opendata/geomutations/78220\n"
     ]
    }
   ],
   "source": [
    "BASE_URL_API_GOUV = \" https://www.data.gouv.fr/api/1\"\n",
    "#code_insee, nom =  \"59512\", \"Roubaix\" #\"75015\", \"Paris\"\n",
    "code_insee = \"78220\"\n",
    "url_gouv = BASE_URL_API_GOUV + f\"/dvf_opendata/geomutations/{code_insee}\"\n",
    "# %%\n",
    "print(url_gouv)"
   ]
  },
  {
   "cell_type": "code",
   "execution_count": 23,
   "metadata": {},
   "outputs": [
    {
     "name": "stdout",
     "output_type": "stream",
     "text": [
      "Erreur : 404\n"
     ]
    },
    {
     "ename": "NameError",
     "evalue": "name 'data_essai' is not defined",
     "output_type": "error",
     "traceback": [
      "\u001b[0;31m---------------------------------------------------------------------------\u001b[0m",
      "\u001b[0;31mNameError\u001b[0m                                 Traceback (most recent call last)",
      "Cell \u001b[0;32mIn[23], line 8\u001b[0m\n\u001b[1;32m      6\u001b[0m     \u001b[38;5;28mprint\u001b[39m(\u001b[38;5;124mf\u001b[39m\u001b[38;5;124m\"\u001b[39m\u001b[38;5;124mErreur : \u001b[39m\u001b[38;5;132;01m{\u001b[39;00mresponse\u001b[38;5;241m.\u001b[39mstatus_code\u001b[38;5;132;01m}\u001b[39;00m\u001b[38;5;124m\"\u001b[39m)\n\u001b[1;32m      7\u001b[0m \u001b[38;5;66;03m# %%\u001b[39;00m\n\u001b[0;32m----> 8\u001b[0m \u001b[38;5;28mprint\u001b[39m(\u001b[43mdata_essai\u001b[49m)\n",
      "\u001b[0;31mNameError\u001b[0m: name 'data_essai' is not defined"
     ]
    }
   ],
   "source": [
    "response = requests.get(url_gouv)#, params=params)\n",
    "# Vérification du succès de la requête\n",
    "if response.status_code == 200:\n",
    "    data_essai = response.json()  # On récupère les données au format JSON\n",
    "else:\n",
    "    print(f\"Erreur : {response.status_code}\")\n",
    "# %%\n",
    "print(data_essai)"
   ]
  }
 ],
 "metadata": {
  "kernelspec": {
   "display_name": "base",
   "language": "python",
   "name": "python3"
  },
  "language_info": {
   "codemirror_mode": {
    "name": "ipython",
    "version": 3
   },
   "file_extension": ".py",
   "mimetype": "text/x-python",
   "name": "python",
   "nbconvert_exporter": "python",
   "pygments_lexer": "ipython3",
   "version": "3.12.6"
  }
 },
 "nbformat": 4,
 "nbformat_minor": 2
}
