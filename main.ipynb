{
 "cells": [
  {
   "cell_type": "markdown",
   "metadata": {},
   "source": [
    "Importation des packages"
   ]
  },
  {
   "cell_type": "code",
   "execution_count": 2,
   "metadata": {},
   "outputs": [
    {
     "name": "stdout",
     "output_type": "stream",
     "text": [
      "Requirement already satisfied: py7zr in /opt/conda/lib/python3.12/site-packages (0.20.8)\n",
      "Requirement already satisfied: geojson in /opt/conda/lib/python3.12/site-packages (3.1.0)\n",
      "Requirement already satisfied: geopandas in /opt/conda/lib/python3.12/site-packages (1.0.1)\n",
      "Requirement already satisfied: openpyxl in /opt/conda/lib/python3.12/site-packages (3.1.5)\n",
      "Requirement already satisfied: tqdm in /opt/conda/lib/python3.12/site-packages (4.67.1)\n",
      "Requirement already satisfied: s3fs in /opt/conda/lib/python3.12/site-packages (2023.12.2)\n",
      "Requirement already satisfied: texttable in /opt/conda/lib/python3.12/site-packages (from py7zr) (1.7.0)\n",
      "Requirement already satisfied: pycryptodomex>=3.16.0 in /opt/conda/lib/python3.12/site-packages (from py7zr) (3.21.0)\n",
      "Requirement already satisfied: pyzstd>=0.15.9 in /opt/conda/lib/python3.12/site-packages (from py7zr) (0.16.2)\n",
      "Requirement already satisfied: pyppmd<1.2.0,>=1.1.0 in /opt/conda/lib/python3.12/site-packages (from py7zr) (1.1.0)\n",
      "Requirement already satisfied: pybcj<1.1.0,>=1.0.0 in /opt/conda/lib/python3.12/site-packages (from py7zr) (1.0.2)\n",
      "Requirement already satisfied: multivolumefile>=0.2.3 in /opt/conda/lib/python3.12/site-packages (from py7zr) (0.2.3)\n",
      "Requirement already satisfied: inflate64<1.1.0,>=1.0.0 in /opt/conda/lib/python3.12/site-packages (from py7zr) (1.0.0)\n",
      "Requirement already satisfied: brotli>=1.1.0 in /opt/conda/lib/python3.12/site-packages (from py7zr) (1.1.0)\n",
      "Requirement already satisfied: psutil in /opt/conda/lib/python3.12/site-packages (from py7zr) (6.1.0)\n",
      "Requirement already satisfied: numpy>=1.22 in /opt/conda/lib/python3.12/site-packages (from geopandas) (2.2.0)\n",
      "Requirement already satisfied: pyogrio>=0.7.2 in /opt/conda/lib/python3.12/site-packages (from geopandas) (0.10.0)\n",
      "Requirement already satisfied: packaging in /opt/conda/lib/python3.12/site-packages (from geopandas) (24.2)\n",
      "Requirement already satisfied: pandas>=1.4.0 in /opt/conda/lib/python3.12/site-packages (from geopandas) (2.2.3)\n",
      "Requirement already satisfied: pyproj>=3.3.0 in /opt/conda/lib/python3.12/site-packages (from geopandas) (3.7.0)\n",
      "Requirement already satisfied: shapely>=2.0.0 in /opt/conda/lib/python3.12/site-packages (from geopandas) (2.0.6)\n",
      "Requirement already satisfied: et-xmlfile in /opt/conda/lib/python3.12/site-packages (from openpyxl) (2.0.0)\n",
      "Requirement already satisfied: aiobotocore<3.0.0,>=2.5.4 in /opt/conda/lib/python3.12/site-packages (from s3fs) (2.15.2)\n",
      "Requirement already satisfied: fsspec==2023.12.2 in /opt/conda/lib/python3.12/site-packages (from s3fs) (2023.12.2)\n",
      "Requirement already satisfied: aiohttp!=4.0.0a0,!=4.0.0a1 in /opt/conda/lib/python3.12/site-packages (from s3fs) (3.11.10)\n",
      "Requirement already satisfied: botocore<1.35.37,>=1.35.16 in /opt/conda/lib/python3.12/site-packages (from aiobotocore<3.0.0,>=2.5.4->s3fs) (1.35.36)\n",
      "Requirement already satisfied: wrapt<2.0.0,>=1.10.10 in /opt/conda/lib/python3.12/site-packages (from aiobotocore<3.0.0,>=2.5.4->s3fs) (1.17.0)\n",
      "Requirement already satisfied: aioitertools<1.0.0,>=0.5.1 in /opt/conda/lib/python3.12/site-packages (from aiobotocore<3.0.0,>=2.5.4->s3fs) (0.12.0)\n",
      "Requirement already satisfied: aiohappyeyeballs>=2.3.0 in /opt/conda/lib/python3.12/site-packages (from aiohttp!=4.0.0a0,!=4.0.0a1->s3fs) (2.4.4)\n",
      "Requirement already satisfied: aiosignal>=1.1.2 in /opt/conda/lib/python3.12/site-packages (from aiohttp!=4.0.0a0,!=4.0.0a1->s3fs) (1.3.1)\n",
      "Requirement already satisfied: attrs>=17.3.0 in /opt/conda/lib/python3.12/site-packages (from aiohttp!=4.0.0a0,!=4.0.0a1->s3fs) (24.2.0)\n",
      "Requirement already satisfied: frozenlist>=1.1.1 in /opt/conda/lib/python3.12/site-packages (from aiohttp!=4.0.0a0,!=4.0.0a1->s3fs) (1.5.0)\n",
      "Requirement already satisfied: multidict<7.0,>=4.5 in /opt/conda/lib/python3.12/site-packages (from aiohttp!=4.0.0a0,!=4.0.0a1->s3fs) (6.1.0)\n",
      "Requirement already satisfied: propcache>=0.2.0 in /opt/conda/lib/python3.12/site-packages (from aiohttp!=4.0.0a0,!=4.0.0a1->s3fs) (0.2.1)\n",
      "Requirement already satisfied: yarl<2.0,>=1.17.0 in /opt/conda/lib/python3.12/site-packages (from aiohttp!=4.0.0a0,!=4.0.0a1->s3fs) (1.18.3)\n",
      "Requirement already satisfied: python-dateutil>=2.8.2 in /opt/conda/lib/python3.12/site-packages (from pandas>=1.4.0->geopandas) (2.9.0.post0)\n",
      "Requirement already satisfied: pytz>=2020.1 in /opt/conda/lib/python3.12/site-packages (from pandas>=1.4.0->geopandas) (2024.1)\n",
      "Requirement already satisfied: tzdata>=2022.7 in /opt/conda/lib/python3.12/site-packages (from pandas>=1.4.0->geopandas) (2024.2)\n",
      "Requirement already satisfied: certifi in /opt/conda/lib/python3.12/site-packages (from pyogrio>=0.7.2->geopandas) (2024.8.30)\n",
      "Requirement already satisfied: jmespath<2.0.0,>=0.7.1 in /opt/conda/lib/python3.12/site-packages (from botocore<1.35.37,>=1.35.16->aiobotocore<3.0.0,>=2.5.4->s3fs) (1.0.1)\n",
      "Requirement already satisfied: urllib3!=2.2.0,<3,>=1.25.4 in /opt/conda/lib/python3.12/site-packages (from botocore<1.35.37,>=1.35.16->aiobotocore<3.0.0,>=2.5.4->s3fs) (1.26.20)\n",
      "Requirement already satisfied: six>=1.5 in /opt/conda/lib/python3.12/site-packages (from python-dateutil>=2.8.2->pandas>=1.4.0->geopandas) (1.17.0)\n",
      "Requirement already satisfied: idna>=2.0 in /opt/conda/lib/python3.12/site-packages (from yarl<2.0,>=1.17.0->aiohttp!=4.0.0a0,!=4.0.0a1->s3fs) (3.10)\n",
      "Requirement already satisfied: PyYAML in /opt/conda/lib/python3.12/site-packages (6.0.2)\n",
      "Requirement already satisfied: xlrd in /opt/conda/lib/python3.12/site-packages (2.0.1)\n",
      "Collecting git+https://github.com/inseefrlab/cartiflette\n",
      "  Cloning https://github.com/inseefrlab/cartiflette to /tmp/pip-req-build-rad3k6zo\n",
      "  Running command git clone --filter=blob:none --quiet https://github.com/inseefrlab/cartiflette /tmp/pip-req-build-rad3k6zo\n",
      "  Resolved https://github.com/inseefrlab/cartiflette to commit f6b0c5d049bd6dcae7b437bd931957371da24278\n",
      "  Installing build dependencies ... \u001b[?25ldone\n",
      "\u001b[?25h  Getting requirements to build wheel ... \u001b[?25ldone\n",
      "\u001b[?25h  Preparing metadata (pyproject.toml) ... \u001b[?25ldone\n",
      "\u001b[?25hRequirement already satisfied: PyYAML<7.0,>=6.0 in /opt/conda/lib/python3.12/site-packages (from cartiflette==0.0.2) (6.0.2)\n",
      "Requirement already satisfied: appdirs<2.0.0,>=1.4.4 in /opt/conda/lib/python3.12/site-packages (from cartiflette==0.0.2) (1.4.4)\n",
      "Requirement already satisfied: charset-normalizer<4.0.0,>=3.2.0 in /opt/conda/lib/python3.12/site-packages (from cartiflette==0.0.2) (3.4.0)\n",
      "Requirement already satisfied: diskcache<6.0.0,>=5.6.3 in /opt/conda/lib/python3.12/site-packages (from cartiflette==0.0.2) (5.6.3)\n",
      "Requirement already satisfied: fastexcel<0.12.0,>=0.11.6 in /opt/conda/lib/python3.12/site-packages (from cartiflette==0.0.2) (0.11.6)\n",
      "Requirement already satisfied: fiona<2.0.0,>=1.9.4.post1 in /opt/conda/lib/python3.12/site-packages (from fiona[s3]<2.0.0,>=1.9.4.post1->cartiflette==0.0.2) (1.10.1)\n",
      "Requirement already satisfied: geopandas<2.0.0,>=1.0.1 in /opt/conda/lib/python3.12/site-packages (from cartiflette==0.0.2) (1.0.1)\n",
      "Requirement already satisfied: matplotlib<4.0.0,>=3.7.1 in /opt/conda/lib/python3.12/site-packages (from cartiflette==0.0.2) (3.9.4)\n",
      "Requirement already satisfied: openpyxl<4.0.0,>=3.1.5 in /opt/conda/lib/python3.12/site-packages (from cartiflette==0.0.2) (3.1.5)\n",
      "Requirement already satisfied: owslib<0.29.0,>=0.28.1 in /opt/conda/lib/python3.12/site-packages (from cartiflette==0.0.2) (0.28.1)\n",
      "Requirement already satisfied: pandas<3.0.0,>=2.2.2 in /opt/conda/lib/python3.12/site-packages (from cartiflette==0.0.2) (2.2.3)\n",
      "Requirement already satisfied: pebble<6.0.0,>=5.0.3 in /opt/conda/lib/python3.12/site-packages (from cartiflette==0.0.2) (5.1.0)\n",
      "Requirement already satisfied: polars<2.0.0,>=1.8.1 in /opt/conda/lib/python3.12/site-packages (from cartiflette==0.0.2) (1.17.1)\n",
      "Requirement already satisfied: py7zr<0.21.0,>=0.20.4 in /opt/conda/lib/python3.12/site-packages (from cartiflette==0.0.2) (0.20.8)\n",
      "Requirement already satisfied: pyarrow<18.0.0,>=17.0.0 in /opt/conda/lib/python3.12/site-packages (from cartiflette==0.0.2) (17.0.0)\n",
      "Requirement already satisfied: python-dotenv<2.0.0,>=1.0.0 in /opt/conda/lib/python3.12/site-packages (from cartiflette==0.0.2) (1.0.1)\n",
      "Requirement already satisfied: python-magic<0.5.0,>=0.4.14 in /opt/conda/lib/python3.12/site-packages (from cartiflette==0.0.2) (0.4.27)\n",
      "Requirement already satisfied: requests<3.0.0,>=2.28.2 in /opt/conda/lib/python3.12/site-packages (from cartiflette==0.0.2) (2.32.3)\n",
      "Requirement already satisfied: requests-cache<2.0.0,>=1.1.0 in /opt/conda/lib/python3.12/site-packages (from cartiflette==0.0.2) (1.2.1)\n",
      "Requirement already satisfied: retrying<2.0.0,>=1.3.4 in /opt/conda/lib/python3.12/site-packages (from cartiflette==0.0.2) (1.3.4)\n",
      "Requirement already satisfied: s3fs<2024.0.0,>=2023.3.0 in /opt/conda/lib/python3.12/site-packages (from cartiflette==0.0.2) (2023.12.2)\n",
      "Requirement already satisfied: topojson<2.0,>=1.5 in /opt/conda/lib/python3.12/site-packages (from cartiflette==0.0.2) (1.9)\n",
      "Requirement already satisfied: unidecode<2.0.0,>=1.3.6 in /opt/conda/lib/python3.12/site-packages (from cartiflette==0.0.2) (1.3.8)\n",
      "Requirement already satisfied: urllib3<2 in /opt/conda/lib/python3.12/site-packages (from cartiflette==0.0.2) (1.26.20)\n",
      "Requirement already satisfied: xlrd<3.0.0,>=2.0.1 in /opt/conda/lib/python3.12/site-packages (from cartiflette==0.0.2) (2.0.1)\n",
      "Requirement already satisfied: attrs>=19.2.0 in /opt/conda/lib/python3.12/site-packages (from fiona<2.0.0,>=1.9.4.post1->fiona[s3]<2.0.0,>=1.9.4.post1->cartiflette==0.0.2) (24.2.0)\n",
      "Requirement already satisfied: certifi in /opt/conda/lib/python3.12/site-packages (from fiona<2.0.0,>=1.9.4.post1->fiona[s3]<2.0.0,>=1.9.4.post1->cartiflette==0.0.2) (2024.8.30)\n",
      "Requirement already satisfied: click~=8.0 in /opt/conda/lib/python3.12/site-packages (from fiona<2.0.0,>=1.9.4.post1->fiona[s3]<2.0.0,>=1.9.4.post1->cartiflette==0.0.2) (8.1.7)\n",
      "Requirement already satisfied: click-plugins>=1.0 in /opt/conda/lib/python3.12/site-packages (from fiona<2.0.0,>=1.9.4.post1->fiona[s3]<2.0.0,>=1.9.4.post1->cartiflette==0.0.2) (1.1.1)\n",
      "Requirement already satisfied: cligj>=0.5 in /opt/conda/lib/python3.12/site-packages (from fiona<2.0.0,>=1.9.4.post1->fiona[s3]<2.0.0,>=1.9.4.post1->cartiflette==0.0.2) (0.7.2)\n",
      "Requirement already satisfied: boto3>=1.3.1 in /opt/conda/lib/python3.12/site-packages (from fiona[s3]<2.0.0,>=1.9.4.post1->cartiflette==0.0.2) (1.35.36)\n",
      "Requirement already satisfied: numpy>=1.22 in /opt/conda/lib/python3.12/site-packages (from geopandas<2.0.0,>=1.0.1->cartiflette==0.0.2) (2.2.0)\n",
      "Requirement already satisfied: pyogrio>=0.7.2 in /opt/conda/lib/python3.12/site-packages (from geopandas<2.0.0,>=1.0.1->cartiflette==0.0.2) (0.10.0)\n",
      "Requirement already satisfied: packaging in /opt/conda/lib/python3.12/site-packages (from geopandas<2.0.0,>=1.0.1->cartiflette==0.0.2) (24.2)\n",
      "Requirement already satisfied: pyproj>=3.3.0 in /opt/conda/lib/python3.12/site-packages (from geopandas<2.0.0,>=1.0.1->cartiflette==0.0.2) (3.7.0)\n",
      "Requirement already satisfied: shapely>=2.0.0 in /opt/conda/lib/python3.12/site-packages (from geopandas<2.0.0,>=1.0.1->cartiflette==0.0.2) (2.0.6)\n",
      "Requirement already satisfied: contourpy>=1.0.1 in /opt/conda/lib/python3.12/site-packages (from matplotlib<4.0.0,>=3.7.1->cartiflette==0.0.2) (1.3.1)\n",
      "Requirement already satisfied: cycler>=0.10 in /opt/conda/lib/python3.12/site-packages (from matplotlib<4.0.0,>=3.7.1->cartiflette==0.0.2) (0.12.1)\n",
      "Requirement already satisfied: fonttools>=4.22.0 in /opt/conda/lib/python3.12/site-packages (from matplotlib<4.0.0,>=3.7.1->cartiflette==0.0.2) (4.55.3)\n",
      "Requirement already satisfied: kiwisolver>=1.3.1 in /opt/conda/lib/python3.12/site-packages (from matplotlib<4.0.0,>=3.7.1->cartiflette==0.0.2) (1.4.7)\n",
      "Requirement already satisfied: pillow>=8 in /opt/conda/lib/python3.12/site-packages (from matplotlib<4.0.0,>=3.7.1->cartiflette==0.0.2) (11.0.0)\n",
      "Requirement already satisfied: pyparsing>=2.3.1 in /opt/conda/lib/python3.12/site-packages (from matplotlib<4.0.0,>=3.7.1->cartiflette==0.0.2) (3.2.0)\n",
      "Requirement already satisfied: python-dateutil>=2.7 in /opt/conda/lib/python3.12/site-packages (from matplotlib<4.0.0,>=3.7.1->cartiflette==0.0.2) (2.9.0.post0)\n",
      "Requirement already satisfied: et-xmlfile in /opt/conda/lib/python3.12/site-packages (from openpyxl<4.0.0,>=3.1.5->cartiflette==0.0.2) (2.0.0)\n",
      "Requirement already satisfied: lxml in /opt/conda/lib/python3.12/site-packages (from owslib<0.29.0,>=0.28.1->cartiflette==0.0.2) (5.3.0)\n",
      "Requirement already satisfied: pytz in /opt/conda/lib/python3.12/site-packages (from owslib<0.29.0,>=0.28.1->cartiflette==0.0.2) (2024.1)\n",
      "Requirement already satisfied: tzdata>=2022.7 in /opt/conda/lib/python3.12/site-packages (from pandas<3.0.0,>=2.2.2->cartiflette==0.0.2) (2024.2)\n",
      "Requirement already satisfied: texttable in /opt/conda/lib/python3.12/site-packages (from py7zr<0.21.0,>=0.20.4->cartiflette==0.0.2) (1.7.0)\n",
      "Requirement already satisfied: pycryptodomex>=3.16.0 in /opt/conda/lib/python3.12/site-packages (from py7zr<0.21.0,>=0.20.4->cartiflette==0.0.2) (3.21.0)\n",
      "Requirement already satisfied: pyzstd>=0.15.9 in /opt/conda/lib/python3.12/site-packages (from py7zr<0.21.0,>=0.20.4->cartiflette==0.0.2) (0.16.2)\n",
      "Requirement already satisfied: pyppmd<1.2.0,>=1.1.0 in /opt/conda/lib/python3.12/site-packages (from py7zr<0.21.0,>=0.20.4->cartiflette==0.0.2) (1.1.0)\n",
      "Requirement already satisfied: pybcj<1.1.0,>=1.0.0 in /opt/conda/lib/python3.12/site-packages (from py7zr<0.21.0,>=0.20.4->cartiflette==0.0.2) (1.0.2)\n",
      "Requirement already satisfied: multivolumefile>=0.2.3 in /opt/conda/lib/python3.12/site-packages (from py7zr<0.21.0,>=0.20.4->cartiflette==0.0.2) (0.2.3)\n",
      "Requirement already satisfied: inflate64<1.1.0,>=1.0.0 in /opt/conda/lib/python3.12/site-packages (from py7zr<0.21.0,>=0.20.4->cartiflette==0.0.2) (1.0.0)\n",
      "Requirement already satisfied: brotli>=1.1.0 in /opt/conda/lib/python3.12/site-packages (from py7zr<0.21.0,>=0.20.4->cartiflette==0.0.2) (1.1.0)\n",
      "Requirement already satisfied: psutil in /opt/conda/lib/python3.12/site-packages (from py7zr<0.21.0,>=0.20.4->cartiflette==0.0.2) (6.1.0)\n",
      "Requirement already satisfied: idna<4,>=2.5 in /opt/conda/lib/python3.12/site-packages (from requests<3.0.0,>=2.28.2->cartiflette==0.0.2) (3.10)\n",
      "Requirement already satisfied: cattrs>=22.2 in /opt/conda/lib/python3.12/site-packages (from requests-cache<2.0.0,>=1.1.0->cartiflette==0.0.2) (24.1.2)\n",
      "Requirement already satisfied: platformdirs>=2.5 in /opt/conda/lib/python3.12/site-packages (from requests-cache<2.0.0,>=1.1.0->cartiflette==0.0.2) (4.3.6)\n",
      "Requirement already satisfied: url-normalize>=1.4 in /opt/conda/lib/python3.12/site-packages (from requests-cache<2.0.0,>=1.1.0->cartiflette==0.0.2) (1.4.3)\n",
      "Requirement already satisfied: six>=1.7.0 in /opt/conda/lib/python3.12/site-packages (from retrying<2.0.0,>=1.3.4->cartiflette==0.0.2) (1.17.0)\n",
      "Requirement already satisfied: aiobotocore<3.0.0,>=2.5.4 in /opt/conda/lib/python3.12/site-packages (from s3fs<2024.0.0,>=2023.3.0->cartiflette==0.0.2) (2.15.2)\n",
      "Requirement already satisfied: fsspec==2023.12.2 in /opt/conda/lib/python3.12/site-packages (from s3fs<2024.0.0,>=2023.3.0->cartiflette==0.0.2) (2023.12.2)\n",
      "Requirement already satisfied: aiohttp!=4.0.0a0,!=4.0.0a1 in /opt/conda/lib/python3.12/site-packages (from s3fs<2024.0.0,>=2023.3.0->cartiflette==0.0.2) (3.11.10)\n",
      "Requirement already satisfied: botocore<1.35.37,>=1.35.16 in /opt/conda/lib/python3.12/site-packages (from aiobotocore<3.0.0,>=2.5.4->s3fs<2024.0.0,>=2023.3.0->cartiflette==0.0.2) (1.35.36)\n",
      "Requirement already satisfied: wrapt<2.0.0,>=1.10.10 in /opt/conda/lib/python3.12/site-packages (from aiobotocore<3.0.0,>=2.5.4->s3fs<2024.0.0,>=2023.3.0->cartiflette==0.0.2) (1.17.0)\n",
      "Requirement already satisfied: aioitertools<1.0.0,>=0.5.1 in /opt/conda/lib/python3.12/site-packages (from aiobotocore<3.0.0,>=2.5.4->s3fs<2024.0.0,>=2023.3.0->cartiflette==0.0.2) (0.12.0)\n",
      "Requirement already satisfied: aiohappyeyeballs>=2.3.0 in /opt/conda/lib/python3.12/site-packages (from aiohttp!=4.0.0a0,!=4.0.0a1->s3fs<2024.0.0,>=2023.3.0->cartiflette==0.0.2) (2.4.4)\n",
      "Requirement already satisfied: aiosignal>=1.1.2 in /opt/conda/lib/python3.12/site-packages (from aiohttp!=4.0.0a0,!=4.0.0a1->s3fs<2024.0.0,>=2023.3.0->cartiflette==0.0.2) (1.3.1)\n",
      "Requirement already satisfied: frozenlist>=1.1.1 in /opt/conda/lib/python3.12/site-packages (from aiohttp!=4.0.0a0,!=4.0.0a1->s3fs<2024.0.0,>=2023.3.0->cartiflette==0.0.2) (1.5.0)\n",
      "Requirement already satisfied: multidict<7.0,>=4.5 in /opt/conda/lib/python3.12/site-packages (from aiohttp!=4.0.0a0,!=4.0.0a1->s3fs<2024.0.0,>=2023.3.0->cartiflette==0.0.2) (6.1.0)\n",
      "Requirement already satisfied: propcache>=0.2.0 in /opt/conda/lib/python3.12/site-packages (from aiohttp!=4.0.0a0,!=4.0.0a1->s3fs<2024.0.0,>=2023.3.0->cartiflette==0.0.2) (0.2.1)\n",
      "Requirement already satisfied: yarl<2.0,>=1.17.0 in /opt/conda/lib/python3.12/site-packages (from aiohttp!=4.0.0a0,!=4.0.0a1->s3fs<2024.0.0,>=2023.3.0->cartiflette==0.0.2) (1.18.3)\n",
      "Requirement already satisfied: jmespath<2.0.0,>=0.7.1 in /opt/conda/lib/python3.12/site-packages (from boto3>=1.3.1->fiona[s3]<2.0.0,>=1.9.4.post1->cartiflette==0.0.2) (1.0.1)\n",
      "Requirement already satisfied: s3transfer<0.11.0,>=0.10.0 in /opt/conda/lib/python3.12/site-packages (from boto3>=1.3.1->fiona[s3]<2.0.0,>=1.9.4.post1->cartiflette==0.0.2) (0.10.4)\n"
     ]
    }
   ],
   "source": [
    "!pip install py7zr geojson geopandas openpyxl tqdm s3fs\n",
    "!pip install PyYAML xlrd\n",
    "!pip install git+https://github.com/inseefrlab/cartiflette"
   ]
  },
  {
   "cell_type": "code",
   "execution_count": null,
   "metadata": {},
   "outputs": [
    {
     "name": "stdout",
     "output_type": "stream",
     "text": [
      "This is an experimental version of cartiflette published on PyPi.\n",
      "To use the latest stable version, you can install it directly from GitHub with the following command:\n",
      "pip install git+https://github.com/inseeFrLab/cartiflette.git\n"
     ]
    }
   ],
   "source": [
    "import pandas as pd\n",
    "import numpy as np\n",
    "import geopandas as gpd\n",
    "import geojson\n",
    "import requests\n",
    "import time\n",
    "import os\n",
    "import re\n",
    "import magic\n",
    "import matplotlib.pyplot as plt\n",
    "import zipfile\n",
    "import cartiflette\n",
    "from io import StringIO\n",
    "import statsmodels.formula.api as sm"
   ]
  },
  {
   "cell_type": "markdown",
   "metadata": {},
   "source": [
    "On veut d'abord récupérer les données de la base DVF à partir de l'API publique dédiée. On peut regarder la documentation de cette API sur le site suivant : \n",
    "https://apidf-preprod.cerema.fr/swagger/#/DVF%2B%20(acc%C3%A8s%20libre)/dvf_opendata_geomutations_list\n"
   ]
  },
  {
   "cell_type": "markdown",
   "metadata": {},
   "source": [
    "I. Importation des données DVF"
   ]
  },
  {
   "cell_type": "markdown",
   "metadata": {},
   "source": [
    "A. Paramétrage de l'API"
   ]
  },
  {
   "cell_type": "markdown",
   "metadata": {},
   "source": [
    "On écrit la racine de l'API : "
   ]
  },
  {
   "cell_type": "code",
   "execution_count": 4,
   "metadata": {},
   "outputs": [],
   "source": [
    "base_api_dvf_url = \"https://apidf-preprod.cerema.fr\""
   ]
  },
  {
   "cell_type": "markdown",
   "metadata": {},
   "source": [
    "On va récupérer les données DVF des villes suivantes : \n",
    "1. Zone ouest :\n",
    "- Paris 16 : 75116\n",
    "- Paris 17: 75117\n",
    "- Clichy : 92024\n",
    "- Levallois : 92044\n",
    "- Neuilly : 92051\n",
    "- Boulogne-Billancourt : 92012\n",
    "\n",
    "2. Zone sud\n",
    "- Paris 13 : 75113\n",
    "- Paris 14 : 75114\n",
    "- Paris 15 : 75115\n",
    "- Issy-les-Moulineaux : 92040\n",
    "- Vanves : 92075\n",
    "- Malakoff : 92046\n",
    "- Montrouge : 92049\n",
    "- Gentilly : 94037\n",
    "- Ivry-sur-Seine : 94041\n"
   ]
  },
  {
   "cell_type": "markdown",
   "metadata": {},
   "source": [
    "On constate en faisant tourner naïvement l'API qu'on obtient toujours des données par paquets en nombre limité (par défaut, 100). On peut modifier cela par le paramètre \"page_size\", mais la limite est de 500. Pour un paramètre supérieur à 500, on n'obtient que des pages de 500. "
   ]
  },
  {
   "cell_type": "markdown",
   "metadata": {},
   "source": [
    "On cherche donc à faire boucler nos requêtes à l'API jusqu'à obtenir toutes les données concernant la commune qui nous intéresse. Or on constate que la réponse \"data\" que l'on obtient possède une clé \"next\", qui donne l'url de notre requête complété par un argument \"page\". L'API fonctionne donc ainsi : s'il y a plus de 500 observations pour une commune, l'API nous renvoie une première page qui contient 500 observations, avec l'url pour requêter la page suivant qui contient 500 autres observations, et ainsi de suite jusqu'à la dernière page, qui donne pour valeur \"None\" à la clé \"next\". "
   ]
  },
  {
   "cell_type": "markdown",
   "metadata": {},
   "source": [
    "Le code ci-dessous permet de récupérer les données."
   ]
  },
  {
   "cell_type": "code",
   "execution_count": 5,
   "metadata": {},
   "outputs": [
    {
     "data": {
      "text/plain": [
       "'data_dvf_sud = recup_donnees_dvf(\"92040\",2014) \\n\\ncode_insee_ville_banlieue_sud = [\"92040\", \"92075\", \"92046\", \"92049\", \"94037\", \"94041\"]\\ncode_insee_arrond_sud = [\"75113\", \"75114\", \"75115\"]\\n\\nfor code_insee_ville in code_insee_ville_banlieue_sud: \\n    print(code_insee_ville)\\n    for annee in range(2013,2022):\\n        print(annee)\\n        data_temp = recup_donnees_dvf(code_insee_ville,str(annee))\\n        data_dvf_sud = pd.concat([data_dvf_sud, data_temp], axis = 0)\\n\\ndata_dvf_sud.shape'"
      ]
     },
     "execution_count": 5,
     "metadata": {},
     "output_type": "execute_result"
    }
   ],
   "source": [
    "\"\"\"data_dvf_sud = recup_donnees_dvf(\"92040\",2014) \n",
    "\n",
    "code_insee_ville_banlieue_sud = [\"92040\", \"92075\", \"92046\", \"92049\", \"94037\", \"94041\"]\n",
    "code_insee_arrond_sud = [\"75113\", \"75114\", \"75115\"]\n",
    "\n",
    "for code_insee_ville in code_insee_ville_banlieue_sud: \n",
    "    print(code_insee_ville)\n",
    "    for annee in range(2013,2022):\n",
    "        print(annee)\n",
    "        data_temp = recup_donnees_dvf(code_insee_ville,str(annee))\n",
    "        data_dvf_sud = pd.concat([data_dvf_sud, data_temp], axis = 0)\n",
    "\n",
    "data_dvf_sud.shape\"\"\""
   ]
  },
  {
   "cell_type": "code",
   "execution_count": 6,
   "metadata": {},
   "outputs": [
    {
     "data": {
      "text/plain": [
       "'data_dvf_sud = recup_donnees_dvf_all_years(\"92040\") \\n\\ncode_insee_ville_banlieue_sud = [\"92075\", \"92046\", \"92049\", \"94037\", \"94041\"]\\ncode_insee_arrond_sud = [\"75113\", \"75114\", \"75115\"]\\n\\nfor code_insee_ville in code_insee_ville_banlieue_sud: \\n    print(code_insee_ville)\\n    data_temp = recup_donnees_dvf_all_years(code_insee_ville)\\n    data_dvf_sud = pd.concat([data_dvf_sud, data_temp], axis = 0)\\n\\ndata_dvf_sud.shape'"
      ]
     },
     "execution_count": 6,
     "metadata": {},
     "output_type": "execute_result"
    }
   ],
   "source": [
    "\"\"\"data_dvf_sud = recup_donnees_dvf_all_years(\"92040\") \n",
    "\n",
    "code_insee_ville_banlieue_sud = [\"92075\", \"92046\", \"92049\", \"94037\", \"94041\"]\n",
    "code_insee_arrond_sud = [\"75113\", \"75114\", \"75115\"]\n",
    "\n",
    "for code_insee_ville in code_insee_ville_banlieue_sud: \n",
    "    print(code_insee_ville)\n",
    "    data_temp = recup_donnees_dvf_all_years(code_insee_ville)\n",
    "    data_dvf_sud = pd.concat([data_dvf_sud, data_temp], axis = 0)\n",
    "\n",
    "data_dvf_sud.shape\"\"\""
   ]
  },
  {
   "cell_type": "code",
   "execution_count": 7,
   "metadata": {},
   "outputs": [],
   "source": [
    "#data_dvf_sud.shape"
   ]
  },
  {
   "cell_type": "markdown",
   "metadata": {},
   "source": [
    "Difficulté : l'API peut arrêter de nous répondre de manière imprévue au milieu de la boucle de requête des pages. Dans ce cas, toutes les données obtenues sur les pages précédentes sont perdues. On a donc intérêt, pour pouvoir travailler sereinement, à télécharger ces données. "
   ]
  },
  {
   "cell_type": "markdown",
   "metadata": {},
   "source": [
    "Pour ce faire, on va essayer, commune par commune, de requêter toutes les pages, et, AVANT de passer au requêtage pour la commune suivante, on sauvegarde notre geodataframe au format geojson. "
   ]
  },
  {
   "cell_type": "code",
   "execution_count": 8,
   "metadata": {},
   "outputs": [
    {
     "data": {
      "text/plain": [
       "'code_insee_pour_enregistre = [\"92012\"]\\nfor code_insee in code_insee_pour_enregistre: \\n    url = base_api_dvf_url + f\"/dvf_opendata/geomutations/?code_insee={code_insee}&page_size=100\"\\n    response = requests.get(url)\\n    data = response.json()\\n    print(data[\\'count\\'])\\n    gdf = recup_donnees_dvf_all_years(code_insee)\\n    name = f\\'data/dvf/data_code_insee={code_insee}.geojson\\'\\n    gdf.to_file(name, driver=\"GeoJSON\")\\n    gdf = gpd.read_file(name)\\n    print(len(gdf))'"
      ]
     },
     "execution_count": 8,
     "metadata": {},
     "output_type": "execute_result"
    }
   ],
   "source": [
    "\"\"\"code_insee_pour_enregistre = [\"92012\"]\n",
    "for code_insee in code_insee_pour_enregistre: \n",
    "    url = base_api_dvf_url + f\"/dvf_opendata/geomutations/?code_insee={code_insee}&page_size=100\"\n",
    "    response = requests.get(url)\n",
    "    data = response.json()\n",
    "    print(data['count'])\n",
    "    gdf = recup_donnees_dvf_all_years(code_insee)\n",
    "    name = f'data/dvf/data_code_insee={code_insee}.geojson'\n",
    "    gdf.to_file(name, driver=\"GeoJSON\")\n",
    "    gdf = gpd.read_file(name)\n",
    "    print(len(gdf))\"\"\""
   ]
  },
  {
   "cell_type": "markdown",
   "metadata": {},
   "source": [
    "On fait pareil pour la zone ouest de Paris"
   ]
  },
  {
   "cell_type": "code",
   "execution_count": 9,
   "metadata": {},
   "outputs": [
    {
     "data": {
      "text/plain": [
       "'data_dvf_ouest_banlieue = recup_donnees_dvf(\"92040\",2014) \\n\\ncode_insee_ville_banlieue_ouest = [\"92040\", \"92075\", \"92046\", \"92049\", \"94037\", \"94041\"]\\n\\nfor code_insee_ville in code_insee_ville_banlieue_ouest: \\n    print(code_insee_ville)\\n    for annee in range(2013,2022):\\n        print(annee)\\n        data_temp = recup_donnees_dvf(code_insee_ville,str(annee))\\n        data_dvf_ouest = pd.concat([data_dvf_ouest, data_temp], axis = 0)\\n\\ndata_dvf_ouest_banlieue.shape'"
      ]
     },
     "execution_count": 9,
     "metadata": {},
     "output_type": "execute_result"
    }
   ],
   "source": [
    "\"\"\"data_dvf_ouest_banlieue = recup_donnees_dvf(\"92040\",2014) \n",
    "\n",
    "code_insee_ville_banlieue_ouest = [\"92040\", \"92075\", \"92046\", \"92049\", \"94037\", \"94041\"]\n",
    "\n",
    "for code_insee_ville in code_insee_ville_banlieue_ouest: \n",
    "    print(code_insee_ville)\n",
    "    for annee in range(2013,2022):\n",
    "        print(annee)\n",
    "        data_temp = recup_donnees_dvf(code_insee_ville,str(annee))\n",
    "        data_dvf_ouest = pd.concat([data_dvf_ouest, data_temp], axis = 0)\n",
    "\n",
    "data_dvf_ouest_banlieue.shape\"\"\""
   ]
  },
  {
   "cell_type": "code",
   "execution_count": 10,
   "metadata": {},
   "outputs": [
    {
     "data": {
      "text/plain": [
       "'data_dvf_ouest_paris = recup_donnees_dvf(\"75116\",2012)\\n\\ncode_insee_arrond_ouest = [\"75116\", \"75117\"]\\n\\nfor code_insee_ville in code_insee_arrond_ouest: \\n    print(code_insee_ville)\\n    for annee in range(2013,2022):\\n        print(annee)\\n        data_temp = recup_donnees_dvf(code_insee_ville,str(annee))\\n        data_dvf_ouest_paris = pd.concat([data_dvf_ouest_paris, data_temp], axis = 0)\\n'"
      ]
     },
     "execution_count": 10,
     "metadata": {},
     "output_type": "execute_result"
    }
   ],
   "source": [
    "\"\"\"data_dvf_ouest_paris = recup_donnees_dvf(\"75116\",2012)\n",
    "\n",
    "code_insee_arrond_ouest = [\"75116\", \"75117\"]\n",
    "\n",
    "for code_insee_ville in code_insee_arrond_ouest: \n",
    "    print(code_insee_ville)\n",
    "    for annee in range(2013,2022):\n",
    "        print(annee)\n",
    "        data_temp = recup_donnees_dvf(code_insee_ville,str(annee))\n",
    "        data_dvf_ouest_paris = pd.concat([data_dvf_ouest_paris, data_temp], axis = 0)\n",
    "\"\"\""
   ]
  },
  {
   "cell_type": "markdown",
   "metadata": {},
   "source": [
    "Ci-dessous, le code pour reconstituer les fichiers geojson à partir des sauvegardes faites à cause de l'API défectueuse (en deux temps : la zone ouest puis la zone sud)"
   ]
  },
  {
   "cell_type": "code",
   "execution_count": 11,
   "metadata": {},
   "outputs": [
    {
     "name": "stdout",
     "output_type": "stream",
     "text": [
      "134410 134410\n"
     ]
    }
   ],
   "source": [
    "obs_tot = 0\n",
    "list_gpd_ouest = []\n",
    "for geo_file in os.listdir(\"data/dvf/cluster_ouest\"): \n",
    "    geo_file_temp = gpd.read_file(\"data/dvf/cluster_ouest/\"+geo_file)  \n",
    "    list_gpd_ouest.append(geo_file_temp)\n",
    "    obs_tot += len(geo_file_temp)\n",
    "\n",
    "all_gpd_ouest = pd.concat(list_gpd_ouest)\n",
    "print(len(all_gpd_ouest), obs_tot)"
   ]
  },
  {
   "cell_type": "code",
   "execution_count": 12,
   "metadata": {},
   "outputs": [
    {
     "name": "stdout",
     "output_type": "stream",
     "text": [
      "119319 119319\n"
     ]
    }
   ],
   "source": [
    "obs_tot = 0\n",
    "list_gpd_sud = []\n",
    "for geo_file in os.listdir(\"data/dvf/cluster_sud\"): \n",
    "    geo_file_temp = gpd.read_file(\"data/dvf/cluster_sud/\"+geo_file)  \n",
    "    obs_tot += len(geo_file_temp)\n",
    "    list_gpd_sud.append(geo_file_temp)\n",
    "\n",
    "all_gpd_sud = pd.concat(list_gpd_sud)\n",
    "print(len(all_gpd_sud), obs_tot)"
   ]
  },
  {
   "cell_type": "markdown",
   "metadata": {},
   "source": [
    "II. Récupération de données Insee par IRIS pour avoir des variables de contrôle dans notre régression"
   ]
  },
  {
   "cell_type": "markdown",
   "metadata": {},
   "source": [
    "Il n'y a pas d'API permettant de récupérer les données voulues par IRIS, donc on doit passer par l'importation de tous les fichiers. On importe trois types de fichiers : un qui contient des informations sur le revenu disponible ('BASE_TD_FILO_DISP_IRIS), un qui donne des informations sur les logements ('base_ic_logement') et un sur les occupations professionnelles des habitants de l'IRIS ('base-ic-activite-residents')."
   ]
  },
  {
   "cell_type": "code",
   "execution_count": 13,
   "metadata": {},
   "outputs": [
    {
     "name": "stdout",
     "output_type": "stream",
     "text": [
      "base-ic-logement-2018_csv.zip\n"
     ]
    },
    {
     "name": "stderr",
     "output_type": "stream",
     "text": [
      "/tmp/ipykernel_248801/2103325727.py:26: DtypeWarning: Columns (1,4,81,82,83,84,85,86,91,92,93,94) have mixed types. Specify dtype option on import or set low_memory=False.\n",
      "  df_temp = pd.read_csv(zip_file.open(nom_racine_fichier + \".\" + extension),\n"
     ]
    },
    {
     "name": "stdout",
     "output_type": "stream",
     "text": [
      "base-ic-logement-2015.zip\n",
      "base-ic-activite-residents-2021_csv.zip\n"
     ]
    },
    {
     "name": "stderr",
     "output_type": "stream",
     "text": [
      "/tmp/ipykernel_248801/2103325727.py:26: DtypeWarning: Columns (1,3) have mixed types. Specify dtype option on import or set low_memory=False.\n",
      "  df_temp = pd.read_csv(zip_file.open(nom_racine_fichier + \".\" + extension),\n"
     ]
    },
    {
     "name": "stdout",
     "output_type": "stream",
     "text": [
      "BASE_TD_FILO_DISP_IRIS_2018.zip\n",
      "base-ic-activite-residents-2015.zip\n",
      "base-ic-logement-2016.zip\n",
      "base-ic-logement-2017_csv.zip\n"
     ]
    },
    {
     "name": "stderr",
     "output_type": "stream",
     "text": [
      "/tmp/ipykernel_248801/2103325727.py:26: DtypeWarning: Columns (1,4,81,82,83,84,85,86,91,92,93,94) have mixed types. Specify dtype option on import or set low_memory=False.\n",
      "  df_temp = pd.read_csv(zip_file.open(nom_racine_fichier + \".\" + extension),\n"
     ]
    },
    {
     "name": "stdout",
     "output_type": "stream",
     "text": [
      "BASE_TD_FILO_DISP_IRIS_2020_CSV.zip\n",
      "base-ic-activite-residents-2019_csv.zip\n"
     ]
    },
    {
     "name": "stderr",
     "output_type": "stream",
     "text": [
      "/tmp/ipykernel_248801/2103325727.py:26: DtypeWarning: Columns (1,4) have mixed types. Specify dtype option on import or set low_memory=False.\n",
      "  df_temp = pd.read_csv(zip_file.open(nom_racine_fichier + \".\" + extension),\n"
     ]
    },
    {
     "name": "stdout",
     "output_type": "stream",
     "text": [
      "base-ic-activite-residents-2020_csv.zip\n"
     ]
    },
    {
     "name": "stderr",
     "output_type": "stream",
     "text": [
      "/tmp/ipykernel_248801/2103325727.py:26: DtypeWarning: Columns (1,3) have mixed types. Specify dtype option on import or set low_memory=False.\n",
      "  df_temp = pd.read_csv(zip_file.open(nom_racine_fichier + \".\" + extension),\n"
     ]
    },
    {
     "name": "stdout",
     "output_type": "stream",
     "text": [
      "base-ic-activite-residents-2016.zip\n",
      "base-ic-logement-2019_csv.zip\n"
     ]
    },
    {
     "name": "stderr",
     "output_type": "stream",
     "text": [
      "/tmp/ipykernel_248801/2103325727.py:26: DtypeWarning: Columns (1,4,81,82,83,84,85,86,91,92,93,94) have mixed types. Specify dtype option on import or set low_memory=False.\n",
      "  df_temp = pd.read_csv(zip_file.open(nom_racine_fichier + \".\" + extension),\n"
     ]
    },
    {
     "name": "stdout",
     "output_type": "stream",
     "text": [
      "base-ic-activite-residents-2017_csv.zip\n"
     ]
    },
    {
     "name": "stderr",
     "output_type": "stream",
     "text": [
      "/tmp/ipykernel_248801/2103325727.py:26: DtypeWarning: Columns (1,4) have mixed types. Specify dtype option on import or set low_memory=False.\n",
      "  df_temp = pd.read_csv(zip_file.open(nom_racine_fichier + \".\" + extension),\n"
     ]
    },
    {
     "name": "stdout",
     "output_type": "stream",
     "text": [
      "base-ic-activite-residents-2018_csv.zip\n"
     ]
    },
    {
     "name": "stderr",
     "output_type": "stream",
     "text": [
      "/tmp/ipykernel_248801/2103325727.py:26: DtypeWarning: Columns (1,4) have mixed types. Specify dtype option on import or set low_memory=False.\n",
      "  df_temp = pd.read_csv(zip_file.open(nom_racine_fichier + \".\" + extension),\n"
     ]
    },
    {
     "name": "stdout",
     "output_type": "stream",
     "text": [
      "base-ic-logement-2020_csv.zip\n"
     ]
    },
    {
     "name": "stderr",
     "output_type": "stream",
     "text": [
      "/tmp/ipykernel_248801/2103325727.py:26: DtypeWarning: Columns (1,3) have mixed types. Specify dtype option on import or set low_memory=False.\n",
      "  df_temp = pd.read_csv(zip_file.open(nom_racine_fichier + \".\" + extension),\n"
     ]
    },
    {
     "name": "stdout",
     "output_type": "stream",
     "text": [
      "base-ic-logement-2014.zip\n",
      "base-ic-logement-2021_csv.zip\n"
     ]
    },
    {
     "name": "stderr",
     "output_type": "stream",
     "text": [
      "/tmp/ipykernel_248801/2103325727.py:26: DtypeWarning: Columns (1,3,80,81,82,83,84,85,90,91,92,93) have mixed types. Specify dtype option on import or set low_memory=False.\n",
      "  df_temp = pd.read_csv(zip_file.open(nom_racine_fichier + \".\" + extension),\n"
     ]
    },
    {
     "name": "stdout",
     "output_type": "stream",
     "text": [
      "BASE_TD_FILO_DISP_IRIS_2019.zip\n",
      "BASE_TD_FILO_IRIS_2021_DISP_CSV.zip\n",
      "base-ic-activite-residents-2014.zip\n",
      "BASE_TD_FILO_DISP_IRIS_2020_XLSX.zip\n"
     ]
    }
   ],
   "source": [
    "dfs_activite = []\n",
    "dfs_logement = []\n",
    "dfs_revenu = []\n",
    "dates_df = []\n",
    "\n",
    "\n",
    "for f in os.listdir(\"data/insee\"):\n",
    "    if f.lower().endswith(\".zip\"): #si c'est un zip\n",
    "        print(f)\n",
    "        zip_file = zipfile.ZipFile(\"data/insee/\"+f) #on le dézipe\n",
    "        nom_racine_dossier = f.rsplit(\".\",1)[0]\n",
    "        for f_in_zip in zipfile.ZipFile(\"data/insee/\"+f).namelist():\n",
    "            if f_in_zip[0:4] == \"meta\" :\n",
    "                pass\n",
    "            else :\n",
    "                nom_racine_fichier = f_in_zip.rsplit(\".\",1)[0]\n",
    "                extension = f_in_zip.rsplit(\".\",1)[1] #on récupère l'extension\n",
    "                \n",
    "                # Recherche de l'année\n",
    "                schema_date = r\"(\\d{4})\"\n",
    "                match = re.search(schema_date, f)\n",
    "                    \n",
    "                annee_extraite = match.group(1)\n",
    "                \n",
    "                if extension.lower() == \"csv\":\n",
    "                    df_temp = pd.read_csv(zip_file.open(nom_racine_fichier + \".\" + extension), \n",
    "                                            sep = \";\", dtype = {'IRIS' : str})\n",
    "                                            \n",
    "                elif extension in (\"xls\", \"xlsx\"):\n",
    "                    df_temp = pd.read_excel(zip_file.open(nom_racine_fichier + \".\" + extension),\n",
    "                                            skiprows = 5, dtype = {'IRIS' : str})\n",
    "                    \n",
    "                df_temp['IRIS'] = df_temp['IRIS'].apply(lambda x: '0' + x if len(x) == 8 else x)\n",
    "                \n",
    "                deux_derniers_chiffres_annee = annee_extraite[2:4]\n",
    "                df_temp['annee'] = annee_extraite\n",
    "                \n",
    "                if \"activite\" in nom_racine_fichier:\n",
    "                    df_temp.columns = [col.replace(f'{deux_derniers_chiffres_annee}_', '_') for col in df_temp.columns]\n",
    "                    dfs_activite.append(df_temp)\n",
    "                elif \"logement\" in nom_racine_fichier:\n",
    "                    df_temp.columns = [col.replace(f'{deux_derniers_chiffres_annee}_', '_') for col in df_temp.columns]\n",
    "                    dfs_logement.append(df_temp)\n",
    "                elif \"DISP\" in nom_racine_fichier:\n",
    "                    colonnes_a_traiter = [col for col in df_temp.columns if col.endswith(deux_derniers_chiffres_annee)]\n",
    "                    df_temp = df_temp.rename(columns={col: col[:-2] for col in colonnes_a_traiter})\n",
    "                    dfs_revenu.append(df_temp)\n",
    "                else :\n",
    "                    print('un fichier n a pas été traité')\n",
    "\n",
    "                dates_df.append(annee_extraite)\n",
    "    else :\n",
    "        nom_racine_fichier = f.rsplit(\".\",1)[0]\n",
    "        extension = f.rsplit(\".\",1)[1] #on récupère l'extension\n",
    "                \n",
    "        schema_date = r\"(\\d{4})\"\n",
    "        match = re.search(schema_date, f)     \n",
    "        annee_extraite = match.group(1)\n",
    "\n",
    "        df_temp = pd.read_excel(\"data/insee/\" + nom_racine_fichier + \".\" + extension,\n",
    "                                            skiprows = 5, dtype = {'IRIS' : str})\n",
    "                    \n",
    "        df_temp['IRIS'] = df_temp['IRIS'].apply(lambda x: '0' + x if len(x) == 8 else x)\n",
    "        deux_derniers_chiffres_annee = annee_extraite[2:4]\n",
    "        df_temp['annee'] = annee_extraite\n",
    "                \n",
    "        if \"DISP\" in nom_racine_fichier:\n",
    "            colonnes_a_traiter = [col for col in df_temp.columns if col.endswith(deux_derniers_chiffres_annee)]\n",
    "            df_temp = df_temp.rename(columns={col: col[:-2] for col in colonnes_a_traiter})\n",
    "            dfs_revenu.append(df_temp)\n",
    "\n",
    "        dates_df.append(annee_extraite)\n"
   ]
  },
  {
   "cell_type": "code",
   "execution_count": 14,
   "metadata": {},
   "outputs": [],
   "source": [
    "dfs_clean_activite = pd.concat(dfs_activite, ignore_index = True)\n",
    "dfs_clean_revenu = pd.concat(dfs_revenu, ignore_index = True)\n",
    "dfs_clean_logement = pd.concat(dfs_logement, ignore_index = True)"
   ]
  },
  {
   "cell_type": "code",
   "execution_count": 15,
   "metadata": {},
   "outputs": [
    {
     "name": "stdout",
     "output_type": "stream",
     "text": [
      "(395824, 131)\n",
      "(122018, 36)\n",
      "(395824, 123)\n"
     ]
    }
   ],
   "source": [
    "print(dfs_clean_activite.shape)\n",
    "print(dfs_clean_revenu.shape)\n",
    "print(dfs_clean_logement.shape)\n"
   ]
  },
  {
   "cell_type": "code",
   "execution_count": 16,
   "metadata": {},
   "outputs": [],
   "source": [
    "df_fusion_inter = pd.merge(dfs_clean_activite, dfs_clean_revenu,how = \"outer\", on=['IRIS','annee']) \n",
    "df_fusion_all_insee = pd.merge(df_fusion_inter, dfs_clean_logement, how = \"outer\",on=['IRIS', 'annee'])#, 'LIBIRIS','TYP_IRIS','MODIF_IRIS','LAB_IRIS','COM', 'LIBCOM'])"
   ]
  },
  {
   "cell_type": "markdown",
   "metadata": {},
   "source": [
    "Vérifions que le dataframe obtenu n'a pas de problème."
   ]
  },
  {
   "cell_type": "code",
   "execution_count": 17,
   "metadata": {},
   "outputs": [
    {
     "name": "stdout",
     "output_type": "stream",
     "text": [
      "(411921, 165)\n",
      "(411921, 286)\n"
     ]
    }
   ],
   "source": [
    "print(df_fusion_inter.shape)\n",
    "print(df_fusion_all_insee.shape)"
   ]
  },
  {
   "cell_type": "markdown",
   "metadata": {},
   "source": [
    "III. Fusion de nos deux jeux de données\n"
   ]
  },
  {
   "cell_type": "markdown",
   "metadata": {},
   "source": [
    "Troisième et dernière étape d'importation des données : un fichier pour faire la correspondance entre les adresses/coordonnées des données DVF et les IRIS des données Insee.\n",
    "\n",
    "On utilise un fichier des données géographiques des IRIS d'Île-de-France."
   ]
  },
  {
   "cell_type": "code",
   "execution_count": 18,
   "metadata": {},
   "outputs": [],
   "source": [
    "iris = gpd.read_file(\"data/iris.geojson\")  \n",
    "iris = iris.to_crs(epsg=4326)  # Assurez-vous d'utiliser le même système de coordonnées (WGS84)\n",
    "iris['code_iris'] = iris['code_iris'].astype(str)"
   ]
  },
  {
   "cell_type": "markdown",
   "metadata": {},
   "source": [
    "On regarde dans quel système géographique est le tableau geopandas des données DVF"
   ]
  },
  {
   "cell_type": "code",
   "execution_count": 19,
   "metadata": {},
   "outputs": [
    {
     "name": "stdout",
     "output_type": "stream",
     "text": [
      "EPSG:4326\n",
      "EPSG:4326\n"
     ]
    }
   ],
   "source": [
    "print(all_gpd_sud[\"geometry\"].crs)\n",
    "print(all_gpd_ouest[\"geometry\"].crs)"
   ]
  },
  {
   "cell_type": "markdown",
   "metadata": {},
   "source": [
    "Ok, on est bien en format 4326 (=WGS 84) pour les deux fichiers, on va pouvoir affecter des IRIS à nos adresses de la base DVF (pour ensuite relier ça aux fichiers Insee)"
   ]
  },
  {
   "cell_type": "code",
   "execution_count": 20,
   "metadata": {},
   "outputs": [
    {
     "name": "stdout",
     "output_type": "stream",
     "text": [
      "                         idmutinvar                        idopendata  \\\n",
      "0  95a6760ed10c9de595b655e8f1db703f  95a6760ed10c9de595b655e8f1db703f   \n",
      "1  4a37e862dcb628c7b473b474b6dbb3ed  4a37e862dcb628c7b473b474b6dbb3ed   \n",
      "2  9711e8d4ccc5c4dfa867545f65cc28c3  9711e8d4ccc5c4dfa867545f65cc28c3   \n",
      "3  ff355bdd9fdf67cc54c7d4e90bad115d  ff355bdd9fdf67cc54c7d4e90bad115d   \n",
      "4  14b9a2c07cfe462e0a6a34bc3f87b6eb  14b9a2c07cfe462e0a6a34bc3f87b6eb   \n",
      "\n",
      "     datemut anneemut coddep libnatmut   vefa valeurfonc nbcomm l_codinsee  \\\n",
      "0 2024-05-14     2024     92     Vente  False   38000.00      1      92049   \n",
      "1 2024-02-26     2024     92     Vente  False   18000.00      1      92049   \n",
      "2 2024-03-19     2024     92     Vente  False  220000.00      1      92049   \n",
      "3 2024-05-27     2024     92     Vente  False  518000.00      1      92049   \n",
      "4 2024-06-04     2024     92     Vente  False  540000.00      1      92049   \n",
      "\n",
      "   ...                                           geometry index_right  \\\n",
      "0  ...  MULTIPOLYGON (((2.31801 48.81246, 2.3182 48.81...      4650.0   \n",
      "1  ...  MULTIPOLYGON (((2.32732 48.81573, 2.32739 48.8...       297.0   \n",
      "2  ...  MULTIPOLYGON (((2.30663 48.8163, 2.30658 48.81...      2416.0   \n",
      "3  ...  MULTIPOLYGON (((2.30994 48.81089, 2.30995 48.8...      2302.0   \n",
      "4  ...  MULTIPOLYGON (((2.31247 48.82075, 2.31248 48.8...       298.0   \n",
      "\n",
      "                                           geo_point   dep insee_com  \\\n",
      "0  { \"lon\": 2.3171928359399998, \"lat\": 48.8122524...  92.0   92049.0   \n",
      "1  { \"lon\": 2.3281205874799999, \"lat\": 48.8161509...  92.0   92049.0   \n",
      "2  { \"lon\": 2.3095271506400001, \"lat\": 48.8173045...  92.0   92049.0   \n",
      "3  { \"lon\": 2.3062076682899999, \"lat\": 48.8116343...  92.0   92049.0   \n",
      "4  { \"lon\": 2.3140469189199999, \"lat\": 48.8187828...  92.0   92049.0   \n",
      "\n",
      "     nom_com   iris  code_iris             nom_iris typ_iris  \n",
      "0  Montrouge  111.0  920490111              Boileau        H  \n",
      "1  Montrouge  110.0  920490110      Aristide Briand        H  \n",
      "2  Montrouge  103.0  920490103     Camille Pelletan        H  \n",
      "3  Montrouge  115.0  920490115  Chatillon-Montrouge        H  \n",
      "4  Montrouge  102.0  920490102     Peri-Brossolette        H  \n",
      "\n",
      "[5 rows x 31 columns]\n",
      "Index(['idmutinvar', 'idopendata', 'datemut', 'anneemut', 'coddep',\n",
      "       'libnatmut', 'vefa', 'valeurfonc', 'nbcomm', 'l_codinsee', 'nbpar',\n",
      "       'l_idpar', 'nbparmut', 'l_idparmut', 'sterr', 'nbvolmut', 'nblocmut',\n",
      "       'l_idlocmut', 'sbati', 'codtypbien', 'libtypbien', 'geometry',\n",
      "       'index_right', 'geo_point', 'dep', 'insee_com', 'nom_com', 'iris',\n",
      "       'code_iris', 'nom_iris', 'typ_iris'],\n",
      "      dtype='object')\n",
      "(119319, 22)\n",
      "(126961, 31)\n"
     ]
    }
   ],
   "source": [
    "data_mut_sud_avec_iris = gpd.sjoin(all_gpd_sud, iris, how=\"left\", predicate=\"intersects\")\n",
    "data_mut_ouest_avec_iris = gpd.sjoin(all_gpd_ouest, iris, how=\"left\", predicate=\"intersects\")\n",
    "\n",
    "# Vérifier les résultats\n",
    "print(data_mut_sud_avec_iris.head())\n",
    "print(data_mut_sud_avec_iris.columns)\n",
    "print(all_gpd_sud.shape)\n",
    "print(data_mut_sud_avec_iris.shape)"
   ]
  },
  {
   "cell_type": "markdown",
   "metadata": {},
   "source": [
    "Les deux codes ci-dessous servent à éliminer les ventes qui sont à cheval entre deux IRIS (on a assez d'observations comme ça et elles pourraient brouiller les résultats de la régression)."
   ]
  },
  {
   "cell_type": "code",
   "execution_count": 21,
   "metadata": {},
   "outputs": [],
   "source": [
    "non_unique_ids_sud = data_mut_sud_avec_iris['idmutinvar'][data_mut_sud_avec_iris['idmutinvar'].duplicated(keep=False)]\n",
    "data_mut_sud_avec_iris_unique = data_mut_sud_avec_iris[~data_mut_sud_avec_iris['idmutinvar'].isin(non_unique_ids_sud)]\n",
    "data_mut_sud_avec_iris = data_mut_sud_avec_iris_unique"
   ]
  },
  {
   "cell_type": "code",
   "execution_count": 22,
   "metadata": {},
   "outputs": [
    {
     "name": "stdout",
     "output_type": "stream",
     "text": [
      "(140041, 31)\n",
      "(129306, 31)\n"
     ]
    }
   ],
   "source": [
    "non_unique_ids_ouest = data_mut_ouest_avec_iris['idmutinvar'][data_mut_ouest_avec_iris['idmutinvar'].duplicated(keep=False)]\n",
    "data_mut_ouest_avec_iris_unique = data_mut_ouest_avec_iris[~data_mut_ouest_avec_iris['idmutinvar'].isin(non_unique_ids_ouest)]\n",
    "print(data_mut_ouest_avec_iris.shape)\n",
    "print(data_mut_ouest_avec_iris_unique.shape)\n",
    "\n",
    "data_mut_ouest_avec_iris = data_mut_ouest_avec_iris_unique"
   ]
  },
  {
   "cell_type": "markdown",
   "metadata": {},
   "source": [
    "On enlève les ventes faites après 2021 car les données Insee s'arrêtent en 2021"
   ]
  },
  {
   "cell_type": "code",
   "execution_count": 23,
   "metadata": {},
   "outputs": [
    {
     "data": {
      "text/plain": [
       "(96924, 31)"
      ]
     },
     "execution_count": 23,
     "metadata": {},
     "output_type": "execute_result"
    }
   ],
   "source": [
    "data_mut_sud_avec_iris = data_mut_sud_avec_iris[data_mut_sud_avec_iris['anneemut'].astype(int) < 2022]\n",
    "data_mut_sud_avec_iris.shape\n",
    "\n",
    "data_mut_ouest_avec_iris = data_mut_ouest_avec_iris[data_mut_ouest_avec_iris['anneemut'].astype(int) < 2022]\n",
    "data_mut_ouest_avec_iris.shape"
   ]
  },
  {
   "cell_type": "markdown",
   "metadata": {},
   "source": [
    "Dernière étape : relier ça aux données Insee"
   ]
  },
  {
   "cell_type": "code",
   "execution_count": 24,
   "metadata": {},
   "outputs": [],
   "source": [
    "data_mut_ouest_et_insee = pd.merge(left = data_mut_ouest_avec_iris,\n",
    "                            right = df_fusion_all_insee, \n",
    "                            how = \"inner\",\n",
    "                            left_on = [\"code_iris\", \"anneemut\"],\n",
    "                            right_on = [\"IRIS\", \"annee\"])\n",
    "\n",
    "data_mut_sud_et_insee = pd.merge(left = data_mut_sud_avec_iris,\n",
    "                            right = df_fusion_all_insee, \n",
    "                            how = \"inner\",\n",
    "                            left_on = [\"code_iris\", \"anneemut\"],\n",
    "                            right_on = [\"IRIS\", \"annee\"])\n",
    "                            "
   ]
  },
  {
   "cell_type": "code",
   "execution_count": 25,
   "metadata": {},
   "outputs": [
    {
     "data": {
      "text/plain": [
       "(109677, 317)"
      ]
     },
     "execution_count": 25,
     "metadata": {},
     "output_type": "execute_result"
    }
   ],
   "source": [
    "data_mut_ouest_et_insee.shape"
   ]
  },
  {
   "cell_type": "markdown",
   "metadata": {},
   "source": [
    "Ci-dessous, on va regarder les variables des trois jeux de données Insee et vérifier qu'ils sont bien présents dans le jeu de données final (on va regarder sur 2019 car on sait qu'il y a bien pour cette année des données DVF et Insee complètes)"
   ]
  },
  {
   "cell_type": "code",
   "execution_count": 26,
   "metadata": {},
   "outputs": [],
   "source": [
    "data_mut_ouest_et_insee_2019 = data_mut_ouest_et_insee[data_mut_ouest_et_insee[\"anneemut\"] == \"2019\"]"
   ]
  },
  {
   "cell_type": "code",
   "execution_count": 27,
   "metadata": {},
   "outputs": [
    {
     "data": {
      "text/plain": [
       "Index(['IRIS', 'DISP_TP60', 'DISP_Q1', 'DISP_MED', 'DISP_Q3', 'DISP_EQ',\n",
       "       'DISP_D1', 'DISP_D2', 'DISP_D3', 'DISP_D4', 'DISP_D6', 'DISP_D7',\n",
       "       'DISP_D8', 'DISP_D9', 'DISP_RD', 'DISP_S80S20', 'DISP_GI', 'DISP_PACT',\n",
       "       'DISP_PTSA', 'DISP_PCHO', 'DISP_PBEN', 'DISP_PPEN', 'DISP_PPAT',\n",
       "       'DISP_PPSOC', 'DISP_PPFAM', 'DISP_PPMINI', 'DISP_PPLOGT', 'DISP_PIMPOT',\n",
       "       'DISP_NOTE', 'annee'],\n",
       "      dtype='object')"
      ]
     },
     "execution_count": 27,
     "metadata": {},
     "output_type": "execute_result"
    }
   ],
   "source": [
    "dfs_revenu[1].columns"
   ]
  },
  {
   "cell_type": "code",
   "execution_count": 28,
   "metadata": {},
   "outputs": [
    {
     "data": {
      "text/plain": [
       "Index(['IRIS', 'REG', 'DEP', 'UU2010', 'COM', 'LIBCOM', 'TRIRIS', 'GRD_QUART',\n",
       "       'LIBIRIS', 'TYP_IRIS',\n",
       "       ...\n",
       "       'P_RP_TTEGOU', 'P_RP_GARL', 'P_RP_VOIT1P', 'P_RP_VOIT1', 'P_RP_VOIT2P',\n",
       "       'P_RP_HABFOR', 'P_RP_CASE', 'P_RP_MIBOIS', 'P_RP_MIDUR', 'annee'],\n",
       "      dtype='object', length=103)"
      ]
     },
     "execution_count": 28,
     "metadata": {},
     "output_type": "execute_result"
    }
   ],
   "source": [
    "dfs_logement[1].columns"
   ]
  },
  {
   "cell_type": "code",
   "execution_count": 29,
   "metadata": {},
   "outputs": [
    {
     "data": {
      "text/plain": [
       "Index(['IRIS', 'REG', 'DEP', 'UU2010', 'COM', 'LIBCOM', 'TRIRIS', 'GRD_QUART',\n",
       "       'LIBIRIS', 'TYP_IRIS',\n",
       "       ...\n",
       "       'P_ACTOCC15P_ILT3', 'P_ACTOCC15P_ILT4', 'P_ACTOCC15P_ILT5',\n",
       "       'C_ACTOCC15P', 'C_ACTOCC15P_PAS', 'C_ACTOCC15P_MAR', 'C_ACTOCC15P_DROU',\n",
       "       'C_ACTOCC15P_VOIT', 'C_ACTOCC15P_TCOM', 'annee'],\n",
       "      dtype='object', length=115)"
      ]
     },
     "execution_count": 29,
     "metadata": {},
     "output_type": "execute_result"
    }
   ],
   "source": [
    "dfs_activite[1].columns"
   ]
  },
  {
   "cell_type": "code",
   "execution_count": 30,
   "metadata": {},
   "outputs": [
    {
     "name": "stdout",
     "output_type": "stream",
     "text": [
      "10177      405.725596\n",
      "10178      488.261079\n",
      "10179      345.759051\n",
      "10180      341.388668\n",
      "10181      428.201811\n",
      "             ...     \n",
      "104325     392.985318\n",
      "104326     782.718335\n",
      "104327    1102.075466\n",
      "104328     728.812234\n",
      "104329    1102.075466\n",
      "Name: P_ACTOCC15P_ILT3, Length: 15282, dtype: float64\n",
      "10177     426.731153\n",
      "10178     608.133911\n",
      "10179     426.768578\n",
      "10180     512.641276\n",
      "10181     831.140647\n",
      "             ...    \n",
      "104325    470.856413\n",
      "104326    822.214108\n",
      "104327    837.176285\n",
      "104328    841.889822\n",
      "104329    837.176285\n",
      "Name: P_RP_VOIT1P, Length: 15282, dtype: float64\n",
      "10177     12290\n",
      "10178     13460\n",
      "10179     15270\n",
      "10180     14240\n",
      "10181     15680\n",
      "          ...  \n",
      "104325    11050\n",
      "104326    14560\n",
      "104327    14760\n",
      "104328    14810\n",
      "104329    14760\n",
      "Name: DISP_D1, Length: 15282, dtype: object\n"
     ]
    }
   ],
   "source": [
    "print(data_mut_ouest_et_insee_2019['P_ACTOCC15P_ILT3']) #activite\n",
    "print(data_mut_ouest_et_insee_2019['P_RP_VOIT1P']) #logement\n",
    "print(data_mut_ouest_et_insee_2019['DISP_D1']) #revenu"
   ]
  },
  {
   "cell_type": "markdown",
   "metadata": {},
   "source": [
    "IV. Nettoyage du jeu de données"
   ]
  },
  {
   "cell_type": "markdown",
   "metadata": {},
   "source": [
    "Regardons d'abord notre jeu de données :"
   ]
  },
  {
   "cell_type": "code",
   "execution_count": 31,
   "metadata": {},
   "outputs": [
    {
     "name": "stdout",
     "output_type": "stream",
     "text": [
      "(109677, 317)\n"
     ]
    }
   ],
   "source": [
    "print(data_mut_ouest_et_insee.shape)"
   ]
  },
  {
   "cell_type": "markdown",
   "metadata": {},
   "source": [
    "On a énormément de colonnes dans ce jeu de données, sont-elles toutes utilisables ?"
   ]
  },
  {
   "cell_type": "code",
   "execution_count": 32,
   "metadata": {},
   "outputs": [
    {
     "name": "stdout",
     "output_type": "stream",
     "text": [
      "                         0\n",
      "idmutinvar        0.000000\n",
      "idopendata        0.000000\n",
      "datemut           0.000000\n",
      "anneemut          0.000000\n",
      "coddep            0.000000\n",
      "...                    ...\n",
      "P_RPMAISON_ACH11  0.895940\n",
      "P_RPAPPART_ACH11  0.895940\n",
      "P_RP_ACH18        0.868268\n",
      "P_RPMAISON_ACH18  0.868268\n",
      "P_RPAPPART_ACH18  0.868268\n",
      "\n",
      "[317 rows x 1 columns]\n"
     ]
    }
   ],
   "source": [
    "df_verif = pd.DataFrame(data_mut_ouest_et_insee.isna().sum() / len(data_mut_ouest_et_insee)) \n",
    "print(df_verif)"
   ]
  },
  {
   "cell_type": "markdown",
   "metadata": {},
   "source": [
    "Visiblement, certaines colonnes sont presque vides (on affiche ici le pourcentage d'observations manquantes). On va supprimer toutes les colonnes qui ont plus de 10% d'observations manquantes."
   ]
  },
  {
   "cell_type": "code",
   "execution_count": 33,
   "metadata": {},
   "outputs": [
    {
     "name": "stdout",
     "output_type": "stream",
     "text": [
      "(109677, 237)\n"
     ]
    }
   ],
   "source": [
    "df_to_drop = df_verif[df_verif[0] > 0.1]\n",
    "to_drop = []\n",
    "for index, row in df_to_drop.iterrows():\n",
    "    to_drop.append(index)\n",
    "data_mut_ouest_et_insee = data_mut_ouest_et_insee.drop(to_drop, axis=1)\n",
    "print(data_mut_ouest_et_insee.shape)"
   ]
  },
  {
   "cell_type": "markdown",
   "metadata": {},
   "source": [
    "Vérifions qu'on a bien enlevé toutes les colonnes vides : "
   ]
  },
  {
   "cell_type": "code",
   "execution_count": 34,
   "metadata": {},
   "outputs": [
    {
     "name": "stdout",
     "output_type": "stream",
     "text": [
      "(0, 1)\n"
     ]
    }
   ],
   "source": [
    "df_verif = pd.DataFrame(data_mut_ouest_et_insee.isna().sum() / len(data_mut_ouest_et_insee))\n",
    "df_to_drop = df_verif[df_verif[0] > 0.1]\n",
    "print(df_to_drop.shape)"
   ]
  },
  {
   "cell_type": "markdown",
   "metadata": {},
   "source": [
    "Vérifions aussi que nous avons conservé les variables qui nous intéressaient le plus dans les jeux de données INSEE :"
   ]
  },
  {
   "cell_type": "code",
   "execution_count": 35,
   "metadata": {},
   "outputs": [
    {
     "name": "stdout",
     "output_type": "stream",
     "text": [
      "False\n",
      "False\n",
      "False\n"
     ]
    }
   ],
   "source": [
    "print('P_ACTOCC15P_ILT3' in to_drop)\n",
    "print('P_RP_VOIT1P' in to_drop)\n",
    "print('DISP_D1' in to_drop)"
   ]
  },
  {
   "cell_type": "markdown",
   "metadata": {},
   "source": [
    "Maintenant qu'on a épuré les colonnes, on peut regarder les lignes. Il faut enlever toutes les transactions qui ne nous intéressent pas. En particulier, certaines transactions affichent une surface batie vendue de 0 ET une surface de terrain vendue de 0. D'autres transactions présentent une valeur de vente de 0. "
   ]
  },
  {
   "cell_type": "code",
   "execution_count": 36,
   "metadata": {},
   "outputs": [],
   "source": [
    "df_ouest = data_mut_ouest_et_insee\n",
    "df_ouest['valeurfonc']  = df_ouest[\"valeurfonc\"].astype(float)\n",
    "df_ouest['sbati']  = df_ouest[\"sbati\"].astype(float)\n",
    "df_ouest['sterr']  = df_ouest[\"sterr\"].astype(float)\n",
    "df_ouest['stot']  = df_ouest[\"sterr\"] + df_ouest[\"sbati\"]\n"
   ]
  },
  {
   "cell_type": "code",
   "execution_count": 37,
   "metadata": {},
   "outputs": [
    {
     "name": "stdout",
     "output_type": "stream",
     "text": [
      "109677\n",
      "89989\n"
     ]
    }
   ],
   "source": [
    "print(len(df_ouest))\n",
    "df_ouest = df_ouest[df_ouest['stot']>0]\n",
    "df_ouest = df_ouest[df_ouest['valeurfonc']>0]\n",
    "print(len(df_ouest))"
   ]
  },
  {
   "cell_type": "markdown",
   "metadata": {},
   "source": [
    "On va également s'assurer que les transactions ne concernent que des maisons ou des appartements (voire la documentation)."
   ]
  },
  {
   "cell_type": "code",
   "execution_count": 38,
   "metadata": {},
   "outputs": [
    {
     "name": "stdout",
     "output_type": "stream",
     "text": [
      "83030\n"
     ]
    }
   ],
   "source": [
    "df_ouest = df_ouest[df_ouest[\"codtypbien\"].str.startswith(('11', \"12\"))]\n",
    "print(len(df_ouest))"
   ]
  },
  {
   "cell_type": "code",
   "execution_count": 39,
   "metadata": {},
   "outputs": [
    {
     "name": "stdout",
     "output_type": "stream",
     "text": [
      "77753\n"
     ]
    }
   ],
   "source": [
    "biens_retenus = ['UN APPARTEMENT', 'UNE MAISON']\n",
    "df_ouest = df_ouest[df_ouest['libtypbien'].isin(biens_retenus)]\n",
    "print(len(df_ouest))"
   ]
  },
  {
   "cell_type": "code",
   "execution_count": 40,
   "metadata": {},
   "outputs": [],
   "source": [
    "data_mut_ouest_et_insee = df_ouest"
   ]
  },
  {
   "cell_type": "markdown",
   "metadata": {},
   "source": [
    "On va répéter exactement la même chose pour la zone sud : "
   ]
  },
  {
   "cell_type": "code",
   "execution_count": 41,
   "metadata": {},
   "outputs": [
    {
     "name": "stdout",
     "output_type": "stream",
     "text": [
      "(95139, 317)\n"
     ]
    },
    {
     "name": "stdout",
     "output_type": "stream",
     "text": [
      "False\n",
      "False\n",
      "False\n",
      "(50341, 238)\n"
     ]
    }
   ],
   "source": [
    "print(data_mut_sud_et_insee.shape)\n",
    "df_sud = data_mut_sud_et_insee\n",
    "df_verif = pd.DataFrame(data_mut_sud_et_insee.isna().sum() / len(data_mut_sud_et_insee)) \n",
    "df_to_drop = df_verif[df_verif[0] > 0.1]\n",
    "to_drop = []\n",
    "for index, row in df_to_drop.iterrows():\n",
    "    to_drop.append(index)\n",
    "data_mut_sud_et_insee = data_mut_sud_et_insee.drop(to_drop, axis=1)\n",
    "df_sud = data_mut_sud_et_insee\n",
    "print('P_ACTOCC15P_ILT3' in to_drop)\n",
    "print('P_RP_VOIT1P' in to_drop)\n",
    "print('DISP_D1' in to_drop)\n",
    "df_sud['valeurfonc']  = df_sud[\"valeurfonc\"].astype(float)\n",
    "df_sud['sbati']  = df_sud[\"sbati\"].astype(float)\n",
    "df_sud['sterr']  = df_sud[\"sterr\"].astype(float)\n",
    "df_sud['stot']  = df_sud[\"sterr\"] + df_ouest[\"sbati\"]\n",
    "df_sud = df_sud[(df_sud['stot']>0) & (df_sud['valeurfonc']>0)]\n",
    "df_sud = df_sud[df_sud[\"codtypbien\"].str.startswith(('11', \"12\"))]\n",
    "df_sud = df_sud[df_sud['libtypbien'].isin(biens_retenus)]\n",
    "data_mut_sud_et_insee = df_sud\n",
    "print(data_mut_sud_et_insee.shape)"
   ]
  },
  {
   "cell_type": "markdown",
   "metadata": {},
   "source": [
    "V. Visualisation"
   ]
  },
  {
   "cell_type": "markdown",
   "metadata": {},
   "source": [
    "On commence à faire vite-fait un peu de visualisation spatiale"
   ]
  },
  {
   "cell_type": "code",
   "execution_count": 42,
   "metadata": {},
   "outputs": [
    {
     "data": {
      "text/plain": [
       "'idf = cartiflette.carti_download(\\n    values=[\"11\"],\\n    crs=4326,\\n    borders=\"DEPARTEMENT\",\\n    vectorfile_format=\"geojson\",\\n    filter_by=\"REGION\",\\n    source=\"EXPRESS-COG-CARTO-TERRITOIRE\",\\n    year=2022,\\n)\\n\\ndepartements_paris_92 = idf.loc[\\n    idf[\"INSEE_DEP\"].isin([\"75\", \"92\"])\\n].to_crs(2154)\\n\\nfig, ax = plt.subplots(figsize=(12, 12))\\nbase = departements_paris_92.boundary.plot(ax=ax, edgecolor=\"black\", linewidth=0.5, figsize=(10, 10))\\n\\ndata_mut_et_insee_pour_vis = data_mut_ouest_et_insee\\ndata_mut_et_insee_pour_vis[\"geometry\"] = data_mut_et_insee_pour_vis[\"geometry\"].to_crs(2154)\\n\\ndata_mut_et_insee_pour_vis.plot(ax=ax)\\n\\nplt.show()\\n\\n'"
      ]
     },
     "execution_count": 42,
     "metadata": {},
     "output_type": "execute_result"
    }
   ],
   "source": [
    "\"\"\"idf = cartiflette.carti_download(\n",
    "    values=[\"11\"],\n",
    "    crs=4326,\n",
    "    borders=\"DEPARTEMENT\",\n",
    "    vectorfile_format=\"geojson\",\n",
    "    filter_by=\"REGION\",\n",
    "    source=\"EXPRESS-COG-CARTO-TERRITOIRE\",\n",
    "    year=2022,\n",
    ")\n",
    "\n",
    "departements_paris_92 = idf.loc[\n",
    "    idf[\"INSEE_DEP\"].isin([\"75\", \"92\"])\n",
    "].to_crs(2154)\n",
    "\n",
    "fig, ax = plt.subplots(figsize=(12, 12))\n",
    "base = departements_paris_92.boundary.plot(ax=ax, edgecolor=\"black\", linewidth=0.5, figsize=(10, 10))\n",
    "\n",
    "data_mut_et_insee_pour_vis = data_mut_ouest_et_insee\n",
    "data_mut_et_insee_pour_vis[\"geometry\"] = data_mut_et_insee_pour_vis[\"geometry\"].to_crs(2154)\n",
    "\n",
    "data_mut_et_insee_pour_vis.plot(ax=ax)\n",
    "\n",
    "plt.show()\n",
    "\n",
    "\"\"\""
   ]
  },
  {
   "cell_type": "markdown",
   "metadata": {},
   "source": [
    "On a sélectionné ici au début du code les villes de Vanves et Issy les Moulineaux, d'où le fait que les tâches de couleur s'affichent sur une zone localisée (uniquement les villes concernées)\n",
    "= > il faudra ajuster l'API et le fond de carte selon la commune choisie, mais au moins on sait le faire fonctionner grosso modo"
   ]
  },
  {
   "cell_type": "markdown",
   "metadata": {},
   "source": [
    "On veut afficher le prix au mètre carré sur la carte, on crée donc cette variable dans notre data_frame"
   ]
  },
  {
   "cell_type": "code",
   "execution_count": 43,
   "metadata": {},
   "outputs": [],
   "source": [
    "# Calcul de prix_m2\n",
    "data_mut_ouest_et_insee['prix_m2'] = data_mut_ouest_et_insee['valeurfonc'] / data_mut_ouest_et_insee['sbati']\n"
   ]
  },
  {
   "cell_type": "markdown",
   "metadata": {},
   "source": [
    "On convertit toutes les géométries de multipolygon à point"
   ]
  },
  {
   "cell_type": "code",
   "execution_count": 44,
   "metadata": {},
   "outputs": [
    {
     "name": "stdout",
     "output_type": "stream",
     "text": [
      "['MultiPolygon']\n",
      "['Point']\n"
     ]
    },
    {
     "name": "stderr",
     "output_type": "stream",
     "text": [
      "/tmp/ipykernel_248801/2684490348.py:3: UserWarning: Geometry is in a geographic CRS. Results from 'centroid' are likely incorrect. Use 'GeoSeries.to_crs()' to re-project geometries to a projected CRS before this operation.\n",
      "\n",
      "  data_mut_ouest_et_insee['geometry'] = data_mut_ouest_et_insee.geometry.centroid\n"
     ]
    }
   ],
   "source": [
    "\n",
    "print(data_mut_ouest_et_insee.geometry.geom_type.unique())\n",
    "\n",
    "data_mut_ouest_et_insee['geometry'] = data_mut_ouest_et_insee.geometry.centroid\n",
    "\n",
    "print(data_mut_ouest_et_insee.geometry.geom_type.unique())\n",
    "\n"
   ]
  },
  {
   "cell_type": "markdown",
   "metadata": {},
   "source": [
    "On convertit la géométrie en données WGS 84 (coordonnées gps classiques) pour pouvoir la bibliothèque Folium de Python"
   ]
  },
  {
   "cell_type": "code",
   "execution_count": 45,
   "metadata": {},
   "outputs": [
    {
     "name": "stdout",
     "output_type": "stream",
     "text": [
      "                   geometry\n",
      "1  POINT (2.31817 48.88951)\n",
      "2  POINT (2.31219 48.88438)\n",
      "4  POINT (2.32185 48.88883)\n",
      "6   POINT (2.3234 48.88493)\n",
      "7  POINT (2.32573 48.89291)\n"
     ]
    }
   ],
   "source": [
    "\n",
    "data_mut_ouest_et_insee = data_mut_ouest_et_insee.to_crs(epsg=4326)\n",
    "print(data_mut_ouest_et_insee[['geometry']].head())\n"
   ]
  },
  {
   "cell_type": "markdown",
   "metadata": {},
   "source": [
    "on veut des cartes seulement pour 2019, 2020 et 2021."
   ]
  },
  {
   "cell_type": "code",
   "execution_count": 46,
   "metadata": {},
   "outputs": [
    {
     "name": "stdout",
     "output_type": "stream",
     "text": [
      "   annee       prix_m2                  geometry\n",
      "1   2021  15033.333333  POINT (2.31817 48.88951)\n",
      "2   2021  14035.600000  POINT (2.31219 48.88438)\n",
      "4   2021  11244.736842  POINT (2.32185 48.88883)\n",
      "6   2021  11091.025974   POINT (2.3234 48.88493)\n",
      "7   2021   9852.941176  POINT (2.32573 48.89291)\n"
     ]
    }
   ],
   "source": [
    "data_mut_ouest_et_insee['annee'] = data_mut_ouest_et_insee['datemut'].dt.year\n",
    "\n",
    "annees_interet = [2019, 2020, 2021]\n",
    "data_filtre_annees = data_mut_ouest_et_insee[data_mut_ouest_et_insee['annee'].isin(annees_interet)]\n",
    "\n",
    "\n",
    "print(data_filtre_annees[['annee', 'prix_m2', 'geometry']].head())\n",
    "\n"
   ]
  },
  {
   "cell_type": "code",
   "execution_count": 47,
   "metadata": {},
   "outputs": [
    {
     "name": "stdout",
     "output_type": "stream",
     "text": [
      "2019 : 10911, 2020 : 17746, 2021 : 10296\n"
     ]
    }
   ],
   "source": [
    "# Filtrer les données par année\n",
    "data_2019 = data_mut_ouest_et_insee[data_mut_ouest_et_insee['datemut'].dt.year == 2019]\n",
    "data_2020 = data_mut_ouest_et_insee[data_mut_ouest_et_insee['datemut'].dt.year == 2020]\n",
    "data_2021 = data_mut_ouest_et_insee[data_mut_ouest_et_insee['datemut'].dt.year == 2021]\n",
    "\n",
    "print(f\"2019 : {len(data_2019)}, 2020 : {len(data_2020)}, 2021 : {len(data_2021)}\")\n"
   ]
  },
  {
   "cell_type": "markdown",
   "metadata": {},
   "source": [
    "On crée une première carte avec des points en la centrant directement avec location = (48.89, 2.29), j'ai pris Levallois Perret"
   ]
  },
  {
   "cell_type": "code",
   "execution_count": 48,
   "metadata": {},
   "outputs": [
    {
     "data": {
      "text/plain": [
       "'\\nimport folium\\n\\n# Fonction pour créer une carte\\ndef create_map(data, year):\\n    m = folium.Map(location=[48.8918307474864, 2.292034072558762], zoom_start=16)  # Coordonnées centrées sur Paris\\n    for _, row in data.iterrows():\\n        folium.CircleMarker(\\n            location=[row.geometry.y, row.geometry.x],\\n            radius=5,\\n            color=\\'blue\\',\\n            fill=True,\\n            fill_color=\\'blue\\',\\n            fill_opacity=0.7,\\n            popup=f\"Prix m² : {row[\\'prix_m2\\']:.2f} €\\nDate : {row[\\'datemut\\']}\"\\n        ).add_to(m)\\n    return m\\n\\n\\ncarte_2019 = create_map(data_2019, 2019)\\ncarte_2020 = create_map(data_2020, 2020)\\ncarte_2021 = create_map(data_2021, 2021)\\n\\ncarte_2019\\n'"
      ]
     },
     "execution_count": 48,
     "metadata": {},
     "output_type": "execute_result"
    }
   ],
   "source": [
    "\"\"\"\n",
    "import folium\n",
    "\n",
    "# Fonction pour créer une carte\n",
    "def create_map(data, year):\n",
    "    m = folium.Map(location=[48.8918307474864, 2.292034072558762], zoom_start=16)  # Coordonnées centrées sur Paris\n",
    "    for _, row in data.iterrows():\n",
    "        folium.CircleMarker(\n",
    "            location=[row.geometry.y, row.geometry.x],\n",
    "            radius=5,\n",
    "            color='blue',\n",
    "            fill=True,\n",
    "            fill_color='blue',\n",
    "            fill_opacity=0.7,\n",
    "            popup=f\"Prix m² : {row['prix_m2']:.2f} €\\nDate : {row['datemut']}\"\n",
    "        ).add_to(m)\n",
    "    return m\n",
    "\n",
    "\n",
    "carte_2019 = create_map(data_2019, 2019)\n",
    "carte_2020 = create_map(data_2020, 2020)\n",
    "carte_2021 = create_map(data_2021, 2021)\n",
    "\n",
    "carte_2019\n",
    "\"\"\""
   ]
  },
  {
   "cell_type": "markdown",
   "metadata": {},
   "source": [
    "Pour une visualisation plus aérée et lisible, on prend un échantillon aléatoire de 10% des des données."
   ]
  },
  {
   "cell_type": "code",
   "execution_count": 49,
   "metadata": {},
   "outputs": [],
   "source": [
    "\n",
    "reduced_data = data_mut_ouest_et_insee.sample(frac=0.1, random_state=42)\n"
   ]
  },
  {
   "cell_type": "markdown",
   "metadata": {},
   "source": [
    "On fait une nouvelle carte avec des clusters"
   ]
  },
  {
   "cell_type": "code",
   "execution_count": 50,
   "metadata": {},
   "outputs": [
    {
     "data": {
      "text/plain": [
       "'from folium.plugins import MarkerCluster\\n\\nm = folium.Map(location=[48.8918307474864, 2.29], zoom_start=16)\\nmarker_cluster = MarkerCluster().add_to(m)\\n\\nfor _, row in reduced_data.iterrows():\\n    folium.Marker(\\n        location=[row.geometry.y, row.geometry.x],\\n        popup=f\"Prix m² : {row[\\'prix_m2\\']:.2f} €<br>Type : {row[\\'libtypbien\\']}\",\\n    ).add_to(marker_cluster)\\n\\nm\\n'"
      ]
     },
     "execution_count": 50,
     "metadata": {},
     "output_type": "execute_result"
    }
   ],
   "source": [
    "\"\"\"from folium.plugins import MarkerCluster\n",
    "\n",
    "m = folium.Map(location=[48.8918307474864, 2.29], zoom_start=16)\n",
    "marker_cluster = MarkerCluster().add_to(m)\n",
    "\n",
    "for _, row in reduced_data.iterrows():\n",
    "    folium.Marker(\n",
    "        location=[row.geometry.y, row.geometry.x],\n",
    "        popup=f\"Prix m² : {row['prix_m2']:.2f} €<br>Type : {row['libtypbien']}\",\n",
    "    ).add_to(marker_cluster)\n",
    "\n",
    "m\n",
    "\"\"\""
   ]
  },
  {
   "cell_type": "markdown",
   "metadata": {},
   "source": [
    "VI. Differences in differences"
   ]
  },
  {
   "cell_type": "markdown",
   "metadata": {},
   "source": [
    "1. DID naïf"
   ]
  },
  {
   "cell_type": "markdown",
   "metadata": {},
   "source": [
    "On cherche à appliquer le modèle du difference in differences (DID) à deux ensembles : l'Ouest parisien et le Sud parisien. Commençons par l'ouest."
   ]
  },
  {
   "cell_type": "markdown",
   "metadata": {},
   "source": [
    "On sépare notre cluster en un groupe \"contrôle\" (villes en bordures du périphérique) et un groupe \"traitement\" (arrondissements parisiens en bordure du périphérique). "
   ]
  },
  {
   "cell_type": "code",
   "execution_count": null,
   "metadata": {},
   "outputs": [
    {
     "name": "stdout",
     "output_type": "stream",
     "text": [
      "['2021' '2020' '2019']\n",
      "['2021' '2020' '2019']\n"
     ]
    }
   ],
   "source": [
    "crtl_ouest = data_mut_ouest_et_insee[data_mut_ouest_et_insee['coddep']=='92']\n",
    "trtm_ouest = data_mut_ouest_et_insee[data_mut_ouest_et_insee['coddep']=='75']"
   ]
  },
  {
   "cell_type": "markdown",
   "metadata": {},
   "source": [
    "On va réaliser un DID sur le prix moyen au mètre carré, en acceptant la supposition que la tendance d'évolution dans le temps des deux groupes est similaires. "
   ]
  },
  {
   "cell_type": "code",
   "execution_count": 73,
   "metadata": {},
   "outputs": [],
   "source": [
    "crtl_ouest['prix_m2'] = crtl_ouest['valeurfonc'] / crtl_ouest['stot']\n",
    "trtm_ouest['prix_m2'] = trtm_ouest['valeurfonc'] / trtm_ouest['stot']"
   ]
  },
  {
   "cell_type": "markdown",
   "metadata": {},
   "source": [
    "On sépare nos observations selon qu'elles sont avant ou après le 1 juillet 2019, date de l'entrée en vigueur de l'encadrement des loyers. Puis on calcule les valeurs de notre variable d'intérêt pour le groupe contrôle avant et après traitement."
   ]
  },
  {
   "cell_type": "code",
   "execution_count": 74,
   "metadata": {},
   "outputs": [],
   "source": [
    "cutoff_date = pd.to_datetime(\"2019-07-01\")\n",
    "\n",
    "crtl_ouest['periode'] = crtl_ouest['datemut'].apply(\n",
    "    lambda x: 0 if x < cutoff_date else 1\n",
    ")\n",
    "s1 = crtl_ouest[crtl_ouest['periode']==0]['prix_m2'].mean()\n",
    "s2 = crtl_ouest[crtl_ouest['periode']==1]['prix_m2'].mean()"
   ]
  },
  {
   "cell_type": "markdown",
   "metadata": {},
   "source": [
    "On refait la même chose pour le groupe traitement avant et après traitement."
   ]
  },
  {
   "cell_type": "code",
   "execution_count": 75,
   "metadata": {},
   "outputs": [],
   "source": [
    "trtm_ouest['periode'] = trtm_ouest['datemut'].apply(\n",
    "    lambda x: 0 if x < cutoff_date else 1\n",
    ")\n",
    "p1 = trtm_ouest[trtm_ouest['periode']==0]['prix_m2'].mean()\n",
    "p2 = trtm_ouest[trtm_ouest['periode']==1]['prix_m2'].mean()"
   ]
  },
  {
   "cell_type": "markdown",
   "metadata": {},
   "source": [
    "On peut désormais réaliser un graphique montrant cette différence de différence :"
   ]
  },
  {
   "cell_type": "code",
   "execution_count": 76,
   "metadata": {},
   "outputs": [
    {
     "data": {
      "image/png": "[encoded data removed]",
      "text/plain": [
       "<Figure size 800x600 with 1 Axes>"
      ]
     },
     "metadata": {},
     "output_type": "display_data"
    }
   ],
   "source": [
    "periode = ['Avant', 'Après']\n",
    "\n",
    "# Création du graphique\n",
    "plt.figure(figsize=(8, 6))\n",
    "\n",
    "plt.plot(periode, [s1, s2], marker='o', label='Groupe Contrôle', color='blue')\n",
    "plt.plot(periode, [p1, p2], marker='o', label='Groupe Traitement', color='red')\n",
    "plt.plot(periode, [p1, p1 + (s2 - s1)], linestyle='--', label='Traitement si même tendance', color='red')\n",
    "plt.plot([0.5, 0.5], [6000,12000], label='Traitement', color='black')\n",
    "\n",
    "\n",
    "plt.xlabel('Période')\n",
    "plt.ylabel('Prix moyen du mètre carré')\n",
    "plt.title('Difference in differences, cluster ouest')\n",
    "plt.legend()\n",
    "\n",
    "# Afficher le graphique\n",
    "plt.grid(True)\n",
    "plt.show()"
   ]
  },
  {
   "cell_type": "markdown",
   "metadata": {},
   "source": [
    "Et la valeur numérique : "
   ]
  },
  {
   "cell_type": "code",
   "execution_count": 77,
   "metadata": {},
   "outputs": [
    {
     "name": "stdout",
     "output_type": "stream",
     "text": [
      "230.49191871549556\n"
     ]
    }
   ],
   "source": [
    "print((p2-p1)-(s2-s1))"
   ]
  },
  {
   "cell_type": "markdown",
   "metadata": {},
   "source": [
    "On peut réaliser le même travail pour le cluster sud. "
   ]
  },
  {
   "cell_type": "code",
   "execution_count": 64,
   "metadata": {},
   "outputs": [],
   "source": [
    "crtl_sud = data_mut_sud_et_insee[data_mut_sud_et_insee['coddep'].isin(['92', '94'])]\n",
    "trtm_sud = data_mut_sud_et_insee[data_mut_sud_et_insee['coddep']=='75']"
   ]
  },
  {
   "cell_type": "code",
   "execution_count": 65,
   "metadata": {},
   "outputs": [
    {
     "name": "stderr",
     "output_type": "stream",
     "text": [
      "/opt/conda/lib/python3.12/site-packages/geopandas/geodataframe.py:1819: SettingWithCopyWarning: \n",
      "A value is trying to be set on a copy of a slice from a DataFrame.\n",
      "Try using .loc[row_indexer,col_indexer] = value instead\n",
      "\n",
      "See the caveats in the documentation: https://pandas.pydata.org/pandas-docs/stable/user_guide/indexing.html#returning-a-view-versus-a-copy\n",
      "  super().__setitem__(key, value)\n",
      "/opt/conda/lib/python3.12/site-packages/geopandas/geodataframe.py:1819: SettingWithCopyWarning: \n",
      "A value is trying to be set on a copy of a slice from a DataFrame.\n",
      "Try using .loc[row_indexer,col_indexer] = value instead\n",
      "\n",
      "See the caveats in the documentation: https://pandas.pydata.org/pandas-docs/stable/user_guide/indexing.html#returning-a-view-versus-a-copy\n",
      "  super().__setitem__(key, value)\n"
     ]
    }
   ],
   "source": [
    "crtl_sud['prix_m2'] = crtl_sud['valeurfonc'] / crtl_sud['stot']\n",
    "trtm_sud['prix_m2'] = trtm_sud['valeurfonc'] / trtm_sud['stot']"
   ]
  },
  {
   "cell_type": "code",
   "execution_count": 66,
   "metadata": {},
   "outputs": [
    {
     "name": "stderr",
     "output_type": "stream",
     "text": [
      "/opt/conda/lib/python3.12/site-packages/geopandas/geodataframe.py:1819: SettingWithCopyWarning: \n",
      "A value is trying to be set on a copy of a slice from a DataFrame.\n",
      "Try using .loc[row_indexer,col_indexer] = value instead\n",
      "\n",
      "See the caveats in the documentation: https://pandas.pydata.org/pandas-docs/stable/user_guide/indexing.html#returning-a-view-versus-a-copy\n",
      "  super().__setitem__(key, value)\n"
     ]
    }
   ],
   "source": [
    "cutoff_date = pd.to_datetime(\"2019-07-01\")\n",
    "\n",
    "crtl_sud['periode'] = crtl_sud['datemut'].apply(\n",
    "    lambda x: 0 if x < cutoff_date else 1\n",
    ")\n",
    "s1 = crtl_sud[crtl_sud['periode']==0]['prix_m2'].mean()\n",
    "s2 = crtl_sud[crtl_sud['periode']==1]['prix_m2'].mean()"
   ]
  },
  {
   "cell_type": "code",
   "execution_count": 67,
   "metadata": {},
   "outputs": [
    {
     "name": "stderr",
     "output_type": "stream",
     "text": [
      "/opt/conda/lib/python3.12/site-packages/geopandas/geodataframe.py:1819: SettingWithCopyWarning: \n",
      "A value is trying to be set on a copy of a slice from a DataFrame.\n",
      "Try using .loc[row_indexer,col_indexer] = value instead\n",
      "\n",
      "See the caveats in the documentation: https://pandas.pydata.org/pandas-docs/stable/user_guide/indexing.html#returning-a-view-versus-a-copy\n",
      "  super().__setitem__(key, value)\n"
     ]
    }
   ],
   "source": [
    "trtm_sud['periode'] = trtm_sud['datemut'].apply(\n",
    "    lambda x: 0 if x < cutoff_date else 1\n",
    ")\n",
    "p1 = trtm_sud[trtm_sud['periode']==0]['prix_m2'].mean()\n",
    "p2 = trtm_sud[trtm_sud['periode']==1]['prix_m2'].mean()"
   ]
  },
  {
   "cell_type": "code",
   "execution_count": null,
   "metadata": {},
   "outputs": [
    {
     "data": {
      "image/png": "[encoded data removed]",
      "text/plain": [
       "<Figure size 800x600 with 1 Axes>"
      ]
     },
     "metadata": {},
     "output_type": "display_data"
    }
   ],
   "source": [
    "periode = ['Avant', 'Après']\n",
    "\n",
    "# Création du graphique\n",
    "plt.figure(figsize=(8, 6))\n",
    "\n",
    "plt.plot(periode, [s1, s2], marker='o', label='Groupe Contrôle', color='blue')\n",
    "plt.plot(periode, [p1, p2], marker='o', label='Groupe Traitement', color='red')\n",
    "plt.plot(periode, [p1, p1 + (s2 - s1)], linestyle='--', label='Traitement si même tendance', color='red')\n",
    "plt.plot([0.5, 0.5], [6000,12000], label='Traitement', color='black')\n",
    "\n",
    "\n",
    "plt.xlabel('Période')\n",
    "plt.ylabel('Prix moyen du mètre carré')\n",
    "plt.title('Difference in differences, cluster sud')\n",
    "plt.legend()\n",
    "\n",
    "# Afficher le graphique\n",
    "plt.grid(True)\n",
    "plt.show()"
   ]
  },
  {
   "cell_type": "code",
   "execution_count": null,
   "metadata": {},
   "outputs": [],
   "source": [
    "print((p2-p1)-(s2-s1))"
   ]
  },
  {
   "cell_type": "markdown",
   "metadata": {},
   "source": [
    "Ces deux résultats sont très contre-intuitifs : si l'hypothèse de même tendance tient, l'encadrement des loyers est donc lié à une augmentation du prix-moyen au mètre carré.\n"
   ]
  },
  {
   "cell_type": "code",
   "execution_count": null,
   "metadata": {},
   "outputs": [],
   "source": [
    "crtl_ouest = crtl_ouest[crtl_ouest['anneemut'].isin([\"2021\", '2020', '2019'])]\n",
    "trtm_ouest = trtm_ouest[trtm_ouest['anneemut'].isin([\"2021\", '2020', '2019'])]"
   ]
  },
  {
   "cell_type": "markdown",
   "metadata": {},
   "source": [
    "2. Regressions pour modéliser la tendance"
   ]
  },
  {
   "cell_type": "markdown",
   "metadata": {},
   "source": [
    "On se réfère au modèle mathématique du DID présenté sur la page wikipédia en anglais(https://en.wikipedia.org/wiki/Difference_in_differences). \n",
    "L'une des raisons de nos résultats surprenants peut résider dans la limite principale du DID, qui est l'hypothèse de tendance similaire. Autrement dit, on observe directement s1, s2, p1, p2, donc il n'y a rien à changer de ce côté. Par contre, on observe pas Q, le prix moyen du mètre carré du groupe traitement s'il n'y avait pas eu de traitement. C'est ici qu'il y a une piste d'amélioration. \n",
    "\n",
    "Pour reprendre le modèle de wikipedia, on a $ Q = \\gamma_{s(i)} + \\lambda_t + \\epsilon_i$. Pour l'instant, on a fait comme si le $\\lambda_t$ était purement indépendant des caractéristiques de chaque groupe. Or l'hypothèse de tendance commune implique que le $\\lambda_t$ est commun au deux groupes, mais pas nécessairement qu'il prend la même valeur pour les deux (ce que l'on fait dans une DID naïf). On veut en fait $\\lambda_t = X^T\\beta$. On pourra choisi $X$ parmi les très nombreuses variables de l'INSEE dont on dispose. Si le $\\beta$ est commun aux deux groupes, la tendance est bien commune (si le groupe contrôle présente les mêmes caractéristiques que le groupe traitement, il aura la même évolution : si $X_{s(1)} = X_{s(2)}$, on a bien $X^T_{s(1)}\\beta = X^T_{s(2)}\\beta = \\lambda_t$). Il faut également ne pas inclure l'intercept dans le $\\beta$, car l'intercept $\\gamma_{s(i)}$ doit être dépendant du groupe.\n",
    "\n",
    "Comment déterminer ce $\\beta$ ? L'objectif est d'obtenir la meilleure prédiction du prix moyen au mètre carré. On peut donc recourir à un estimateur LASSO. "
   ]
  },
  {
   "cell_type": "markdown",
   "metadata": {},
   "source": [
    "On ne peut pas simplement sélectionner toutes les variables INSEE, sinon on aurait une parfaite collinéarité entre certaines de nos covariables (par exemple, entre le nombre de femmes, le nombre d'hommes et le nombre d'habitants)."
   ]
  },
  {
   "cell_type": "code",
   "execution_count": 126,
   "metadata": {},
   "outputs": [],
   "source": [
    "data_mut_ouest_et_insee['prix_m2'] = np.log(data_mut_ouest_et_insee['valeurfonc'] / data_mut_ouest_et_insee['stot'])\n",
    "data_mut_ouest_et_insee['prop_h'] = data_mut_ouest_et_insee['P_H1564']*100 / data_mut_ouest_et_insee['P_POP1564']\n",
    "data_mut_ouest_et_insee['tx_chom'] = data_mut_ouest_et_insee['P_CHOM1564']*100 / data_mut_ouest_et_insee['P_ACT1564']\n",
    "data_mut_ouest_et_insee['prop_ht_diplome'] = data_mut_ouest_et_insee['C_ACT1564_CS3'] *100/ data_mut_ouest_et_insee['P_ACT1564']\n",
    "data_mut_ouest_et_insee['prop_maison'] = data_mut_ouest_et_insee['P_MAISON']*100 / data_mut_ouest_et_insee['P_LOG']\n",
    "data_mut_ouest_et_insee['prop_res_princ'] = data_mut_ouest_et_insee['P_RP']*100 / data_mut_ouest_et_insee['P_LOG']\n",
    "\n",
    "list_covar = ['prop_h', 'tx_chom',\"prop_ht_diplome\", \"prop_maison\", \"prop_res_princ\", \"DISP_MED2\"]\n",
    "list_covar = ['tx_chom',\"prop_ht_diplome\", \"prop_res_princ\"]"
   ]
  },
  {
   "cell_type": "markdown",
   "metadata": {},
   "source": [
    "On va également s'assurer de pouvoir utiliser le revenu médian (il faut transformer la variable en type numérique)."
   ]
  },
  {
   "cell_type": "code",
   "execution_count": 91,
   "metadata": {},
   "outputs": [
    {
     "name": "stdout",
     "output_type": "stream",
     "text": [
      "77368\n",
      "77368\n"
     ]
    }
   ],
   "source": [
    "print(len(data_mut_ouest_et_insee))\n",
    "def est_un_nombre(valeur):\n",
    "    try:\n",
    "        a = str(valeur).replace(',', \".\")\n",
    "        float(a)\n",
    "        return True\n",
    "    except ValueError:\n",
    "        return False\n",
    "\n",
    "# Filtrage pour ne garder que les valeurs convertibles en nombre\n",
    "data_mut_ouest_et_insee = data_mut_ouest_et_insee[data_mut_ouest_et_insee['DISP_MED'].apply(est_un_nombre)]\n",
    "print(len(data_mut_ouest_et_insee))"
   ]
  },
  {
   "cell_type": "code",
   "execution_count": 110,
   "metadata": {},
   "outputs": [],
   "source": [
    "data_mut_ouest_et_insee['DISP_MED'] = data_mut_ouest_et_insee['DISP_MED'].astype(float)\n",
    "data_mut_ouest_et_insee['DISP_MED2'] = data_mut_ouest_et_insee['DISP_MED']**2"
   ]
  },
  {
   "cell_type": "code",
   "execution_count": 112,
   "metadata": {},
   "outputs": [],
   "source": [
    "crtl_ouest = data_mut_ouest_et_insee[data_mut_ouest_et_insee['coddep']=='92']\n",
    "trtm_ouest = data_mut_ouest_et_insee[data_mut_ouest_et_insee['coddep']=='75']"
   ]
  },
  {
   "cell_type": "markdown",
   "metadata": {},
   "source": [
    "On peut maintenant lancer notre régression. "
   ]
  },
  {
   "cell_type": "code",
   "execution_count": 124,
   "metadata": {},
   "outputs": [
    {
     "name": "stdout",
     "output_type": "stream",
     "text": [
      "Intercept          9.603912\n",
      "tx_chom           -0.008161\n",
      "prop_ht_diplome    0.005760\n",
      "prop_res_princ    -0.009752\n",
      "dtype: float64\n"
     ]
    }
   ],
   "source": [
    "result = sm.ols(formula=\"prix_m2 ~ tx_chom + prop_ht_diplome + prop_res_princ\", data=data_mut_ouest_et_insee).fit()\n",
    "print(result.params)"
   ]
  },
  {
   "cell_type": "code",
   "execution_count": 132,
   "metadata": {},
   "outputs": [
    {
     "name": "stdout",
     "output_type": "stream",
     "text": [
      "0.01063064742782982\n"
     ]
    }
   ],
   "source": [
    "print(result.rsquared)"
   ]
  },
  {
   "cell_type": "code",
   "execution_count": 125,
   "metadata": {},
   "outputs": [
    {
     "name": "stdout",
     "output_type": "stream",
     "text": [
      "Intercept          0.000000e+00\n",
      "tx_chom            4.591852e-07\n",
      "prop_ht_diplome    4.730266e-35\n",
      "prop_res_princ     8.374315e-58\n",
      "dtype: float64\n"
     ]
    }
   ],
   "source": [
    "print(result.pvalues)"
   ]
  },
  {
   "cell_type": "markdown",
   "metadata": {},
   "source": [
    "On va regarder si les covariables qu'on a choisies sont utiles pour prédire l'évolution des prix au mètre carré : "
   ]
  },
  {
   "cell_type": "code",
   "execution_count": 129,
   "metadata": {},
   "outputs": [],
   "source": [
    "tot_an = {}\n",
    "proj_crtl_an = []\n",
    "reel_crtl_an = []\n",
    "for annee in data_mut_ouest_et_insee['anneemut'].unique() : \n",
    "    tot_an[annee] = data_mut_ouest_et_insee[data_mut_ouest_et_insee['anneemut']==annee]\n",
    "for annee in crtl_ouest['anneemut'].unique() :\n",
    "    df = tot_an[annee]\n",
    "    pred = result.params[\"Intercept\"] \n",
    "    for covar in list_covar:\n",
    "        pred +=  result.params[covar]*df[covar].mean()\n",
    "    proj_crtl_an.append(pred)\n",
    "    reel_crtl_an.append(df['prix_m2'].mean())"
   ]
  },
  {
   "cell_type": "code",
   "execution_count": 130,
   "metadata": {},
   "outputs": [
    {
     "data": {
      "image/png": "[encoded data removed]",
      "text/plain": [
       "<Figure size 800x600 with 1 Axes>"
      ]
     },
     "metadata": {},
     "output_type": "display_data"
    }
   ],
   "source": [
    "import matplotlib.pyplot as plt\n",
    "\n",
    "periode = crtl_ouest['anneemut'].unique()\n",
    "\n",
    "# Création du graphique\n",
    "plt.figure(figsize=(8, 6))\n",
    "\n",
    "# Tracer les valeurs du groupe 1\n",
    "plt.plot(periode, proj_crtl_an, marker='o', label='Proj', color='blue')\n",
    "\n",
    "# Tracer les valeurs du groupe 2\n",
    "plt.plot(periode, reel_crtl_an, marker='o', label='Réel', color='red')\n",
    "\n",
    "# Ajouter des labels et un titre\n",
    "plt.xlabel('Temps')\n",
    "plt.ylabel('Valeurs')\n",
    "plt.title('Évolution des valeurs dans le temps par groupe')\n",
    "plt.legend()\n",
    "\n",
    "# Afficher le graphique\n",
    "plt.grid(True)\n",
    "plt.show()\n"
   ]
  },
  {
   "cell_type": "code",
   "execution_count": 108,
   "metadata": {},
   "outputs": [],
   "source": [
    "trtm_ouest_an = {}\n",
    "proj_trtm_an = []\n",
    "reel_trtm_an = []\n",
    "for annee in trtm_ouest['anneemut'].unique() : \n",
    "    trtm_ouest_an[annee] = trtm_ouest[trtm_ouest['anneemut']==annee]\n",
    "for annee in trtm_ouest['anneemut'].unique() :\n",
    "    df = trtm_ouest_an[annee]\n",
    "    pred = result.params[\"Intercept\"] \n",
    "    for covar in list_covar :\n",
    "        pred +=  result.params[covar]*df[covar].mean()\n",
    "    proj_trtm_an.append(pred)\n",
    "    reel_trtm_an.append(df['prix_m2'].mean())"
   ]
  },
  {
   "cell_type": "code",
   "execution_count": 116,
   "metadata": {},
   "outputs": [],
   "source": [
    "dic_val_covar = {}\n",
    "for covar in list_covar :\n",
    "    liste = []\n",
    "    for annee in trtm_ouest['anneemut'].unique() : \n",
    "        df = data_mut_ouest_et_insee[data_mut_ouest_et_insee['anneemut']==annee]\n",
    "        liste.append(df[covar].mean())\n",
    "    dic_val_covar[covar] = liste\n"
   ]
  },
  {
   "cell_type": "code",
   "execution_count": 117,
   "metadata": {},
   "outputs": [
    {
     "name": "stdout",
     "output_type": "stream",
     "text": [
      "['prop_h', 'tx_chom', 'prop_ht_diplome', 'prop_maison', 'prop_res_princ', 'DISP_MED2']\n"
     ]
    }
   ],
   "source": [
    "print(list_covar)"
   ]
  },
  {
   "cell_type": "code",
   "execution_count": 123,
   "metadata": {},
   "outputs": [
    {
     "data": {
      "image/png": "[encoded data removed]",
      "text/plain": [
       "<Figure size 800x600 with 1 Axes>"
      ]
     },
     "metadata": {},
     "output_type": "display_data"
    }
   ],
   "source": [
    "import matplotlib.pyplot as plt\n",
    "\n",
    "periode = trtm_ouest['anneemut'].unique()\n",
    "\n",
    "# Création du graphique\n",
    "plt.figure(figsize=(8, 6))\n",
    "\n",
    "# Tracer les valeurs du groupe 1\n",
    "plt.plot(periode, dic_val_covar['DISP_MED2'], marker='o', label='Covar', color='blue')\n",
    "\n",
    "# Tracer les valeurs du groupe 2\n",
    "#plt.plot(periode, reel_trtm_an, marker='o', label='réel', color='red')\n",
    "\n",
    "# Ajouter des labels et un titre\n",
    "plt.xlabel('Temps')\n",
    "plt.ylabel('Valeurs')\n",
    "plt.title('Évolution des valeurs dans le temps par groupe')\n",
    "plt.legend()\n",
    "\n",
    "# Afficher le graphique\n",
    "plt.grid(True)\n",
    "plt.show()"
   ]
  },
  {
   "cell_type": "code",
   "execution_count": 105,
   "metadata": {},
   "outputs": [],
   "source": [
    "val_trtm_an = []\n",
    "val_crtl_an = []\n",
    "for annee in trtm_ouest['anneemut'].unique():\n",
    "    val_trtm_an.append(trtm_ouest[trtm_ouest['anneemut']==annee]['prix_m2'].mean())\n",
    "    val_crtl_an.append(crtl_ouest[crtl_ouest['anneemut']==annee]['prix_m2'].mean())"
   ]
  },
  {
   "cell_type": "code",
   "execution_count": 107,
   "metadata": {},
   "outputs": [
    {
     "ename": "NameError",
     "evalue": "name 'isaure' is not defined",
     "output_type": "error",
     "traceback": [
      "\u001b[0;31m---------------------------------------------------------------------------\u001b[0m",
      "\u001b[0;31mNameError\u001b[0m                                 Traceback (most recent call last)",
      "Cell \u001b[0;32mIn[107], line 1\u001b[0m\n\u001b[0;32m----> 1\u001b[0m \u001b[43misaure\u001b[49m\n",
      "\u001b[0;31mNameError\u001b[0m: name 'isaure' is not defined"
     ]
    }
   ],
   "source": [
    "isaure"
   ]
  },
  {
   "cell_type": "code",
   "execution_count": null,
   "metadata": {},
   "outputs": [
    {
     "name": "stdout",
     "output_type": "stream",
     "text": [
      "     datemut periode\n",
      "1 2021-03-18   apres\n",
      "2 2021-06-02   apres\n",
      "4 2021-02-26   apres\n",
      "6 2021-05-11   apres\n",
      "7 2021-04-14   apres\n"
     ]
    }
   ],
   "source": [
    "\n",
    "cutoff_date = pd.to_datetime(\"2019-07-01\")\n",
    "\n",
    "data_diff['periode'] = data_diff['datemut'].apply(\n",
    "    lambda x: 'avant' if x < cutoff_date else 'apres'\n",
    ")\n",
    "print(data_diff[['datemut', 'periode']].head())\n",
    "\n"
   ]
  },
  {
   "cell_type": "code",
   "execution_count": null,
   "metadata": {},
   "outputs": [
    {
     "name": "stdout",
     "output_type": "stream",
     "text": [
      "       groupe periode  traitement  apres\n",
      "1  traitement   apres           1      1\n",
      "2  traitement   apres           1      1\n",
      "4  traitement   apres           1      1\n",
      "6  traitement   apres           1      1\n",
      "7  traitement   apres           1      1\n"
     ]
    }
   ],
   "source": [
    "# Encodage binaire pour traitement et après\n",
    "data_diff['traitement'] = (data_diff['groupe'] == 'traitement').astype(int)\n",
    "data_diff['apres'] = (data_diff['periode'] == 'apres').astype(int)\n",
    "\n",
    "# Vérifions les nouvelles colonnes\n",
    "print(data_diff[['groupe', 'periode', 'traitement', 'apres']].head())\n"
   ]
  },
  {
   "cell_type": "code",
   "execution_count": null,
   "metadata": {},
   "outputs": [],
   "source": [
    "variables_controle = ['DISP_MED', 'DISP_RD', \n",
    "                      'P_ACT1564', 'P_CHOM1564', \n",
    "                      'P_RP_4060M2', 'P_RP_6080M2', \n",
    "                      'P_RP_PROP', 'P_RP_LOC', \n",
    "                      'P_ANEM_RP']\n"
   ]
  },
  {
   "cell_type": "code",
   "execution_count": null,
   "metadata": {},
   "outputs": [
    {
     "ename": "ValueError",
     "evalue": "mismatch between column_names and columns coded by given terms",
     "output_type": "error",
     "traceback": [
      "\u001b[0;31m---------------------------------------------------------------------------\u001b[0m",
      "\u001b[0;31mValueError\u001b[0m                                Traceback (most recent call last)",
      "Cell \u001b[0;32mIn[81], line 7\u001b[0m\n\u001b[1;32m      4\u001b[0m formule \u001b[38;5;241m=\u001b[39m \u001b[38;5;124m'\u001b[39m\u001b[38;5;124mprix_m2 ~ traitement + apres + traitement:apres + \u001b[39m\u001b[38;5;124m'\u001b[39m \u001b[38;5;241m+\u001b[39m \u001b[38;5;124m'\u001b[39m\u001b[38;5;124m + \u001b[39m\u001b[38;5;124m'\u001b[39m\u001b[38;5;241m.\u001b[39mjoin(variables_controle)\n\u001b[1;32m      6\u001b[0m \u001b[38;5;66;03m# Ajuster le modèle\u001b[39;00m\n\u001b[0;32m----> 7\u001b[0m modele \u001b[38;5;241m=\u001b[39m \u001b[43msmf\u001b[49m\u001b[38;5;241;43m.\u001b[39;49m\u001b[43mols\u001b[49m\u001b[43m(\u001b[49m\u001b[43mformula\u001b[49m\u001b[38;5;241;43m=\u001b[39;49m\u001b[43mformule\u001b[49m\u001b[43m,\u001b[49m\u001b[43m \u001b[49m\u001b[43mdata\u001b[49m\u001b[38;5;241;43m=\u001b[39;49m\u001b[43mdata_diff\u001b[49m\u001b[43m)\u001b[49m\u001b[38;5;241m.\u001b[39mfit()\n\u001b[1;32m      9\u001b[0m \u001b[38;5;66;03m# Résultats\u001b[39;00m\n\u001b[1;32m     10\u001b[0m \u001b[38;5;28mprint\u001b[39m(modele\u001b[38;5;241m.\u001b[39msummary())\n",
      "File \u001b[0;32m/opt/conda/lib/python3.12/site-packages/statsmodels/base/model.py:203\u001b[0m, in \u001b[0;36mModel.from_formula\u001b[0;34m(cls, formula, data, subset, drop_cols, *args, **kwargs)\u001b[0m\n\u001b[1;32m    200\u001b[0m \u001b[38;5;28;01mif\u001b[39;00m missing \u001b[38;5;241m==\u001b[39m \u001b[38;5;124m'\u001b[39m\u001b[38;5;124mnone\u001b[39m\u001b[38;5;124m'\u001b[39m:  \u001b[38;5;66;03m# with patsy it's drop or raise. let's raise.\u001b[39;00m\n\u001b[1;32m    201\u001b[0m     missing \u001b[38;5;241m=\u001b[39m \u001b[38;5;124m'\u001b[39m\u001b[38;5;124mraise\u001b[39m\u001b[38;5;124m'\u001b[39m\n\u001b[0;32m--> 203\u001b[0m tmp \u001b[38;5;241m=\u001b[39m \u001b[43mhandle_formula_data\u001b[49m\u001b[43m(\u001b[49m\u001b[43mdata\u001b[49m\u001b[43m,\u001b[49m\u001b[43m \u001b[49m\u001b[38;5;28;43;01mNone\u001b[39;49;00m\u001b[43m,\u001b[49m\u001b[43m \u001b[49m\u001b[43mformula\u001b[49m\u001b[43m,\u001b[49m\u001b[43m \u001b[49m\u001b[43mdepth\u001b[49m\u001b[38;5;241;43m=\u001b[39;49m\u001b[43meval_env\u001b[49m\u001b[43m,\u001b[49m\n\u001b[1;32m    204\u001b[0m \u001b[43m                          \u001b[49m\u001b[43mmissing\u001b[49m\u001b[38;5;241;43m=\u001b[39;49m\u001b[43mmissing\u001b[49m\u001b[43m)\u001b[49m\n\u001b[1;32m    205\u001b[0m ((endog, exog), missing_idx, design_info) \u001b[38;5;241m=\u001b[39m tmp\n\u001b[1;32m    206\u001b[0m max_endog \u001b[38;5;241m=\u001b[39m \u001b[38;5;28mcls\u001b[39m\u001b[38;5;241m.\u001b[39m_formula_max_endog\n",
      "File \u001b[0;32m/opt/conda/lib/python3.12/site-packages/statsmodels/formula/formulatools.py:63\u001b[0m, in \u001b[0;36mhandle_formula_data\u001b[0;34m(Y, X, formula, depth, missing)\u001b[0m\n\u001b[1;32m     61\u001b[0m \u001b[38;5;28;01melse\u001b[39;00m:\n\u001b[1;32m     62\u001b[0m     \u001b[38;5;28;01mif\u001b[39;00m data_util\u001b[38;5;241m.\u001b[39m_is_using_pandas(Y, \u001b[38;5;28;01mNone\u001b[39;00m):\n\u001b[0;32m---> 63\u001b[0m         result \u001b[38;5;241m=\u001b[39m \u001b[43mdmatrices\u001b[49m\u001b[43m(\u001b[49m\u001b[43mformula\u001b[49m\u001b[43m,\u001b[49m\u001b[43m \u001b[49m\u001b[43mY\u001b[49m\u001b[43m,\u001b[49m\u001b[43m \u001b[49m\u001b[43mdepth\u001b[49m\u001b[43m,\u001b[49m\u001b[43m \u001b[49m\u001b[43mreturn_type\u001b[49m\u001b[38;5;241;43m=\u001b[39;49m\u001b[38;5;124;43m'\u001b[39;49m\u001b[38;5;124;43mdataframe\u001b[39;49m\u001b[38;5;124;43m'\u001b[39;49m\u001b[43m,\u001b[49m\n\u001b[1;32m     64\u001b[0m \u001b[43m                           \u001b[49m\u001b[43mNA_action\u001b[49m\u001b[38;5;241;43m=\u001b[39;49m\u001b[43mna_action\u001b[49m\u001b[43m)\u001b[49m\n\u001b[1;32m     65\u001b[0m     \u001b[38;5;28;01melse\u001b[39;00m:\n\u001b[1;32m     66\u001b[0m         result \u001b[38;5;241m=\u001b[39m dmatrices(formula, Y, depth, return_type\u001b[38;5;241m=\u001b[39m\u001b[38;5;124m'\u001b[39m\u001b[38;5;124mdataframe\u001b[39m\u001b[38;5;124m'\u001b[39m,\n\u001b[1;32m     67\u001b[0m                            NA_action\u001b[38;5;241m=\u001b[39mna_action)\n",
      "File \u001b[0;32m/opt/conda/lib/python3.12/site-packages/patsy/highlevel.py:319\u001b[0m, in \u001b[0;36mdmatrices\u001b[0;34m(formula_like, data, eval_env, NA_action, return_type)\u001b[0m\n\u001b[1;32m    309\u001b[0m \u001b[38;5;250m\u001b[39m\u001b[38;5;124;03m\"\"\"Construct two design matrices given a formula_like and data.\u001b[39;00m\n\u001b[1;32m    310\u001b[0m \n\u001b[1;32m    311\u001b[0m \u001b[38;5;124;03mThis function is identical to :func:`dmatrix`, except that it requires\u001b[39;00m\n\u001b[0;32m   (...)\u001b[0m\n\u001b[1;32m    316\u001b[0m \u001b[38;5;124;03mSee :func:`dmatrix` for details.\u001b[39;00m\n\u001b[1;32m    317\u001b[0m \u001b[38;5;124;03m\"\"\"\u001b[39;00m\n\u001b[1;32m    318\u001b[0m eval_env \u001b[38;5;241m=\u001b[39m EvalEnvironment\u001b[38;5;241m.\u001b[39mcapture(eval_env, reference\u001b[38;5;241m=\u001b[39m\u001b[38;5;241m1\u001b[39m)\n\u001b[0;32m--> 319\u001b[0m (lhs, rhs) \u001b[38;5;241m=\u001b[39m \u001b[43m_do_highlevel_design\u001b[49m\u001b[43m(\u001b[49m\n\u001b[1;32m    320\u001b[0m \u001b[43m    \u001b[49m\u001b[43mformula_like\u001b[49m\u001b[43m,\u001b[49m\u001b[43m \u001b[49m\u001b[43mdata\u001b[49m\u001b[43m,\u001b[49m\u001b[43m \u001b[49m\u001b[43meval_env\u001b[49m\u001b[43m,\u001b[49m\u001b[43m \u001b[49m\u001b[43mNA_action\u001b[49m\u001b[43m,\u001b[49m\u001b[43m \u001b[49m\u001b[43mreturn_type\u001b[49m\n\u001b[1;32m    321\u001b[0m \u001b[43m\u001b[49m\u001b[43m)\u001b[49m\n\u001b[1;32m    322\u001b[0m \u001b[38;5;28;01mif\u001b[39;00m lhs\u001b[38;5;241m.\u001b[39mshape[\u001b[38;5;241m1\u001b[39m] \u001b[38;5;241m==\u001b[39m \u001b[38;5;241m0\u001b[39m:\n\u001b[1;32m    323\u001b[0m     \u001b[38;5;28;01mraise\u001b[39;00m PatsyError(\u001b[38;5;124m\"\u001b[39m\u001b[38;5;124mmodel is missing required outcome variables\u001b[39m\u001b[38;5;124m\"\u001b[39m)\n",
      "File \u001b[0;32m/opt/conda/lib/python3.12/site-packages/patsy/highlevel.py:164\u001b[0m, in \u001b[0;36m_do_highlevel_design\u001b[0;34m(formula_like, data, eval_env, NA_action, return_type)\u001b[0m\n\u001b[1;32m    161\u001b[0m \u001b[38;5;28;01mdef\u001b[39;00m \u001b[38;5;21mdata_iter_maker\u001b[39m():\n\u001b[1;32m    162\u001b[0m     \u001b[38;5;28;01mreturn\u001b[39;00m \u001b[38;5;28miter\u001b[39m([data])\n\u001b[0;32m--> 164\u001b[0m design_infos \u001b[38;5;241m=\u001b[39m \u001b[43m_try_incr_builders\u001b[49m\u001b[43m(\u001b[49m\n\u001b[1;32m    165\u001b[0m \u001b[43m    \u001b[49m\u001b[43mformula_like\u001b[49m\u001b[43m,\u001b[49m\u001b[43m \u001b[49m\u001b[43mdata_iter_maker\u001b[49m\u001b[43m,\u001b[49m\u001b[43m \u001b[49m\u001b[43meval_env\u001b[49m\u001b[43m,\u001b[49m\u001b[43m \u001b[49m\u001b[43mNA_action\u001b[49m\n\u001b[1;32m    166\u001b[0m \u001b[43m\u001b[49m\u001b[43m)\u001b[49m\n\u001b[1;32m    167\u001b[0m \u001b[38;5;28;01mif\u001b[39;00m design_infos \u001b[38;5;129;01mis\u001b[39;00m \u001b[38;5;129;01mnot\u001b[39;00m \u001b[38;5;28;01mNone\u001b[39;00m:\n\u001b[1;32m    168\u001b[0m     \u001b[38;5;28;01mreturn\u001b[39;00m build_design_matrices(\n\u001b[1;32m    169\u001b[0m         design_infos, data, NA_action\u001b[38;5;241m=\u001b[39mNA_action, return_type\u001b[38;5;241m=\u001b[39mreturn_type\n\u001b[1;32m    170\u001b[0m     )\n",
      "File \u001b[0;32m/opt/conda/lib/python3.12/site-packages/patsy/highlevel.py:56\u001b[0m, in \u001b[0;36m_try_incr_builders\u001b[0;34m(formula_like, data_iter_maker, eval_env, NA_action)\u001b[0m\n\u001b[1;32m     54\u001b[0m \u001b[38;5;28;01mif\u001b[39;00m \u001b[38;5;28misinstance\u001b[39m(formula_like, ModelDesc):\n\u001b[1;32m     55\u001b[0m     \u001b[38;5;28;01massert\u001b[39;00m \u001b[38;5;28misinstance\u001b[39m(eval_env, EvalEnvironment)\n\u001b[0;32m---> 56\u001b[0m     \u001b[38;5;28;01mreturn\u001b[39;00m \u001b[43mdesign_matrix_builders\u001b[49m\u001b[43m(\u001b[49m\n\u001b[1;32m     57\u001b[0m \u001b[43m        \u001b[49m\u001b[43m[\u001b[49m\u001b[43mformula_like\u001b[49m\u001b[38;5;241;43m.\u001b[39;49m\u001b[43mlhs_termlist\u001b[49m\u001b[43m,\u001b[49m\u001b[43m \u001b[49m\u001b[43mformula_like\u001b[49m\u001b[38;5;241;43m.\u001b[39;49m\u001b[43mrhs_termlist\u001b[49m\u001b[43m]\u001b[49m\u001b[43m,\u001b[49m\n\u001b[1;32m     58\u001b[0m \u001b[43m        \u001b[49m\u001b[43mdata_iter_maker\u001b[49m\u001b[43m,\u001b[49m\n\u001b[1;32m     59\u001b[0m \u001b[43m        \u001b[49m\u001b[43meval_env\u001b[49m\u001b[43m,\u001b[49m\n\u001b[1;32m     60\u001b[0m \u001b[43m        \u001b[49m\u001b[43mNA_action\u001b[49m\u001b[43m,\u001b[49m\n\u001b[1;32m     61\u001b[0m \u001b[43m    \u001b[49m\u001b[43m)\u001b[49m\n\u001b[1;32m     62\u001b[0m \u001b[38;5;28;01melse\u001b[39;00m:\n\u001b[1;32m     63\u001b[0m     \u001b[38;5;28;01mreturn\u001b[39;00m \u001b[38;5;28;01mNone\u001b[39;00m\n",
      "File \u001b[0;32m/opt/conda/lib/python3.12/site-packages/patsy/build.py:790\u001b[0m, in \u001b[0;36mdesign_matrix_builders\u001b[0;34m(termlists, data_iter_maker, eval_env, NA_action)\u001b[0m\n\u001b[1;32m    787\u001b[0m             \u001b[38;5;28;01mfor\u001b[39;00m column_name \u001b[38;5;129;01min\u001b[39;00m _subterm_column_names_iter(factor_infos, subterm):\n\u001b[1;32m    788\u001b[0m                 column_names\u001b[38;5;241m.\u001b[39mappend(column_name)\n\u001b[1;32m    789\u001b[0m     design_infos\u001b[38;5;241m.\u001b[39mappend(\n\u001b[0;32m--> 790\u001b[0m         \u001b[43mDesignInfo\u001b[49m\u001b[43m(\u001b[49m\n\u001b[1;32m    791\u001b[0m \u001b[43m            \u001b[49m\u001b[43mcolumn_names\u001b[49m\u001b[43m,\u001b[49m\n\u001b[1;32m    792\u001b[0m \u001b[43m            \u001b[49m\u001b[43mfactor_infos\u001b[49m\u001b[38;5;241;43m=\u001b[39;49m\u001b[43mthis_design_factor_infos\u001b[49m\u001b[43m,\u001b[49m\n\u001b[1;32m    793\u001b[0m \u001b[43m            \u001b[49m\u001b[43mterm_codings\u001b[49m\u001b[38;5;241;43m=\u001b[39;49m\u001b[43mterm_to_subterm_infos\u001b[49m\u001b[43m,\u001b[49m\n\u001b[1;32m    794\u001b[0m \u001b[43m        \u001b[49m\u001b[43m)\u001b[49m\n\u001b[1;32m    795\u001b[0m     )\n\u001b[1;32m    796\u001b[0m \u001b[38;5;28;01mreturn\u001b[39;00m design_infos\n",
      "File \u001b[0;32m/opt/conda/lib/python3.12/site-packages/patsy/design_info.py:370\u001b[0m, in \u001b[0;36mDesignInfo.__init__\u001b[0;34m(self, column_names, factor_infos, term_codings)\u001b[0m\n\u001b[1;32m    368\u001b[0m         idx \u001b[38;5;241m+\u001b[39m\u001b[38;5;241m=\u001b[39m term_columns\n\u001b[1;32m    369\u001b[0m     \u001b[38;5;28;01mif\u001b[39;00m idx \u001b[38;5;241m!=\u001b[39m \u001b[38;5;28mlen\u001b[39m(\u001b[38;5;28mself\u001b[39m\u001b[38;5;241m.\u001b[39mcolumn_names):\n\u001b[0;32m--> 370\u001b[0m         \u001b[38;5;28;01mraise\u001b[39;00m \u001b[38;5;167;01mValueError\u001b[39;00m(\n\u001b[1;32m    371\u001b[0m             \u001b[38;5;124m\"\u001b[39m\u001b[38;5;124mmismatch between column_names and columns \u001b[39m\u001b[38;5;124m\"\u001b[39m \u001b[38;5;124m\"\u001b[39m\u001b[38;5;124mcoded by given terms\u001b[39m\u001b[38;5;124m\"\u001b[39m\n\u001b[1;32m    372\u001b[0m         )\n\u001b[1;32m    373\u001b[0m     \u001b[38;5;28mself\u001b[39m\u001b[38;5;241m.\u001b[39mterm_name_slices \u001b[38;5;241m=\u001b[39m OrderedDict(\n\u001b[1;32m    374\u001b[0m         [(term\u001b[38;5;241m.\u001b[39mname(), slice_) \u001b[38;5;28;01mfor\u001b[39;00m (term, slice_) \u001b[38;5;129;01min\u001b[39;00m \u001b[38;5;28mself\u001b[39m\u001b[38;5;241m.\u001b[39mterm_slices\u001b[38;5;241m.\u001b[39mitems()]\n\u001b[1;32m    375\u001b[0m     )\n\u001b[1;32m    377\u001b[0m \u001b[38;5;66;03m# Guarantees:\u001b[39;00m\n\u001b[1;32m    378\u001b[0m \u001b[38;5;66;03m#   term_name_slices is never None\u001b[39;00m\n\u001b[1;32m    379\u001b[0m \u001b[38;5;66;03m#   The slices in term_name_slices are in order and exactly cover the\u001b[39;00m\n\u001b[0;32m   (...)\u001b[0m\n\u001b[1;32m    382\u001b[0m \u001b[38;5;66;03m#   If term_slices is not None, then its slices match the ones in\u001b[39;00m\n\u001b[1;32m    383\u001b[0m \u001b[38;5;66;03m#     term_name_slices.\u001b[39;00m\n",
      "\u001b[0;31mValueError\u001b[0m: mismatch between column_names and columns coded by given terms"
     ]
    }
   ],
   "source": [
    "import statsmodels.formula.api as smf\n",
    "\n",
    "# Formuler le modèle Diff-in-Diff avec variables de contrôle\n",
    "formule = 'prix_m2 ~ traitement + apres + traitement:apres + ' + ' + '.join(variables_controle)\n",
    "\n",
    "# Ajuster le modèle\n",
    "modele = smf.ols(formula=formule, data=data_diff).fit()\n",
    "\n",
    "# Résultats\n",
    "print(modele.summary())\n"
   ]
  },
  {
   "cell_type": "code",
   "execution_count": null,
   "metadata": {},
   "outputs": [
    {
     "name": "stdout",
     "output_type": "stream",
     "text": [
      "Valeurs manquantes par colonne :\n",
      "prix_m2          0\n",
      "traitement       0\n",
      "apres            0\n",
      "DISP_MED       274\n",
      "DISP_RD        274\n",
      "P_ACT1564        0\n",
      "P_CHOM1564       0\n",
      "P_RP_4060M2      0\n",
      "P_RP_6080M2      0\n",
      "P_RP_PROP        0\n",
      "P_RP_LOC         0\n",
      "P_ANEM_RP        0\n",
      "dtype: int64\n"
     ]
    }
   ],
   "source": [
    "# Vérifiez les valeurs manquantes dans les colonnes utilisées\n",
    "missing_values = data_diff[variables_utilisees].isnull().sum()\n",
    "print(\"Valeurs manquantes par colonne :\")\n",
    "print(missing_values)\n"
   ]
  },
  {
   "cell_type": "code",
   "execution_count": null,
   "metadata": {},
   "outputs": [],
   "source": [
    "data_diff_clean = data_diff.dropna(subset=variables_utilisees)\n"
   ]
  },
  {
   "cell_type": "code",
   "execution_count": null,
   "metadata": {},
   "outputs": [
    {
     "name": "stdout",
     "output_type": "stream",
     "text": [
      "Colonnes manquantes : []\n"
     ]
    }
   ],
   "source": [
    "# Liste des colonnes utilisées dans la formule\n",
    "variables_utilisees = ['prix_m2', 'traitement', 'apres'] + variables_controle\n",
    "\n",
    "# Vérifiez si toutes ces colonnes existent dans data_diff\n",
    "missing_columns = [col for col in variables_utilisees if col not in data_diff.columns]\n",
    "print(\"Colonnes manquantes :\", missing_columns)\n"
   ]
  }
 ],
 "metadata": {
  "kernelspec": {
   "display_name": "base",
   "language": "python",
   "name": "python3"
  },
  "language_info": {
   "codemirror_mode": {
    "name": "ipython",
    "version": 3
   },
   "file_extension": ".py",
   "mimetype": "text/x-python",
   "name": "python",
   "nbconvert_exporter": "python",
   "pygments_lexer": "ipython3",
   "version": "3.12.7"
  }
 },
 "nbformat": 4,
 "nbformat_minor": 2
}
