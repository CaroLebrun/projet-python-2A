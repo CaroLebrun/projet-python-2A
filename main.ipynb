{
 "cells": [
  {
   "cell_type": "markdown",
   "metadata": {},
   "source": [
    "Importation des packages"
   ]
  },
  {
   "cell_type": "markdown",
   "metadata": {},
   "source": [
    "Description des variables de ce dataframe :\n",
    "- idmutinvar = identifiant unique entre les diff bases pour retrouver chaque mutation\n",
    "- idopendata = identifiant de mutation utilisé depuis l'ouverture de données DVF\n",
    "- datemut = date de signature de l'acte de vente\n",
    "- anneemut = annee de signature du doc\n",
    "- codedep\n",
    "- libnatmut = Libellé de nature de mutation tel que défini dans la donnée source DVF 6 catégories : Vente, Vente en l'état futur d'achèvement, Adjudication, Echange, Vente terrain à bâtir et Expropriation.\n",
    "- vefa = booléen selon si la vente est en VEFA (vente en l'état futur d'achèvement) ou non\n",
    "- valeurfonc = valeur foncière en euro déclarée lors de la vente ; prix net vendeur, inclut la TVA mais n'inclut pas les frais de notaire, d'agence ou des meubles. \n",
    "- nbcomm = nombre de communes concernée par la mutation (i.e. sur lesquelles se trouve la parcelle cadastrale concernée par la mutation)\n",
    "- nbpar = comme nbcomm mais pour les parcelles.\n",
    "- nbparmut = nb de parcelles ayant muté (i.e. dont la pleine propriété a été transférée lors de la mutation)\n",
    "- sterr = surface de terrain ayant muté (mutation = transfert de propriété, donc surface de terrain ayant muté = surface du terrain qui a été vendu)\n",
    "- nbvolmut = variable obscure, flemme \n",
    "- nblocmut = nb de locaux ayant muté\n",
    "- sbati = surface de l'ensemble du bati ayant muté\n",
    "- codtypbien = typologie des biens ; on pourra s'en servir pour filter les maisons et appartements et virer tous les types de batiments bizarres (cf schéma ici) https://doc-datafoncier.cerema.fr/doc/dv3f/mutation/codtypbien\n",
    "- libtypbien = comme codtypbien mais pour la base DV3F et non issu de juste DVF\n",
    "- geometry\n",
    "- l_codeinsee = liste des codes INSEE des communes concernées par la mutation\n",
    "- l_idpar =Liste des idpar qui composent l’entité (idpar = Identifiant de parcelle)\n",
    "- l_idparmut = liste des identifiants de parcelles ayant muté (idpar)\n",
    "- l_idlocmut = liste des identifiants de locaux ayant muté (idloc)"
   ]
  },
  {
   "cell_type": "markdown",
   "metadata": {},
   "source": [
    "On peut regarder la documentation de la base DVF sur le site suivant : \n",
    "https://apidf-preprod.cerema.fr/swagger/#/DVF%2B%20(acc%C3%A8s%20libre)/dvf_opendata_geomutations_list\n"
   ]
  },
  {
   "cell_type": "code",
   "execution_count": 26,
   "metadata": {},
   "outputs": [
    {
     "name": "stdout",
     "output_type": "stream",
     "text": [
      "Collecting py7zr\n",
      "  Downloading py7zr-0.22.0-py3-none-any.whl.metadata (16 kB)\n",
      "Requirement already satisfied: geopandas in /opt/conda/lib/python3.12/site-packages (1.0.1)\n",
      "Collecting openpyxl\n",
      "  Downloading openpyxl-3.1.5-py2.py3-none-any.whl.metadata (2.5 kB)\n",
      "Requirement already satisfied: tqdm in /opt/conda/lib/python3.12/site-packages (4.67.0)\n",
      "Requirement already satisfied: s3fs in /opt/conda/lib/python3.12/site-packages (2024.10.0)\n",
      "Collecting texttable (from py7zr)\n",
      "  Downloading texttable-1.7.0-py2.py3-none-any.whl.metadata (9.8 kB)\n",
      "Collecting pycryptodomex>=3.16.0 (from py7zr)\n",
      "  Downloading pycryptodomex-3.21.0-cp36-abi3-manylinux_2_17_x86_64.manylinux2014_x86_64.whl.metadata (3.4 kB)\n",
      "Collecting pyzstd>=0.15.9 (from py7zr)\n",
      "  Downloading pyzstd-0.16.2-cp312-cp312-manylinux_2_17_x86_64.manylinux2014_x86_64.whl.metadata (2.4 kB)\n",
      "Collecting pyppmd<1.2.0,>=1.1.0 (from py7zr)\n",
      "  Downloading pyppmd-1.1.0-cp312-cp312-manylinux_2_17_x86_64.manylinux2014_x86_64.whl.metadata (5.7 kB)\n",
      "Collecting pybcj<1.1.0,>=1.0.0 (from py7zr)\n",
      "  Downloading pybcj-1.0.2-cp312-cp312-manylinux_2_17_x86_64.manylinux2014_x86_64.whl.metadata (4.0 kB)\n",
      "Collecting multivolumefile>=0.2.3 (from py7zr)\n",
      "  Downloading multivolumefile-0.2.3-py3-none-any.whl.metadata (6.3 kB)\n",
      "Collecting inflate64<1.1.0,>=1.0.0 (from py7zr)\n",
      "  Downloading inflate64-1.0.0-cp312-cp312-manylinux_2_17_x86_64.manylinux2014_x86_64.whl.metadata (4.0 kB)\n",
      "Requirement already satisfied: brotli>=1.1.0 in /opt/conda/lib/python3.12/site-packages (from py7zr) (1.1.0)\n",
      "Requirement already satisfied: psutil in /opt/conda/lib/python3.12/site-packages (from py7zr) (6.1.0)\n",
      "Requirement already satisfied: numpy>=1.22 in /opt/conda/lib/python3.12/site-packages (from geopandas) (2.2.0)\n",
      "Requirement already satisfied: pyogrio>=0.7.2 in /opt/conda/lib/python3.12/site-packages (from geopandas) (0.10.0)\n",
      "Requirement already satisfied: packaging in /opt/conda/lib/python3.12/site-packages (from geopandas) (24.1)\n",
      "Requirement already satisfied: pandas>=1.4.0 in /opt/conda/lib/python3.12/site-packages (from geopandas) (2.2.3)\n",
      "Requirement already satisfied: pyproj>=3.3.0 in /opt/conda/lib/python3.12/site-packages (from geopandas) (3.7.0)\n",
      "Requirement already satisfied: shapely>=2.0.0 in /opt/conda/lib/python3.12/site-packages (from geopandas) (2.0.6)\n",
      "Collecting et-xmlfile (from openpyxl)\n",
      "  Downloading et_xmlfile-2.0.0-py3-none-any.whl.metadata (2.7 kB)\n",
      "Requirement already satisfied: aiobotocore<3.0.0,>=2.5.4 in /opt/conda/lib/python3.12/site-packages (from s3fs) (2.15.2)\n",
      "Requirement already satisfied: fsspec==2024.10.0.* in /opt/conda/lib/python3.12/site-packages (from s3fs) (2024.10.0)\n",
      "Requirement already satisfied: aiohttp!=4.0.0a0,!=4.0.0a1 in /opt/conda/lib/python3.12/site-packages (from s3fs) (3.11.9)\n",
      "Requirement already satisfied: botocore<1.35.37,>=1.35.16 in /opt/conda/lib/python3.12/site-packages (from aiobotocore<3.0.0,>=2.5.4->s3fs) (1.35.36)\n",
      "Requirement already satisfied: wrapt<2.0.0,>=1.10.10 in /opt/conda/lib/python3.12/site-packages (from aiobotocore<3.0.0,>=2.5.4->s3fs) (1.17.0)\n",
      "Requirement already satisfied: aioitertools<1.0.0,>=0.5.1 in /opt/conda/lib/python3.12/site-packages (from aiobotocore<3.0.0,>=2.5.4->s3fs) (0.12.0)\n",
      "Requirement already satisfied: aiohappyeyeballs>=2.3.0 in /opt/conda/lib/python3.12/site-packages (from aiohttp!=4.0.0a0,!=4.0.0a1->s3fs) (2.4.4)\n",
      "Requirement already satisfied: aiosignal>=1.1.2 in /opt/conda/lib/python3.12/site-packages (from aiohttp!=4.0.0a0,!=4.0.0a1->s3fs) (1.3.1)\n",
      "Requirement already satisfied: attrs>=17.3.0 in /opt/conda/lib/python3.12/site-packages (from aiohttp!=4.0.0a0,!=4.0.0a1->s3fs) (24.2.0)\n",
      "Requirement already satisfied: frozenlist>=1.1.1 in /opt/conda/lib/python3.12/site-packages (from aiohttp!=4.0.0a0,!=4.0.0a1->s3fs) (1.5.0)\n",
      "Requirement already satisfied: multidict<7.0,>=4.5 in /opt/conda/lib/python3.12/site-packages (from aiohttp!=4.0.0a0,!=4.0.0a1->s3fs) (6.1.0)\n",
      "Requirement already satisfied: propcache>=0.2.0 in /opt/conda/lib/python3.12/site-packages (from aiohttp!=4.0.0a0,!=4.0.0a1->s3fs) (0.2.1)\n",
      "Requirement already satisfied: yarl<2.0,>=1.17.0 in /opt/conda/lib/python3.12/site-packages (from aiohttp!=4.0.0a0,!=4.0.0a1->s3fs) (1.18.3)\n",
      "Requirement already satisfied: python-dateutil>=2.8.2 in /opt/conda/lib/python3.12/site-packages (from pandas>=1.4.0->geopandas) (2.9.0.post0)\n",
      "Requirement already satisfied: pytz>=2020.1 in /opt/conda/lib/python3.12/site-packages (from pandas>=1.4.0->geopandas) (2024.1)\n",
      "Requirement already satisfied: tzdata>=2022.7 in /opt/conda/lib/python3.12/site-packages (from pandas>=1.4.0->geopandas) (2024.2)\n",
      "Requirement already satisfied: certifi in /opt/conda/lib/python3.12/site-packages (from pyogrio>=0.7.2->geopandas) (2024.8.30)\n",
      "Requirement already satisfied: jmespath<2.0.0,>=0.7.1 in /opt/conda/lib/python3.12/site-packages (from botocore<1.35.37,>=1.35.16->aiobotocore<3.0.0,>=2.5.4->s3fs) (1.0.1)\n",
      "Requirement already satisfied: urllib3!=2.2.0,<3,>=1.25.4 in /opt/conda/lib/python3.12/site-packages (from botocore<1.35.37,>=1.35.16->aiobotocore<3.0.0,>=2.5.4->s3fs) (2.2.3)\n",
      "Requirement already satisfied: six>=1.5 in /opt/conda/lib/python3.12/site-packages (from python-dateutil>=2.8.2->pandas>=1.4.0->geopandas) (1.17.0)\n",
      "Requirement already satisfied: idna>=2.0 in /opt/conda/lib/python3.12/site-packages (from yarl<2.0,>=1.17.0->aiohttp!=4.0.0a0,!=4.0.0a1->s3fs) (3.10)\n",
      "Downloading py7zr-0.22.0-py3-none-any.whl (67 kB)\n",
      "Downloading openpyxl-3.1.5-py2.py3-none-any.whl (250 kB)\n",
      "Downloading inflate64-1.0.0-cp312-cp312-manylinux_2_17_x86_64.manylinux2014_x86_64.whl (96 kB)\n",
      "Downloading multivolumefile-0.2.3-py3-none-any.whl (17 kB)\n",
      "Downloading pybcj-1.0.2-cp312-cp312-manylinux_2_17_x86_64.manylinux2014_x86_64.whl (51 kB)\n",
      "Downloading pycryptodomex-3.21.0-cp36-abi3-manylinux_2_17_x86_64.manylinux2014_x86_64.whl (2.3 MB)\n",
      "\u001b[2K   \u001b[90m━━━━━━━━━━━━━━━━━━━━━━━━━━━━━━━━━━━━━━━━\u001b[0m \u001b[32m2.3/2.3 MB\u001b[0m \u001b[31m79.6 MB/s\u001b[0m eta \u001b[36m0:00:00\u001b[0m\n",
      "\u001b[?25hDownloading pyppmd-1.1.0-cp312-cp312-manylinux_2_17_x86_64.manylinux2014_x86_64.whl (142 kB)\n",
      "Downloading pyzstd-0.16.2-cp312-cp312-manylinux_2_17_x86_64.manylinux2014_x86_64.whl (414 kB)\n",
      "Downloading et_xmlfile-2.0.0-py3-none-any.whl (18 kB)\n",
      "Downloading texttable-1.7.0-py2.py3-none-any.whl (10 kB)\n",
      "Installing collected packages: texttable, pyzstd, pyppmd, pycryptodomex, pybcj, multivolumefile, inflate64, et-xmlfile, py7zr, openpyxl\n",
      "Successfully installed et-xmlfile-2.0.0 inflate64-1.0.0 multivolumefile-0.2.3 openpyxl-3.1.5 py7zr-0.22.0 pybcj-1.0.2 pycryptodomex-3.21.0 pyppmd-1.1.0 pyzstd-0.16.2 texttable-1.7.0\n",
      "Requirement already satisfied: PyYAML in /opt/conda/lib/python3.12/site-packages (6.0.2)\n",
      "Collecting xlrd\n",
      "  Downloading xlrd-2.0.1-py2.py3-none-any.whl.metadata (3.4 kB)\n",
      "Downloading xlrd-2.0.1-py2.py3-none-any.whl (96 kB)\n",
      "Installing collected packages: xlrd\n",
      "Successfully installed xlrd-2.0.1\n",
      "Collecting git+https://github.com/inseefrlab/cartiflette\n",
      "  Cloning https://github.com/inseefrlab/cartiflette to /tmp/pip-req-build-0hk46bh1\n",
      "  Running command git clone --filter=blob:none --quiet https://github.com/inseefrlab/cartiflette /tmp/pip-req-build-0hk46bh1\n",
      "  Resolved https://github.com/inseefrlab/cartiflette to commit 2e38b5f829df6a6fa1578268112ff88853c9a4bf\n",
      "  Installing build dependencies ... \u001b[?25ldone\n",
      "\u001b[?25h  Getting requirements to build wheel ... \u001b[?25ldone\n",
      "\u001b[?25h  Preparing metadata (pyproject.toml) ... \u001b[?25ldone\n",
      "\u001b[?25hRequirement already satisfied: PyYAML<7.0,>=6.0 in /opt/conda/lib/python3.12/site-packages (from cartiflette==0.0.2) (6.0.2)\n",
      "Collecting appdirs<2.0.0,>=1.4.4 (from cartiflette==0.0.2)\n",
      "  Downloading appdirs-1.4.4-py2.py3-none-any.whl.metadata (9.0 kB)\n",
      "Requirement already satisfied: charset-normalizer<4.0.0,>=3.2.0 in /opt/conda/lib/python3.12/site-packages (from cartiflette==0.0.2) (3.4.0)\n",
      "Collecting diskcache<6.0.0,>=5.6.3 (from cartiflette==0.0.2)\n",
      "  Downloading diskcache-5.6.3-py3-none-any.whl.metadata (20 kB)\n",
      "Collecting fastexcel<0.12.0,>=0.11.6 (from cartiflette==0.0.2)\n",
      "  Downloading fastexcel-0.11.6-cp38-abi3-manylinux_2_17_x86_64.manylinux2014_x86_64.whl.metadata (2.8 kB)\n",
      "Collecting fiona<2.0.0,>=1.9.4.post1 (from fiona[s3]<2.0.0,>=1.9.4.post1->cartiflette==0.0.2)\n",
      "  Downloading fiona-1.10.1-cp312-cp312-manylinux_2_17_x86_64.manylinux2014_x86_64.whl.metadata (56 kB)\n",
      "Requirement already satisfied: geopandas<2.0.0,>=1.0.1 in /opt/conda/lib/python3.12/site-packages (from cartiflette==0.0.2) (1.0.1)\n",
      "Requirement already satisfied: matplotlib<4.0.0,>=3.7.1 in /opt/conda/lib/python3.12/site-packages (from cartiflette==0.0.2) (3.9.3)\n",
      "Requirement already satisfied: openpyxl<4.0.0,>=3.1.5 in /opt/conda/lib/python3.12/site-packages (from cartiflette==0.0.2) (3.1.5)\n",
      "Collecting owslib<0.29.0,>=0.28.1 (from cartiflette==0.0.2)\n",
      "  Downloading OWSLib-0.28.1-py2.py3-none-any.whl.metadata (6.8 kB)\n",
      "Requirement already satisfied: pandas<3.0.0,>=2.2.2 in /opt/conda/lib/python3.12/site-packages (from cartiflette==0.0.2) (2.2.3)\n",
      "Collecting pebble<6.0.0,>=5.0.3 (from cartiflette==0.0.2)\n",
      "  Downloading Pebble-5.1.0-py3-none-any.whl.metadata (3.6 kB)\n",
      "Requirement already satisfied: polars<2.0.0,>=1.8.1 in /opt/conda/lib/python3.12/site-packages (from cartiflette==0.0.2) (1.16.0)\n",
      "Collecting py7zr<0.21.0,>=0.20.4 (from cartiflette==0.0.2)\n",
      "  Downloading py7zr-0.20.8-py3-none-any.whl.metadata (16 kB)\n",
      "Collecting pyarrow<18.0.0,>=17.0.0 (from cartiflette==0.0.2)\n",
      "  Downloading pyarrow-17.0.0-cp312-cp312-manylinux_2_28_x86_64.whl.metadata (3.3 kB)\n",
      "Collecting python-dotenv<2.0.0,>=1.0.0 (from cartiflette==0.0.2)\n",
      "  Downloading python_dotenv-1.0.1-py3-none-any.whl.metadata (23 kB)\n",
      "Collecting python-magic<0.5.0,>=0.4.14 (from cartiflette==0.0.2)\n",
      "  Downloading python_magic-0.4.27-py2.py3-none-any.whl.metadata (5.8 kB)\n",
      "Requirement already satisfied: requests<3.0.0,>=2.28.2 in /opt/conda/lib/python3.12/site-packages (from cartiflette==0.0.2) (2.32.3)\n",
      "Collecting requests-cache<2.0.0,>=1.1.0 (from cartiflette==0.0.2)\n",
      "  Downloading requests_cache-1.2.1-py3-none-any.whl.metadata (9.9 kB)\n",
      "Collecting retrying<2.0.0,>=1.3.4 (from cartiflette==0.0.2)\n",
      "  Downloading retrying-1.3.4-py3-none-any.whl.metadata (6.9 kB)\n",
      "Collecting s3fs<2024.0.0,>=2023.3.0 (from cartiflette==0.0.2)\n",
      "  Downloading s3fs-2023.12.2-py3-none-any.whl.metadata (1.6 kB)\n",
      "Collecting topojson<2.0,>=1.5 (from cartiflette==0.0.2)\n",
      "  Downloading topojson-1.9-py3-none-any.whl.metadata (3.8 kB)\n",
      "Collecting unidecode<2.0.0,>=1.3.6 (from cartiflette==0.0.2)\n",
      "  Downloading Unidecode-1.3.8-py3-none-any.whl.metadata (13 kB)\n",
      "Collecting urllib3<2 (from cartiflette==0.0.2)\n",
      "  Downloading urllib3-1.26.20-py2.py3-none-any.whl.metadata (50 kB)\n",
      "Requirement already satisfied: xlrd<3.0.0,>=2.0.1 in /opt/conda/lib/python3.12/site-packages (from cartiflette==0.0.2) (2.0.1)\n",
      "Requirement already satisfied: attrs>=19.2.0 in /opt/conda/lib/python3.12/site-packages (from fiona<2.0.0,>=1.9.4.post1->fiona[s3]<2.0.0,>=1.9.4.post1->cartiflette==0.0.2) (24.2.0)\n",
      "Requirement already satisfied: certifi in /opt/conda/lib/python3.12/site-packages (from fiona<2.0.0,>=1.9.4.post1->fiona[s3]<2.0.0,>=1.9.4.post1->cartiflette==0.0.2) (2024.8.30)\n",
      "Requirement already satisfied: click~=8.0 in /opt/conda/lib/python3.12/site-packages (from fiona<2.0.0,>=1.9.4.post1->fiona[s3]<2.0.0,>=1.9.4.post1->cartiflette==0.0.2) (8.1.7)\n",
      "Collecting click-plugins>=1.0 (from fiona<2.0.0,>=1.9.4.post1->fiona[s3]<2.0.0,>=1.9.4.post1->cartiflette==0.0.2)\n",
      "  Downloading click_plugins-1.1.1-py2.py3-none-any.whl.metadata (6.4 kB)\n",
      "Collecting cligj>=0.5 (from fiona<2.0.0,>=1.9.4.post1->fiona[s3]<2.0.0,>=1.9.4.post1->cartiflette==0.0.2)\n",
      "  Downloading cligj-0.7.2-py3-none-any.whl.metadata (5.0 kB)\n",
      "Requirement already satisfied: boto3>=1.3.1 in /opt/conda/lib/python3.12/site-packages (from fiona[s3]<2.0.0,>=1.9.4.post1->cartiflette==0.0.2) (1.35.36)\n",
      "Requirement already satisfied: numpy>=1.22 in /opt/conda/lib/python3.12/site-packages (from geopandas<2.0.0,>=1.0.1->cartiflette==0.0.2) (2.2.0)\n",
      "Requirement already satisfied: pyogrio>=0.7.2 in /opt/conda/lib/python3.12/site-packages (from geopandas<2.0.0,>=1.0.1->cartiflette==0.0.2) (0.10.0)\n",
      "Requirement already satisfied: packaging in /opt/conda/lib/python3.12/site-packages (from geopandas<2.0.0,>=1.0.1->cartiflette==0.0.2) (24.1)\n",
      "Requirement already satisfied: pyproj>=3.3.0 in /opt/conda/lib/python3.12/site-packages (from geopandas<2.0.0,>=1.0.1->cartiflette==0.0.2) (3.7.0)\n",
      "Requirement already satisfied: shapely>=2.0.0 in /opt/conda/lib/python3.12/site-packages (from geopandas<2.0.0,>=1.0.1->cartiflette==0.0.2) (2.0.6)\n",
      "Requirement already satisfied: contourpy>=1.0.1 in /opt/conda/lib/python3.12/site-packages (from matplotlib<4.0.0,>=3.7.1->cartiflette==0.0.2) (1.3.1)\n",
      "Requirement already satisfied: cycler>=0.10 in /opt/conda/lib/python3.12/site-packages (from matplotlib<4.0.0,>=3.7.1->cartiflette==0.0.2) (0.12.1)\n",
      "Requirement already satisfied: fonttools>=4.22.0 in /opt/conda/lib/python3.12/site-packages (from matplotlib<4.0.0,>=3.7.1->cartiflette==0.0.2) (4.55.2)\n",
      "Requirement already satisfied: kiwisolver>=1.3.1 in /opt/conda/lib/python3.12/site-packages (from matplotlib<4.0.0,>=3.7.1->cartiflette==0.0.2) (1.4.7)\n",
      "Requirement already satisfied: pillow>=8 in /opt/conda/lib/python3.12/site-packages (from matplotlib<4.0.0,>=3.7.1->cartiflette==0.0.2) (11.0.0)\n",
      "Requirement already satisfied: pyparsing>=2.3.1 in /opt/conda/lib/python3.12/site-packages (from matplotlib<4.0.0,>=3.7.1->cartiflette==0.0.2) (3.2.0)\n",
      "Requirement already satisfied: python-dateutil>=2.7 in /opt/conda/lib/python3.12/site-packages (from matplotlib<4.0.0,>=3.7.1->cartiflette==0.0.2) (2.9.0.post0)\n",
      "Requirement already satisfied: et-xmlfile in /opt/conda/lib/python3.12/site-packages (from openpyxl<4.0.0,>=3.1.5->cartiflette==0.0.2) (2.0.0)\n",
      "Collecting lxml (from owslib<0.29.0,>=0.28.1->cartiflette==0.0.2)\n",
      "  Downloading lxml-5.3.0-cp312-cp312-manylinux_2_28_x86_64.whl.metadata (3.8 kB)\n",
      "Requirement already satisfied: pytz in /opt/conda/lib/python3.12/site-packages (from owslib<0.29.0,>=0.28.1->cartiflette==0.0.2) (2024.1)\n",
      "Requirement already satisfied: tzdata>=2022.7 in /opt/conda/lib/python3.12/site-packages (from pandas<3.0.0,>=2.2.2->cartiflette==0.0.2) (2024.2)\n",
      "Requirement already satisfied: texttable in /opt/conda/lib/python3.12/site-packages (from py7zr<0.21.0,>=0.20.4->cartiflette==0.0.2) (1.7.0)\n",
      "Requirement already satisfied: pycryptodomex>=3.16.0 in /opt/conda/lib/python3.12/site-packages (from py7zr<0.21.0,>=0.20.4->cartiflette==0.0.2) (3.21.0)\n",
      "Requirement already satisfied: pyzstd>=0.15.9 in /opt/conda/lib/python3.12/site-packages (from py7zr<0.21.0,>=0.20.4->cartiflette==0.0.2) (0.16.2)\n",
      "Requirement already satisfied: pyppmd<1.2.0,>=1.1.0 in /opt/conda/lib/python3.12/site-packages (from py7zr<0.21.0,>=0.20.4->cartiflette==0.0.2) (1.1.0)\n",
      "Requirement already satisfied: pybcj<1.1.0,>=1.0.0 in /opt/conda/lib/python3.12/site-packages (from py7zr<0.21.0,>=0.20.4->cartiflette==0.0.2) (1.0.2)\n",
      "Requirement already satisfied: multivolumefile>=0.2.3 in /opt/conda/lib/python3.12/site-packages (from py7zr<0.21.0,>=0.20.4->cartiflette==0.0.2) (0.2.3)\n",
      "Requirement already satisfied: inflate64<1.1.0,>=1.0.0 in /opt/conda/lib/python3.12/site-packages (from py7zr<0.21.0,>=0.20.4->cartiflette==0.0.2) (1.0.0)\n",
      "Requirement already satisfied: brotli>=1.1.0 in /opt/conda/lib/python3.12/site-packages (from py7zr<0.21.0,>=0.20.4->cartiflette==0.0.2) (1.1.0)\n",
      "Requirement already satisfied: psutil in /opt/conda/lib/python3.12/site-packages (from py7zr<0.21.0,>=0.20.4->cartiflette==0.0.2) (6.1.0)\n",
      "Requirement already satisfied: idna<4,>=2.5 in /opt/conda/lib/python3.12/site-packages (from requests<3.0.0,>=2.28.2->cartiflette==0.0.2) (3.10)\n",
      "Collecting cattrs>=22.2 (from requests-cache<2.0.0,>=1.1.0->cartiflette==0.0.2)\n",
      "  Downloading cattrs-24.1.2-py3-none-any.whl.metadata (8.4 kB)\n",
      "Requirement already satisfied: platformdirs>=2.5 in /opt/conda/lib/python3.12/site-packages (from requests-cache<2.0.0,>=1.1.0->cartiflette==0.0.2) (4.3.6)\n",
      "Collecting url-normalize>=1.4 (from requests-cache<2.0.0,>=1.1.0->cartiflette==0.0.2)\n",
      "  Downloading url_normalize-1.4.3-py2.py3-none-any.whl.metadata (3.1 kB)\n",
      "Requirement already satisfied: six>=1.7.0 in /opt/conda/lib/python3.12/site-packages (from retrying<2.0.0,>=1.3.4->cartiflette==0.0.2) (1.17.0)\n",
      "Requirement already satisfied: aiobotocore<3.0.0,>=2.5.4 in /opt/conda/lib/python3.12/site-packages (from s3fs<2024.0.0,>=2023.3.0->cartiflette==0.0.2) (2.15.2)\n",
      "Collecting fsspec==2023.12.2 (from s3fs<2024.0.0,>=2023.3.0->cartiflette==0.0.2)\n",
      "  Downloading fsspec-2023.12.2-py3-none-any.whl.metadata (6.8 kB)\n",
      "Requirement already satisfied: aiohttp!=4.0.0a0,!=4.0.0a1 in /opt/conda/lib/python3.12/site-packages (from s3fs<2024.0.0,>=2023.3.0->cartiflette==0.0.2) (3.11.9)\n",
      "Requirement already satisfied: botocore<1.35.37,>=1.35.16 in /opt/conda/lib/python3.12/site-packages (from aiobotocore<3.0.0,>=2.5.4->s3fs<2024.0.0,>=2023.3.0->cartiflette==0.0.2) (1.35.36)\n",
      "Requirement already satisfied: wrapt<2.0.0,>=1.10.10 in /opt/conda/lib/python3.12/site-packages (from aiobotocore<3.0.0,>=2.5.4->s3fs<2024.0.0,>=2023.3.0->cartiflette==0.0.2) (1.17.0)\n",
      "Requirement already satisfied: aioitertools<1.0.0,>=0.5.1 in /opt/conda/lib/python3.12/site-packages (from aiobotocore<3.0.0,>=2.5.4->s3fs<2024.0.0,>=2023.3.0->cartiflette==0.0.2) (0.12.0)\n",
      "Requirement already satisfied: aiohappyeyeballs>=2.3.0 in /opt/conda/lib/python3.12/site-packages (from aiohttp!=4.0.0a0,!=4.0.0a1->s3fs<2024.0.0,>=2023.3.0->cartiflette==0.0.2) (2.4.4)\n",
      "Requirement already satisfied: aiosignal>=1.1.2 in /opt/conda/lib/python3.12/site-packages (from aiohttp!=4.0.0a0,!=4.0.0a1->s3fs<2024.0.0,>=2023.3.0->cartiflette==0.0.2) (1.3.1)\n",
      "Requirement already satisfied: frozenlist>=1.1.1 in /opt/conda/lib/python3.12/site-packages (from aiohttp!=4.0.0a0,!=4.0.0a1->s3fs<2024.0.0,>=2023.3.0->cartiflette==0.0.2) (1.5.0)\n",
      "Requirement already satisfied: multidict<7.0,>=4.5 in /opt/conda/lib/python3.12/site-packages (from aiohttp!=4.0.0a0,!=4.0.0a1->s3fs<2024.0.0,>=2023.3.0->cartiflette==0.0.2) (6.1.0)\n",
      "Requirement already satisfied: propcache>=0.2.0 in /opt/conda/lib/python3.12/site-packages (from aiohttp!=4.0.0a0,!=4.0.0a1->s3fs<2024.0.0,>=2023.3.0->cartiflette==0.0.2) (0.2.1)\n",
      "Requirement already satisfied: yarl<2.0,>=1.17.0 in /opt/conda/lib/python3.12/site-packages (from aiohttp!=4.0.0a0,!=4.0.0a1->s3fs<2024.0.0,>=2023.3.0->cartiflette==0.0.2) (1.18.3)\n",
      "Requirement already satisfied: jmespath<2.0.0,>=0.7.1 in /opt/conda/lib/python3.12/site-packages (from boto3>=1.3.1->fiona[s3]<2.0.0,>=1.9.4.post1->cartiflette==0.0.2) (1.0.1)\n",
      "Requirement already satisfied: s3transfer<0.11.0,>=0.10.0 in /opt/conda/lib/python3.12/site-packages (from boto3>=1.3.1->fiona[s3]<2.0.0,>=1.9.4.post1->cartiflette==0.0.2) (0.10.4)\n",
      "Downloading appdirs-1.4.4-py2.py3-none-any.whl (9.6 kB)\n",
      "Downloading diskcache-5.6.3-py3-none-any.whl (45 kB)\n",
      "Downloading fastexcel-0.11.6-cp38-abi3-manylinux_2_17_x86_64.manylinux2014_x86_64.whl (1.2 MB)\n",
      "\u001b[2K   \u001b[90m━━━━━━━━━━━━━━━━━━━━━━━━━━━━━━━━━━━━━━━━\u001b[0m \u001b[32m1.2/1.2 MB\u001b[0m \u001b[31m62.0 MB/s\u001b[0m eta \u001b[36m0:00:00\u001b[0m\n",
      "\u001b[?25hDownloading fiona-1.10.1-cp312-cp312-manylinux_2_17_x86_64.manylinux2014_x86_64.whl (17.2 MB)\n",
      "\u001b[2K   \u001b[90m━━━━━━━━━━━━━━━━━━━━━━━━━━━━━━━━━━━━━━━━\u001b[0m \u001b[32m17.2/17.2 MB\u001b[0m \u001b[31m74.6 MB/s\u001b[0m eta \u001b[36m0:00:00\u001b[0m:00:01\u001b[0m\n",
      "\u001b[?25hDownloading OWSLib-0.28.1-py2.py3-none-any.whl (219 kB)\n",
      "Downloading Pebble-5.1.0-py3-none-any.whl (36 kB)\n",
      "Downloading py7zr-0.20.8-py3-none-any.whl (67 kB)\n",
      "Downloading pyarrow-17.0.0-cp312-cp312-manylinux_2_28_x86_64.whl (39.9 MB)\n",
      "\u001b[2K   \u001b[90m━━━━━━━━━━━━━━━━━━━━━━━━━━━━━━━━━━━━━━━━\u001b[0m \u001b[32m39.9/39.9 MB\u001b[0m \u001b[31m77.8 MB/s\u001b[0m eta \u001b[36m0:00:00\u001b[0m:00:01\u001b[0m00:01\u001b[0m\n",
      "\u001b[?25hDownloading python_dotenv-1.0.1-py3-none-any.whl (19 kB)\n",
      "Downloading python_magic-0.4.27-py2.py3-none-any.whl (13 kB)\n",
      "Downloading requests_cache-1.2.1-py3-none-any.whl (61 kB)\n",
      "Downloading retrying-1.3.4-py3-none-any.whl (11 kB)\n",
      "Downloading s3fs-2023.12.2-py3-none-any.whl (28 kB)\n",
      "Downloading fsspec-2023.12.2-py3-none-any.whl (168 kB)\n",
      "Downloading topojson-1.9-py3-none-any.whl (82 kB)\n",
      "Downloading Unidecode-1.3.8-py3-none-any.whl (235 kB)\n",
      "Downloading urllib3-1.26.20-py2.py3-none-any.whl (144 kB)\n",
      "Downloading cattrs-24.1.2-py3-none-any.whl (66 kB)\n",
      "Downloading click_plugins-1.1.1-py2.py3-none-any.whl (7.5 kB)\n",
      "Downloading cligj-0.7.2-py3-none-any.whl (7.1 kB)\n",
      "Downloading url_normalize-1.4.3-py2.py3-none-any.whl (6.8 kB)\n",
      "Downloading lxml-5.3.0-cp312-cp312-manylinux_2_28_x86_64.whl (4.9 MB)\n",
      "\u001b[2K   \u001b[90m━━━━━━━━━━━━━━━━━━━━━━━━━━━━━━━━━━━━━━━━\u001b[0m \u001b[32m4.9/4.9 MB\u001b[0m \u001b[31m67.0 MB/s\u001b[0m eta \u001b[36m0:00:00\u001b[0m\n",
      "\u001b[?25hBuilding wheels for collected packages: cartiflette\n",
      "  Building wheel for cartiflette (pyproject.toml) ... \u001b[?25ldone\n",
      "\u001b[?25h  Created wheel for cartiflette: filename=cartiflette-0.0.2-py3-none-any.whl size=56573 sha256=7e59f26a71f86d2e94fde43e66cedc1ab47120e738ca086278e0ae3cc7c1d1e0\n",
      "  Stored in directory: /tmp/pip-ephem-wheel-cache-pz_qd8z9/wheels/e2/79/c0/4a3a02595ceab7ab6d4916e63b3f8a6f3d7d45aa209631f6f8\n",
      "Successfully built cartiflette\n",
      "Installing collected packages: appdirs, urllib3, url-normalize, unidecode, retrying, python-magic, python-dotenv, pyarrow, py7zr, pebble, lxml, fsspec, diskcache, cligj, click-plugins, cattrs, topojson, fiona, fastexcel, requests-cache, owslib, s3fs, cartiflette\n",
      "  Attempting uninstall: urllib3\n",
      "    Found existing installation: urllib3 2.2.3\n",
      "    Uninstalling urllib3-2.2.3:\n",
      "      Successfully uninstalled urllib3-2.2.3\n",
      "  Attempting uninstall: pyarrow\n",
      "    Found existing installation: pyarrow 18.1.0\n",
      "    Uninstalling pyarrow-18.1.0:\n",
      "      Successfully uninstalled pyarrow-18.1.0\n",
      "  Attempting uninstall: py7zr\n",
      "    Found existing installation: py7zr 0.22.0\n",
      "    Uninstalling py7zr-0.22.0:\n",
      "      Successfully uninstalled py7zr-0.22.0\n",
      "  Attempting uninstall: fsspec\n",
      "    Found existing installation: fsspec 2024.10.0\n",
      "    Uninstalling fsspec-2024.10.0:\n",
      "      Successfully uninstalled fsspec-2024.10.0\n",
      "  Attempting uninstall: s3fs\n",
      "    Found existing installation: s3fs 2024.10.0\n",
      "    Uninstalling s3fs-2024.10.0:\n",
      "      Successfully uninstalled s3fs-2024.10.0\n",
      "Successfully installed appdirs-1.4.4 cartiflette-0.0.2 cattrs-24.1.2 click-plugins-1.1.1 cligj-0.7.2 diskcache-5.6.3 fastexcel-0.11.6 fiona-1.10.1 fsspec-2023.12.2 lxml-5.3.0 owslib-0.28.1 pebble-5.1.0 py7zr-0.20.8 pyarrow-17.0.0 python-dotenv-1.0.1 python-magic-0.4.27 requests-cache-1.2.1 retrying-1.3.4 s3fs-2023.12.2 topojson-1.9 unidecode-1.3.8 url-normalize-1.4.3 urllib3-1.26.20\n"
     ]
    }
   ],
   "source": [
    "!pip install py7zr geopandas openpyxl tqdm s3fs\n",
    "!pip install PyYAML xlrd\n",
    "!pip install git+https://github.com/inseefrlab/cartiflette"
   ]
  },
  {
   "cell_type": "code",
   "execution_count": 30,
   "metadata": {},
   "outputs": [
    {
     "ename": "AttributeError",
     "evalue": "module 'urllib3.util' has no attribute 'PROTOCOL_TLS'",
     "output_type": "error",
     "traceback": [
      "\u001b[0;31m---------------------------------------------------------------------------\u001b[0m",
      "\u001b[0;31mAttributeError\u001b[0m                            Traceback (most recent call last)",
      "Cell \u001b[0;32mIn[30], line 6\u001b[0m\n\u001b[1;32m      4\u001b[0m \u001b[38;5;28;01mimport\u001b[39;00m \u001b[38;5;21;01mmatplotlib\u001b[39;00m\u001b[38;5;21;01m.\u001b[39;00m\u001b[38;5;21;01mpyplot\u001b[39;00m \u001b[38;5;28;01mas\u001b[39;00m \u001b[38;5;21;01mplt\u001b[39;00m\n\u001b[1;32m      5\u001b[0m \u001b[38;5;28;01mfrom\u001b[39;00m \u001b[38;5;21;01mzipfile\u001b[39;00m \u001b[38;5;28;01mimport\u001b[39;00m ZipFile\n\u001b[0;32m----> 6\u001b[0m \u001b[38;5;28;01mimport\u001b[39;00m \u001b[38;5;21;01mcartiflette\u001b[39;00m\n\u001b[1;32m      7\u001b[0m \u001b[38;5;28;01mfrom\u001b[39;00m \u001b[38;5;21;01mio\u001b[39;00m \u001b[38;5;28;01mimport\u001b[39;00m StringIO\n",
      "File \u001b[0;32m/opt/conda/lib/python3.12/site-packages/cartiflette/__init__.py:1\u001b[0m\n\u001b[0;32m----> 1\u001b[0m \u001b[38;5;28;01mfrom\u001b[39;00m \u001b[38;5;21;01mcartiflette\u001b[39;00m\u001b[38;5;21;01m.\u001b[39;00m\u001b[38;5;21;01mapi\u001b[39;00m \u001b[38;5;28;01mimport\u001b[39;00m download_from_cartiflette_inner\n\u001b[1;32m      3\u001b[0m \u001b[38;5;28mprint\u001b[39m(\u001b[38;5;124m\"\u001b[39m\u001b[38;5;124mThis is an experimental version of cartiflette published on PyPi.\u001b[39m\u001b[38;5;124m\"\u001b[39m)\n\u001b[1;32m      4\u001b[0m \u001b[38;5;28mprint\u001b[39m(\u001b[38;5;124m\"\u001b[39m\u001b[38;5;124mTo use the latest stable version, you can install it directly from GitHub with the following command:\u001b[39m\u001b[38;5;124m\"\u001b[39m)\n",
      "File \u001b[0;32m/opt/conda/lib/python3.12/site-packages/cartiflette/api/__init__.py:3\u001b[0m\n\u001b[1;32m      1\u001b[0m \u001b[38;5;66;03m# -*- coding: utf-8 -*-\u001b[39;00m\n\u001b[0;32m----> 3\u001b[0m \u001b[38;5;28;01mfrom\u001b[39;00m \u001b[38;5;21;01m.\u001b[39;00m\u001b[38;5;21;01moutput\u001b[39;00m \u001b[38;5;28;01mimport\u001b[39;00m download_from_cartiflette_inner\n\u001b[1;32m      5\u001b[0m __all__ \u001b[38;5;241m=\u001b[39m [\u001b[38;5;124m\"\u001b[39m\u001b[38;5;124mdownload_from_cartiflette_inner\u001b[39m\u001b[38;5;124m\"\u001b[39m]\n",
      "File \u001b[0;32m/opt/conda/lib/python3.12/site-packages/cartiflette/api/output.py:8\u001b[0m\n\u001b[1;32m      6\u001b[0m \u001b[38;5;28;01mimport\u001b[39;00m \u001b[38;5;21;01mlogging\u001b[39;00m\n\u001b[1;32m      7\u001b[0m \u001b[38;5;28;01mimport\u001b[39;00m \u001b[38;5;21;01mtyping\u001b[39;00m\n\u001b[0;32m----> 8\u001b[0m \u001b[38;5;28;01mimport\u001b[39;00m \u001b[38;5;21;01ms3fs\u001b[39;00m\n\u001b[1;32m      9\u001b[0m \u001b[38;5;28;01mimport\u001b[39;00m \u001b[38;5;21;01mgeopandas\u001b[39;00m \u001b[38;5;28;01mas\u001b[39;00m \u001b[38;5;21;01mgpd\u001b[39;00m\n\u001b[1;32m     11\u001b[0m \u001b[38;5;28;01mfrom\u001b[39;00m \u001b[38;5;21;01mcartiflette\u001b[39;00m\u001b[38;5;21;01m.\u001b[39;00m\u001b[38;5;21;01mdownload\u001b[39;00m\u001b[38;5;21;01m.\u001b[39;00m\u001b[38;5;21;01mscraper\u001b[39;00m \u001b[38;5;28;01mimport\u001b[39;00m MasterScraper\n",
      "File \u001b[0;32m/opt/conda/lib/python3.12/site-packages/s3fs/__init__.py:1\u001b[0m\n\u001b[0;32m----> 1\u001b[0m \u001b[38;5;28;01mfrom\u001b[39;00m \u001b[38;5;21;01m.\u001b[39;00m\u001b[38;5;21;01mcore\u001b[39;00m \u001b[38;5;28;01mimport\u001b[39;00m S3FileSystem, S3File\n\u001b[1;32m      2\u001b[0m \u001b[38;5;28;01mfrom\u001b[39;00m \u001b[38;5;21;01m.\u001b[39;00m\u001b[38;5;21;01mmapping\u001b[39;00m \u001b[38;5;28;01mimport\u001b[39;00m S3Map\n\u001b[1;32m      4\u001b[0m \u001b[38;5;28;01mfrom\u001b[39;00m \u001b[38;5;21;01m.\u001b[39;00m\u001b[38;5;21;01m_version\u001b[39;00m \u001b[38;5;28;01mimport\u001b[39;00m get_versions\n",
      "File \u001b[0;32m/opt/conda/lib/python3.12/site-packages/s3fs/core.py:29\u001b[0m\n\u001b[1;32m     27\u001b[0m \u001b[38;5;28;01mimport\u001b[39;00m \u001b[38;5;21;01maiobotocore\u001b[39;00m\n\u001b[1;32m     28\u001b[0m \u001b[38;5;28;01mimport\u001b[39;00m \u001b[38;5;21;01mbotocore\u001b[39;00m\n\u001b[0;32m---> 29\u001b[0m \u001b[38;5;28;01mimport\u001b[39;00m \u001b[38;5;21;01maiobotocore\u001b[39;00m\u001b[38;5;21;01m.\u001b[39;00m\u001b[38;5;21;01msession\u001b[39;00m\n\u001b[1;32m     30\u001b[0m \u001b[38;5;28;01mfrom\u001b[39;00m \u001b[38;5;21;01maiobotocore\u001b[39;00m\u001b[38;5;21;01m.\u001b[39;00m\u001b[38;5;21;01mconfig\u001b[39;00m \u001b[38;5;28;01mimport\u001b[39;00m AioConfig\n\u001b[1;32m     31\u001b[0m \u001b[38;5;28;01mfrom\u001b[39;00m \u001b[38;5;21;01mbotocore\u001b[39;00m\u001b[38;5;21;01m.\u001b[39;00m\u001b[38;5;21;01mexceptions\u001b[39;00m \u001b[38;5;28;01mimport\u001b[39;00m ClientError, HTTPClientError, ParamValidationError\n",
      "File \u001b[0;32m/opt/conda/lib/python3.12/site-packages/aiobotocore/session.py:3\u001b[0m\n\u001b[1;32m      1\u001b[0m \u001b[38;5;28;01mfrom\u001b[39;00m \u001b[38;5;21;01mbotocore\u001b[39;00m \u001b[38;5;28;01mimport\u001b[39;00m UNSIGNED\n\u001b[1;32m      2\u001b[0m \u001b[38;5;28;01mfrom\u001b[39;00m \u001b[38;5;21;01mbotocore\u001b[39;00m \u001b[38;5;28;01mimport\u001b[39;00m __version__ \u001b[38;5;28;01mas\u001b[39;00m botocore_version\n\u001b[0;32m----> 3\u001b[0m \u001b[38;5;28;01mfrom\u001b[39;00m \u001b[38;5;21;01mbotocore\u001b[39;00m \u001b[38;5;28;01mimport\u001b[39;00m translate\n\u001b[1;32m      4\u001b[0m \u001b[38;5;28;01mfrom\u001b[39;00m \u001b[38;5;21;01mbotocore\u001b[39;00m\u001b[38;5;21;01m.\u001b[39;00m\u001b[38;5;21;01mexceptions\u001b[39;00m \u001b[38;5;28;01mimport\u001b[39;00m PartialCredentialsError\n\u001b[1;32m      5\u001b[0m \u001b[38;5;28;01mfrom\u001b[39;00m \u001b[38;5;21;01mbotocore\u001b[39;00m\u001b[38;5;21;01m.\u001b[39;00m\u001b[38;5;21;01msession\u001b[39;00m \u001b[38;5;28;01mimport\u001b[39;00m EVENT_ALIASES, ServiceModel\n",
      "File \u001b[0;32m/opt/conda/lib/python3.12/site-packages/botocore/translate.py:16\u001b[0m\n\u001b[1;32m      1\u001b[0m \u001b[38;5;66;03m# Copyright (c) 2012-2013 Mitch Garnaat http://garnaat.org/\u001b[39;00m\n\u001b[1;32m      2\u001b[0m \u001b[38;5;66;03m# Copyright 2012-2016 Amazon.com, Inc. or its affiliates. All Rights Reserved.\u001b[39;00m\n\u001b[1;32m      3\u001b[0m \u001b[38;5;66;03m#\u001b[39;00m\n\u001b[0;32m   (...)\u001b[0m\n\u001b[1;32m     12\u001b[0m \u001b[38;5;66;03m# ANY KIND, either express or implied. See the License for the specific\u001b[39;00m\n\u001b[1;32m     13\u001b[0m \u001b[38;5;66;03m# language governing permissions and limitations under the License.\u001b[39;00m\n\u001b[1;32m     14\u001b[0m \u001b[38;5;28;01mimport\u001b[39;00m \u001b[38;5;21;01mcopy\u001b[39;00m\n\u001b[0;32m---> 16\u001b[0m \u001b[38;5;28;01mfrom\u001b[39;00m \u001b[38;5;21;01mbotocore\u001b[39;00m\u001b[38;5;21;01m.\u001b[39;00m\u001b[38;5;21;01mutils\u001b[39;00m \u001b[38;5;28;01mimport\u001b[39;00m merge_dicts\n\u001b[1;32m     19\u001b[0m \u001b[38;5;28;01mdef\u001b[39;00m \u001b[38;5;21mbuild_retry_config\u001b[39m(\n\u001b[1;32m     20\u001b[0m     endpoint_prefix, retry_model, definitions, client_retry_config\u001b[38;5;241m=\u001b[39m\u001b[38;5;28;01mNone\u001b[39;00m\n\u001b[1;32m     21\u001b[0m ):\n\u001b[1;32m     22\u001b[0m     service_config \u001b[38;5;241m=\u001b[39m retry_model\u001b[38;5;241m.\u001b[39mget(endpoint_prefix, {})\n",
      "File \u001b[0;32m/opt/conda/lib/python3.12/site-packages/botocore/utils.py:39\u001b[0m\n\u001b[1;32m     37\u001b[0m \u001b[38;5;28;01mimport\u001b[39;00m \u001b[38;5;21;01mbotocore\u001b[39;00m\n\u001b[1;32m     38\u001b[0m \u001b[38;5;28;01mimport\u001b[39;00m \u001b[38;5;21;01mbotocore\u001b[39;00m\u001b[38;5;21;01m.\u001b[39;00m\u001b[38;5;21;01mawsrequest\u001b[39;00m\n\u001b[0;32m---> 39\u001b[0m \u001b[38;5;28;01mimport\u001b[39;00m \u001b[38;5;21;01mbotocore\u001b[39;00m\u001b[38;5;21;01m.\u001b[39;00m\u001b[38;5;21;01mhttpsession\u001b[39;00m\n\u001b[1;32m     41\u001b[0m \u001b[38;5;66;03m# IP Regexes retained for backwards compatibility\u001b[39;00m\n\u001b[1;32m     42\u001b[0m \u001b[38;5;28;01mfrom\u001b[39;00m \u001b[38;5;21;01mbotocore\u001b[39;00m\u001b[38;5;21;01m.\u001b[39;00m\u001b[38;5;21;01mcompat\u001b[39;00m \u001b[38;5;28;01mimport\u001b[39;00m HEX_PAT  \u001b[38;5;66;03m# noqa: F401\u001b[39;00m\n",
      "File \u001b[0;32m/opt/conda/lib/python3.12/site-packages/botocore/httpsession.py:45\u001b[0m\n\u001b[1;32m     43\u001b[0m         warnings\u001b[38;5;241m.\u001b[39msimplefilter(\u001b[38;5;124m\"\u001b[39m\u001b[38;5;124mignore\u001b[39m\u001b[38;5;124m\"\u001b[39m, category\u001b[38;5;241m=\u001b[39m\u001b[38;5;167;01mDeprecationWarning\u001b[39;00m)\n\u001b[1;32m     44\u001b[0m         \u001b[38;5;66;03m# Always import the original SSLContext, even if it has been patched\u001b[39;00m\n\u001b[0;32m---> 45\u001b[0m         \u001b[38;5;28;01mfrom\u001b[39;00m \u001b[38;5;21;01murllib3\u001b[39;00m\u001b[38;5;21;01m.\u001b[39;00m\u001b[38;5;21;01mcontrib\u001b[39;00m\u001b[38;5;21;01m.\u001b[39;00m\u001b[38;5;21;01mpyopenssl\u001b[39;00m \u001b[38;5;28;01mimport\u001b[39;00m (\n\u001b[1;32m     46\u001b[0m             orig_util_SSLContext \u001b[38;5;28;01mas\u001b[39;00m SSLContext,\n\u001b[1;32m     47\u001b[0m         )\n\u001b[1;32m     48\u001b[0m \u001b[38;5;28;01mexcept\u001b[39;00m \u001b[38;5;167;01mImportError\u001b[39;00m:\n\u001b[1;32m     49\u001b[0m     \u001b[38;5;28;01mfrom\u001b[39;00m \u001b[38;5;21;01murllib3\u001b[39;00m\u001b[38;5;21;01m.\u001b[39;00m\u001b[38;5;21;01mutil\u001b[39;00m\u001b[38;5;21;01m.\u001b[39;00m\u001b[38;5;21;01mssl_\u001b[39;00m \u001b[38;5;28;01mimport\u001b[39;00m SSLContext\n",
      "File \u001b[0;32m/opt/conda/lib/python3.12/site-packages/urllib3/contrib/pyopenssl.py:97\u001b[0m\n\u001b[1;32m     93\u001b[0m HAS_SNI \u001b[38;5;241m=\u001b[39m \u001b[38;5;28;01mTrue\u001b[39;00m\n\u001b[1;32m     95\u001b[0m \u001b[38;5;66;03m# Map from urllib3 to PyOpenSSL compatible parameter-values.\u001b[39;00m\n\u001b[1;32m     96\u001b[0m _openssl_versions \u001b[38;5;241m=\u001b[39m {\n\u001b[0;32m---> 97\u001b[0m     \u001b[43mutil\u001b[49m\u001b[38;5;241;43m.\u001b[39;49m\u001b[43mPROTOCOL_TLS\u001b[49m: OpenSSL\u001b[38;5;241m.\u001b[39mSSL\u001b[38;5;241m.\u001b[39mSSLv23_METHOD,\n\u001b[1;32m     98\u001b[0m     PROTOCOL_TLS_CLIENT: OpenSSL\u001b[38;5;241m.\u001b[39mSSL\u001b[38;5;241m.\u001b[39mSSLv23_METHOD,\n\u001b[1;32m     99\u001b[0m     ssl\u001b[38;5;241m.\u001b[39mPROTOCOL_TLSv1: OpenSSL\u001b[38;5;241m.\u001b[39mSSL\u001b[38;5;241m.\u001b[39mTLSv1_METHOD,\n\u001b[1;32m    100\u001b[0m }\n\u001b[1;32m    102\u001b[0m \u001b[38;5;28;01mif\u001b[39;00m \u001b[38;5;28mhasattr\u001b[39m(ssl, \u001b[38;5;124m\"\u001b[39m\u001b[38;5;124mPROTOCOL_SSLv3\u001b[39m\u001b[38;5;124m\"\u001b[39m) \u001b[38;5;129;01mand\u001b[39;00m \u001b[38;5;28mhasattr\u001b[39m(OpenSSL\u001b[38;5;241m.\u001b[39mSSL, \u001b[38;5;124m\"\u001b[39m\u001b[38;5;124mSSLv3_METHOD\u001b[39m\u001b[38;5;124m\"\u001b[39m):\n\u001b[1;32m    103\u001b[0m     _openssl_versions[ssl\u001b[38;5;241m.\u001b[39mPROTOCOL_SSLv3] \u001b[38;5;241m=\u001b[39m OpenSSL\u001b[38;5;241m.\u001b[39mSSL\u001b[38;5;241m.\u001b[39mSSLv3_METHOD\n",
      "\u001b[0;31mAttributeError\u001b[0m: module 'urllib3.util' has no attribute 'PROTOCOL_TLS'"
     ]
    }
   ],
   "source": [
    "import pandas as pd\n",
    "import geopandas as gpd\n",
    "import requests\n",
    "import matplotlib.pyplot as plt\n",
    "from zipfile import ZipFile\n",
    "import cartiflette\n",
    "from io import StringIO"
   ]
  },
  {
   "cell_type": "markdown",
   "metadata": {},
   "source": [
    "Paramétrage de l'API"
   ]
  },
  {
   "cell_type": "code",
   "execution_count": 3,
   "metadata": {},
   "outputs": [
    {
     "name": "stdout",
     "output_type": "stream",
     "text": [
      "https://apidf-preprod.cerema.fr/dvf_opendata/geomutations/?code_insee=78220\n"
     ]
    }
   ],
   "source": [
    "BASE_URL_API = \"https://apidf-preprod.cerema.fr\"\n",
    "#code_insee, nom =  \"59512\", \"Roubaix\" #\"75015\", \"Paris\"\n",
    "code_insee = \"78220\"\n",
    "url = BASE_URL_API + f\"/dvf_opendata/geomutations/?code_insee={code_insee}\"\n",
    "# %% \n",
    "print(url)"
   ]
  },
  {
   "cell_type": "code",
   "execution_count": 4,
   "metadata": {},
   "outputs": [
    {
     "name": "stdout",
     "output_type": "stream",
     "text": [
      "<class 'dict'>\n",
      "dict_keys(['type', 'count', 'next', 'previous', 'features'])\n"
     ]
    }
   ],
   "source": [
    "response = requests.get(url)#, params=params)\n",
    "# Vérification du succès de la requête\n",
    "if response.status_code == 200:\n",
    "    data = response.json()  # On récupère les données au format JSON\n",
    "else:\n",
    "    print(f\"Erreur : {response.status_code}\")\n",
    "# %%\n",
    "print(type(data))\n",
    "print(data.keys())"
   ]
  },
  {
   "cell_type": "markdown",
   "metadata": {},
   "source": [
    "Data est un dictionnaire ; on va transformer son entrée \"features\" en un dataframe python"
   ]
  },
  {
   "cell_type": "code",
   "execution_count": 5,
   "metadata": {},
   "outputs": [
    {
     "name": "stdout",
     "output_type": "stream",
     "text": [
      "[{'id': 10179531, 'type': 'Feature', 'geometry': {'type': 'MultiPolygon', 'coordinates': [[[[1.893641, 48.715958], [1.893816, 48.71591], [1.894018, 48.715854], [1.894154, 48.715816], [1.894197, 48.715913], [1.894273, 48.715899], [1.89426, 48.715866], [1.894305, 48.715859], [1.894319, 48.715893], [1.894332, 48.715927], [1.89444, 48.716185], [1.894394, 48.716192], [1.894373, 48.716195], [1.894321, 48.716185], [1.894316, 48.716173], [1.894243, 48.716191], [1.894173, 48.716207], [1.894142, 48.716163], [1.894127, 48.716142], [1.894044, 48.716167], [1.894041, 48.716167], [1.89401, 48.716165], [1.893942, 48.716163], [1.893809, 48.716157], [1.893722, 48.716153], [1.893641, 48.715958]]]]}, 'properties': {'idmutinvar': '02770392cd0518ff5cfedef603fbe5e8', 'idopendata': '02770392cd0518ff5cfedef603fbe5e8', 'datemut': '2024-01-08', 'anneemut': 2024, 'coddep': '78', 'libnatmut': 'Vente', 'vefa': False, 'valeurfonc': '280740.00', 'nbcomm': 1, 'l_codinsee': ['78220'], 'nbpar': 1, 'l_idpar': ['78220000AN0156'], 'nbparmut': 0, 'l_idparmut': None, 'sterr': '0.00', 'nbvolmut': 0, 'nblocmut': 3, 'l_idlocmut': ['782200015592988_0', '782200015592989_0', '782200015592990_0'], 'sbati': '90.00', 'codtypbien': '121', 'libtypbien': 'UN APPARTEMENT'}}, {'id': 10179925, 'type': 'Feature', 'geometry': {'type': 'MultiPolygon', 'coordinates': [[[[1.896573, 48.717153], [1.896658, 48.717145], [1.896721, 48.71717], [1.896778, 48.717185], [1.896802, 48.717189], [1.896829, 48.717312], [1.896829, 48.717313], [1.89683, 48.717315], [1.89683, 48.717317], [1.89683, 48.717319], [1.89683, 48.71732], [1.89683, 48.717322], [1.896829, 48.717324], [1.896829, 48.717326], [1.896828, 48.717328], [1.896828, 48.717329], [1.896827, 48.717331], [1.896826, 48.717333], [1.896825, 48.717334], [1.896823, 48.717336], [1.896822, 48.717338], [1.896821, 48.717339], [1.896819, 48.71734], [1.896817, 48.717342], [1.896815, 48.717343], [1.896813, 48.717345], [1.896812, 48.717346], [1.896831, 48.717428], [1.896825, 48.717428], [1.896813, 48.717426], [1.896802, 48.717423], [1.896792, 48.717419], [1.896782, 48.717414], [1.896773, 48.717409], [1.896766, 48.717402], [1.896759, 48.717396], [1.896754, 48.717389], [1.896751, 48.717381], [1.896749, 48.717375], [1.8966, 48.717389], [1.896587, 48.717334], [1.896267, 48.717365], [1.896228, 48.717187], [1.896255, 48.717184], [1.896373, 48.717172], [1.896573, 48.717153]]]]}, 'properties': {'idmutinvar': '0fd6a5a5302c8f571b609895e6b8d0b0', 'idopendata': '0fd6a5a5302c8f571b609895e6b8d0b0', 'datemut': '2024-01-23', 'anneemut': 2024, 'coddep': '78', 'libnatmut': 'Vente', 'vefa': False, 'valeurfonc': '120000.00', 'nbcomm': 1, 'l_codinsee': ['78220'], 'nbpar': 1, 'l_idpar': ['78220000AO0239'], 'nbparmut': 0, 'l_idparmut': None, 'sterr': '0.00', 'nbvolmut': 1, 'nblocmut': 0, 'l_idlocmut': None, 'sbati': '0.00', 'codtypbien': '102', 'libtypbien': 'BATI - INDETERMINE : Vente avec volume(s)'}}, {'id': 10179958, 'type': 'Feature', 'geometry': {'type': 'MultiPolygon', 'coordinates': [[[[1.902593, 48.721428], [1.902552, 48.721327], [1.902548, 48.721318], [1.902532, 48.721319], [1.902281, 48.721354], [1.902283, 48.721357], [1.90235, 48.721506], [1.902403, 48.721495], [1.90249, 48.721688], [1.90253, 48.721779], [1.902764, 48.721733], [1.902679, 48.721505], [1.902646, 48.721416], [1.902593, 48.721428]]]]}, 'properties': {'idmutinvar': '7c302dd087b66bc3ed16e217713986a4', 'idopendata': '7c302dd087b66bc3ed16e217713986a4', 'datemut': '2024-04-04', 'anneemut': 2024, 'coddep': '78', 'libnatmut': 'Vente', 'vefa': False, 'valeurfonc': '465000.00', 'nbcomm': 2, 'l_codinsee': ['78220', '78334'], 'nbpar': 2, 'l_idpar': ['78220000AP0121', '783340000B2313'], 'nbparmut': 2, 'l_idparmut': ['78220000AP0121', '783340000B2313'], 'sterr': '1014.00', 'nbvolmut': 0, 'nblocmut': 4, 'l_idlocmut': ['783340015600465_0', '783340015600466_0', '783340015600467_0', '783340015600468_0'], 'sbati': '326.00', 'codtypbien': '152', 'libtypbien': 'BATI MIXTE - LOGEMENT/ACTIVITE'}}, {'id': 10180369, 'type': 'Feature', 'geometry': {'type': 'MultiPolygon', 'coordinates': [[[[1.899208, 48.71781], [1.899602, 48.71772], [1.899872, 48.717658], [1.900128, 48.717598], [1.900168, 48.717494], [1.90023, 48.71733], [1.900268, 48.717227], [1.9004, 48.716896], [1.900442, 48.716796], [1.900483, 48.716695], [1.900548, 48.71653], [1.900638, 48.716302], [1.900673, 48.716278], [1.901142, 48.715958], [1.901514, 48.715703], [1.901868, 48.715891], [1.901982, 48.715934], [1.902223, 48.715992], [1.902876, 48.71623], [1.9034, 48.716484], [1.903897, 48.716677], [1.904168, 48.716764], [1.904121, 48.716785], [1.903756, 48.716947], [1.903532, 48.717047], [1.903367, 48.717121], [1.903309, 48.717146], [1.903273, 48.717162], [1.903134, 48.717225], [1.903056, 48.717259], [1.902793, 48.717376], [1.90257, 48.717476], [1.902543, 48.717488], [1.902179, 48.71765], [1.901934, 48.717759], [1.901871, 48.717787], [1.901463, 48.717966], [1.900872, 48.718225], [1.900775, 48.718271], [1.901166, 48.71877], [1.899875, 48.718499], [1.899429, 48.718028], [1.899208, 48.71781]]]]}, 'properties': {'idmutinvar': '5a54c5ecc046b898a465647c288a0729', 'idopendata': '5a54c5ecc046b898a465647c288a0729', 'datemut': '2024-02-15', 'anneemut': 2024, 'coddep': '78', 'libnatmut': 'Vente', 'vefa': False, 'valeurfonc': '90000.00', 'nbcomm': 1, 'l_codinsee': ['78220'], 'nbpar': 1, 'l_idpar': ['78220000AO0219'], 'nbparmut': 0, 'l_idparmut': None, 'sterr': '0.00', 'nbvolmut': 0, 'nblocmut': 3, 'l_idlocmut': ['782200015595267_0', '782200015595268_0', '782200015595269_0'], 'sbati': '34.00', 'codtypbien': '121', 'libtypbien': 'UN APPARTEMENT'}}, {'id': 10180454, 'type': 'Feature', 'geometry': {'type': 'MultiPolygon', 'coordinates': [[[[1.900126, 48.712675], [1.900158, 48.712673], [1.900519, 48.712632], [1.900578, 48.712661], [1.9006, 48.712815], [1.900624, 48.712873], [1.900646, 48.712893], [1.900205, 48.712952], [1.900126, 48.712675]]]]}, 'properties': {'idmutinvar': 'de094980803a4d6c80831ae8a99f1f14', 'idopendata': 'de094980803a4d6c80831ae8a99f1f14', 'datemut': '2024-06-28', 'anneemut': 2024, 'coddep': '78', 'libnatmut': 'Vente', 'vefa': False, 'valeurfonc': '498874.00', 'nbcomm': 1, 'l_codinsee': ['78220'], 'nbpar': 1, 'l_idpar': ['78220000AM0025'], 'nbparmut': 1, 'l_idparmut': ['78220000AM0025'], 'sterr': '983.00', 'nbvolmut': 0, 'nblocmut': 1, 'l_idlocmut': ['782200015606002_0'], 'sbati': '170.00', 'codtypbien': '111', 'libtypbien': 'UNE MAISON'}}, {'id': 10180478, 'type': 'Feature', 'geometry': {'type': 'MultiPolygon', 'coordinates': [[[[1.861344, 48.715991], [1.861369, 48.715992], [1.861423, 48.715994], [1.861207, 48.715567], [1.861153, 48.71557], [1.860829, 48.716024], [1.861206, 48.716141], [1.861344, 48.715991]]]]}, 'properties': {'idmutinvar': '8ea759435f6c37a42eb7bdbab90350b3', 'idopendata': '8ea759435f6c37a42eb7bdbab90350b3', 'datemut': '2024-05-14', 'anneemut': 2024, 'coddep': '78', 'libnatmut': 'Vente', 'vefa': False, 'valeurfonc': '344510.00', 'nbcomm': 1, 'l_codinsee': ['78220'], 'nbpar': 2, 'l_idpar': ['78220000AD0056', '78220000AD0057'], 'nbparmut': 2, 'l_idparmut': ['78220000AD0056', '78220000AD0057'], 'sterr': '1443.00', 'nbvolmut': 0, 'nblocmut': 1, 'l_idlocmut': ['782200015603603_0'], 'sbati': '93.00', 'codtypbien': '111', 'libtypbien': 'UNE MAISON'}}, {'id': 10180567, 'type': 'Feature', 'geometry': {'type': 'MultiPolygon', 'coordinates': [[[[1.855556, 48.715504], [1.855897, 48.71514], [1.856055, 48.715624], [1.855997, 48.715649], [1.855981, 48.715656], [1.855556, 48.715504]]]]}, 'properties': {'idmutinvar': 'ff643c78c60138b447678fc9b1f516ac', 'idopendata': 'ff643c78c60138b447678fc9b1f516ac', 'datemut': '2024-04-03', 'anneemut': 2024, 'coddep': '78', 'libnatmut': 'Vente', 'vefa': False, 'valeurfonc': '462000.00', 'nbcomm': 1, 'l_codinsee': ['78220'], 'nbpar': 1, 'l_idpar': ['78220000AB0095'], 'nbparmut': 1, 'l_idparmut': ['78220000AB0095'], 'sterr': '1016.00', 'nbvolmut': 0, 'nblocmut': 1, 'l_idlocmut': ['782200015599373_0'], 'sbati': '150.00', 'codtypbien': '111', 'libtypbien': 'UNE MAISON'}}, {'id': 10180655, 'type': 'Feature', 'geometry': {'type': 'MultiPolygon', 'coordinates': [[[[1.890484, 48.720296], [1.889914, 48.720645], [1.889616, 48.720437], [1.889666, 48.7204], [1.889656, 48.720394], [1.889692, 48.720367], [1.890018, 48.720126], [1.890027, 48.720122], [1.890041, 48.720116], [1.890056, 48.720112], [1.890075, 48.72011], [1.890097, 48.72011], [1.890118, 48.720115], [1.890137, 48.720124], [1.890484, 48.720296]]]]}, 'properties': {'idmutinvar': '3b30730799792f464ebe2a7177a6aeff', 'idopendata': '3b30730799792f464ebe2a7177a6aeff', 'datemut': '2024-06-29', 'anneemut': 2024, 'coddep': '78', 'libnatmut': 'Vente', 'vefa': False, 'valeurfonc': '180000.00', 'nbcomm': 1, 'l_codinsee': ['78220'], 'nbpar': 1, 'l_idpar': ['78220000AN0028'], 'nbparmut': 0, 'l_idparmut': None, 'sterr': '0.00', 'nbvolmut': 0, 'nblocmut': 7, 'l_idlocmut': ['782200015606435_0', '782200015606436_0', '782200015606437_0', '782200015606438_0', '782200015606439_0', '782200015606440_0', '782200015606441_0'], 'sbati': '145.00', 'codtypbien': '122', 'libtypbien': 'DEUX APPARTEMENTS'}}, {'id': 10181413, 'type': 'Feature', 'geometry': {'type': 'MultiPolygon', 'coordinates': [[[[1.862696, 48.719473], [1.862727, 48.719502], [1.862892, 48.719423], [1.862584, 48.719142], [1.862253, 48.718846], [1.862118, 48.718863], [1.862336, 48.719058], [1.862362, 48.719065], [1.862475, 48.719166], [1.862025, 48.719403], [1.862395, 48.719725], [1.862496, 48.719671], [1.862696, 48.719473]]]]}, 'properties': {'idmutinvar': '1f397e932e6fedecda9d0dc97bd694e5', 'idopendata': '1f397e932e6fedecda9d0dc97bd694e5', 'datemut': '2024-06-14', 'anneemut': 2024, 'coddep': '78', 'libnatmut': 'Vente', 'vefa': False, 'valeurfonc': '420000.00', 'nbcomm': 1, 'l_codinsee': ['78220'], 'nbpar': 2, 'l_idpar': ['78220000AC0015', '78220000AC0029'], 'nbparmut': 2, 'l_idparmut': ['78220000AC0015', '78220000AC0029'], 'sterr': '2442.00', 'nbvolmut': 0, 'nblocmut': 1, 'l_idlocmut': ['782200015605011_0'], 'sbati': '144.00', 'codtypbien': '111', 'libtypbien': 'UNE MAISON'}}, {'id': 10181529, 'type': 'Feature', 'geometry': {'type': 'MultiPolygon', 'coordinates': [[[[1.891862, 48.713131], [1.892072, 48.713095], [1.89215, 48.713284], [1.891944, 48.713346], [1.891915, 48.713354], [1.891874, 48.713362], [1.891808, 48.713368], [1.89173, 48.713153], [1.891862, 48.713131]]]]}, 'properties': {'idmutinvar': 'f22d23df996c1d8556d7b247534fd9a6', 'idopendata': 'f22d23df996c1d8556d7b247534fd9a6', 'datemut': '2024-01-31', 'anneemut': 2024, 'coddep': '78', 'libnatmut': 'Vente', 'vefa': False, 'valeurfonc': '420000.00', 'nbcomm': 1, 'l_codinsee': ['78220'], 'nbpar': 1, 'l_idpar': ['78220000AL0117'], 'nbparmut': 1, 'l_idparmut': ['78220000AL0117'], 'sterr': '622.00', 'nbvolmut': 0, 'nblocmut': 1, 'l_idlocmut': ['782200015595937_0'], 'sbati': '131.00', 'codtypbien': '111', 'libtypbien': 'UNE MAISON'}}, {'id': 10181534, 'type': 'Feature', 'geometry': {'type': 'MultiPolygon', 'coordinates': [[[[1.888684, 48.71553], [1.888581, 48.715585], [1.888489, 48.715615], [1.888439, 48.715563], [1.88835, 48.715282], [1.888509, 48.715264], [1.888621, 48.715251], [1.888621, 48.715252], [1.888627, 48.715322], [1.888639, 48.715468], [1.888665, 48.715503], [1.888684, 48.71553]]]]}, 'properties': {'idmutinvar': 'afb0967a21392073cd92b4fd4532558a', 'idopendata': 'afb0967a21392073cd92b4fd4532558a', 'datemut': '2024-03-27', 'anneemut': 2024, 'coddep': '78', 'libnatmut': 'Vente', 'vefa': False, 'valeurfonc': '228000.00', 'nbcomm': 1, 'l_codinsee': ['78220'], 'nbpar': 1, 'l_idpar': ['78220000AK0051'], 'nbparmut': 0, 'l_idparmut': None, 'sterr': '0.00', 'nbvolmut': 0, 'nblocmut': 2, 'l_idlocmut': ['782200015598742_0', '782200015598743_0'], 'sbati': '71.00', 'codtypbien': '121', 'libtypbien': 'UN APPARTEMENT'}}, {'id': 10182002, 'type': 'Feature', 'geometry': {'type': 'MultiPolygon', 'coordinates': [[[[1.88335, 48.714059], [1.883328, 48.714031], [1.883344, 48.713995], [1.883609, 48.713897], [1.883684, 48.713894], [1.883725, 48.713942], [1.883364, 48.714075], [1.88335, 48.714059]]]]}, 'properties': {'idmutinvar': '872f5e229b6bcd3afb5aa891175f6365', 'idopendata': '872f5e229b6bcd3afb5aa891175f6365', 'datemut': '2024-06-10', 'anneemut': 2024, 'coddep': '78', 'libnatmut': 'Vente', 'vefa': False, 'valeurfonc': '389300.00', 'nbcomm': 1, 'l_codinsee': ['78220'], 'nbpar': 1, 'l_idpar': ['78220000AK0237'], 'nbparmut': 1, 'l_idparmut': ['78220000AK0237'], 'sterr': '250.00', 'nbvolmut': 0, 'nblocmut': 1, 'l_idlocmut': ['782200015607169_0'], 'sbati': '112.00', 'codtypbien': '111', 'libtypbien': 'UNE MAISON'}}, {'id': 10182261, 'type': 'Feature', 'geometry': {'type': 'MultiPolygon', 'coordinates': [[[[1.890484, 48.720296], [1.889914, 48.720645], [1.889616, 48.720437], [1.889666, 48.7204], [1.889656, 48.720394], [1.889692, 48.720367], [1.890018, 48.720126], [1.890027, 48.720122], [1.890041, 48.720116], [1.890056, 48.720112], [1.890075, 48.72011], [1.890097, 48.72011], [1.890118, 48.720115], [1.890137, 48.720124], [1.890484, 48.720296]]]]}, 'properties': {'idmutinvar': 'a01a68e7db7b93e6ea015edca9dc3ce6', 'idopendata': 'a01a68e7db7b93e6ea015edca9dc3ce6', 'datemut': '2024-04-12', 'anneemut': 2024, 'coddep': '78', 'libnatmut': 'Vente', 'vefa': False, 'valeurfonc': '178000.00', 'nbcomm': 1, 'l_codinsee': ['78220'], 'nbpar': 1, 'l_idpar': ['78220000AN0028'], 'nbparmut': 0, 'l_idparmut': None, 'sterr': '0.00', 'nbvolmut': 0, 'nblocmut': 4, 'l_idlocmut': ['782200015600899_0', '782200015600900_0', '782200015600901_0', '782200015600902_0'], 'sbati': '64.00', 'codtypbien': '121', 'libtypbien': 'UN APPARTEMENT'}}, {'id': 10182456, 'type': 'Feature', 'geometry': {'type': 'MultiPolygon', 'coordinates': [[[[1.916432, 48.715543], [1.916027, 48.71568], [1.916399, 48.716207], [1.916486, 48.71633], [1.916681, 48.716472], [1.916716, 48.716626], [1.916753, 48.716615], [1.916799, 48.716603], [1.916833, 48.716596], [1.917011, 48.716558], [1.917083, 48.716544], [1.91711, 48.716538], [1.916856, 48.716164], [1.916807, 48.716091], [1.91671, 48.715948], [1.916542, 48.715703], [1.916432, 48.715543]]]]}, 'properties': {'idmutinvar': 'f0acdfd2042fecbbbcb617e74c514a19', 'idopendata': 'f0acdfd2042fecbbbcb617e74c514a19', 'datemut': '2024-02-07', 'anneemut': 2024, 'coddep': '78', 'libnatmut': 'Vente', 'vefa': False, 'valeurfonc': '450000.00', 'nbcomm': 1, 'l_codinsee': ['78220'], 'nbpar': 2, 'l_idpar': ['782200000E0345', '782200000E0400'], 'nbparmut': 2, 'l_idparmut': ['782200000E0345', '782200000E0400'], 'sterr': '3725.00', 'nbvolmut': 0, 'nblocmut': 3, 'l_idlocmut': ['782200015594866_0', '782200015594867_0', '782200015594868_0'], 'sbati': '208.00', 'codtypbien': '112', 'libtypbien': 'DES MAISONS'}}, {'id': 10182734, 'type': 'Feature', 'geometry': {'type': 'MultiPolygon', 'coordinates': [[[[1.858962, 48.716409], [1.859124, 48.716232], [1.85963, 48.716428], [1.859465, 48.716609], [1.859057, 48.716447], [1.858962, 48.716409]]]]}, 'properties': {'idmutinvar': 'd1ce7590cde5d23db6c6de73b254e56a', 'idopendata': 'd1ce7590cde5d23db6c6de73b254e56a', 'datemut': '2024-04-04', 'anneemut': 2024, 'coddep': '78', 'libnatmut': 'Vente', 'vefa': False, 'valeurfonc': '273220.00', 'nbcomm': 1, 'l_codinsee': ['78220'], 'nbpar': 1, 'l_idpar': ['78220000AB0044'], 'nbparmut': 1, 'l_idparmut': ['78220000AB0044'], 'sterr': '1000.00', 'nbvolmut': 0, 'nblocmut': 1, 'l_idlocmut': ['782200015599493_0'], 'sbati': '109.00', 'codtypbien': '111', 'libtypbien': 'UNE MAISON'}}, {'id': 10182813, 'type': 'Feature', 'geometry': {'type': 'MultiPolygon', 'coordinates': [[[[1.888439, 48.715563], [1.887915, 48.715632], [1.887712, 48.715348], [1.888325, 48.715285], [1.88835, 48.715282], [1.888439, 48.715563]]]]}, 'properties': {'idmutinvar': 'e025bb69af748489f4d41e209ef3306c', 'idopendata': 'e025bb69af748489f4d41e209ef3306c', 'datemut': '2024-02-27', 'anneemut': 2024, 'coddep': '78', 'libnatmut': 'Vente', 'vefa': False, 'valeurfonc': '204000.00', 'nbcomm': 1, 'l_codinsee': ['78220'], 'nbpar': 1, 'l_idpar': ['78220000AK0203'], 'nbparmut': 0, 'l_idparmut': None, 'sterr': '0.00', 'nbvolmut': 0, 'nblocmut': 1, 'l_idlocmut': ['782200015597591_0'], 'sbati': '49.00', 'codtypbien': '121', 'libtypbien': 'UN APPARTEMENT'}}, {'id': 10182852, 'type': 'Feature', 'geometry': {'type': 'MultiPolygon', 'coordinates': [[[[1.852664, 48.717513], [1.852717, 48.717495], [1.852558, 48.717282], [1.852136, 48.716722], [1.851842, 48.716327], [1.851436, 48.715783], [1.8514, 48.715818], [1.851329, 48.715814], [1.849048, 48.718448], [1.851869, 48.7185], [1.851882, 48.718053], [1.852075, 48.717828], [1.852317, 48.717557], [1.852357, 48.717543], [1.852547, 48.71756], [1.852664, 48.717513]]]]}, 'properties': {'idmutinvar': 'eaf59bc1c5a5a02a89f372ee95433e15', 'idopendata': 'eaf59bc1c5a5a02a89f372ee95433e15', 'datemut': '2024-06-21', 'anneemut': 2024, 'coddep': '78', 'libnatmut': 'Vente', 'vefa': False, 'valeurfonc': '630000.00', 'nbcomm': 1, 'l_codinsee': ['78220'], 'nbpar': 3, 'l_idpar': ['78220000AB0001', '78220000AB0002', '78220000AB0107'], 'nbparmut': 3, 'l_idparmut': ['78220000AB0001', '78220000AB0002', '78220000AB0107'], 'sterr': '41235.00', 'nbvolmut': 0, 'nblocmut': 1, 'l_idlocmut': ['782200015605622_0'], 'sbati': '234.00', 'codtypbien': '111', 'libtypbien': 'UNE MAISON'}}, {'id': 10182870, 'type': 'Feature', 'geometry': {'type': 'MultiPolygon', 'coordinates': [[[[1.903177, 48.727441], [1.903008, 48.727208], [1.903232, 48.727173], [1.903334, 48.727158], [1.903622, 48.727556], [1.903387, 48.72763], [1.903475, 48.72775], [1.903529, 48.727823], [1.90357, 48.72788], [1.903672, 48.727932], [1.903536, 48.727939], [1.903347, 48.727677], [1.903177, 48.727441]]]]}, 'properties': {'idmutinvar': '88fa7301948f364af9a8b482ea10d7a4', 'idopendata': '88fa7301948f364af9a8b482ea10d7a4', 'datemut': '2024-03-15', 'anneemut': 2024, 'coddep': '78', 'libnatmut': 'Vente', 'vefa': False, 'valeurfonc': '410000.00', 'nbcomm': 1, 'l_codinsee': ['78220'], 'nbpar': 1, 'l_idpar': ['78220000AV0046'], 'nbparmut': 0, 'l_idparmut': None, 'sterr': '0.00', 'nbvolmut': 0, 'nblocmut': 1, 'l_idlocmut': ['782200015597734_0'], 'sbati': '90.00', 'codtypbien': '111', 'libtypbien': 'UNE MAISON'}}, {'id': 10182958, 'type': 'Feature', 'geometry': {'type': 'MultiPolygon', 'coordinates': [[[[1.899275, 48.724542], [1.899211, 48.724456], [1.899271, 48.724436], [1.899252, 48.72441], [1.899341, 48.72438], [1.899328, 48.724363], [1.899355, 48.724354], [1.899525, 48.724298], [1.899555, 48.724337], [1.899616, 48.724317], [1.899689, 48.724415], [1.899275, 48.724542]]]]}, 'properties': {'idmutinvar': 'd241fdd2a7cabe042887e34fc8fcea19', 'idopendata': 'd241fdd2a7cabe042887e34fc8fcea19', 'datemut': '2024-01-31', 'anneemut': 2024, 'coddep': '78', 'libnatmut': 'Vente', 'vefa': False, 'valeurfonc': '215000.00', 'nbcomm': 1, 'l_codinsee': ['78220'], 'nbpar': 1, 'l_idpar': ['78220000AV0235'], 'nbparmut': 0, 'l_idparmut': None, 'sterr': '0.00', 'nbvolmut': 0, 'nblocmut': 3, 'l_idlocmut': ['782200015594371_0', '782200015594372_0', '782200015594373_0'], 'sbati': '64.00', 'codtypbien': '121', 'libtypbien': 'UN APPARTEMENT'}}, {'id': 10183174, 'type': 'Feature', 'geometry': {'type': 'MultiPolygon', 'coordinates': [[[[1.897902, 48.715817], [1.897867, 48.715654], [1.898161, 48.715625], [1.898203, 48.715786], [1.897902, 48.715817]]]]}, 'properties': {'idmutinvar': '1c22aa54b9955fcf5e28c3f687f10b13', 'idopendata': '1c22aa54b9955fcf5e28c3f687f10b13', 'datemut': '2024-05-22', 'anneemut': 2024, 'coddep': '78', 'libnatmut': 'Vente', 'vefa': False, 'valeurfonc': '344350.00', 'nbcomm': 1, 'l_codinsee': ['78220'], 'nbpar': 1, 'l_idpar': ['78220000AO0120'], 'nbparmut': 1, 'l_idparmut': ['78220000AO0120'], 'sterr': '405.00', 'nbvolmut': 0, 'nblocmut': 1, 'l_idlocmut': ['782200015603068_0'], 'sbati': '104.00', 'codtypbien': '111', 'libtypbien': 'UNE MAISON'}}, {'id': 10183322, 'type': 'Feature', 'geometry': {'type': 'MultiPolygon', 'coordinates': [[[[1.858799, 48.716719], [1.858604, 48.716935], [1.858183, 48.716762], [1.85838, 48.716544], [1.858799, 48.716719]]]]}, 'properties': {'idmutinvar': '70faede9d5bd33b16254e8355b460c13', 'idopendata': '70faede9d5bd33b16254e8355b460c13', 'datemut': '2024-03-29', 'anneemut': 2024, 'coddep': '78', 'libnatmut': 'Vente', 'vefa': False, 'valeurfonc': '425121.00', 'nbcomm': 1, 'l_codinsee': ['78220'], 'nbpar': 1, 'l_idpar': ['78220000AB0042'], 'nbparmut': 1, 'l_idparmut': ['78220000AB0042'], 'sterr': '1022.00', 'nbvolmut': 0, 'nblocmut': 1, 'l_idlocmut': ['782200015599366_0'], 'sbati': '125.00', 'codtypbien': '111', 'libtypbien': 'UNE MAISON'}}, {'id': 10183764, 'type': 'Feature', 'geometry': {'type': 'MultiPolygon', 'coordinates': [[[[1.898278, 48.717913], [1.898294, 48.717978], [1.898324, 48.718108], [1.898343, 48.718187], [1.898354, 48.718236], [1.898423, 48.718242], [1.898363, 48.717971], [1.898345, 48.717904], [1.898278, 48.717913]]], [[[1.899172, 48.715201], [1.899353, 48.715221], [1.899387, 48.715224], [1.899479, 48.715222], [1.899661, 48.715245], [1.899662, 48.715228], [1.899664, 48.715038], [1.899577, 48.715029], [1.899311, 48.71504], [1.898965, 48.715062], [1.899018, 48.715066], [1.899039, 48.715075], [1.899056, 48.715088], [1.89907, 48.715103], [1.899077, 48.71512], [1.899079, 48.715138], [1.89906, 48.715213], [1.899049, 48.71525], [1.899024, 48.71533], [1.899002, 48.715383], [1.898979, 48.715433], [1.89891, 48.715586], [1.898831, 48.715762], [1.898765, 48.715909], [1.898712, 48.71603], [1.898646, 48.716176], [1.898639, 48.716206], [1.898637, 48.716231], [1.898638, 48.71625], [1.89865, 48.716321], [1.898676, 48.716481], [1.89869, 48.716537], [1.898705, 48.716582], [1.89878, 48.716703], [1.89889, 48.716862], [1.898926, 48.716914], [1.898846, 48.717097], [1.898785, 48.717244], [1.898818, 48.71725], [1.898851, 48.717256], [1.898872, 48.717211], [1.898938, 48.717058], [1.898991, 48.716942], [1.899008, 48.716924], [1.899256, 48.71697], [1.899467, 48.717008], [1.899495, 48.717018], [1.899511, 48.71704], [1.899507, 48.717064], [1.899459, 48.717172], [1.899403, 48.717299], [1.899334, 48.717458], [1.899322, 48.717482], [1.8993, 48.717509], [1.89913, 48.717634], [1.898937, 48.717771], [1.898915, 48.717782], [1.898891, 48.717792], [1.898866, 48.717799], [1.898844, 48.717799], [1.898816, 48.717796], [1.89877, 48.717785], [1.898742, 48.717765], [1.898666, 48.717702], [1.898549, 48.717603], [1.898404, 48.717482], [1.898382, 48.717463], [1.898362, 48.717443], [1.898323, 48.717299], [1.898254, 48.717298], [1.898283, 48.717414], [1.898348, 48.71747], [1.898313, 48.71747], [1.898261, 48.717426], [1.898231, 48.717316], [1.898136, 48.717315], [1.898154, 48.717371], [1.898144, 48.717372], [1.898161, 48.717426], [1.898239, 48.717455], [1.898276, 48.717487], [1.898457, 48.71764], [1.898611, 48.71777], [1.898761, 48.717897], [1.898781, 48.717924], [1.898606, 48.717944], [1.898679, 48.718244], [1.898685, 48.718266], [1.89901, 48.718312], [1.899004, 48.718287], [1.898958, 48.718092], [1.898914, 48.717913], [1.899051, 48.717897], [1.899233, 48.717875], [1.899185, 48.717827], [1.899142, 48.717803], [1.899052, 48.717755], [1.898965, 48.717818], [1.898908, 48.717838], [1.898868, 48.717846], [1.898814, 48.717848], [1.898768, 48.717835], [1.898716, 48.717811], [1.898512, 48.717639], [1.898335, 48.717488], [1.89837, 48.717488], [1.898737, 48.717801], [1.898783, 48.717822], [1.898824, 48.717833], [1.898866, 48.717829], [1.8989, 48.717822], [1.898953, 48.717803], [1.899033, 48.717744], [1.899062, 48.717722], [1.899111, 48.717751], [1.899231, 48.717665], [1.899359, 48.717572], [1.899389, 48.717546], [1.89941, 48.717523], [1.89943, 48.717489], [1.899442, 48.71746], [1.899515, 48.717296], [1.89969, 48.717331], [1.900168, 48.717494], [1.90023, 48.71733], [1.900268, 48.717227], [1.900095, 48.717087], [1.899786, 48.717102], [1.89977, 48.717096], [1.899803, 48.717045], [1.899757, 48.716997], [1.899948, 48.716911], [1.900044, 48.716866], [1.900094, 48.716835], [1.900137, 48.7168], [1.900159, 48.716778], [1.900176, 48.716743], [1.900218, 48.716643], [1.900228, 48.716615], [1.900242, 48.716575], [1.900247, 48.716537], [1.900248, 48.716507], [1.900244, 48.71647], [1.900228, 48.716428], [1.900204, 48.716387], [1.900178, 48.71635], [1.900076, 48.716206], [1.899955, 48.716034], [1.899937, 48.716001], [1.899933, 48.715984], [1.89993, 48.715971], [1.899933, 48.715923], [1.899952, 48.71587], [1.899984, 48.715826], [1.900096, 48.715681], [1.900104, 48.71567], [1.900119, 48.715659], [1.900187, 48.715626], [1.900249, 48.71559], [1.900274, 48.715571], [1.900292, 48.715545], [1.900327, 48.715426], [1.900327, 48.715393], [1.900314, 48.715369], [1.900293, 48.715349], [1.900268, 48.715332], [1.900241, 48.715315], [1.900198, 48.715293], [1.90018, 48.715281], [1.900177, 48.715256], [1.900168, 48.715181], [1.900184, 48.715154], [1.900213, 48.715131], [1.900251, 48.715115], [1.900309, 48.715106], [1.899965, 48.715071], [1.900016, 48.715086], [1.900047, 48.715125], [1.900053, 48.715143], [1.900062, 48.715226], [1.900067, 48.715283], [1.900079, 48.715383], [1.900071, 48.715418], [1.90006, 48.715456], [1.900005, 48.715599], [1.899974, 48.715668], [1.899903, 48.715768], [1.899856, 48.715833], [1.899837, 48.715867], [1.899826, 48.715905], [1.899818, 48.715945], [1.899818, 48.715976], [1.899824, 48.716002], [1.899838, 48.716036], [1.899849, 48.716053], [1.89986, 48.716069], [1.899881, 48.716101], [1.899935, 48.716177], [1.900023, 48.716301], [1.900034, 48.716319], [1.900114, 48.716432], [1.900125, 48.716458], [1.900133, 48.716479], [1.900139, 48.716503], [1.900141, 48.716521], [1.900141, 48.716539], [1.900135, 48.71657], [1.900117, 48.716623], [1.90008, 48.716715], [1.900059, 48.716743], [1.900042, 48.716763], [1.900014, 48.716787], [1.899979, 48.716808], [1.899852, 48.716867], [1.899765, 48.716908], [1.899759, 48.716911], [1.899719, 48.716924], [1.899693, 48.716932], [1.899667, 48.716937], [1.899635, 48.716943], [1.8996, 48.716946], [1.899565, 48.716941], [1.899326, 48.716897], [1.899296, 48.716889], [1.899282, 48.716873], [1.899286, 48.716856], [1.899342, 48.716732], [1.899416, 48.71657], [1.899429, 48.716541], [1.899445, 48.716527], [1.899495, 48.71651], [1.899542, 48.716487], [1.899564, 48.716466], [1.899599, 48.716389], [1.899453, 48.716361], [1.899236, 48.716319], [1.899122, 48.716248], [1.899186, 48.716106], [1.899219, 48.716037], [1.899077, 48.716009], [1.898908, 48.715979], [1.898878, 48.715967], [1.898875, 48.715965], [1.89886, 48.715947], [1.898977, 48.715687], [1.899052, 48.715523], [1.899132, 48.715343], [1.899142, 48.715316], [1.899172, 48.715201]], [[1.898956, 48.716663], [1.898898, 48.71658], [1.898827, 48.7166], [1.898806, 48.716557], [1.898786, 48.716499], [1.898781, 48.716479], [1.898773, 48.716419], [1.89875, 48.716276], [1.898745, 48.716236], [1.89875, 48.716197], [1.898759, 48.716172], [1.898824, 48.71603], [1.898856, 48.716021], [1.898889, 48.716023], [1.899044, 48.716053], [1.899023, 48.716101], [1.899135, 48.716122], [1.899092, 48.716253], [1.899228, 48.716336], [1.899314, 48.716353], [1.899394, 48.716369], [1.899325, 48.716521], [1.899245, 48.716699], [1.899184, 48.716832], [1.899153, 48.716856], [1.899116, 48.71686], [1.899082, 48.716856], [1.899076, 48.716855], [1.899049, 48.71685], [1.899015, 48.716839], [1.89899, 48.716824], [1.89897, 48.716805], [1.898901, 48.716702], [1.898968, 48.716681], [1.898956, 48.716663]]]]}, 'properties': {'idmutinvar': 'be64b46e7ace2aa7bee0e68dc961e656', 'idopendata': 'be64b46e7ace2aa7bee0e68dc961e656', 'datemut': '2024-03-27', 'anneemut': 2024, 'coddep': '78', 'libnatmut': 'Vente', 'vefa': False, 'valeurfonc': '428900.00', 'nbcomm': 1, 'l_codinsee': ['78220'], 'nbpar': 9, 'l_idpar': ['78220000AO0160', '78220000AO0191', '78220000AO0199', '78220000AO0200', '78220000AO0220', '78220000AO0221', '78220000AO0222', '78220000AO0223', '78220000AO0234'], 'nbparmut': 9, 'l_idparmut': ['78220000AO0160', '78220000AO0191', '78220000AO0199', '78220000AO0200', '78220000AO0220', '78220000AO0221', '78220000AO0222', '78220000AO0223', '78220000AO0234'], 'sterr': '10903.00', 'nbvolmut': 0, 'nblocmut': 1, 'l_idlocmut': ['782200015598461_0'], 'sbati': '175.00', 'codtypbien': '111', 'libtypbien': 'UNE MAISON'}}, {'id': 10184085, 'type': 'Feature', 'geometry': {'type': 'MultiPolygon', 'coordinates': [[[[1.906755, 48.721078], [1.906777, 48.721076], [1.90675, 48.720902], [1.906404, 48.72094], [1.906423, 48.721062], [1.906387, 48.721065], [1.906395, 48.721098], [1.906424, 48.721203], [1.906519, 48.721564], [1.906524, 48.721595], [1.906683, 48.721596], [1.906888, 48.721598], [1.9069, 48.721597], [1.906895, 48.721564], [1.906755, 48.721078]]]]}, 'properties': {'idmutinvar': '163d24c1ed67303fbd9e9898b2781d05', 'idopendata': '163d24c1ed67303fbd9e9898b2781d05', 'datemut': '2024-05-24', 'anneemut': 2024, 'coddep': '78', 'libnatmut': 'Vente', 'vefa': False, 'valeurfonc': '371000.00', 'nbcomm': 2, 'l_codinsee': ['78220', '78334'], 'nbpar': 2, 'l_idpar': ['78220000AP0106', '783340000B2527'], 'nbparmut': 2, 'l_idparmut': ['78220000AP0106', '783340000B2527'], 'sterr': '2140.00', 'nbvolmut': 0, 'nblocmut': 1, 'l_idlocmut': ['783340015603044_0'], 'sbati': '88.00', 'codtypbien': '111', 'libtypbien': 'UNE MAISON'}}, {'id': 10184520, 'type': 'Feature', 'geometry': None, 'properties': {'idmutinvar': 'd786bff22ea82040a6808ce036ef5f22', 'idopendata': 'd786bff22ea82040a6808ce036ef5f22', 'datemut': '2024-04-24', 'anneemut': 2024, 'coddep': '78', 'libnatmut': 'Vente', 'vefa': False, 'valeurfonc': '1200.00', 'nbcomm': 1, 'l_codinsee': ['78220'], 'nbpar': 1, 'l_idpar': ['782200000E0554'], 'nbparmut': 1, 'l_idparmut': ['782200000E0554'], 'sterr': '1081.00', 'nbvolmut': 0, 'nblocmut': 0, 'l_idlocmut': None, 'sbati': '0.00', 'codtypbien': '2313', 'libtypbien': 'TERRAIN DE TYPE TERRE ET PRE'}}, {'id': 10184935, 'type': 'Feature', 'geometry': {'type': 'MultiPolygon', 'coordinates': [[[[1.873172, 48.718131], [1.873821, 48.717631], [1.87402, 48.717481], [1.874596, 48.718048], [1.873803, 48.718676], [1.873258, 48.719113], [1.872736, 48.718468], [1.873172, 48.718131]]], [[[1.86909, 48.720657], [1.870306, 48.720333], [1.870493, 48.720281], [1.870562, 48.720312], [1.870981, 48.720494], [1.871019, 48.720513], [1.87033, 48.720682], [1.869331, 48.720926], [1.869263, 48.72085], [1.86909, 48.720657]]], [[[1.874817, 48.725382], [1.874427, 48.725012], [1.873942, 48.724557], [1.873364, 48.724011], [1.873934, 48.723745], [1.874871, 48.723302], [1.875368, 48.723067], [1.875555, 48.723238], [1.876294, 48.72389], [1.876821, 48.724362], [1.87672, 48.724416], [1.876275, 48.724648], [1.876016, 48.724782], [1.875636, 48.724973], [1.875067, 48.725253], [1.874853, 48.725363], [1.874817, 48.725382]]], [[[1.875745, 48.727772], [1.875781, 48.728009], [1.875999, 48.728013], [1.876435, 48.728033], [1.876686, 48.728042], [1.877071, 48.728065], [1.877581, 48.728097], [1.877093, 48.728409], [1.876928, 48.728511], [1.876593, 48.728616], [1.875922, 48.728827], [1.875459, 48.728974], [1.875101, 48.728586], [1.874428, 48.727867], [1.875188, 48.727683], [1.875488, 48.727613], [1.875745, 48.727772]]]]}, 'properties': {'idmutinvar': 'aeac94034d59fb2c323d9ad182b23fe4', 'idopendata': 'aeac94034d59fb2c323d9ad182b23fe4', 'datemut': '2024-01-30', 'anneemut': 2024, 'coddep': '78', 'libnatmut': 'Vente', 'vefa': False, 'valeurfonc': '80000.00', 'nbcomm': 1, 'l_codinsee': ['78220'], 'nbpar': 4, 'l_idpar': ['782200000A0044', '782200000B0023', '782200000B0031', '782200000B0069'], 'nbparmut': 4, 'l_idparmut': ['782200000A0044', '782200000B0023', '782200000B0031', '782200000B0069'], 'sterr': '65285.00', 'nbvolmut': 0, 'nblocmut': 0, 'l_idlocmut': None, 'sbati': '0.00', 'codtypbien': '232', 'libtypbien': 'TERRAIN FORESTIER'}}, {'id': 10185199, 'type': 'Feature', 'geometry': {'type': 'MultiPolygon', 'coordinates': [[[[1.890484, 48.720296], [1.889914, 48.720645], [1.889616, 48.720437], [1.889666, 48.7204], [1.889656, 48.720394], [1.889692, 48.720367], [1.890018, 48.720126], [1.890027, 48.720122], [1.890041, 48.720116], [1.890056, 48.720112], [1.890075, 48.72011], [1.890097, 48.72011], [1.890118, 48.720115], [1.890137, 48.720124], [1.890484, 48.720296]]]]}, 'properties': {'idmutinvar': 'd238afc090eba35ade8a341c058004d1', 'idopendata': 'd238afc090eba35ade8a341c058004d1', 'datemut': '2024-02-28', 'anneemut': 2024, 'coddep': '78', 'libnatmut': 'Vente', 'vefa': False, 'valeurfonc': '193000.00', 'nbcomm': 1, 'l_codinsee': ['78220'], 'nbpar': 1, 'l_idpar': ['78220000AN0028'], 'nbparmut': 0, 'l_idparmut': None, 'sterr': '0.00', 'nbvolmut': 0, 'nblocmut': 4, 'l_idlocmut': ['782200015596232_0', '782200015596233_0', '782200015596234_0', '782200015596235_0'], 'sbati': '81.00', 'codtypbien': '121', 'libtypbien': 'UN APPARTEMENT'}}, {'id': 10185312, 'type': 'Feature', 'geometry': {'type': 'MultiPolygon', 'coordinates': [[[[1.895008, 48.718677], [1.894854, 48.718605], [1.894994, 48.718555], [1.895086, 48.718524], [1.895133, 48.718509], [1.895176, 48.718496], [1.895208, 48.718534], [1.895261, 48.718599], [1.895256, 48.718601], [1.895085, 48.718654], [1.895071, 48.718658], [1.895012, 48.718676], [1.895008, 48.718677]]]]}, 'properties': {'idmutinvar': 'a13917aa4414ebe81853488eb37f5350', 'idopendata': 'a13917aa4414ebe81853488eb37f5350', 'datemut': '2024-01-18', 'anneemut': 2024, 'coddep': '78', 'libnatmut': 'Vente', 'vefa': False, 'valeurfonc': '120000.00', 'nbcomm': 1, 'l_codinsee': ['78220'], 'nbpar': 1, 'l_idpar': ['78220000AR0188'], 'nbparmut': 1, 'l_idparmut': ['78220000AR0188'], 'sterr': '302.00', 'nbvolmut': 0, 'nblocmut': 0, 'l_idlocmut': None, 'sbati': '0.00', 'codtypbien': '229', 'libtypbien': 'TERRAIN ARTIFICIALISE MIXTE'}}, {'id': 10185389, 'type': 'Feature', 'geometry': {'type': 'MultiPolygon', 'coordinates': [[[[1.888439, 48.715563], [1.887915, 48.715632], [1.887712, 48.715348], [1.888325, 48.715285], [1.88835, 48.715282], [1.888439, 48.715563]]]]}, 'properties': {'idmutinvar': '5d81ac9151f22c9f312043571aac709e', 'idopendata': '5d81ac9151f22c9f312043571aac709e', 'datemut': '2024-05-23', 'anneemut': 2024, 'coddep': '78', 'libnatmut': 'Vente', 'vefa': False, 'valeurfonc': '125710.00', 'nbcomm': 1, 'l_codinsee': ['78220'], 'nbpar': 1, 'l_idpar': ['78220000AK0203'], 'nbparmut': 0, 'l_idparmut': None, 'sterr': '0.00', 'nbvolmut': 0, 'nblocmut': 2, 'l_idlocmut': ['782200015602786_0', '782200015602787_0'], 'sbati': '33.00', 'codtypbien': '121', 'libtypbien': 'UN APPARTEMENT'}}, {'id': 10185488, 'type': 'Feature', 'geometry': {'type': 'MultiPolygon', 'coordinates': [[[[1.899208, 48.71781], [1.899602, 48.71772], [1.899872, 48.717658], [1.900128, 48.717598], [1.900168, 48.717494], [1.90023, 48.71733], [1.900268, 48.717227], [1.9004, 48.716896], [1.900442, 48.716796], [1.900483, 48.716695], [1.900548, 48.71653], [1.900638, 48.716302], [1.900673, 48.716278], [1.901142, 48.715958], [1.901514, 48.715703], [1.901868, 48.715891], [1.901982, 48.715934], [1.902223, 48.715992], [1.902876, 48.71623], [1.9034, 48.716484], [1.903897, 48.716677], [1.904168, 48.716764], [1.904121, 48.716785], [1.903756, 48.716947], [1.903532, 48.717047], [1.903367, 48.717121], [1.903309, 48.717146], [1.903273, 48.717162], [1.903134, 48.717225], [1.903056, 48.717259], [1.902793, 48.717376], [1.90257, 48.717476], [1.902543, 48.717488], [1.902179, 48.71765], [1.901934, 48.717759], [1.901871, 48.717787], [1.901463, 48.717966], [1.900872, 48.718225], [1.900775, 48.718271], [1.901166, 48.71877], [1.899875, 48.718499], [1.899429, 48.718028], [1.899208, 48.71781]]]]}, 'properties': {'idmutinvar': '3d532ded60032cdaecd35c9c74a8677d', 'idopendata': '3d532ded60032cdaecd35c9c74a8677d', 'datemut': '2024-06-28', 'anneemut': 2024, 'coddep': '78', 'libnatmut': 'Vente', 'vefa': False, 'valeurfonc': '106000.00', 'nbcomm': 1, 'l_codinsee': ['78220'], 'nbpar': 1, 'l_idpar': ['78220000AO0219'], 'nbparmut': 0, 'l_idparmut': None, 'sterr': '0.00', 'nbvolmut': 0, 'nblocmut': 3, 'l_idlocmut': ['782200015607478_0', '782200015607479_0', '782200015607480_0'], 'sbati': '27.00', 'codtypbien': '121', 'libtypbien': 'UN APPARTEMENT'}}, {'id': 10185512, 'type': 'Feature', 'geometry': {'type': 'MultiPolygon', 'coordinates': [[[[1.899208, 48.71781], [1.899602, 48.71772], [1.899872, 48.717658], [1.900128, 48.717598], [1.900168, 48.717494], [1.90023, 48.71733], [1.900268, 48.717227], [1.9004, 48.716896], [1.900442, 48.716796], [1.900483, 48.716695], [1.900548, 48.71653], [1.900638, 48.716302], [1.900673, 48.716278], [1.901142, 48.715958], [1.901514, 48.715703], [1.901868, 48.715891], [1.901982, 48.715934], [1.902223, 48.715992], [1.902876, 48.71623], [1.9034, 48.716484], [1.903897, 48.716677], [1.904168, 48.716764], [1.904121, 48.716785], [1.903756, 48.716947], [1.903532, 48.717047], [1.903367, 48.717121], [1.903309, 48.717146], [1.903273, 48.717162], [1.903134, 48.717225], [1.903056, 48.717259], [1.902793, 48.717376], [1.90257, 48.717476], [1.902543, 48.717488], [1.902179, 48.71765], [1.901934, 48.717759], [1.901871, 48.717787], [1.901463, 48.717966], [1.900872, 48.718225], [1.900775, 48.718271], [1.901166, 48.71877], [1.899875, 48.718499], [1.899429, 48.718028], [1.899208, 48.71781]]]]}, 'properties': {'idmutinvar': '95e9ffe0a5947cb5bc5d1f5f1094617f', 'idopendata': '95e9ffe0a5947cb5bc5d1f5f1094617f', 'datemut': '2024-04-22', 'anneemut': 2024, 'coddep': '78', 'libnatmut': 'Vente', 'vefa': False, 'valeurfonc': '273000.00', 'nbcomm': 1, 'l_codinsee': ['78220'], 'nbpar': 1, 'l_idpar': ['78220000AO0219'], 'nbparmut': 0, 'l_idparmut': None, 'sterr': '0.00', 'nbvolmut': 0, 'nblocmut': 3, 'l_idlocmut': ['782200015600656_0', '782200015600657_0', '782200015600658_0'], 'sbati': '101.00', 'codtypbien': '121', 'libtypbien': 'UN APPARTEMENT'}}, {'id': 10185686, 'type': 'Feature', 'geometry': {'type': 'MultiPolygon', 'coordinates': [[[[1.890441, 48.721597], [1.890468, 48.72158], [1.890514, 48.721551], [1.89052, 48.721547], [1.890671, 48.72165], [1.890538, 48.721664], [1.890498, 48.721636], [1.890441, 48.721597]]]]}, 'properties': {'idmutinvar': '1f6f110fa81b6d20f49441dab6b53277', 'idopendata': '1f6f110fa81b6d20f49441dab6b53277', 'datemut': '2024-01-16', 'anneemut': 2024, 'coddep': '78', 'libnatmut': 'Vente', 'vefa': False, 'valeurfonc': '179500.00', 'nbcomm': 1, 'l_codinsee': ['78220'], 'nbpar': 1, 'l_idpar': ['78220000AN0229'], 'nbparmut': 0, 'l_idparmut': None, 'sterr': '0.00', 'nbvolmut': 0, 'nblocmut': 2, 'l_idlocmut': ['782200015593744_0', '782200015593745_0'], 'sbati': '39.00', 'codtypbien': '121', 'libtypbien': 'UN APPARTEMENT'}}, {'id': 10185761, 'type': 'Feature', 'geometry': {'type': 'MultiPolygon', 'coordinates': [[[[1.896817, 48.719695], [1.896807, 48.719652], [1.896797, 48.71961], [1.896785, 48.719566], [1.896775, 48.719522], [1.896764, 48.719477], [1.896754, 48.719433], [1.896743, 48.719387], [1.896726, 48.719314], [1.896693, 48.719183], [1.89668, 48.719139], [1.896668, 48.719094], [1.896656, 48.719052], [1.896645, 48.719007], [1.896598, 48.718827], [1.896559, 48.718704], [1.896706, 48.71865], [1.89678, 48.718623], [1.896855, 48.718596], [1.89693, 48.718569], [1.897005, 48.718541], [1.897066, 48.718519], [1.897112, 48.718523], [1.897149, 48.718528], [1.897187, 48.718537], [1.897231, 48.718549], [1.897269, 48.718564], [1.897323, 48.718594], [1.897346, 48.718611], [1.897378, 48.718638], [1.897398, 48.71866], [1.897409, 48.718681], [1.897423, 48.718716], [1.897427, 48.718737], [1.897425, 48.718758], [1.897412, 48.718819], [1.897392, 48.71888], [1.897383, 48.718899], [1.897366, 48.718917], [1.89734, 48.718928], [1.897271, 48.718948], [1.89715, 48.718982], [1.897136, 48.718977], [1.897119, 48.71895], [1.89709, 48.718907], [1.897081, 48.718891], [1.897001, 48.718914], [1.896912, 48.718939], [1.89689, 48.718906], [1.896882, 48.718894], [1.896841, 48.718906], [1.896866, 48.718945], [1.896892, 48.718984], [1.896917, 48.719023], [1.896942, 48.719063], [1.896968, 48.719104], [1.896995, 48.719144], [1.897038, 48.719132], [1.897029, 48.719118], [1.897006, 48.719083], [1.897095, 48.719057], [1.897367, 48.718978], [1.897348, 48.719018], [1.897339, 48.719057], [1.897328, 48.71911], [1.897325, 48.719144], [1.897326, 48.719185], [1.897334, 48.719218], [1.897348, 48.719263], [1.897368, 48.719304], [1.897396, 48.719347], [1.897426, 48.719383], [1.897462, 48.719419], [1.897503, 48.719454], [1.897616, 48.719539], [1.897578, 48.719547], [1.897338, 48.719594], [1.897265, 48.719608], [1.896817, 48.719695]]]]}, 'properties': {'idmutinvar': '3816aae61647a3d0e0660e4a94f1c583', 'idopendata': '3816aae61647a3d0e0660e4a94f1c583', 'datemut': '2024-05-16', 'anneemut': 2024, 'coddep': '78', 'libnatmut': 'Vente', 'vefa': False, 'valeurfonc': '272690.00', 'nbcomm': 1, 'l_codinsee': ['78220'], 'nbpar': 1, 'l_idpar': ['78220000AP0001'], 'nbparmut': 0, 'l_idparmut': None, 'sterr': '0.00', 'nbvolmut': 0, 'nblocmut': 1, 'l_idlocmut': ['782200015602127_0'], 'sbati': '68.00', 'codtypbien': '111', 'libtypbien': 'UNE MAISON'}}, {'id': 10186269, 'type': 'Feature', 'geometry': {'type': 'MultiPolygon', 'coordinates': [[[[1.925951, 48.712147], [1.925106, 48.711448], [1.925452, 48.711266], [1.926053, 48.711733], [1.926047, 48.711768], [1.926018, 48.711902], [1.925967, 48.712085], [1.925951, 48.712147]]], [[[1.917933, 48.711586], [1.917744, 48.711664], [1.917297, 48.711854], [1.916676, 48.712113], [1.916089, 48.71236], [1.91604, 48.712305], [1.916508, 48.712104], [1.917321, 48.711761], [1.917891, 48.711515], [1.917897, 48.711523], [1.917933, 48.711586]]], [[[1.922741, 48.712405], [1.92298, 48.712606], [1.922751, 48.712768], [1.922024, 48.713274], [1.921347, 48.713746], [1.921239, 48.713727], [1.920987, 48.713682], [1.920951, 48.713675], [1.921704, 48.71314], [1.922741, 48.712405]]], [[[1.923451, 48.71419], [1.923537, 48.71433], [1.923559, 48.714322], [1.923625, 48.714304], [1.923555, 48.714163], [1.923546, 48.714166], [1.923459, 48.714187], [1.923451, 48.71419]]], [[[1.923634, 48.71433], [1.923547, 48.714359], [1.923725, 48.714624], [1.923838, 48.714636], [1.923634, 48.71433]]], [[[1.924045, 48.714066], [1.924089, 48.714159], [1.924233, 48.714107], [1.924362, 48.714061], [1.924349, 48.714021], [1.924045, 48.714066]]], [[[1.925296, 48.716819], [1.925207, 48.716679], [1.924007, 48.714889], [1.923847, 48.71465], [1.923808, 48.714646], [1.923735, 48.714638], [1.925209, 48.716842], [1.925297, 48.716977], [1.92545, 48.717205], [1.9255, 48.717188], [1.925536, 48.717175], [1.925296, 48.716819]]], [[[1.925944, 48.71679], [1.924818, 48.714845], [1.924762, 48.714745], [1.924428, 48.714711], [1.925658, 48.716803], [1.925828, 48.717085], [1.925928, 48.717055], [1.926074, 48.717012], [1.925944, 48.71679]]], [[[1.924925, 48.717295], [1.924966, 48.717254], [1.924986, 48.717232], [1.922986, 48.714559], [1.922959, 48.714556], [1.922891, 48.71458], [1.924925, 48.717295]]], [[[1.924751, 48.714731], [1.924381, 48.714086], [1.924351, 48.714094], [1.924109, 48.714171], [1.924416, 48.714696], [1.924527, 48.714707], [1.924751, 48.714731]]], [[[1.920945, 48.719628], [1.919298, 48.716916], [1.919293, 48.716908], [1.919236, 48.716923], [1.919185, 48.716935], [1.919189, 48.716942], [1.920833, 48.719666], [1.920945, 48.719628]]], [[[1.92477, 48.717449], [1.924844, 48.717375], [1.922756, 48.714634], [1.922734, 48.714643], [1.922652, 48.71468], [1.922641, 48.714687], [1.92477, 48.717449]]], [[[1.921914, 48.715047], [1.921775, 48.715113], [1.921728, 48.715135], [1.924106, 48.718156], [1.924121, 48.718148], [1.924212, 48.718092], [1.924264, 48.718057], [1.921914, 48.715047]]], [[[1.921403, 48.716139], [1.921332, 48.716161], [1.921199, 48.716208], [1.921286, 48.716314], [1.923126, 48.718601], [1.923317, 48.718522], [1.921403, 48.716139]]], [[[1.920119, 48.717181], [1.919912, 48.716811], [1.919988, 48.716792], [1.919974, 48.716768], [1.919962, 48.716746], [1.919928, 48.716753], [1.91982, 48.716775], [1.919798, 48.71678], [1.919804, 48.716791], [1.921359, 48.719477], [1.921466, 48.719436], [1.92151, 48.71942], [1.92166, 48.719366], [1.921774, 48.719302], [1.921306, 48.718493], [1.921019, 48.718572], [1.920928, 48.718598], [1.920215, 48.717345], [1.920119, 48.717181]]]]}, 'properties': {'idmutinvar': '05bc8c9ea563b913e7e9b293d2acef11', 'idopendata': '05bc8c9ea563b913e7e9b293d2acef11', 'datemut': '2024-06-28', 'anneemut': 2024, 'coddep': '78', 'libnatmut': 'Vente', 'vefa': False, 'valeurfonc': '22798.00', 'nbcomm': 1, 'l_codinsee': ['78220'], 'nbpar': 18, 'l_idpar': ['782200000E0023', '782200000E0074', '782200000E0075', '782200000E0078', '782200000E0079', '782200000E0084', '782200000E0087', '782200000E0090', '782200000E0092', '782200000E0192', '782200000E0194', '782200000E0196', '782200000E0318', '782200000E0335', '782200000E0351', '782200000E0378', '782200000E0409', '782200000E0476'], 'nbparmut': 18, 'l_idparmut': ['782200000E0023', '782200000E0074', '782200000E0075', '782200000E0078', '782200000E0079', '782200000E0084', '782200000E0087', '782200000E0090', '782200000E0092', '782200000E0192', '782200000E0194', '782200000E0196', '782200000E0318', '782200000E0335', '782200000E0351', '782200000E0378', '782200000E0409', '782200000E0476'], 'sterr': '42303.00', 'nbvolmut': 0, 'nblocmut': 0, 'l_idlocmut': None, 'sbati': '0.00', 'codtypbien': '2313', 'libtypbien': 'TERRAIN DE TYPE TERRE ET PRE'}}, {'id': 10186278, 'type': 'Feature', 'geometry': {'type': 'MultiPolygon', 'coordinates': [[[[1.903624, 48.725312], [1.903957, 48.725234], [1.904012, 48.725342], [1.904044, 48.725405], [1.904004, 48.725413], [1.903987, 48.725418], [1.903695, 48.725483], [1.903624, 48.725312]]], [[[1.903587, 48.725531], [1.903177, 48.725624], [1.903174, 48.725618], [1.903082, 48.725461], [1.903079, 48.725457], [1.903381, 48.725388], [1.90351, 48.725359], [1.903526, 48.725355], [1.903587, 48.725531]]]]}, 'properties': {'idmutinvar': '92f9e9b496d918df5b4148767e4c1da7', 'idopendata': '92f9e9b496d918df5b4148767e4c1da7', 'datemut': '2024-05-31', 'anneemut': 2024, 'coddep': '78', 'libnatmut': 'Vente', 'vefa': False, 'valeurfonc': '280000.00', 'nbcomm': 2, 'l_codinsee': ['78220', '78334'], 'nbpar': 2, 'l_idpar': ['78220000AV0063', '783340000B2640'], 'nbparmut': 2, 'l_idparmut': ['78220000AV0063', '783340000B2640'], 'sterr': '1189.00', 'nbvolmut': 0, 'nblocmut': 1, 'l_idlocmut': ['783340015605488_0'], 'sbati': '89.00', 'codtypbien': '111', 'libtypbien': 'UNE MAISON'}}, {'id': 10186314, 'type': 'Feature', 'geometry': {'type': 'MultiPolygon', 'coordinates': [[[[1.900443, 48.72308], [1.899914, 48.723218], [1.899822, 48.723069], [1.899927, 48.722996], [1.899823, 48.722816], [1.900184, 48.722724], [1.900241, 48.722737], [1.900443, 48.72308]]]]}, 'properties': {'idmutinvar': '00da5487c2b9c7911d49d24eaf513b45', 'idopendata': '00da5487c2b9c7911d49d24eaf513b45', 'datemut': '2024-06-26', 'anneemut': 2024, 'coddep': '78', 'libnatmut': 'Vente', 'vefa': False, 'valeurfonc': '430000.00', 'nbcomm': 1, 'l_codinsee': ['78220'], 'nbpar': 1, 'l_idpar': ['78220000AV0106'], 'nbparmut': 1, 'l_idparmut': ['78220000AV0106'], 'sterr': '1600.00', 'nbvolmut': 0, 'nblocmut': 1, 'l_idlocmut': ['782200015606772_0'], 'sbati': '149.00', 'codtypbien': '111', 'libtypbien': 'UNE MAISON'}}, {'id': 10186415, 'type': 'Feature', 'geometry': {'type': 'MultiPolygon', 'coordinates': [[[[1.895459, 48.719417], [1.895341, 48.719462], [1.895249, 48.719356], [1.895184, 48.71928], [1.895137, 48.719226], [1.895255, 48.719181], [1.895295, 48.719227], [1.895358, 48.719301], [1.89536, 48.719303], [1.895459, 48.719417]]]]}, 'properties': {'idmutinvar': 'afff75a98afe326177615af496d94d62', 'idopendata': 'afff75a98afe326177615af496d94d62', 'datemut': '2024-03-19', 'anneemut': 2024, 'coddep': '78', 'libnatmut': 'Vente', 'vefa': False, 'valeurfonc': '305000.00', 'nbcomm': 1, 'l_codinsee': ['78220'], 'nbpar': 1, 'l_idpar': ['78220000AR0194'], 'nbparmut': 1, 'l_idparmut': ['78220000AR0194'], 'sterr': '300.00', 'nbvolmut': 0, 'nblocmut': 1, 'l_idlocmut': ['782200015598137_0'], 'sbati': '105.00', 'codtypbien': '111', 'libtypbien': 'UNE MAISON'}}, {'id': 10186757, 'type': 'Feature', 'geometry': {'type': 'MultiPolygon', 'coordinates': [[[[1.896817, 48.719695], [1.896807, 48.719652], [1.896797, 48.71961], [1.896785, 48.719566], [1.896775, 48.719522], [1.896764, 48.719477], [1.896754, 48.719433], [1.896743, 48.719387], [1.896726, 48.719314], [1.896693, 48.719183], [1.89668, 48.719139], [1.896668, 48.719094], [1.896656, 48.719052], [1.896645, 48.719007], [1.896598, 48.718827], [1.896559, 48.718704], [1.896706, 48.71865], [1.89678, 48.718623], [1.896855, 48.718596], [1.89693, 48.718569], [1.897005, 48.718541], [1.897066, 48.718519], [1.897112, 48.718523], [1.897149, 48.718528], [1.897187, 48.718537], [1.897231, 48.718549], [1.897269, 48.718564], [1.897323, 48.718594], [1.897346, 48.718611], [1.897378, 48.718638], [1.897398, 48.71866], [1.897409, 48.718681], [1.897423, 48.718716], [1.897427, 48.718737], [1.897425, 48.718758], [1.897412, 48.718819], [1.897392, 48.71888], [1.897383, 48.718899], [1.897366, 48.718917], [1.89734, 48.718928], [1.897271, 48.718948], [1.89715, 48.718982], [1.897136, 48.718977], [1.897119, 48.71895], [1.89709, 48.718907], [1.897081, 48.718891], [1.897001, 48.718914], [1.896912, 48.718939], [1.89689, 48.718906], [1.896882, 48.718894], [1.896841, 48.718906], [1.896866, 48.718945], [1.896892, 48.718984], [1.896917, 48.719023], [1.896942, 48.719063], [1.896968, 48.719104], [1.896995, 48.719144], [1.897038, 48.719132], [1.897029, 48.719118], [1.897006, 48.719083], [1.897095, 48.719057], [1.897367, 48.718978], [1.897348, 48.719018], [1.897339, 48.719057], [1.897328, 48.71911], [1.897325, 48.719144], [1.897326, 48.719185], [1.897334, 48.719218], [1.897348, 48.719263], [1.897368, 48.719304], [1.897396, 48.719347], [1.897426, 48.719383], [1.897462, 48.719419], [1.897503, 48.719454], [1.897616, 48.719539], [1.897578, 48.719547], [1.897338, 48.719594], [1.897265, 48.719608], [1.896817, 48.719695]]]]}, 'properties': {'idmutinvar': '5c40d845191da1001b6cf7dc444fe064', 'idopendata': '5c40d845191da1001b6cf7dc444fe064', 'datemut': '2024-06-12', 'anneemut': 2024, 'coddep': '78', 'libnatmut': 'Vente', 'vefa': False, 'valeurfonc': '206000.00', 'nbcomm': 1, 'l_codinsee': ['78220'], 'nbpar': 1, 'l_idpar': ['78220000AP0001'], 'nbparmut': 0, 'l_idparmut': None, 'sterr': '0.00', 'nbvolmut': 0, 'nblocmut': 1, 'l_idlocmut': ['782200015604466_0'], 'sbati': '68.00', 'codtypbien': '111', 'libtypbien': 'UNE MAISON'}}, {'id': 10186786, 'type': 'Feature', 'geometry': {'type': 'MultiPolygon', 'coordinates': [[[[1.9021, 48.722278], [1.902116, 48.722274], [1.902252, 48.722248], [1.90238, 48.722288], [1.902597, 48.722808], [1.902353, 48.722857], [1.9021, 48.722278]]]]}, 'properties': {'idmutinvar': 'd6d1f64fc529c3195a368d48564f3a56', 'idopendata': 'd6d1f64fc529c3195a368d48564f3a56', 'datemut': '2024-06-10', 'anneemut': 2024, 'coddep': '78', 'libnatmut': 'Vente', 'vefa': False, 'valeurfonc': '327100.00', 'nbcomm': 1, 'l_codinsee': ['78220'], 'nbpar': 1, 'l_idpar': ['78220000AV0082'], 'nbparmut': 1, 'l_idparmut': ['78220000AV0082'], 'sterr': '1256.00', 'nbvolmut': 0, 'nblocmut': 1, 'l_idlocmut': ['782200015604415_0'], 'sbati': '80.00', 'codtypbien': '111', 'libtypbien': 'UNE MAISON'}}, {'id': 10187225, 'type': 'Feature', 'geometry': {'type': 'MultiPolygon', 'coordinates': [[[[1.892757, 48.717062], [1.892884, 48.717047], [1.89292, 48.717043], [1.892943, 48.717077], [1.892968, 48.717116], [1.892936, 48.717146], [1.892838, 48.717178], [1.892864, 48.717212], [1.892861, 48.717214], [1.892784, 48.717239], [1.892741, 48.717253], [1.89271, 48.71722], [1.892688, 48.717227], [1.892678, 48.717193], [1.892667, 48.717152], [1.892661, 48.71713], [1.892646, 48.717075], [1.892708, 48.717068], [1.892757, 48.717062]]]]}, 'properties': {'idmutinvar': '2f6b03df99ae4433714bfdfe1a35e9b4', 'idopendata': '2f6b03df99ae4433714bfdfe1a35e9b4', 'datemut': '2024-04-24', 'anneemut': 2024, 'coddep': '78', 'libnatmut': 'Vente', 'vefa': False, 'valeurfonc': '427000.00', 'nbcomm': 1, 'l_codinsee': ['78220'], 'nbpar': 1, 'l_idpar': ['78220000AN0088'], 'nbparmut': 1, 'l_idparmut': ['78220000AN0088'], 'sterr': '346.00', 'nbvolmut': 0, 'nblocmut': 1, 'l_idlocmut': ['782200015600664_0'], 'sbati': '170.00', 'codtypbien': '111', 'libtypbien': 'UNE MAISON'}}, {'id': 10277613, 'type': 'Feature', 'geometry': {'type': 'MultiPolygon', 'coordinates': [[[[1.891046, 48.711358], [1.891004, 48.71135], [1.890973, 48.711345], [1.891019, 48.71145], [1.891133, 48.711705], [1.891156, 48.711694], [1.891186, 48.711685], [1.891218, 48.711678], [1.891263, 48.711675], [1.891295, 48.711413], [1.891136, 48.711374], [1.891046, 48.711358]]]]}, 'properties': {'idmutinvar': '3930f93725a947f1904f0cb3670b42fa', 'idopendata': '3930f93725a947f1904f0cb3670b42fa', 'datemut': '2023-06-30', 'anneemut': 2023, 'coddep': '78', 'libnatmut': 'Vente', 'vefa': False, 'valeurfonc': '403100.00', 'nbcomm': 1, 'l_codinsee': ['78220'], 'nbpar': 2, 'l_idpar': ['78220000AL0149', '78220000AL0150'], 'nbparmut': 2, 'l_idparmut': ['78220000AL0149', '78220000AL0150'], 'sterr': '549.00', 'nbvolmut': 0, 'nblocmut': 1, 'l_idlocmut': ['782200015795280_0'], 'sbati': '120.00', 'codtypbien': '111', 'libtypbien': 'UNE MAISON'}}, {'id': 10278208, 'type': 'Feature', 'geometry': {'type': 'MultiPolygon', 'coordinates': [[[[1.900357, 48.727971], [1.900217, 48.727776], [1.900157, 48.727764], [1.899914, 48.727858], [1.899959, 48.727909], [1.900028, 48.727985], [1.900157, 48.72813], [1.900165, 48.728138], [1.900364, 48.727981], [1.900357, 48.727971]]]]}, 'properties': {'idmutinvar': 'cd5d1ede0e4874dba8198da1d2246275', 'idopendata': 'cd5d1ede0e4874dba8198da1d2246275', 'datemut': '2023-06-09', 'anneemut': 2023, 'coddep': '78', 'libnatmut': 'Vente', 'vefa': False, 'valeurfonc': '393090.00', 'nbcomm': 1, 'l_codinsee': ['78220'], 'nbpar': 2, 'l_idpar': ['78220000AV0301', '78220000AV0304'], 'nbparmut': 2, 'l_idparmut': ['78220000AV0301', '78220000AV0304'], 'sterr': '736.00', 'nbvolmut': 0, 'nblocmut': 2, 'l_idlocmut': ['782200015794081_0', '782200015794082_0'], 'sbati': '75.00', 'codtypbien': '111', 'libtypbien': 'UNE MAISON'}}, {'id': 10278369, 'type': 'Feature', 'geometry': {'type': 'MultiPolygon', 'coordinates': [[[[1.853023, 48.717816], [1.853411, 48.717411], [1.852735, 48.717134], [1.85261, 48.717263], [1.852558, 48.717282], [1.852717, 48.717495], [1.852972, 48.717833], [1.853023, 48.717816]]]]}, 'properties': {'idmutinvar': '2033e8fdb0f0e663b4c5138d896c24ed', 'idopendata': '2033e8fdb0f0e663b4c5138d896c24ed', 'datemut': '2023-04-06', 'anneemut': 2023, 'coddep': '78', 'libnatmut': 'Vente', 'vefa': False, 'valeurfonc': '444000.00', 'nbcomm': 1, 'l_codinsee': ['78220'], 'nbpar': 2, 'l_idpar': ['78220000AB0108', '78220000AB0109'], 'nbparmut': 2, 'l_idparmut': ['78220000AB0108', '78220000AB0109'], 'sterr': '2366.00', 'nbvolmut': 0, 'nblocmut': 1, 'l_idlocmut': ['782200015784719_0'], 'sbati': '125.00', 'codtypbien': '111', 'libtypbien': 'UNE MAISON'}}, {'id': 10278517, 'type': 'Feature', 'geometry': {'type': 'MultiPolygon', 'coordinates': [[[[1.924923, 48.714152], [1.924826, 48.713982], [1.924854, 48.713977], [1.924912, 48.713972], [1.924979, 48.713966], [1.92503, 48.713963], [1.925046, 48.713963], [1.925134, 48.71412], [1.924923, 48.714152]]], [[[2.171191, 48.78653], [2.17118, 48.7865], [2.171073, 48.786515], [2.171075, 48.786522], [2.171047, 48.786527], [2.171045, 48.786522], [2.171023, 48.786462], [2.171019, 48.786451], [2.170995, 48.786386], [2.170988, 48.786366], [2.170958, 48.786282], [2.170948, 48.786255], [2.170924, 48.78619], [2.170891, 48.786097], [2.170918, 48.786093], [2.171018, 48.786361], [2.171119, 48.786345], [2.17113, 48.786343], [2.171189, 48.786334], [2.171229, 48.786452], [2.171267, 48.786561], [2.171274, 48.786581], [2.171284, 48.78661], [2.171223, 48.786619], [2.171191, 48.78653]]]]}, 'properties': {'idmutinvar': '6d8bd25bd0141172f9b62fa27e77ca2e', 'idopendata': '6d8bd25bd0141172f9b62fa27e77ca2e', 'datemut': '2023-10-06', 'anneemut': 2023, 'coddep': '78', 'libnatmut': 'Vente', 'vefa': False, 'valeurfonc': '130300.00', 'nbcomm': 2, 'l_codinsee': ['78220', '78640'], 'nbpar': 2, 'l_idpar': ['782200000E0550', '78640000AN1090'], 'nbparmut': 1, 'l_idparmut': ['782200000E0550'], 'sterr': '294.00', 'nbvolmut': 0, 'nblocmut': 2, 'l_idlocmut': ['786400015806306_0', '786400015806307_0'], 'sbati': '52.00', 'codtypbien': '121', 'libtypbien': 'UN APPARTEMENT'}}, {'id': 10278634, 'type': 'Feature', 'geometry': {'type': 'MultiPolygon', 'coordinates': [[[[1.860633, 48.717828], [1.860624, 48.717832], [1.860616, 48.717836], [1.86061, 48.71784], [1.860603, 48.717844], [1.860596, 48.717848], [1.86059, 48.717854], [1.860583, 48.717861], [1.860577, 48.717868], [1.860572, 48.717874], [1.860567, 48.717881], [1.860563, 48.71789], [1.860357, 48.717954], [1.860382, 48.717986], [1.860492, 48.717952], [1.860552, 48.717932], [1.860555, 48.717937], [1.860558, 48.717943], [1.860561, 48.717948], [1.860565, 48.717954], [1.86057, 48.717961], [1.860575, 48.717966], [1.86058, 48.717971], [1.860587, 48.717977], [1.860595, 48.717983], [1.860601, 48.717987], [1.860609, 48.717992], [1.86062, 48.717997], [1.860628, 48.718], [1.860633, 48.718002], [1.860644, 48.718005], [1.860657, 48.718009], [1.860671, 48.718012], [1.860687, 48.718013], [1.860725, 48.718013], [1.860744, 48.718012], [1.860756, 48.718009], [1.860769, 48.718006], [1.86078, 48.718004], [1.86079, 48.718001], [1.860798, 48.717998], [1.860807, 48.717994], [1.860813, 48.717991], [1.860821, 48.717986], [1.860832, 48.717979], [1.860839, 48.717974], [1.860847, 48.717967], [1.860853, 48.71796], [1.860857, 48.717955], [1.860861, 48.717948], [1.860864, 48.717943], [1.860868, 48.717935], [1.860871, 48.717927], [1.860872, 48.717918], [1.860872, 48.717912], [1.860871, 48.717905], [1.86087, 48.717898], [1.860867, 48.717892], [1.860863, 48.717883], [1.860859, 48.717876], [1.860853, 48.717869], [1.860848, 48.717862], [1.860842, 48.717856], [1.860837, 48.717851], [1.860832, 48.717847], [1.860827, 48.717843], [1.860822, 48.71784], [1.860815, 48.717836], [1.860807, 48.717831], [1.8608, 48.717828], [1.860791, 48.717824], [1.860782, 48.717821], [1.860772, 48.717818], [1.860759, 48.717815], [1.860747, 48.717813], [1.860736, 48.717812], [1.860719, 48.717811], [1.860695, 48.717811], [1.860682, 48.717813], [1.860669, 48.717815], [1.860658, 48.717818], [1.860645, 48.717823], [1.860633, 48.717828]]], [[[1.860397, 48.718005], [1.860107, 48.718097], [1.86009, 48.718133], [1.860072, 48.71815], [1.860054, 48.718162], [1.860027, 48.718178], [1.860015, 48.718185], [1.860004, 48.7182], [1.860002, 48.71822], [1.860061, 48.718296], [1.860062, 48.718297], [1.860116, 48.718281], [1.860199, 48.718394], [1.860586, 48.718274], [1.860397, 48.718005]]]]}, 'properties': {'idmutinvar': '0168679c077aed3edd5d60bf873166a8', 'idopendata': '0168679c077aed3edd5d60bf873166a8', 'datemut': '2023-03-08', 'anneemut': 2023, 'coddep': '78', 'libnatmut': 'Vente', 'vefa': False, 'valeurfonc': '295000.00', 'nbcomm': 1, 'l_codinsee': ['78220'], 'nbpar': 2, 'l_idpar': ['78220000AD0038', '78220000AD0053'], 'nbparmut': 2, 'l_idparmut': ['78220000AD0038', '78220000AD0053'], 'sterr': '1540.00', 'nbvolmut': 0, 'nblocmut': 1, 'l_idlocmut': ['782200015781380_0'], 'sbati': '64.00', 'codtypbien': '111', 'libtypbien': 'UNE MAISON'}}, {'id': 10278661, 'type': 'Feature', 'geometry': {'type': 'MultiPolygon', 'coordinates': [[[[1.894964, 48.715373], [1.895075, 48.715747], [1.895101, 48.715828], [1.894819, 48.715866], [1.894794, 48.715767], [1.894783, 48.71572], [1.894773, 48.715674], [1.89497, 48.715649], [1.894991, 48.715625], [1.894929, 48.715424], [1.894914, 48.715373], [1.894964, 48.715373]]]]}, 'properties': {'idmutinvar': '15d7b27d4ed335faea9d210588326c8d', 'idopendata': '15d7b27d4ed335faea9d210588326c8d', 'datemut': '2023-12-04', 'anneemut': 2023, 'coddep': '78', 'libnatmut': 'Vente', 'vefa': False, 'valeurfonc': '212500.00', 'nbcomm': 1, 'l_codinsee': ['78220'], 'nbpar': 1, 'l_idpar': ['78220000AN0275'], 'nbparmut': 1, 'l_idparmut': ['78220000AN0275'], 'sterr': '555.00', 'nbvolmut': 0, 'nblocmut': 0, 'l_idlocmut': None, 'sbati': '0.00', 'codtypbien': '21', 'libtypbien': 'TERRAIN DE TYPE TAB'}}, {'id': 10278823, 'type': 'Feature', 'geometry': {'type': 'MultiPolygon', 'coordinates': [[[[1.890484, 48.720296], [1.889914, 48.720645], [1.889616, 48.720437], [1.889666, 48.7204], [1.889656, 48.720394], [1.889692, 48.720367], [1.890018, 48.720126], [1.890027, 48.720122], [1.890041, 48.720116], [1.890056, 48.720112], [1.890075, 48.72011], [1.890097, 48.72011], [1.890118, 48.720115], [1.890137, 48.720124], [1.890484, 48.720296]]]]}, 'properties': {'idmutinvar': 'c21f9456898f5b4878fd6bafff161ab4', 'idopendata': 'c21f9456898f5b4878fd6bafff161ab4', 'datemut': '2023-08-30', 'anneemut': 2023, 'coddep': '78', 'libnatmut': 'Vente', 'vefa': False, 'valeurfonc': '217000.00', 'nbcomm': 1, 'l_codinsee': ['78220'], 'nbpar': 1, 'l_idpar': ['78220000AN0028'], 'nbparmut': 0, 'l_idparmut': None, 'sterr': '0.00', 'nbvolmut': 0, 'nblocmut': 4, 'l_idlocmut': ['782200015800951_0', '782200015800952_0', '782200015800953_0', '782200015800954_0'], 'sbati': '64.00', 'codtypbien': '121', 'libtypbien': 'UN APPARTEMENT'}}, {'id': 10279917, 'type': 'Feature', 'geometry': {'type': 'MultiPolygon', 'coordinates': [[[[1.891091, 48.722063], [1.8912, 48.72204], [1.891332, 48.722064], [1.891484, 48.722171], [1.891445, 48.722195], [1.891378, 48.722236], [1.891354, 48.72225], [1.891276, 48.722194], [1.891255, 48.722179], [1.891207, 48.722145], [1.891107, 48.722074], [1.891091, 48.722063]]]]}, 'properties': {'idmutinvar': 'fbf9569d453d64cdd7c03621c3f88836', 'idopendata': 'fbf9569d453d64cdd7c03621c3f88836', 'datemut': '2023-05-23', 'anneemut': 2023, 'coddep': '78', 'libnatmut': 'Vente', 'vefa': False, 'valeurfonc': '270532.00', 'nbcomm': 1, 'l_codinsee': ['78220'], 'nbpar': 1, 'l_idpar': ['78220000AR0013'], 'nbparmut': 1, 'l_idparmut': ['78220000AR0013'], 'sterr': '313.00', 'nbvolmut': 0, 'nblocmut': 1, 'l_idlocmut': ['782200015789084_0'], 'sbati': '55.00', 'codtypbien': '111', 'libtypbien': 'UNE MAISON'}}, {'id': 10280319, 'type': 'Feature', 'geometry': {'type': 'MultiPolygon', 'coordinates': [[[[1.907459, 48.720841], [1.907356, 48.720848], [1.907234, 48.720858], [1.907194, 48.720861], [1.907193, 48.720852], [1.907233, 48.720849], [1.907354, 48.720839], [1.907457, 48.720832], [1.907459, 48.720841]]], [[[1.907432, 48.720971], [1.907494, 48.721169], [1.90711, 48.721204], [1.907089, 48.7211], [1.90719, 48.721027], [1.907183, 48.720995], [1.907279, 48.720986], [1.907432, 48.720971]]]]}, 'properties': {'idmutinvar': 'dcad77641bf6e00084375a9f2685b96b', 'idopendata': 'dcad77641bf6e00084375a9f2685b96b', 'datemut': '2023-04-14', 'anneemut': 2023, 'coddep': '78', 'libnatmut': 'Vente', 'vefa': False, 'valeurfonc': '518485.00', 'nbcomm': 2, 'l_codinsee': ['78220', '78334'], 'nbpar': 2, 'l_idpar': ['78220000AP0156', '783340000B2926'], 'nbparmut': 2, 'l_idparmut': ['78220000AP0156', '783340000B2926'], 'sterr': '654.00', 'nbvolmut': 0, 'nblocmut': 2, 'l_idlocmut': ['783340015785845_0', '783340015785846_0'], 'sbati': '160.00', 'codtypbien': '111', 'libtypbien': 'UNE MAISON'}}, {'id': 10280380, 'type': 'Feature', 'geometry': {'type': 'MultiPolygon', 'coordinates': [[[[1.855279, 48.715526], [1.855318, 48.715542], [1.855338, 48.715599], [1.855431, 48.715636], [1.855198, 48.715883], [1.854834, 48.715734], [1.854569, 48.715625], [1.854743, 48.715444], [1.854744, 48.715443], [1.854957, 48.71541], [1.855007, 48.715415], [1.855279, 48.715526]]]]}, 'properties': {'idmutinvar': '94157c7ffb443dc63442470d39976ecc', 'idopendata': '94157c7ffb443dc63442470d39976ecc', 'datemut': '2023-01-25', 'anneemut': 2023, 'coddep': '78', 'libnatmut': 'Vente', 'vefa': False, 'valeurfonc': '722568.00', 'nbcomm': 1, 'l_codinsee': ['78220'], 'nbpar': 1, 'l_idpar': ['78220000AB0093'], 'nbparmut': 1, 'l_idparmut': ['78220000AB0093'], 'sterr': '1889.00', 'nbvolmut': 0, 'nblocmut': 2, 'l_idlocmut': ['782200015777260_0', '782200015777263_0'], 'sbati': '214.00', 'codtypbien': '111', 'libtypbien': 'UNE MAISON'}}, {'id': 10280722, 'type': 'Feature', 'geometry': {'type': 'MultiPolygon', 'coordinates': [[[[1.893964, 48.719315], [1.89389, 48.719282], [1.893832, 48.719255], [1.893824, 48.719251], [1.893881, 48.719195], [1.893875, 48.719192], [1.893884, 48.719183], [1.893867, 48.719175], [1.893865, 48.719177], [1.893846, 48.719168], [1.893847, 48.719167], [1.893838, 48.719163], [1.893837, 48.719164], [1.893803, 48.719148], [1.893803, 48.719147], [1.893795, 48.719143], [1.893794, 48.719144], [1.893761, 48.719129], [1.893761, 48.719128], [1.89374, 48.719119], [1.893762, 48.719098], [1.894009, 48.719211], [1.894081, 48.719244], [1.894018, 48.719283], [1.89399, 48.7193], [1.893964, 48.719315]]]]}, 'properties': {'idmutinvar': 'a5a3e38258f69fa385019edd941b0602', 'idopendata': 'a5a3e38258f69fa385019edd941b0602', 'datemut': '2023-05-15', 'anneemut': 2023, 'coddep': '78', 'libnatmut': 'Vente', 'vefa': False, 'valeurfonc': '340000.00', 'nbcomm': 1, 'l_codinsee': ['78220'], 'nbpar': 1, 'l_idpar': ['78220000AR0269'], 'nbparmut': 1, 'l_idparmut': ['78220000AR0269'], 'sterr': '195.00', 'nbvolmut': 0, 'nblocmut': 2, 'l_idlocmut': ['782200015788960_0', '782200015788961_0'], 'sbati': '101.00', 'codtypbien': '111', 'libtypbien': 'UNE MAISON'}}, {'id': 10281441, 'type': 'Feature', 'geometry': {'type': 'MultiPolygon', 'coordinates': [[[[1.893395, 48.717051], [1.893412, 48.717072], [1.893453, 48.717124], [1.89338, 48.717157], [1.893185, 48.717243], [1.893157, 48.717215], [1.893128, 48.717187], [1.893106, 48.717197], [1.893058, 48.717149], [1.893096, 48.717135], [1.893241, 48.717084], [1.89328, 48.717074], [1.893306, 48.717079], [1.893308, 48.717081], [1.893395, 48.717051]]]]}, 'properties': {'idmutinvar': '05ef93c4c414697cb001e537ada52b41', 'idopendata': '05ef93c4c414697cb001e537ada52b41', 'datemut': '2023-04-25', 'anneemut': 2023, 'coddep': '78', 'libnatmut': 'Vente', 'vefa': False, 'valeurfonc': '390000.00', 'nbcomm': 1, 'l_codinsee': ['78220'], 'nbpar': 1, 'l_idpar': ['78220000AN0083'], 'nbparmut': 1, 'l_idparmut': ['78220000AN0083'], 'sterr': '300.00', 'nbvolmut': 0, 'nblocmut': 6, 'l_idlocmut': ['782200015788312_0', '782200015788313_0', '782200015788314_0', '782200015788315_0', '782200015788316_0', '782200015788317_0'], 'sbati': '169.00', 'codtypbien': '120', 'libtypbien': 'APPARTEMENT INDETERMINE'}}, {'id': 10281444, 'type': 'Feature', 'geometry': {'type': 'MultiPolygon', 'coordinates': [[[[1.889206, 48.720173], [1.88888, 48.720413], [1.888823, 48.720375], [1.887809, 48.719665], [1.887742, 48.719596], [1.88801, 48.719412], [1.888446, 48.719116], [1.888485, 48.719089], [1.888505, 48.719081], [1.888517, 48.719078], [1.888536, 48.719078], [1.88856, 48.71908], [1.888585, 48.719088], [1.888827, 48.71925], [1.888837, 48.71927], [1.888832, 48.719289], [1.888809, 48.719308], [1.888681, 48.719389], [1.888634, 48.719356], [1.888585, 48.719388], [1.888638, 48.719424], [1.888604, 48.719457], [1.88858, 48.719513], [1.888583, 48.719587], [1.888657, 48.719704], [1.888791, 48.719906], [1.888836, 48.719974], [1.888877, 48.720021], [1.888911, 48.720048], [1.888996, 48.720105], [1.889076, 48.720139], [1.889181, 48.720167], [1.889206, 48.720173]]]]}, 'properties': {'idmutinvar': '04202cb3fb2ec9063b392355631058ce', 'idopendata': '04202cb3fb2ec9063b392355631058ce', 'datemut': '2023-01-13', 'anneemut': 2023, 'coddep': '78', 'libnatmut': 'Vente', 'vefa': False, 'valeurfonc': '393900.00', 'nbcomm': 1, 'l_codinsee': ['78220'], 'nbpar': 1, 'l_idpar': ['78220000AN0030'], 'nbparmut': 0, 'l_idparmut': None, 'sterr': '0.00', 'nbvolmut': 0, 'nblocmut': 1, 'l_idlocmut': ['782200015775975_0'], 'sbati': '143.00', 'codtypbien': '111', 'libtypbien': 'UNE MAISON'}}, {'id': 10282120, 'type': 'Feature', 'geometry': {'type': 'MultiPolygon', 'coordinates': [[[[1.890484, 48.720296], [1.889914, 48.720645], [1.889616, 48.720437], [1.889666, 48.7204], [1.889656, 48.720394], [1.889692, 48.720367], [1.890018, 48.720126], [1.890027, 48.720122], [1.890041, 48.720116], [1.890056, 48.720112], [1.890075, 48.72011], [1.890097, 48.72011], [1.890118, 48.720115], [1.890137, 48.720124], [1.890484, 48.720296]]]]}, 'properties': {'idmutinvar': '9ea23ec2e0d1c2372b4d1e0a0ab3e1aa', 'idopendata': '9ea23ec2e0d1c2372b4d1e0a0ab3e1aa', 'datemut': '2023-12-12', 'anneemut': 2023, 'coddep': '78', 'libnatmut': 'Vente', 'vefa': False, 'valeurfonc': '191750.00', 'nbcomm': 1, 'l_codinsee': ['78220'], 'nbpar': 1, 'l_idpar': ['78220000AN0028'], 'nbparmut': 0, 'l_idparmut': None, 'sterr': '0.00', 'nbvolmut': 0, 'nblocmut': 4, 'l_idlocmut': ['782200015811689_0', '782200015811690_0', '782200015811691_0', '782200015811692_0'], 'sbati': '64.00', 'codtypbien': '121', 'libtypbien': 'UN APPARTEMENT'}}, {'id': 10282135, 'type': 'Feature', 'geometry': {'type': 'MultiPolygon', 'coordinates': [[[[1.893791, 48.71551], [1.893824, 48.71557], [1.893848, 48.71562], [1.893745, 48.715644], [1.893698, 48.715655], [1.89368, 48.71566], [1.893678, 48.715657], [1.893603, 48.715676], [1.893526, 48.715688], [1.893506, 48.715643], [1.893556, 48.715577], [1.89358, 48.71557], [1.893702, 48.715535], [1.893791, 48.71551]]]]}, 'properties': {'idmutinvar': 'f02cf43a5bf3672998bbfe64d256b3d4', 'idopendata': 'f02cf43a5bf3672998bbfe64d256b3d4', 'datemut': '2023-06-12', 'anneemut': 2023, 'coddep': '78', 'libnatmut': 'Vente', 'vefa': False, 'valeurfonc': '332000.00', 'nbcomm': 1, 'l_codinsee': ['78220'], 'nbpar': 1, 'l_idpar': ['78220000AN0139'], 'nbparmut': 1, 'l_idparmut': ['78220000AN0139'], 'sterr': '280.00', 'nbvolmut': 0, 'nblocmut': 7, 'l_idlocmut': ['782200015791442_0', '782200015791443_0', '782200015791444_0', '782200015791445_0', '782200015791446_0', '782200015791447_0', '782200015791448_0'], 'sbati': '118.00', 'codtypbien': '122', 'libtypbien': 'DEUX APPARTEMENTS'}}, {'id': 10282733, 'type': 'Feature', 'geometry': {'type': 'MultiPolygon', 'coordinates': [[[[1.896817, 48.719695], [1.896807, 48.719652], [1.896797, 48.71961], [1.896785, 48.719566], [1.896775, 48.719522], [1.896764, 48.719477], [1.896754, 48.719433], [1.896743, 48.719387], [1.896726, 48.719314], [1.896693, 48.719183], [1.89668, 48.719139], [1.896668, 48.719094], [1.896656, 48.719052], [1.896645, 48.719007], [1.896598, 48.718827], [1.896559, 48.718704], [1.896706, 48.71865], [1.89678, 48.718623], [1.896855, 48.718596], [1.89693, 48.718569], [1.897005, 48.718541], [1.897066, 48.718519], [1.897112, 48.718523], [1.897149, 48.718528], [1.897187, 48.718537], [1.897231, 48.718549], [1.897269, 48.718564], [1.897323, 48.718594], [1.897346, 48.718611], [1.897378, 48.718638], [1.897398, 48.71866], [1.897409, 48.718681], [1.897423, 48.718716], [1.897427, 48.718737], [1.897425, 48.718758], [1.897412, 48.718819], [1.897392, 48.71888], [1.897383, 48.718899], [1.897366, 48.718917], [1.89734, 48.718928], [1.897271, 48.718948], [1.89715, 48.718982], [1.897136, 48.718977], [1.897119, 48.71895], [1.89709, 48.718907], [1.897081, 48.718891], [1.897001, 48.718914], [1.896912, 48.718939], [1.89689, 48.718906], [1.896882, 48.718894], [1.896841, 48.718906], [1.896866, 48.718945], [1.896892, 48.718984], [1.896917, 48.719023], [1.896942, 48.719063], [1.896968, 48.719104], [1.896995, 48.719144], [1.897038, 48.719132], [1.897029, 48.719118], [1.897006, 48.719083], [1.897095, 48.719057], [1.897367, 48.718978], [1.897348, 48.719018], [1.897339, 48.719057], [1.897328, 48.71911], [1.897325, 48.719144], [1.897326, 48.719185], [1.897334, 48.719218], [1.897348, 48.719263], [1.897368, 48.719304], [1.897396, 48.719347], [1.897426, 48.719383], [1.897462, 48.719419], [1.897503, 48.719454], [1.897616, 48.719539], [1.897578, 48.719547], [1.897338, 48.719594], [1.897265, 48.719608], [1.896817, 48.719695]]], [[[1.898437, 48.719112], [1.898416, 48.719141], [1.898134, 48.719521], [1.898069, 48.7195], [1.897833, 48.71956], [1.897797, 48.719569], [1.897722, 48.719511], [1.897747, 48.719505], [1.897836, 48.719482], [1.897958, 48.719452], [1.898074, 48.719296], [1.898094, 48.71927], [1.898233, 48.719082], [1.898252, 48.719057], [1.898256, 48.719052], [1.898376, 48.719092], [1.898437, 48.719112]]]]}, 'properties': {'idmutinvar': 'faedc5d76303fdcf15307c47f61f2532', 'idopendata': 'faedc5d76303fdcf15307c47f61f2532', 'datemut': '2023-09-01', 'anneemut': 2023, 'coddep': '78', 'libnatmut': 'Vente', 'vefa': False, 'valeurfonc': '245100.00', 'nbcomm': 1, 'l_codinsee': ['78220'], 'nbpar': 2, 'l_idpar': ['78220000AP0001', '78220000AP0009'], 'nbparmut': 0, 'l_idparmut': None, 'sterr': '0.00', 'nbvolmut': 0, 'nblocmut': 2, 'l_idlocmut': ['782200015801382_0', '782200015801383_0'], 'sbati': '72.00', 'codtypbien': '111', 'libtypbien': 'UNE MAISON'}}, {'id': 10282809, 'type': 'Feature', 'geometry': {'type': 'MultiPolygon', 'coordinates': [[[[1.860736, 48.719432], [1.860747, 48.719427], [1.86071, 48.719396], [1.860577, 48.719284], [1.860405, 48.719054], [1.860475, 48.719046], [1.860956, 48.719451], [1.860925, 48.719467], [1.86083, 48.719514], [1.860736, 48.719432]]]]}, 'properties': {'idmutinvar': '537c838378e4185b8898fc220b79e4ae', 'idopendata': '537c838378e4185b8898fc220b79e4ae', 'datemut': '2023-12-08', 'anneemut': 2023, 'coddep': '78', 'libnatmut': 'Vente', 'vefa': False, 'valeurfonc': '127545.00', 'nbcomm': 1, 'l_codinsee': ['78220'], 'nbpar': 1, 'l_idpar': ['78220000AC0175'], 'nbparmut': 0, 'l_idparmut': None, 'sterr': '0.00', 'nbvolmut': 0, 'nblocmut': 2, 'l_idlocmut': ['782200015811127_0', '782200015811128_0'], 'sbati': '59.00', 'codtypbien': '121', 'libtypbien': 'UN APPARTEMENT'}}, {'id': 10282973, 'type': 'Feature', 'geometry': {'type': 'MultiPolygon', 'coordinates': [[[[1.890484, 48.720296], [1.889914, 48.720645], [1.889616, 48.720437], [1.889666, 48.7204], [1.889656, 48.720394], [1.889692, 48.720367], [1.890018, 48.720126], [1.890027, 48.720122], [1.890041, 48.720116], [1.890056, 48.720112], [1.890075, 48.72011], [1.890097, 48.72011], [1.890118, 48.720115], [1.890137, 48.720124], [1.890484, 48.720296]]]]}, 'properties': {'idmutinvar': 'd9da60712351a59b7f1c1f7858757938', 'idopendata': 'd9da60712351a59b7f1c1f7858757938', 'datemut': '2023-07-12', 'anneemut': 2023, 'coddep': '78', 'libnatmut': 'Vente', 'vefa': False, 'valeurfonc': '201000.00', 'nbcomm': 1, 'l_codinsee': ['78220'], 'nbpar': 1, 'l_idpar': ['78220000AN0028'], 'nbparmut': 0, 'l_idparmut': None, 'sterr': '0.00', 'nbvolmut': 0, 'nblocmut': 4, 'l_idlocmut': ['782200015796826_0', '782200015796827_0', '782200015796828_0', '782200015796829_0'], 'sbati': '64.00', 'codtypbien': '121', 'libtypbien': 'UN APPARTEMENT'}}, {'id': 10283119, 'type': 'Feature', 'geometry': {'type': 'MultiPolygon', 'coordinates': [[[[1.896817, 48.719695], [1.896807, 48.719652], [1.896797, 48.71961], [1.896785, 48.719566], [1.896775, 48.719522], [1.896764, 48.719477], [1.896754, 48.719433], [1.896743, 48.719387], [1.896726, 48.719314], [1.896693, 48.719183], [1.89668, 48.719139], [1.896668, 48.719094], [1.896656, 48.719052], [1.896645, 48.719007], [1.896598, 48.718827], [1.896559, 48.718704], [1.896706, 48.71865], [1.89678, 48.718623], [1.896855, 48.718596], [1.89693, 48.718569], [1.897005, 48.718541], [1.897066, 48.718519], [1.897112, 48.718523], [1.897149, 48.718528], [1.897187, 48.718537], [1.897231, 48.718549], [1.897269, 48.718564], [1.897323, 48.718594], [1.897346, 48.718611], [1.897378, 48.718638], [1.897398, 48.71866], [1.897409, 48.718681], [1.897423, 48.718716], [1.897427, 48.718737], [1.897425, 48.718758], [1.897412, 48.718819], [1.897392, 48.71888], [1.897383, 48.718899], [1.897366, 48.718917], [1.89734, 48.718928], [1.897271, 48.718948], [1.89715, 48.718982], [1.897136, 48.718977], [1.897119, 48.71895], [1.89709, 48.718907], [1.897081, 48.718891], [1.897001, 48.718914], [1.896912, 48.718939], [1.89689, 48.718906], [1.896882, 48.718894], [1.896841, 48.718906], [1.896866, 48.718945], [1.896892, 48.718984], [1.896917, 48.719023], [1.896942, 48.719063], [1.896968, 48.719104], [1.896995, 48.719144], [1.897038, 48.719132], [1.897029, 48.719118], [1.897006, 48.719083], [1.897095, 48.719057], [1.897367, 48.718978], [1.897348, 48.719018], [1.897339, 48.719057], [1.897328, 48.71911], [1.897325, 48.719144], [1.897326, 48.719185], [1.897334, 48.719218], [1.897348, 48.719263], [1.897368, 48.719304], [1.897396, 48.719347], [1.897426, 48.719383], [1.897462, 48.719419], [1.897503, 48.719454], [1.897616, 48.719539], [1.897578, 48.719547], [1.897338, 48.719594], [1.897265, 48.719608], [1.896817, 48.719695]]]]}, 'properties': {'idmutinvar': '7c3123152972f67f3ff54df569a3eaf1', 'idopendata': '7c3123152972f67f3ff54df569a3eaf1', 'datemut': '2023-01-10', 'anneemut': 2023, 'coddep': '78', 'libnatmut': 'Vente', 'vefa': False, 'valeurfonc': '359050.00', 'nbcomm': 1, 'l_codinsee': ['78220'], 'nbpar': 1, 'l_idpar': ['78220000AP0001'], 'nbparmut': 0, 'l_idparmut': None, 'sterr': '0.00', 'nbvolmut': 0, 'nblocmut': 3, 'l_idlocmut': ['782200015777056_0', '782200015777057_0', '782200015777058_0'], 'sbati': '73.00', 'codtypbien': '111', 'libtypbien': 'UNE MAISON'}}, {'id': 10283224, 'type': 'Feature', 'geometry': {'type': 'MultiPolygon', 'coordinates': [[[[1.894685, 48.718662], [1.894854, 48.718605], [1.895008, 48.718677], [1.894967, 48.718689], [1.894907, 48.718706], [1.89487, 48.718717], [1.894869, 48.718715], [1.894837, 48.718728], [1.894832, 48.71873], [1.894685, 48.718662]]]]}, 'properties': {'idmutinvar': '2a5d1cd5771472b93a47073b3cc14db3', 'idopendata': '2a5d1cd5771472b93a47073b3cc14db3', 'datemut': '2023-10-09', 'anneemut': 2023, 'coddep': '78', 'libnatmut': 'Vente', 'vefa': False, 'valeurfonc': '30000.00', 'nbcomm': 1, 'l_codinsee': ['78220'], 'nbpar': 1, 'l_idpar': ['78220000AR0189'], 'nbparmut': 1, 'l_idparmut': ['78220000AR0189'], 'sterr': '165.00', 'nbvolmut': 0, 'nblocmut': 0, 'l_idlocmut': None, 'sbati': '0.00', 'codtypbien': '221', 'libtypbien': \"TERRAIN D'AGREMENT\"}}, {'id': 10283368, 'type': 'Feature', 'geometry': {'type': 'MultiPolygon', 'coordinates': [[[[1.854834, 48.715734], [1.855198, 48.715883], [1.855296, 48.715924], [1.854405, 48.716854], [1.853944, 48.716662], [1.8544, 48.716187], [1.854834, 48.715734]]]]}, 'properties': {'idmutinvar': '88659ce67d38a80e881e0ef23fd0461d', 'idopendata': '88659ce67d38a80e881e0ef23fd0461d', 'datemut': '2023-07-13', 'anneemut': 2023, 'coddep': '78', 'libnatmut': 'Vente', 'vefa': False, 'valeurfonc': '649002.00', 'nbcomm': 1, 'l_codinsee': ['78220'], 'nbpar': 1, 'l_idpar': ['78220000AB0141'], 'nbparmut': 1, 'l_idparmut': ['78220000AB0141'], 'sterr': '4905.00', 'nbvolmut': 0, 'nblocmut': 4, 'l_idlocmut': ['782200015795996_1', '782200015795997_1', '782200015795997_2', '782200015795997_3'], 'sbati': '197.00', 'codtypbien': '111', 'libtypbien': 'UNE MAISON'}}, {'id': 10284014, 'type': 'Feature', 'geometry': {'type': 'MultiPolygon', 'coordinates': [[[[1.902192, 48.720352], [1.90202, 48.720296], [1.902095, 48.720279], [1.902491, 48.72019], [1.902652, 48.720153], [1.902666, 48.72015], [1.902983, 48.720079], [1.903023, 48.72007], [1.903107, 48.720051], [1.903125, 48.720087], [1.903151, 48.720136], [1.902292, 48.72033], [1.902262, 48.720336], [1.902192, 48.720352]]]]}, 'properties': {'idmutinvar': 'bbbcf28e790c32c2de5cce31ca72e278', 'idopendata': 'bbbcf28e790c32c2de5cce31ca72e278', 'datemut': '2023-08-25', 'anneemut': 2023, 'coddep': '78', 'libnatmut': 'Vente', 'vefa': False, 'valeurfonc': '392925.00', 'nbcomm': 1, 'l_codinsee': ['78220'], 'nbpar': 1, 'l_idpar': ['78220000AP0052'], 'nbparmut': 1, 'l_idparmut': ['78220000AP0052'], 'sterr': '794.00', 'nbvolmut': 0, 'nblocmut': 3, 'l_idlocmut': ['782200015800473_0', '782200015800474_0', '782200015800475_0'], 'sbati': '101.00', 'codtypbien': '111', 'libtypbien': 'UNE MAISON'}}, {'id': 10284107, 'type': 'Feature', 'geometry': {'type': 'MultiPolygon', 'coordinates': [[[[1.895139, 48.715128], [1.895252, 48.715133], [1.895271, 48.715134], [1.895329, 48.715115], [1.895372, 48.715057], [1.895403, 48.715245], [1.895398, 48.715307], [1.895128, 48.715298], [1.895134, 48.715211], [1.895134, 48.715204], [1.895135, 48.715187], [1.895139, 48.715128]]]]}, 'properties': {'idmutinvar': 'b60d37d335650145daad5b57205fb8b2', 'idopendata': 'b60d37d335650145daad5b57205fb8b2', 'datemut': '2023-12-12', 'anneemut': 2023, 'coddep': '78', 'libnatmut': 'Vente', 'vefa': False, 'valeurfonc': '226100.00', 'nbcomm': 1, 'l_codinsee': ['78220'], 'nbpar': 1, 'l_idpar': ['78220000AL0086'], 'nbparmut': 0, 'l_idparmut': None, 'sterr': '0.00', 'nbvolmut': 0, 'nblocmut': 4, 'l_idlocmut': ['782200015811613_0', '782200015811614_0', '782200015811615_0', '782200015811616_0'], 'sbati': '42.00', 'codtypbien': '111', 'libtypbien': 'UNE MAISON'}}, {'id': 10284150, 'type': 'Feature', 'geometry': {'type': 'MultiPolygon', 'coordinates': [[[[1.887194, 48.714835], [1.88695, 48.714853], [1.886936, 48.714759], [1.886935, 48.714754], [1.886932, 48.714736], [1.886921, 48.714665], [1.88692, 48.71466], [1.886911, 48.714601], [1.887154, 48.714583], [1.887166, 48.714658], [1.887183, 48.714767], [1.887194, 48.714835]]]]}, 'properties': {'idmutinvar': '303d7c9fecb553e7d6164ff306a9e3d4', 'idopendata': '303d7c9fecb553e7d6164ff306a9e3d4', 'datemut': '2023-05-10', 'anneemut': 2023, 'coddep': '78', 'libnatmut': 'Vente', 'vefa': False, 'valeurfonc': '335000.00', 'nbcomm': 1, 'l_codinsee': ['78220'], 'nbpar': 1, 'l_idpar': ['78220000AK0062'], 'nbparmut': 1, 'l_idparmut': ['78220000AK0062'], 'sterr': '504.00', 'nbvolmut': 0, 'nblocmut': 1, 'l_idlocmut': ['782200015788863_0'], 'sbati': '120.00', 'codtypbien': '111', 'libtypbien': 'UNE MAISON'}}, {'id': 10284410, 'type': 'Feature', 'geometry': {'type': 'MultiPolygon', 'coordinates': [[[[1.898278, 48.717913], [1.898294, 48.717978], [1.898324, 48.718108], [1.898343, 48.718187], [1.898354, 48.718236], [1.898423, 48.718242], [1.898363, 48.717971], [1.898345, 48.717904], [1.898278, 48.717913]]], [[[1.900176, 48.716743], [1.900218, 48.716643], [1.900228, 48.716615], [1.900242, 48.716575], [1.900247, 48.716537], [1.900248, 48.716507], [1.900244, 48.71647], [1.900228, 48.716428], [1.900204, 48.716387], [1.900178, 48.71635], [1.900076, 48.716206], [1.899955, 48.716034], [1.899937, 48.716001], [1.899933, 48.715984], [1.89993, 48.715971], [1.899933, 48.715923], [1.899952, 48.71587], [1.899984, 48.715826], [1.900096, 48.715681], [1.900104, 48.71567], [1.900119, 48.715659], [1.900187, 48.715626], [1.900249, 48.71559], [1.900274, 48.715571], [1.900292, 48.715545], [1.900327, 48.715426], [1.900327, 48.715393], [1.900314, 48.715369], [1.900293, 48.715349], [1.900268, 48.715332], [1.900241, 48.715315], [1.900198, 48.715293], [1.90018, 48.715281], [1.900177, 48.715256], [1.900168, 48.715181], [1.900184, 48.715154], [1.900213, 48.715131], [1.900251, 48.715115], [1.900309, 48.715106], [1.899965, 48.715071], [1.900016, 48.715086], [1.900047, 48.715125], [1.900053, 48.715143], [1.900062, 48.715226], [1.900067, 48.715283], [1.900079, 48.715383], [1.900071, 48.715418], [1.90006, 48.715456], [1.900005, 48.715599], [1.899974, 48.715668], [1.899903, 48.715768], [1.899856, 48.715833], [1.899837, 48.715867], [1.899826, 48.715905], [1.899818, 48.715945], [1.899818, 48.715976], [1.899824, 48.716002], [1.899838, 48.716036], [1.899849, 48.716053], [1.89986, 48.716069], [1.899881, 48.716101], [1.899935, 48.716177], [1.900023, 48.716301], [1.900034, 48.716319], [1.900114, 48.716432], [1.900125, 48.716458], [1.900133, 48.716479], [1.900139, 48.716503], [1.900141, 48.716521], [1.900141, 48.716539], [1.900135, 48.71657], [1.900117, 48.716623], [1.90008, 48.716715], [1.900059, 48.716743], [1.900042, 48.716763], [1.900014, 48.716787], [1.899979, 48.716808], [1.899852, 48.716867], [1.899765, 48.716908], [1.899759, 48.716911], [1.899719, 48.716924], [1.899693, 48.716932], [1.899667, 48.716937], [1.899635, 48.716943], [1.8996, 48.716946], [1.899565, 48.716941], [1.899326, 48.716897], [1.899296, 48.716889], [1.899282, 48.716873], [1.899286, 48.716856], [1.899342, 48.716732], [1.899416, 48.71657], [1.899429, 48.716541], [1.899445, 48.716527], [1.899495, 48.71651], [1.899542, 48.716487], [1.899564, 48.716466], [1.899599, 48.716389], [1.899453, 48.716361], [1.899236, 48.716319], [1.899122, 48.716248], [1.899186, 48.716106], [1.899219, 48.716037], [1.899077, 48.716009], [1.898908, 48.715979], [1.898878, 48.715967], [1.898875, 48.715965], [1.89886, 48.715947], [1.898977, 48.715687], [1.899052, 48.715523], [1.899132, 48.715343], [1.899142, 48.715316], [1.899172, 48.715201], [1.899182, 48.715163], [1.899197, 48.715094], [1.89921, 48.715078], [1.899236, 48.715061], [1.899311, 48.71504], [1.898965, 48.715062], [1.899018, 48.715066], [1.899039, 48.715075], [1.899056, 48.715088], [1.89907, 48.715103], [1.899077, 48.71512], [1.899079, 48.715138], [1.89906, 48.715213], [1.899049, 48.71525], [1.899024, 48.71533], [1.899002, 48.715383], [1.898979, 48.715433], [1.89891, 48.715586], [1.898831, 48.715762], [1.898765, 48.715909], [1.898712, 48.71603], [1.898646, 48.716176], [1.898639, 48.716206], [1.898637, 48.716231], [1.898638, 48.71625], [1.89865, 48.716321], [1.898676, 48.716481], [1.89869, 48.716537], [1.898705, 48.716582], [1.89878, 48.716703], [1.89889, 48.716862], [1.898926, 48.716914], [1.898846, 48.717097], [1.898785, 48.717244], [1.898818, 48.71725], [1.898851, 48.717256], [1.898872, 48.717211], [1.898938, 48.717058], [1.898991, 48.716942], [1.899008, 48.716924], [1.899256, 48.71697], [1.899467, 48.717008], [1.899495, 48.717018], [1.899511, 48.71704], [1.899507, 48.717064], [1.899459, 48.717172], [1.899403, 48.717299], [1.899334, 48.717458], [1.899322, 48.717482], [1.8993, 48.717509], [1.89913, 48.717634], [1.898937, 48.717771], [1.898915, 48.717782], [1.898891, 48.717792], [1.898866, 48.717799], [1.898844, 48.717799], [1.898816, 48.717796], [1.89877, 48.717785], [1.898742, 48.717765], [1.898666, 48.717702], [1.898549, 48.717603], [1.898404, 48.717482], [1.898382, 48.717463], [1.898362, 48.717443], [1.898323, 48.717299], [1.898254, 48.717298], [1.898283, 48.717414], [1.898348, 48.71747], [1.898313, 48.71747], [1.898261, 48.717426], [1.898231, 48.717316], [1.898136, 48.717315], [1.898154, 48.717371], [1.898144, 48.717372], [1.898161, 48.717426], [1.898239, 48.717455], [1.898276, 48.717487], [1.898457, 48.71764], [1.898611, 48.71777], [1.898761, 48.717897], [1.898781, 48.717924], [1.898794, 48.717955], [1.898793, 48.717974], [1.898718, 48.717974], [1.898715, 48.718131], [1.89879, 48.718132], [1.898788, 48.718195], [1.898787, 48.7182], [1.898783, 48.718207], [1.898778, 48.718214], [1.898772, 48.71822], [1.898765, 48.718226], [1.898756, 48.718231], [1.898747, 48.718236], [1.898737, 48.71824], [1.898726, 48.718242], [1.898715, 48.718244], [1.898703, 48.718245], [1.898692, 48.718245], [1.898679, 48.718244], [1.898685, 48.718266], [1.89901, 48.718312], [1.899004, 48.718287], [1.898958, 48.718092], [1.898914, 48.717913], [1.899051, 48.717897], [1.899233, 48.717875], [1.899185, 48.717827], [1.899142, 48.717803], [1.899052, 48.717755], [1.898965, 48.717818], [1.898908, 48.717838], [1.898868, 48.717846], [1.898814, 48.717848], [1.898768, 48.717835], [1.898716, 48.717811], [1.898512, 48.717639], [1.898335, 48.717488], [1.89837, 48.717488], [1.898737, 48.717801], [1.898783, 48.717822], [1.898824, 48.717833], [1.898866, 48.717829], [1.8989, 48.717822], [1.898953, 48.717803], [1.899033, 48.717744], [1.899062, 48.717722], [1.899111, 48.717751], [1.899231, 48.717665], [1.899359, 48.717572], [1.899389, 48.717546], [1.89941, 48.717523], [1.89943, 48.717489], [1.899442, 48.71746], [1.899515, 48.717296], [1.89969, 48.717331], [1.900168, 48.717494], [1.90023, 48.71733], [1.900268, 48.717227], [1.900095, 48.717087], [1.899786, 48.717102], [1.89977, 48.717096], [1.899803, 48.717045], [1.899757, 48.716997], [1.899948, 48.716911], [1.900044, 48.716866], [1.900094, 48.716835], [1.900171, 48.71685], [1.900262, 48.716869], [1.9004, 48.716896], [1.900442, 48.716796], [1.90031, 48.71677], [1.900198, 48.716748], [1.900176, 48.716743]], [[1.898956, 48.716663], [1.898898, 48.71658], [1.898827, 48.7166], [1.898806, 48.716557], [1.898786, 48.716499], [1.898781, 48.716479], [1.898773, 48.716419], [1.89875, 48.716276], [1.898745, 48.716236], [1.89875, 48.716197], [1.898759, 48.716172], [1.898824, 48.71603], [1.898856, 48.716021], [1.898889, 48.716023], [1.899044, 48.716053], [1.899023, 48.716101], [1.899135, 48.716122], [1.899092, 48.716253], [1.899228, 48.716336], [1.899314, 48.716353], [1.899394, 48.716369], [1.899325, 48.716521], [1.899245, 48.716699], [1.899184, 48.716832], [1.899153, 48.716856], [1.899116, 48.71686], [1.899082, 48.716856], [1.899076, 48.716855], [1.899049, 48.71685], [1.899015, 48.716839], [1.89899, 48.716824], [1.89897, 48.716805], [1.898901, 48.716702], [1.898968, 48.716681], [1.898956, 48.716663]]]]}, 'properties': {'idmutinvar': 'edffb0505406033bcb3ed3b41a1c3cde', 'idopendata': 'edffb0505406033bcb3ed3b41a1c3cde', 'datemut': '2023-10-27', 'anneemut': 2023, 'coddep': '78', 'libnatmut': 'Vente', 'vefa': False, 'valeurfonc': '354000.00', 'nbcomm': 1, 'l_codinsee': ['78220'], 'nbpar': 8, 'l_idpar': ['78220000AO0191', '78220000AO0199', '78220000AO0200', '78220000AO0203', '78220000AO0221', '78220000AO0222', '78220000AO0223', '78220000AO0234'], 'nbparmut': 8, 'l_idparmut': ['78220000AO0191', '78220000AO0199', '78220000AO0200', '78220000AO0203', '78220000AO0221', '78220000AO0222', '78220000AO0223', '78220000AO0234'], 'sterr': '10169.00', 'nbvolmut': 0, 'nblocmut': 1, 'l_idlocmut': ['782200015809257_0'], 'sbati': '96.00', 'codtypbien': '111', 'libtypbien': 'UNE MAISON'}}, {'id': 10284423, 'type': 'Feature', 'geometry': {'type': 'MultiPolygon', 'coordinates': [[[[1.889142, 48.715326], [1.889351, 48.71543], [1.888755, 48.715785], [1.888517, 48.715927], [1.887972, 48.715712], [1.887915, 48.715632], [1.888439, 48.715563], [1.888489, 48.715615], [1.888581, 48.715585], [1.888684, 48.71553], [1.888707, 48.715517], [1.888779, 48.71548], [1.88883, 48.715455], [1.888882, 48.71543], [1.889142, 48.715326]]]]}, 'properties': {'idmutinvar': '50763ba0e8789a5eaa8c94f9c6fa47bf', 'idopendata': '50763ba0e8789a5eaa8c94f9c6fa47bf', 'datemut': '2023-03-23', 'anneemut': 2023, 'coddep': '78', 'libnatmut': 'Vente', 'vefa': False, 'valeurfonc': '176000.00', 'nbcomm': 1, 'l_codinsee': ['78220'], 'nbpar': 1, 'l_idpar': ['78220000AK0047'], 'nbparmut': 0, 'l_idparmut': None, 'sterr': '0.00', 'nbvolmut': 0, 'nblocmut': 3, 'l_idlocmut': ['782200015783223_0', '782200015783224_0', '782200015783225_0'], 'sbati': '39.00', 'codtypbien': '121', 'libtypbien': 'UN APPARTEMENT'}}, {'id': 10284442, 'type': 'Feature', 'geometry': {'type': 'MultiPolygon', 'coordinates': [[[[1.880499, 48.715438], [1.880601, 48.715507], [1.880336, 48.715583], [1.880331, 48.715582], [1.880295, 48.715614], [1.880219, 48.715631], [1.880199, 48.715636], [1.88004, 48.71551], [1.880499, 48.715438]]]]}, 'properties': {'idmutinvar': 'a42f4197b49fda572aea9b0b60bc258a', 'idopendata': 'a42f4197b49fda572aea9b0b60bc258a', 'datemut': '2023-06-20', 'anneemut': 2023, 'coddep': '78', 'libnatmut': 'Vente', 'vefa': False, 'valeurfonc': '255000.00', 'nbcomm': 1, 'l_codinsee': ['78220'], 'nbpar': 1, 'l_idpar': ['78220000AK0002'], 'nbparmut': 1, 'l_idparmut': ['78220000AK0002'], 'sterr': '445.00', 'nbvolmut': 0, 'nblocmut': 1, 'l_idlocmut': ['782200015795267_0'], 'sbati': '54.00', 'codtypbien': '111', 'libtypbien': 'UNE MAISON'}}, {'id': 10284886, 'type': 'Feature', 'geometry': {'type': 'MultiPolygon', 'coordinates': [[[[1.905372, 48.719503], [1.905043, 48.719569], [1.904715, 48.719633], [1.904653, 48.719647], [1.904662, 48.719653], [1.904692, 48.719675], [1.904734, 48.719699], [1.90477, 48.719713], [1.90484, 48.719738], [1.90493, 48.719769], [1.905051, 48.719797], [1.90517, 48.719827], [1.905248, 48.719849], [1.905362, 48.719881], [1.905419, 48.719891], [1.905479, 48.719899], [1.9055, 48.719902], [1.905509, 48.719902], [1.905475, 48.719823], [1.905412, 48.71967], [1.905383, 48.719544], [1.905372, 48.719503]]], [[[1.898236, 48.72776], [1.898388, 48.727866], [1.896387, 48.728292], [1.896248, 48.728183], [1.898236, 48.72776]]], [[[1.907296, 48.718181], [1.907391, 48.718237], [1.907578, 48.718344], [1.907561, 48.718376], [1.907359, 48.718743], [1.907338, 48.718782], [1.90745, 48.71881], [1.90804, 48.71895], [1.908479, 48.719052], [1.908448, 48.719149], [1.90843, 48.719206], [1.908393, 48.719335], [1.908324, 48.719355], [1.90829, 48.719366], [1.908314, 48.719543], [1.908139, 48.719576], [1.908086, 48.719586], [1.907873, 48.719626], [1.907722, 48.719659], [1.90769, 48.719665], [1.907416, 48.719696], [1.907353, 48.719703], [1.907354, 48.719708], [1.907167, 48.719728], [1.907077, 48.719737], [1.907009, 48.719739], [1.906858, 48.719732], [1.906745, 48.719727], [1.90663, 48.71973], [1.906549, 48.719734], [1.906412, 48.719758], [1.906017, 48.719828], [1.905767, 48.719874], [1.905655, 48.719893], [1.905584, 48.719901], [1.905566, 48.719902], [1.905563, 48.719932], [1.905524, 48.719933], [1.905497, 48.719932], [1.905444, 48.719927], [1.905392, 48.71992], [1.905339, 48.719909], [1.905272, 48.719893], [1.905139, 48.719854], [1.904911, 48.719789], [1.904832, 48.719768], [1.904822, 48.719767], [1.904787, 48.719756], [1.904729, 48.719731], [1.904661, 48.719703], [1.90459, 48.719669], [1.904451, 48.719602], [1.904412, 48.719584], [1.904311, 48.719533], [1.90422, 48.719488], [1.904171, 48.719465], [1.904108, 48.719435], [1.904046, 48.719407], [1.904014, 48.719394], [1.903994, 48.719386], [1.903958, 48.719378], [1.903898, 48.719364], [1.903845, 48.719354], [1.90381, 48.719347], [1.903831, 48.719357], [1.903896, 48.719377], [1.903925, 48.719388], [1.903974, 48.719405], [1.904008, 48.71942], [1.904047, 48.71944], [1.904074, 48.719454], [1.904126, 48.719488], [1.904904, 48.719998], [1.905055, 48.720103], [1.905114, 48.720137], [1.905191, 48.720183], [1.905274, 48.720223], [1.905345, 48.720252], [1.905418, 48.720275], [1.905495, 48.720298], [1.905589, 48.720324], [1.905684, 48.720345], [1.905786, 48.720371], [1.905835, 48.720382], [1.905922, 48.720395], [1.905985, 48.720401], [1.906042, 48.720404], [1.906185, 48.720406], [1.906295, 48.720406], [1.906371, 48.720402], [1.90656, 48.720385], [1.906719, 48.720364], [1.907203, 48.720291], [1.907637, 48.720228], [1.907787, 48.720208], [1.907898, 48.720195], [1.907973, 48.720188], [1.908053, 48.720184], [1.908159, 48.720178], [1.908222, 48.72018], [1.908302, 48.720184], [1.908362, 48.720191], [1.90846, 48.720209], [1.908497, 48.72022], [1.908534, 48.720231], [1.90857, 48.720243], [1.908606, 48.720257], [1.908621, 48.720262], [1.908652, 48.720275], [1.90869, 48.720291], [1.908705, 48.720297], [1.908739, 48.720312], [1.908746, 48.720315], [1.908771, 48.720328], [1.908803, 48.720345], [1.908834, 48.720363], [1.908865, 48.72038], [1.908896, 48.720397], [1.908927, 48.720416], [1.908957, 48.720434], [1.908987, 48.720452], [1.909018, 48.72047], [1.909048, 48.720487], [1.909064, 48.720496], [1.909082, 48.720504], [1.909309, 48.720634], [1.909413, 48.720697], [1.909554, 48.720781], [1.909578, 48.720791], [1.90961, 48.720804], [1.909643, 48.720813], [1.909676, 48.720819], [1.909727, 48.720825], [1.909766, 48.720828], [1.909724, 48.720584], [1.90989, 48.72057], [1.910257, 48.720572], [1.910548, 48.720574], [1.910914, 48.720573], [1.910975, 48.720572], [1.911304, 48.720554], [1.91155, 48.720541], [1.91172, 48.720531], [1.911728, 48.720519], [1.911883, 48.720303], [1.911913, 48.720262], [1.912065, 48.720049], [1.912133, 48.719953], [1.912165, 48.719917], [1.91218, 48.7199], [1.912206, 48.719876], [1.912239, 48.719845], [1.912278, 48.719815], [1.912321, 48.719787], [1.912365, 48.71976], [1.912417, 48.719734], [1.912466, 48.719712], [1.912516, 48.719692], [1.912598, 48.719659], [1.91281, 48.719571], [1.913083, 48.719461], [1.913388, 48.719335], [1.913493, 48.719291], [1.913393, 48.719224], [1.913182, 48.719086], [1.912785, 48.718817], [1.912383, 48.718543], [1.91232, 48.718503], [1.912298, 48.718489], [1.912264, 48.718467], [1.91224, 48.718454], [1.912001, 48.71838], [1.911923, 48.718356], [1.911771, 48.718369], [1.911512, 48.718391], [1.911435, 48.718398], [1.911358, 48.718403], [1.911269, 48.718406], [1.911127, 48.718409], [1.911015, 48.718413], [1.910806, 48.718415], [1.910582, 48.718418], [1.910385, 48.718409], [1.910293, 48.718405], [1.910113, 48.71839], [1.909815, 48.718364], [1.909787, 48.71836], [1.909548, 48.718325], [1.909286, 48.718286], [1.909188, 48.71827], [1.908942, 48.718242], [1.908879, 48.718234], [1.908842, 48.71823], [1.90883, 48.718229], [1.908795, 48.718224], [1.908621, 48.718189], [1.9085, 48.718166], [1.908394, 48.718147], [1.90818, 48.718113], [1.907866, 48.718063], [1.907656, 48.718027], [1.907536, 48.718007], [1.907504, 48.717999], [1.907456, 48.718037], [1.907371, 48.718108], [1.907312, 48.718165], [1.907296, 48.718181]]]]}, 'properties': {'idmutinvar': 'f467dab7bea8b21d70e0876dbec7963d', 'idopendata': 'f467dab7bea8b21d70e0876dbec7963d', 'datemut': '2023-11-06', 'anneemut': 2023, 'coddep': '78', 'libnatmut': 'Vente', 'vefa': False, 'valeurfonc': '421500.00', 'nbcomm': 1, 'l_codinsee': ['78220'], 'nbpar': 10, 'l_idpar': ['782200000C0225', '782200000C0227', '782200000C0229', '782200000C0230', '782200000C0231', '782200000C0232', '782200000C0233', '782200000C1080', '782200000C2913', '78220000AT0003'], 'nbparmut': 10, 'l_idparmut': ['782200000C0225', '782200000C0227', '782200000C0229', '782200000C0230', '782200000C0231', '782200000C0232', '782200000C0233', '782200000C1080', '782200000C2913', '78220000AT0003'], 'sterr': '100498.00', 'nbvolmut': 0, 'nblocmut': 1, 'l_idlocmut': ['782200015809902_0'], 'sbati': '90.00', 'codtypbien': '111', 'libtypbien': 'UNE MAISON'}}, {'id': 10284988, 'type': 'Feature', 'geometry': {'type': 'MultiPolygon', 'coordinates': [[[[1.894205, 48.724161], [1.894176, 48.724168], [1.89402, 48.724205], [1.893971, 48.724217], [1.893982, 48.724178], [1.894027, 48.724028], [1.89405, 48.723952], [1.894063, 48.723909], [1.894187, 48.723879], [1.894205, 48.724161]]]]}, 'properties': {'idmutinvar': '7d97dfe423249d2af6c6765997874d72', 'idopendata': '7d97dfe423249d2af6c6765997874d72', 'datemut': '2023-04-27', 'anneemut': 2023, 'coddep': '78', 'libnatmut': 'Vente', 'vefa': False, 'valeurfonc': '250000.00', 'nbcomm': 1, 'l_codinsee': ['78220'], 'nbpar': 1, 'l_idpar': ['78220000AR0035'], 'nbparmut': 1, 'l_idparmut': ['78220000AR0035'], 'sterr': '409.00', 'nbvolmut': 0, 'nblocmut': 2, 'l_idlocmut': ['782200015786330_0', '782200015786331_0'], 'sbati': '96.00', 'codtypbien': '112', 'libtypbien': 'DES MAISONS'}}, {'id': 10285029, 'type': 'Feature', 'geometry': {'type': 'MultiPolygon', 'coordinates': [[[[1.896028, 48.716312], [1.896055, 48.71631], [1.896063, 48.716309], [1.896184, 48.716296], [1.896193, 48.716295], [1.896305, 48.716284], [1.896311, 48.716309], [1.896389, 48.716301], [1.896395, 48.716327], [1.896317, 48.716335], [1.896187, 48.716347], [1.896067, 48.716359], [1.89604, 48.716362], [1.896028, 48.716312]]]]}, 'properties': {'idmutinvar': '13a4ef321d490b8ed21eb5c0f1c41259', 'idopendata': '13a4ef321d490b8ed21eb5c0f1c41259', 'datemut': '2023-09-25', 'anneemut': 2023, 'coddep': '78', 'libnatmut': 'Vente', 'vefa': False, 'valeurfonc': '306500.00', 'nbcomm': 1, 'l_codinsee': ['78220'], 'nbpar': 1, 'l_idpar': ['78220000AO0033'], 'nbparmut': 1, 'l_idparmut': ['78220000AO0033'], 'sterr': '132.00', 'nbvolmut': 0, 'nblocmut': 1, 'l_idlocmut': ['782200015803796_0'], 'sbati': '80.00', 'codtypbien': '111', 'libtypbien': 'UNE MAISON'}}, {'id': 10285138, 'type': 'Feature', 'geometry': {'type': 'MultiPolygon', 'coordinates': [[[[1.893708, 48.715456], [1.893668, 48.715397], [1.893607, 48.715326], [1.893766, 48.715276], [1.893764, 48.715364], [1.893767, 48.715369], [1.893806, 48.715428], [1.893708, 48.715456]]]]}, 'properties': {'idmutinvar': '43fba5539f5c7d06fb374711db96c785', 'idopendata': '43fba5539f5c7d06fb374711db96c785', 'datemut': '2023-05-16', 'anneemut': 2023, 'coddep': '78', 'libnatmut': 'Vente', 'vefa': False, 'valeurfonc': '206000.00', 'nbcomm': 1, 'l_codinsee': ['78220'], 'nbpar': 1, 'l_idpar': ['78220000AL0080'], 'nbparmut': 1, 'l_idparmut': ['78220000AL0080'], 'sterr': '150.00', 'nbvolmut': 0, 'nblocmut': 1, 'l_idlocmut': ['782200015789922_0'], 'sbati': '70.00', 'codtypbien': '111', 'libtypbien': 'UNE MAISON'}}, {'id': 10285297, 'type': 'Feature', 'geometry': {'type': 'MultiPolygon', 'coordinates': [[[[1.919004, 48.71471], [1.918991, 48.714697], [1.918661, 48.714815], [1.918656, 48.714816], [1.918645, 48.71482], [1.918637, 48.714823], [1.918516, 48.714864], [1.918524, 48.714872], [1.918652, 48.714988], [1.918671, 48.71499], [1.918683, 48.715005], [1.918749, 48.715083], [1.918822, 48.715057], [1.918848, 48.715047], [1.918962, 48.715005], [1.918974, 48.715], [1.919094, 48.714948], [1.919197, 48.714904], [1.919179, 48.714886], [1.919099, 48.714806], [1.919093, 48.7148], [1.919004, 48.71471]]]]}, 'properties': {'idmutinvar': '36f06229966fd53df36ccbda0ab72dae', 'idopendata': '36f06229966fd53df36ccbda0ab72dae', 'datemut': '2023-02-21', 'anneemut': 2023, 'coddep': '78', 'libnatmut': 'Vente', 'vefa': False, 'valeurfonc': '518846.00', 'nbcomm': 1, 'l_codinsee': ['78220'], 'nbpar': 5, 'l_idpar': ['782200000E0114', '782200000E0115', '782200000E0436', '782200000E0439', '782200000E0451'], 'nbparmut': 5, 'l_idparmut': ['782200000E0114', '782200000E0115', '782200000E0436', '782200000E0439', '782200000E0451'], 'sterr': '1155.00', 'nbvolmut': 0, 'nblocmut': 3, 'l_idlocmut': ['782200015779712_0', '782200015779713_0', '782200015779714_0'], 'sbati': '103.00', 'codtypbien': '111', 'libtypbien': 'UNE MAISON'}}, {'id': 10285416, 'type': 'Feature', 'geometry': {'type': 'MultiPolygon', 'coordinates': [[[[1.899208, 48.71781], [1.899602, 48.71772], [1.899872, 48.717658], [1.900128, 48.717598], [1.900168, 48.717494], [1.90023, 48.71733], [1.900268, 48.717227], [1.9004, 48.716896], [1.900442, 48.716796], [1.900483, 48.716695], [1.900548, 48.71653], [1.900638, 48.716302], [1.900673, 48.716278], [1.901142, 48.715958], [1.901514, 48.715703], [1.901868, 48.715891], [1.901982, 48.715934], [1.902223, 48.715992], [1.902876, 48.71623], [1.9034, 48.716484], [1.903897, 48.716677], [1.904168, 48.716764], [1.904121, 48.716785], [1.903756, 48.716947], [1.903532, 48.717047], [1.903367, 48.717121], [1.903309, 48.717146], [1.903273, 48.717162], [1.903134, 48.717225], [1.903056, 48.717259], [1.902793, 48.717376], [1.90257, 48.717476], [1.902543, 48.717488], [1.902179, 48.71765], [1.901934, 48.717759], [1.901871, 48.717787], [1.901463, 48.717966], [1.900872, 48.718225], [1.900775, 48.718271], [1.901166, 48.71877], [1.899875, 48.718499], [1.899429, 48.718028], [1.899208, 48.71781]]]]}, 'properties': {'idmutinvar': 'ca44e321050d6a885130eedb66900ba3', 'idopendata': 'ca44e321050d6a885130eedb66900ba3', 'datemut': '2023-10-30', 'anneemut': 2023, 'coddep': '78', 'libnatmut': 'Vente', 'vefa': False, 'valeurfonc': '7000.00', 'nbcomm': 1, 'l_codinsee': ['78220'], 'nbpar': 1, 'l_idpar': ['78220000AO0219'], 'nbparmut': 0, 'l_idparmut': None, 'sterr': '0.00', 'nbvolmut': 0, 'nblocmut': 1, 'l_idlocmut': ['782200015807827_0'], 'sbati': '0.00', 'codtypbien': '131', 'libtypbien': 'UNE DEPENDANCE'}}, {'id': 10285513, 'type': 'Feature', 'geometry': {'type': 'MultiPolygon', 'coordinates': [[[[1.889206, 48.720173], [1.88888, 48.720413], [1.888823, 48.720375], [1.887809, 48.719665], [1.887742, 48.719596], [1.88801, 48.719412], [1.888446, 48.719116], [1.888485, 48.719089], [1.888505, 48.719081], [1.888517, 48.719078], [1.888536, 48.719078], [1.88856, 48.71908], [1.888585, 48.719088], [1.888827, 48.71925], [1.888837, 48.71927], [1.888832, 48.719289], [1.888809, 48.719308], [1.888681, 48.719389], [1.888634, 48.719356], [1.888585, 48.719388], [1.888638, 48.719424], [1.888604, 48.719457], [1.88858, 48.719513], [1.888583, 48.719587], [1.888657, 48.719704], [1.888791, 48.719906], [1.888836, 48.719974], [1.888877, 48.720021], [1.888911, 48.720048], [1.888996, 48.720105], [1.889076, 48.720139], [1.889181, 48.720167], [1.889206, 48.720173]]]]}, 'properties': {'idmutinvar': '5b4922981e16c1d0da63b347b89010cd', 'idopendata': '5b4922981e16c1d0da63b347b89010cd', 'datemut': '2023-12-14', 'anneemut': 2023, 'coddep': '78', 'libnatmut': 'Vente', 'vefa': False, 'valeurfonc': '404530.00', 'nbcomm': 1, 'l_codinsee': ['78220'], 'nbpar': 1, 'l_idpar': ['78220000AN0030'], 'nbparmut': 0, 'l_idparmut': None, 'sterr': '0.00', 'nbvolmut': 0, 'nblocmut': 1, 'l_idlocmut': ['782200015811129_0'], 'sbati': '105.00', 'codtypbien': '111', 'libtypbien': 'UNE MAISON'}}, {'id': 10285622, 'type': 'Feature', 'geometry': {'type': 'MultiPolygon', 'coordinates': [[[[1.883998, 48.716669], [1.884191, 48.716486], [1.884359, 48.716603], [1.884125, 48.716745], [1.883998, 48.716669]]]]}, 'properties': {'idmutinvar': 'ef5de137bd4f2f3686eafc2b9541aed4', 'idopendata': 'ef5de137bd4f2f3686eafc2b9541aed4', 'datemut': '2023-10-19', 'anneemut': 2023, 'coddep': '78', 'libnatmut': 'Vente', 'vefa': False, 'valeurfonc': '350000.00', 'nbcomm': 1, 'l_codinsee': ['78220'], 'nbpar': 1, 'l_idpar': ['78220000AK0180'], 'nbparmut': 1, 'l_idparmut': ['78220000AK0180'], 'sterr': '363.00', 'nbvolmut': 0, 'nblocmut': 1, 'l_idlocmut': ['782200015806722_0'], 'sbati': '121.00', 'codtypbien': '111', 'libtypbien': 'UNE MAISON'}}, {'id': 10285789, 'type': 'Feature', 'geometry': {'type': 'MultiPolygon', 'coordinates': [[[[1.895893, 48.718423], [1.896091, 48.718368], [1.896128, 48.718357], [1.896078, 48.71802], [1.895786, 48.718166], [1.895748, 48.718186], [1.895529, 48.718296], [1.895275, 48.718424], [1.895247, 48.718438], [1.89533, 48.718511], [1.895377, 48.718571], [1.895521, 48.718528], [1.895525, 48.718527], [1.895582, 48.718511], [1.895633, 48.718497], [1.895686, 48.718482], [1.895893, 48.718423]]]]}, 'properties': {'idmutinvar': '17cf3d5a52b2eb277a1f5978f4600ca1', 'idopendata': '17cf3d5a52b2eb277a1f5978f4600ca1', 'datemut': '2023-09-14', 'anneemut': 2023, 'coddep': '78', 'libnatmut': 'Vente', 'vefa': False, 'valeurfonc': '538462.00', 'nbcomm': 1, 'l_codinsee': ['78220'], 'nbpar': 2, 'l_idpar': ['78220000AN0221', '78220000AN0222'], 'nbparmut': 2, 'l_idparmut': ['78220000AN0221', '78220000AN0222'], 'sterr': '1772.00', 'nbvolmut': 0, 'nblocmut': 4, 'l_idlocmut': ['782200015803807_0', '782200015803808_0', '782200015803809_0', '782200015803810_0'], 'sbati': '78.00', 'codtypbien': '111', 'libtypbien': 'UNE MAISON'}}, {'id': 10286058, 'type': 'Feature', 'geometry': {'type': 'MultiPolygon', 'coordinates': [[[[1.890484, 48.720296], [1.889914, 48.720645], [1.889616, 48.720437], [1.889666, 48.7204], [1.889656, 48.720394], [1.889692, 48.720367], [1.890018, 48.720126], [1.890027, 48.720122], [1.890041, 48.720116], [1.890056, 48.720112], [1.890075, 48.72011], [1.890097, 48.72011], [1.890118, 48.720115], [1.890137, 48.720124], [1.890484, 48.720296]]]]}, 'properties': {'idmutinvar': 'fa231ecbdd12ad32b36a0a1591e30ff5', 'idopendata': 'fa231ecbdd12ad32b36a0a1591e30ff5', 'datemut': '2023-06-16', 'anneemut': 2023, 'coddep': '78', 'libnatmut': 'Vente', 'vefa': False, 'valeurfonc': '188510.00', 'nbcomm': 1, 'l_codinsee': ['78220'], 'nbpar': 1, 'l_idpar': ['78220000AN0028'], 'nbparmut': 0, 'l_idparmut': None, 'sterr': '0.00', 'nbvolmut': 0, 'nblocmut': 7, 'l_idlocmut': ['782200015795162_0', '782200015795163_0', '782200015795164_0', '782200015795165_0', '782200015795166_0', '782200015795167_0', '782200015795168_0'], 'sbati': '179.00', 'codtypbien': '122', 'libtypbien': 'DEUX APPARTEMENTS'}}, {'id': 10286084, 'type': 'Feature', 'geometry': {'type': 'MultiPolygon', 'coordinates': [[[[1.861484, 48.718931], [1.861433, 48.718938], [1.86153, 48.719065], [1.861528, 48.719077], [1.861591, 48.719069], [1.861629, 48.719124], [1.861719, 48.719094], [1.861784, 48.719068], [1.861817, 48.719055], [1.861816, 48.719051], [1.861813, 48.719052], [1.861783, 48.719021], [1.861707, 48.719054], [1.861674, 48.719023], [1.86161, 48.71896], [1.861591, 48.718968], [1.861575, 48.718963], [1.861563, 48.718948], [1.861586, 48.718939], [1.861568, 48.718921], [1.861484, 48.718931]]]]}, 'properties': {'idmutinvar': '3f5a421e56ba66d2bbe0a72290d16897', 'idopendata': '3f5a421e56ba66d2bbe0a72290d16897', 'datemut': '2023-09-11', 'anneemut': 2023, 'coddep': '78', 'libnatmut': 'Vente', 'vefa': False, 'valeurfonc': '310300.00', 'nbcomm': 1, 'l_codinsee': ['78220'], 'nbpar': 2, 'l_idpar': ['78220000AC0159', '78220000AC0186'], 'nbparmut': 2, 'l_idparmut': ['78220000AC0159', '78220000AC0186'], 'sterr': '259.00', 'nbvolmut': 0, 'nblocmut': 1, 'l_idlocmut': ['782200015803290_0'], 'sbati': '80.00', 'codtypbien': '111', 'libtypbien': 'UNE MAISON'}}, {'id': 10286310, 'type': 'Feature', 'geometry': {'type': 'MultiPolygon', 'coordinates': [[[[1.892033, 48.721267], [1.892097, 48.721252], [1.892102, 48.72125], [1.892242, 48.721217], [1.892286, 48.721206], [1.892355, 48.721348], [1.892305, 48.721359], [1.892226, 48.721376], [1.892191, 48.721383], [1.892048, 48.721413], [1.892063, 48.721313], [1.89206, 48.721308], [1.892033, 48.721267]]]]}, 'properties': {'idmutinvar': '77dfed53b17c71ec4f1c781d301e7793', 'idopendata': '77dfed53b17c71ec4f1c781d301e7793', 'datemut': '2023-04-28', 'anneemut': 2023, 'coddep': '78', 'libnatmut': 'Vente', 'vefa': False, 'valeurfonc': '437500.00', 'nbcomm': 1, 'l_codinsee': ['78220'], 'nbpar': 1, 'l_idpar': ['78220000AR0138'], 'nbparmut': 1, 'l_idparmut': ['78220000AR0138'], 'sterr': '337.00', 'nbvolmut': 0, 'nblocmut': 1, 'l_idlocmut': ['782200015786768_0'], 'sbati': '130.00', 'codtypbien': '111', 'libtypbien': 'UNE MAISON'}}, {'id': 10286341, 'type': 'Feature', 'geometry': {'type': 'MultiPolygon', 'coordinates': [[[[1.88442, 48.717919], [1.884581, 48.717612], [1.884656, 48.717471], [1.884801, 48.717507], [1.884837, 48.717514], [1.884884, 48.717509], [1.88483, 48.717857], [1.884653, 48.717884], [1.88442, 48.717919]]]]}, 'properties': {'idmutinvar': '95dd19408ca6bf421d3e15c17e6b7f89', 'idopendata': '95dd19408ca6bf421d3e15c17e6b7f89', 'datemut': '2023-12-28', 'anneemut': 2023, 'coddep': '78', 'libnatmut': 'Vente', 'vefa': False, 'valeurfonc': '484600.00', 'nbcomm': 1, 'l_codinsee': ['78220'], 'nbpar': 1, 'l_idpar': ['78220000AK0157'], 'nbparmut': 1, 'l_idparmut': ['78220000AK0157'], 'sterr': '1002.00', 'nbvolmut': 0, 'nblocmut': 1, 'l_idlocmut': ['782200015812736_0'], 'sbati': '151.00', 'codtypbien': '111', 'libtypbien': 'UNE MAISON'}}, {'id': 10286371, 'type': 'Feature', 'geometry': {'type': 'MultiPolygon', 'coordinates': [[[[1.889648, 48.720997], [1.889735, 48.721057], [1.889984, 48.72123], [1.889902, 48.721283], [1.889786, 48.721202], [1.889771, 48.721204], [1.889677, 48.721139], [1.889611, 48.721096], [1.889551, 48.72106], [1.889598, 48.721029], [1.889648, 48.720997]]]]}, 'properties': {'idmutinvar': 'a3844536b22e2718c60af68bf850188a', 'idopendata': 'a3844536b22e2718c60af68bf850188a', 'datemut': '2023-04-06', 'anneemut': 2023, 'coddep': '78', 'libnatmut': 'Vente', 'vefa': False, 'valeurfonc': '127000.00', 'nbcomm': 1, 'l_codinsee': ['78220'], 'nbpar': 1, 'l_idpar': ['78220000AN0012'], 'nbparmut': 0, 'l_idparmut': None, 'sterr': '0.00', 'nbvolmut': 0, 'nblocmut': 1, 'l_idlocmut': ['782200015784955_0'], 'sbati': '40.00', 'codtypbien': '121', 'libtypbien': 'UN APPARTEMENT'}}, {'id': 10286487, 'type': 'Feature', 'geometry': {'type': 'MultiPolygon', 'coordinates': [[[[1.904421, 48.727546], [1.904472, 48.727488], [1.903939, 48.72728], [1.903943, 48.727256], [1.903796, 48.727291], [1.903831, 48.727342], [1.903833, 48.727345], [1.903953, 48.727513], [1.903982, 48.727553], [1.904155, 48.72749], [1.904304, 48.727548], [1.904362, 48.727571], [1.904337, 48.7276], [1.904363, 48.72761], [1.904403, 48.727566], [1.904421, 48.727546]]]]}, 'properties': {'idmutinvar': 'faab150f996d35676083240c5d5795b2', 'idopendata': 'faab150f996d35676083240c5d5795b2', 'datemut': '2023-06-14', 'anneemut': 2023, 'coddep': '78', 'libnatmut': 'Vente', 'vefa': False, 'valeurfonc': '350000.00', 'nbcomm': 1, 'l_codinsee': ['78220'], 'nbpar': 4, 'l_idpar': ['78220000AV0312', '78220000AV0313', '78220000AV0314', '78220000AV0315'], 'nbparmut': 4, 'l_idparmut': ['78220000AV0312', '78220000AV0313', '78220000AV0314', '78220000AV0315'], 'sterr': '780.00', 'nbvolmut': 0, 'nblocmut': 2, 'l_idlocmut': ['782200015792228_0', '782200015792229_0'], 'sbati': '187.00', 'codtypbien': '111', 'libtypbien': 'UNE MAISON'}}, {'id': 10286865, 'type': 'Feature', 'geometry': {'type': 'MultiPolygon', 'coordinates': [[[[1.899208, 48.71781], [1.899602, 48.71772], [1.899872, 48.717658], [1.900128, 48.717598], [1.900168, 48.717494], [1.90023, 48.71733], [1.900268, 48.717227], [1.9004, 48.716896], [1.900442, 48.716796], [1.900483, 48.716695], [1.900548, 48.71653], [1.900638, 48.716302], [1.900673, 48.716278], [1.901142, 48.715958], [1.901514, 48.715703], [1.901868, 48.715891], [1.901982, 48.715934], [1.902223, 48.715992], [1.902876, 48.71623], [1.9034, 48.716484], [1.903897, 48.716677], [1.904168, 48.716764], [1.904121, 48.716785], [1.903756, 48.716947], [1.903532, 48.717047], [1.903367, 48.717121], [1.903309, 48.717146], [1.903273, 48.717162], [1.903134, 48.717225], [1.903056, 48.717259], [1.902793, 48.717376], [1.90257, 48.717476], [1.902543, 48.717488], [1.902179, 48.71765], [1.901934, 48.717759], [1.901871, 48.717787], [1.901463, 48.717966], [1.900872, 48.718225], [1.900775, 48.718271], [1.901166, 48.71877], [1.899875, 48.718499], [1.899429, 48.718028], [1.899208, 48.71781]]]]}, 'properties': {'idmutinvar': '0e63f31c686592f3fe4cb8b15561a036', 'idopendata': '0e63f31c686592f3fe4cb8b15561a036', 'datemut': '2023-11-21', 'anneemut': 2023, 'coddep': '78', 'libnatmut': 'Vente', 'vefa': False, 'valeurfonc': '344000.00', 'nbcomm': 1, 'l_codinsee': ['78220'], 'nbpar': 1, 'l_idpar': ['78220000AO0219'], 'nbparmut': 0, 'l_idparmut': None, 'sterr': '0.00', 'nbvolmut': 0, 'nblocmut': 1, 'l_idlocmut': ['782200015810266_0'], 'sbati': '148.00', 'codtypbien': '111', 'libtypbien': 'UNE MAISON'}}, {'id': 10287307, 'type': 'Feature', 'geometry': {'type': 'MultiPolygon', 'coordinates': [[[[1.89733, 48.72444], [1.896918, 48.724585], [1.896698, 48.724313], [1.896973, 48.724216], [1.896982, 48.724213], [1.897, 48.724208], [1.897019, 48.724205], [1.897038, 48.724204], [1.897058, 48.724204], [1.897078, 48.724206], [1.897097, 48.724209], [1.897115, 48.724214], [1.897132, 48.724221], [1.897148, 48.724228], [1.897162, 48.724237], [1.897174, 48.724247], [1.897184, 48.724258], [1.89733, 48.72444]]]]}, 'properties': {'idmutinvar': '8f343e8c5ea48a3c382d117d5c295cd2', 'idopendata': '8f343e8c5ea48a3c382d117d5c295cd2', 'datemut': '2023-11-13', 'anneemut': 2023, 'coddep': '78', 'libnatmut': 'Vente', 'vefa': False, 'valeurfonc': '380000.00', 'nbcomm': 1, 'l_codinsee': ['78220'], 'nbpar': 1, 'l_idpar': ['78220000AT0035'], 'nbparmut': 1, 'l_idparmut': ['78220000AT0035'], 'sterr': '1153.00', 'nbvolmut': 0, 'nblocmut': 1, 'l_idlocmut': ['782200015809202_0'], 'sbati': '290.00', 'codtypbien': '14', 'libtypbien': 'ACTIVITE'}}, {'id': 10287428, 'type': 'Feature', 'geometry': {'type': 'MultiPolygon', 'coordinates': [[[[1.894052, 48.717609], [1.893981, 48.717644], [1.893927, 48.717668], [1.893894, 48.717682], [1.893827, 48.71771], [1.893803, 48.717721], [1.893799, 48.717718], [1.893776, 48.717697], [1.893763, 48.717686], [1.893755, 48.717679], [1.893854, 48.717629], [1.893871, 48.71762], [1.893993, 48.717559], [1.894052, 48.717609]]]]}, 'properties': {'idmutinvar': '177843988b313de2bb31bb27d0fadbbd', 'idopendata': '177843988b313de2bb31bb27d0fadbbd', 'datemut': '2023-01-02', 'anneemut': 2023, 'coddep': '78', 'libnatmut': 'Vente', 'vefa': False, 'valeurfonc': '287500.00', 'nbcomm': 1, 'l_codinsee': ['78220'], 'nbpar': 1, 'l_idpar': ['78220000AN0073'], 'nbparmut': 0, 'l_idparmut': None, 'sterr': '0.00', 'nbvolmut': 0, 'nblocmut': 2, 'l_idlocmut': ['782200015775246_0', '782200015775247_0'], 'sbati': '90.00', 'codtypbien': '152', 'libtypbien': 'BATI MIXTE - LOGEMENT/ACTIVITE'}}, {'id': 10287605, 'type': 'Feature', 'geometry': {'type': 'MultiPolygon', 'coordinates': [[[[1.899208, 48.71781], [1.899602, 48.71772], [1.899872, 48.717658], [1.900128, 48.717598], [1.900168, 48.717494], [1.90023, 48.71733], [1.900268, 48.717227], [1.9004, 48.716896], [1.900442, 48.716796], [1.900483, 48.716695], [1.900548, 48.71653], [1.900638, 48.716302], [1.900673, 48.716278], [1.901142, 48.715958], [1.901514, 48.715703], [1.901868, 48.715891], [1.901982, 48.715934], [1.902223, 48.715992], [1.902876, 48.71623], [1.9034, 48.716484], [1.903897, 48.716677], [1.904168, 48.716764], [1.904121, 48.716785], [1.903756, 48.716947], [1.903532, 48.717047], [1.903367, 48.717121], [1.903309, 48.717146], [1.903273, 48.717162], [1.903134, 48.717225], [1.903056, 48.717259], [1.902793, 48.717376], [1.90257, 48.717476], [1.902543, 48.717488], [1.902179, 48.71765], [1.901934, 48.717759], [1.901871, 48.717787], [1.901463, 48.717966], [1.900872, 48.718225], [1.900775, 48.718271], [1.901166, 48.71877], [1.899875, 48.718499], [1.899429, 48.718028], [1.899208, 48.71781]]]]}, 'properties': {'idmutinvar': '534366c11486115f59c879e0fffcb6cd', 'idopendata': '534366c11486115f59c879e0fffcb6cd', 'datemut': '2023-12-08', 'anneemut': 2023, 'coddep': '78', 'libnatmut': 'Vente', 'vefa': False, 'valeurfonc': '205000.00', 'nbcomm': 1, 'l_codinsee': ['78220'], 'nbpar': 1, 'l_idpar': ['78220000AO0219'], 'nbparmut': 0, 'l_idparmut': None, 'sterr': '0.00', 'nbvolmut': 0, 'nblocmut': 5, 'l_idlocmut': ['782200015811654_0', '782200015811655_0', '782200015811656_0', '782200015811657_0', '782200015811658_0'], 'sbati': '83.00', 'codtypbien': '121', 'libtypbien': 'UN APPARTEMENT'}}, {'id': 10287668, 'type': 'Feature', 'geometry': {'type': 'MultiPolygon', 'coordinates': [[[[1.896147, 48.718459], [1.896134, 48.71839], [1.896128, 48.718357], [1.896091, 48.718368], [1.895893, 48.718423], [1.895686, 48.718482], [1.895633, 48.718497], [1.895582, 48.718511], [1.895525, 48.718527], [1.895521, 48.718528], [1.895377, 48.718571], [1.895431, 48.718663], [1.895496, 48.718767], [1.895552, 48.71875], [1.895614, 48.718731], [1.895635, 48.718725], [1.895773, 48.718682], [1.896165, 48.718561], [1.896147, 48.718459]]]]}, 'properties': {'idmutinvar': '0b82f6d79a024ee54b816011c64287f7', 'idopendata': '0b82f6d79a024ee54b816011c64287f7', 'datemut': '2023-11-15', 'anneemut': 2023, 'coddep': '78', 'libnatmut': 'Vente', 'vefa': False, 'valeurfonc': '850000.00', 'nbcomm': 1, 'l_codinsee': ['78220'], 'nbpar': 3, 'l_idpar': ['78220000AN0278', '78220000AN0279', '78220000AN0280'], 'nbparmut': 3, 'l_idparmut': ['78220000AN0278', '78220000AN0279', '78220000AN0280'], 'sterr': '1303.00', 'nbvolmut': 0, 'nblocmut': 3, 'l_idlocmut': ['782200015809881_0', '782200015809882_0', '782200015809883_0'], 'sbati': '235.00', 'codtypbien': '111', 'libtypbien': 'UNE MAISON'}}, {'id': 10287720, 'type': 'Feature', 'geometry': {'type': 'MultiPolygon', 'coordinates': [[[[1.890916, 48.720621], [1.890722, 48.720442], [1.890493, 48.72063], [1.890623, 48.720754], [1.890714, 48.720713], [1.890814, 48.720667], [1.890873, 48.720641], [1.891038, 48.720791], [1.891242, 48.720978], [1.891411, 48.721133], [1.891442, 48.721104], [1.89108, 48.720773], [1.890916, 48.720621]]]]}, 'properties': {'idmutinvar': '7ac8ad6e79dd332fefc57ce1a589bf9f', 'idopendata': '7ac8ad6e79dd332fefc57ce1a589bf9f', 'datemut': '2023-11-02', 'anneemut': 2023, 'coddep': '78', 'libnatmut': 'Vente', 'vefa': False, 'valeurfonc': '124000.00', 'nbcomm': 1, 'l_codinsee': ['78220'], 'nbpar': 2, 'l_idpar': ['78220000AN0024', '78220000AN0027'], 'nbparmut': 2, 'l_idparmut': ['78220000AN0024', '78220000AN0027'], 'sterr': '766.00', 'nbvolmut': 0, 'nblocmut': 1, 'l_idlocmut': ['782200015807684_0'], 'sbati': '103.00', 'codtypbien': '111', 'libtypbien': 'UNE MAISON'}}, {'id': 10288131, 'type': 'Feature', 'geometry': {'type': 'MultiPolygon', 'coordinates': [[[[1.890484, 48.720296], [1.889914, 48.720645], [1.889616, 48.720437], [1.889666, 48.7204], [1.889656, 48.720394], [1.889692, 48.720367], [1.890018, 48.720126], [1.890027, 48.720122], [1.890041, 48.720116], [1.890056, 48.720112], [1.890075, 48.72011], [1.890097, 48.72011], [1.890118, 48.720115], [1.890137, 48.720124], [1.890484, 48.720296]]]]}, 'properties': {'idmutinvar': 'd0b777d994c0cce0bce2f410a85c7ed8', 'idopendata': 'd0b777d994c0cce0bce2f410a85c7ed8', 'datemut': '2023-03-20', 'anneemut': 2023, 'coddep': '78', 'libnatmut': 'Vente', 'vefa': False, 'valeurfonc': '188510.00', 'nbcomm': 1, 'l_codinsee': ['78220'], 'nbpar': 1, 'l_idpar': ['78220000AN0028'], 'nbparmut': 0, 'l_idparmut': None, 'sterr': '0.00', 'nbvolmut': 0, 'nblocmut': 4, 'l_idlocmut': ['782200015785236_0', '782200015785237_0', '782200015785238_0', '782200015785239_0'], 'sbati': '81.00', 'codtypbien': '121', 'libtypbien': 'UN APPARTEMENT'}}, {'id': 10288136, 'type': 'Feature', 'geometry': {'type': 'MultiPolygon', 'coordinates': [[[[1.896075, 48.715858], [1.896152, 48.715859], [1.896164, 48.715911], [1.896182, 48.715989], [1.896186, 48.716007], [1.896198, 48.716059], [1.896159, 48.716062], [1.896123, 48.716066], [1.896111, 48.716014], [1.896107, 48.715996], [1.896089, 48.715918], [1.896075, 48.715858]]]]}, 'properties': {'idmutinvar': 'e73f54dd29e4b6b4190c8e7aa4ad8d3d', 'idopendata': 'e73f54dd29e4b6b4190c8e7aa4ad8d3d', 'datemut': '2023-05-12', 'anneemut': 2023, 'coddep': '78', 'libnatmut': 'Vente', 'vefa': False, 'valeurfonc': '312733.00', 'nbcomm': 1, 'l_codinsee': ['78220'], 'nbpar': 1, 'l_idpar': ['78220000AO0041'], 'nbparmut': 1, 'l_idparmut': ['78220000AO0041'], 'sterr': '128.00', 'nbvolmut': 0, 'nblocmut': 1, 'l_idlocmut': ['782200015787717_0'], 'sbati': '87.00', 'codtypbien': '111', 'libtypbien': 'UNE MAISON'}}, {'id': 10288158, 'type': 'Feature', 'geometry': {'type': 'MultiPolygon', 'coordinates': [[[[1.908661, 48.720929], [1.908691, 48.720929], [1.908691, 48.720912], [1.908689, 48.720857], [1.908686, 48.720746], [1.908686, 48.720741], [1.908624, 48.720738], [1.908523, 48.720741], [1.908524, 48.720751], [1.908529, 48.720908], [1.908499, 48.720909], [1.908531, 48.721104], [1.908535, 48.721134], [1.90855, 48.721223], [1.908604, 48.721558], [1.908676, 48.72156], [1.908769, 48.721564], [1.908703, 48.721175], [1.908661, 48.720929]]]]}, 'properties': {'idmutinvar': '827f687ac4a50d0985363e11e321a152', 'idopendata': '827f687ac4a50d0985363e11e321a152', 'datemut': '2023-10-06', 'anneemut': 2023, 'coddep': '78', 'libnatmut': 'Vente', 'vefa': False, 'valeurfonc': '237070.00', 'nbcomm': 2, 'l_codinsee': ['78220', '78334'], 'nbpar': 2, 'l_idpar': ['78220000AP0100', '783340000B2528'], 'nbparmut': 2, 'l_idparmut': ['78220000AP0100', '783340000B2528'], 'sterr': '1103.00', 'nbvolmut': 0, 'nblocmut': 2, 'l_idlocmut': ['783340015805118_0', '783340015805119_0'], 'sbati': '56.00', 'codtypbien': '111', 'libtypbien': 'UNE MAISON'}}, {'id': 10288177, 'type': 'Feature', 'geometry': {'type': 'MultiPolygon', 'coordinates': [[[[1.898278, 48.717913], [1.898294, 48.717978], [1.898324, 48.718108], [1.898343, 48.718187], [1.898354, 48.718236], [1.898423, 48.718242], [1.898363, 48.717971], [1.898345, 48.717904], [1.898278, 48.717913]]], [[[1.899757, 48.716997], [1.899948, 48.716911], [1.900044, 48.716866], [1.900094, 48.716835], [1.900137, 48.7168], [1.900159, 48.716778], [1.900176, 48.716743], [1.900218, 48.716643], [1.900228, 48.716615], [1.900242, 48.716575], [1.900247, 48.716537], [1.900248, 48.716507], [1.900244, 48.71647], [1.900228, 48.716428], [1.900204, 48.716387], [1.900178, 48.71635], [1.900076, 48.716206], [1.899955, 48.716034], [1.899937, 48.716001], [1.899933, 48.715984], [1.89993, 48.715971], [1.899933, 48.715923], [1.899952, 48.71587], [1.899984, 48.715826], [1.900096, 48.715681], [1.900104, 48.71567], [1.900119, 48.715659], [1.900187, 48.715626], [1.900249, 48.71559], [1.900274, 48.715571], [1.900292, 48.715545], [1.900327, 48.715426], [1.900327, 48.715393], [1.900314, 48.715369], [1.900293, 48.715349], [1.900268, 48.715332], [1.900241, 48.715315], [1.900198, 48.715293], [1.90018, 48.715281], [1.900177, 48.715256], [1.900168, 48.715181], [1.900184, 48.715154], [1.900213, 48.715131], [1.900251, 48.715115], [1.900309, 48.715106], [1.899965, 48.715071], [1.900016, 48.715086], [1.900047, 48.715125], [1.900053, 48.715143], [1.900062, 48.715226], [1.900067, 48.715283], [1.900079, 48.715383], [1.900071, 48.715418], [1.90006, 48.715456], [1.900005, 48.715599], [1.899974, 48.715668], [1.899903, 48.715768], [1.899856, 48.715833], [1.899837, 48.715867], [1.899826, 48.715905], [1.899818, 48.715945], [1.899818, 48.715976], [1.899824, 48.716002], [1.899838, 48.716036], [1.899849, 48.716053], [1.89986, 48.716069], [1.899881, 48.716101], [1.899935, 48.716177], [1.900023, 48.716301], [1.900034, 48.716319], [1.900114, 48.716432], [1.900125, 48.716458], [1.900133, 48.716479], [1.900139, 48.716503], [1.900141, 48.716521], [1.900141, 48.716539], [1.900135, 48.71657], [1.900117, 48.716623], [1.90008, 48.716715], [1.900059, 48.716743], [1.900042, 48.716763], [1.900014, 48.716787], [1.899979, 48.716808], [1.899852, 48.716867], [1.899765, 48.716908], [1.899759, 48.716911], [1.899719, 48.716924], [1.899693, 48.716932], [1.899667, 48.716937], [1.899635, 48.716943], [1.8996, 48.716946], [1.899565, 48.716941], [1.899326, 48.716897], [1.899296, 48.716889], [1.899282, 48.716873], [1.899286, 48.716856], [1.899342, 48.716732], [1.899416, 48.71657], [1.899429, 48.716541], [1.899445, 48.716527], [1.899495, 48.71651], [1.899542, 48.716487], [1.899564, 48.716466], [1.899599, 48.716389], [1.899453, 48.716361], [1.899236, 48.716319], [1.899122, 48.716248], [1.899186, 48.716106], [1.899219, 48.716037], [1.899077, 48.716009], [1.898908, 48.715979], [1.898878, 48.715967], [1.898875, 48.715965], [1.89886, 48.715947], [1.898977, 48.715687], [1.899052, 48.715523], [1.899132, 48.715343], [1.899142, 48.715316], [1.899172, 48.715201], [1.899182, 48.715163], [1.899197, 48.715094], [1.89921, 48.715078], [1.899236, 48.715061], [1.899311, 48.71504], [1.898965, 48.715062], [1.899018, 48.715066], [1.899039, 48.715075], [1.899056, 48.715088], [1.89907, 48.715103], [1.899077, 48.71512], [1.899079, 48.715138], [1.89906, 48.715213], [1.899049, 48.71525], [1.899024, 48.71533], [1.899002, 48.715383], [1.898979, 48.715433], [1.89891, 48.715586], [1.898831, 48.715762], [1.898765, 48.715909], [1.898712, 48.71603], [1.898646, 48.716176], [1.898639, 48.716206], [1.898637, 48.716231], [1.898638, 48.71625], [1.89865, 48.716321], [1.898676, 48.716481], [1.89869, 48.716537], [1.898705, 48.716582], [1.89878, 48.716703], [1.89889, 48.716862], [1.898926, 48.716914], [1.898846, 48.717097], [1.898785, 48.717244], [1.898818, 48.71725], [1.898851, 48.717256], [1.898872, 48.717211], [1.898938, 48.717058], [1.898991, 48.716942], [1.899008, 48.716924], [1.899256, 48.71697], [1.899467, 48.717008], [1.899495, 48.717018], [1.899511, 48.71704], [1.899507, 48.717064], [1.899459, 48.717172], [1.899403, 48.717299], [1.899334, 48.717458], [1.899322, 48.717482], [1.8993, 48.717509], [1.89913, 48.717634], [1.898937, 48.717771], [1.898915, 48.717782], [1.898891, 48.717792], [1.898866, 48.717799], [1.898844, 48.717799], [1.898816, 48.717796], [1.89877, 48.717785], [1.898742, 48.717765], [1.898666, 48.717702], [1.898549, 48.717603], [1.898404, 48.717482], [1.898382, 48.717463], [1.898362, 48.717443], [1.898323, 48.717299], [1.898254, 48.717298], [1.898283, 48.717414], [1.898348, 48.71747], [1.898313, 48.71747], [1.898261, 48.717426], [1.898231, 48.717316], [1.898136, 48.717315], [1.898154, 48.717371], [1.898144, 48.717372], [1.898161, 48.717426], [1.898239, 48.717455], [1.898276, 48.717487], [1.898457, 48.71764], [1.898611, 48.71777], [1.898761, 48.717897], [1.898781, 48.717924], [1.898606, 48.717944], [1.898679, 48.718244], [1.898685, 48.718266], [1.89901, 48.718312], [1.899004, 48.718287], [1.898958, 48.718092], [1.898914, 48.717913], [1.899051, 48.717897], [1.899233, 48.717875], [1.899185, 48.717827], [1.899142, 48.717803], [1.899052, 48.717755], [1.898965, 48.717818], [1.898908, 48.717838], [1.898868, 48.717846], [1.898814, 48.717848], [1.898768, 48.717835], [1.898716, 48.717811], [1.898512, 48.717639], [1.898335, 48.717488], [1.89837, 48.717488], [1.898737, 48.717801], [1.898783, 48.717822], [1.898824, 48.717833], [1.898866, 48.717829], [1.8989, 48.717822], [1.898953, 48.717803], [1.899033, 48.717744], [1.899062, 48.717722], [1.899111, 48.717751], [1.899208, 48.71781], [1.899602, 48.71772], [1.899469, 48.717638], [1.899448, 48.717625], [1.899399, 48.717596], [1.899378, 48.717583], [1.899359, 48.717572], [1.899389, 48.717546], [1.89941, 48.717523], [1.89943, 48.717489], [1.899442, 48.71746], [1.899515, 48.717296], [1.89969, 48.717331], [1.900168, 48.717494], [1.90023, 48.71733], [1.900268, 48.717227], [1.900095, 48.717087], [1.899786, 48.717102], [1.89977, 48.717096], [1.899803, 48.717045], [1.899757, 48.716997]], [[1.898956, 48.716663], [1.898898, 48.71658], [1.898827, 48.7166], [1.898806, 48.716557], [1.898786, 48.716499], [1.898781, 48.716479], [1.898773, 48.716419], [1.89875, 48.716276], [1.898745, 48.716236], [1.89875, 48.716197], [1.898759, 48.716172], [1.898824, 48.71603], [1.898856, 48.716021], [1.898889, 48.716023], [1.899044, 48.716053], [1.899023, 48.716101], [1.899135, 48.716122], [1.899092, 48.716253], [1.899228, 48.716336], [1.899314, 48.716353], [1.899394, 48.716369], [1.899325, 48.716521], [1.899245, 48.716699], [1.899184, 48.716832], [1.899153, 48.716856], [1.899116, 48.71686], [1.899082, 48.716856], [1.899076, 48.716855], [1.899049, 48.71685], [1.899015, 48.716839], [1.89899, 48.716824], [1.89897, 48.716805], [1.898901, 48.716702], [1.898968, 48.716681], [1.898956, 48.716663]]]]}, 'properties': {'idmutinvar': '6e9170b09d91398750d612cf516f99fb', 'idopendata': '6e9170b09d91398750d612cf516f99fb', 'datemut': '2023-06-15', 'anneemut': 2023, 'coddep': '78', 'libnatmut': 'Vente', 'vefa': False, 'valeurfonc': '304000.00', 'nbcomm': 1, 'l_codinsee': ['78220'], 'nbpar': 9, 'l_idpar': ['78220000AO0191', '78220000AO0196', '78220000AO0199', '78220000AO0200', '78220000AO0220', '78220000AO0221', '78220000AO0222', '78220000AO0223', '78220000AO0234'], 'nbparmut': 9, 'l_idparmut': ['78220000AO0191', '78220000AO0196', '78220000AO0199', '78220000AO0200', '78220000AO0220', '78220000AO0221', '78220000AO0222', '78220000AO0223', '78220000AO0234'], 'sterr': '10653.00', 'nbvolmut': 0, 'nblocmut': 1, 'l_idlocmut': ['782200015795246_0'], 'sbati': '122.00', 'codtypbien': '111', 'libtypbien': 'UNE MAISON'}}, {'id': 10288260, 'type': 'Feature', 'geometry': {'type': 'MultiPolygon', 'coordinates': [[[[1.890484, 48.720296], [1.889914, 48.720645], [1.889616, 48.720437], [1.889666, 48.7204], [1.889656, 48.720394], [1.889692, 48.720367], [1.890018, 48.720126], [1.890027, 48.720122], [1.890041, 48.720116], [1.890056, 48.720112], [1.890075, 48.72011], [1.890097, 48.72011], [1.890118, 48.720115], [1.890137, 48.720124], [1.890484, 48.720296]]]]}, 'properties': {'idmutinvar': 'a2d8b87c761de0ad39dc013e1b02f7ed', 'idopendata': 'a2d8b87c761de0ad39dc013e1b02f7ed', 'datemut': '2023-07-12', 'anneemut': 2023, 'coddep': '78', 'libnatmut': 'Vente', 'vefa': False, 'valeurfonc': '217870.00', 'nbcomm': 1, 'l_codinsee': ['78220'], 'nbpar': 1, 'l_idpar': ['78220000AN0028'], 'nbparmut': 0, 'l_idparmut': None, 'sterr': '0.00', 'nbvolmut': 0, 'nblocmut': 4, 'l_idlocmut': ['782200015796335_0', '782200015796336_0', '782200015796337_0', '782200015796338_0'], 'sbati': '81.00', 'codtypbien': '121', 'libtypbien': 'UN APPARTEMENT'}}, {'id': 10288272, 'type': 'Feature', 'geometry': {'type': 'MultiPolygon', 'coordinates': [[[[1.858737, 48.71866], [1.859311, 48.71808], [1.859384, 48.718186], [1.85946, 48.718297], [1.859288, 48.718472], [1.859055, 48.718529], [1.858783, 48.718679], [1.858737, 48.71866]]]]}, 'properties': {'idmutinvar': 'fa38571e500a771ed7f23cb0d623ccb5', 'idopendata': 'fa38571e500a771ed7f23cb0d623ccb5', 'datemut': '2023-07-21', 'anneemut': 2023, 'coddep': '78', 'libnatmut': 'Vente', 'vefa': False, 'valeurfonc': '544980.00', 'nbcomm': 1, 'l_codinsee': ['78220'], 'nbpar': 1, 'l_idpar': ['78220000AD0062'], 'nbparmut': 1, 'l_idparmut': ['78220000AD0062'], 'sterr': '1109.00', 'nbvolmut': 0, 'nblocmut': 1, 'l_idlocmut': ['782200015797372_0'], 'sbati': '136.00', 'codtypbien': '111', 'libtypbien': 'UNE MAISON'}}, {'id': 10288998, 'type': 'Feature', 'geometry': {'type': 'MultiPolygon', 'coordinates': [[[[1.902606, 48.727798], [1.903027, 48.727729], [1.903196, 48.727963], [1.902903, 48.728007], [1.902834, 48.728018], [1.902828, 48.728019], [1.902818, 48.728019], [1.902808, 48.728019], [1.902798, 48.728018], [1.902788, 48.728016], [1.902779, 48.728013], [1.90277, 48.728009], [1.902762, 48.728005], [1.902755, 48.728], [1.902749, 48.727995], [1.902744, 48.727989], [1.902606, 48.727798]]]]}, 'properties': {'idmutinvar': 'd395e061e7bd1c996b143d1e470a0189', 'idopendata': 'd395e061e7bd1c996b143d1e470a0189', 'datemut': '2023-08-17', 'anneemut': 2023, 'coddep': '78', 'libnatmut': 'Vente', 'vefa': False, 'valeurfonc': '474105.00', 'nbcomm': 1, 'l_codinsee': ['78220'], 'nbpar': 1, 'l_idpar': ['78220000AV0044'], 'nbparmut': 1, 'l_idparmut': ['78220000AV0044'], 'sterr': '890.00', 'nbvolmut': 0, 'nblocmut': 1, 'l_idlocmut': ['782200015800479_0'], 'sbati': '120.00', 'codtypbien': '111', 'libtypbien': 'UNE MAISON'}}, {'id': 10289216, 'type': 'Feature', 'geometry': {'type': 'MultiPolygon', 'coordinates': [[[[1.887325, 48.719748], [1.886345, 48.719069], [1.886471, 48.719087], [1.886485, 48.719052], [1.886516, 48.719054], [1.886599, 48.719058], [1.886836, 48.719055], [1.887015, 48.719054], [1.887211, 48.719052], [1.887341, 48.719049], [1.887416, 48.71904], [1.88747, 48.719028], [1.887541, 48.719006], [1.887596, 48.718979], [1.887646, 48.718945], [1.887691, 48.718904], [1.887729, 48.718859], [1.887751, 48.718816], [1.887771, 48.718792], [1.887794, 48.718779], [1.887825, 48.718773], [1.8879, 48.718777], [1.888021, 48.71879], [1.888024, 48.718791], [1.887989, 48.718826], [1.888078, 48.71885], [1.888117, 48.718815], [1.888158, 48.718828], [1.888232, 48.718862], [1.888299, 48.7189], [1.888381, 48.718945], [1.888403, 48.718961], [1.888408, 48.718976], [1.888388, 48.71902], [1.888348, 48.719057], [1.887325, 48.719748]]]]}, 'properties': {'idmutinvar': '3d2d8b615933d05be9092484258aea81', 'idopendata': '3d2d8b615933d05be9092484258aea81', 'datemut': '2023-06-01', 'anneemut': 2023, 'coddep': '78', 'libnatmut': 'Vente', 'vefa': False, 'valeurfonc': '370000.00', 'nbcomm': 1, 'l_codinsee': ['78220'], 'nbpar': 1, 'l_idpar': ['78220000AK0026'], 'nbparmut': 0, 'l_idparmut': None, 'sterr': '0.00', 'nbvolmut': 0, 'nblocmut': 1, 'l_idlocmut': ['782200015791823_0'], 'sbati': '105.00', 'codtypbien': '111', 'libtypbien': 'UNE MAISON'}}, {'id': 10289246, 'type': 'Feature', 'geometry': {'type': 'MultiPolygon', 'coordinates': [[[[1.892421, 48.712885], [1.892459, 48.712984], [1.892529, 48.712971], [1.892872, 48.712913], [1.892799, 48.712778], [1.892405, 48.712845], [1.891239, 48.713042], [1.89123, 48.713043], [1.891246, 48.713074], [1.891813, 48.712978], [1.891934, 48.712958], [1.892403, 48.712878], [1.892421, 48.712885]]]]}, 'properties': {'idmutinvar': 'cf7b3b2e7cba6d23b0fdf441fd3cdd06', 'idopendata': 'cf7b3b2e7cba6d23b0fdf441fd3cdd06', 'datemut': '2023-11-17', 'anneemut': 2023, 'coddep': '78', 'libnatmut': 'Vente', 'vefa': False, 'valeurfonc': '189000.00', 'nbcomm': 1, 'l_codinsee': ['78220'], 'nbpar': 2, 'l_idpar': ['78220000AL0258', '78220000AL0259'], 'nbparmut': 2, 'l_idparmut': ['78220000AL0258', '78220000AL0259'], 'sterr': '800.00', 'nbvolmut': 0, 'nblocmut': 0, 'l_idlocmut': None, 'sbati': '0.00', 'codtypbien': '21', 'libtypbien': 'TERRAIN DE TYPE TAB'}}, {'id': 10289475, 'type': 'Feature', 'geometry': {'type': 'MultiPolygon', 'coordinates': [[[[1.892611, 48.719553], [1.892669, 48.719499], [1.892738, 48.719433], [1.892807, 48.719465], [1.89299, 48.719289], [1.892934, 48.719263], [1.893018, 48.719183], [1.893085, 48.719213], [1.893088, 48.719215], [1.89314, 48.719239], [1.893149, 48.71923], [1.893241, 48.719272], [1.893319, 48.719308], [1.893175, 48.719445], [1.893145, 48.719474], [1.893118, 48.7195], [1.893088, 48.719529], [1.892916, 48.719692], [1.892885, 48.719721], [1.892786, 48.719675], [1.892727, 48.719648], [1.892611, 48.719553]]]]}, 'properties': {'idmutinvar': '7ea7ec8dbe6c527c2a49eb15b139d9b1', 'idopendata': '7ea7ec8dbe6c527c2a49eb15b139d9b1', 'datemut': '2023-05-17', 'anneemut': 2023, 'coddep': '78', 'libnatmut': 'Vente', 'vefa': False, 'valeurfonc': '172000.00', 'nbcomm': 1, 'l_codinsee': ['78220'], 'nbpar': 1, 'l_idpar': ['78220000AN0052'], 'nbparmut': 0, 'l_idparmut': None, 'sterr': '0.00', 'nbvolmut': 0, 'nblocmut': 2, 'l_idlocmut': ['782200015790006_0', '782200015790007_0'], 'sbati': '69.00', 'codtypbien': '121', 'libtypbien': 'UN APPARTEMENT'}}, {'id': 10289517, 'type': 'Feature', 'geometry': {'type': 'MultiPolygon', 'coordinates': [[[[1.902661, 48.726572], [1.902659, 48.726569], [1.902643, 48.726564], [1.902622, 48.72656], [1.902602, 48.726564], [1.902583, 48.726574], [1.902567, 48.726584], [1.902553, 48.726592], [1.902561, 48.726596], [1.902563, 48.726597], [1.902546, 48.726611], [1.902536, 48.726606], [1.902474, 48.726649], [1.90241, 48.726691], [1.902417, 48.726701], [1.902528, 48.726855], [1.902672, 48.726812], [1.902785, 48.726779], [1.902872, 48.726754], [1.902857, 48.726737], [1.902838, 48.726715], [1.902826, 48.726702], [1.902811, 48.726686], [1.902793, 48.726668], [1.902773, 48.726648], [1.902757, 48.726633], [1.902741, 48.726618], [1.902732, 48.72661], [1.902724, 48.726603], [1.902717, 48.726598], [1.90271, 48.726593], [1.902703, 48.726589], [1.902697, 48.726586], [1.902689, 48.726582], [1.902685, 48.72658], [1.902678, 48.726578], [1.902668, 48.726574], [1.902661, 48.726572]]]]}, 'properties': {'idmutinvar': '4a78f93f6fa0e3e974e7a1f2eda873ad', 'idopendata': '4a78f93f6fa0e3e974e7a1f2eda873ad', 'datemut': '2023-06-15', 'anneemut': 2023, 'coddep': '78', 'libnatmut': 'Vente', 'vefa': False, 'valeurfonc': '475000.00', 'nbcomm': 1, 'l_codinsee': ['78220'], 'nbpar': 3, 'l_idpar': ['78220000AV0279', '78220000AV0280', '78220000AV0286'], 'nbparmut': 3, 'l_idparmut': ['78220000AV0279', '78220000AV0280', '78220000AV0286'], 'sterr': '633.00', 'nbvolmut': 0, 'nblocmut': 1, 'l_idlocmut': ['782200015791755_0'], 'sbati': '138.00', 'codtypbien': '111', 'libtypbien': 'UNE MAISON'}}, {'id': 10289820, 'type': 'Feature', 'geometry': {'type': 'MultiPolygon', 'coordinates': [[[[1.908086, 48.719586], [1.908139, 48.719576], [1.908314, 48.719543], [1.90829, 48.719366], [1.908073, 48.719432], [1.907979, 48.719456], [1.907539, 48.71957], [1.907357, 48.719617], [1.907353, 48.719703], [1.907416, 48.719696], [1.90769, 48.719665], [1.907722, 48.719659], [1.907873, 48.719626], [1.908086, 48.719586]]]]}, 'properties': {'idmutinvar': '9fff4454fef9b0b7a748185ce3019cfc', 'idopendata': '9fff4454fef9b0b7a748185ce3019cfc', 'datemut': '2023-12-22', 'anneemut': 2023, 'coddep': '78', 'libnatmut': 'Vente', 'vefa': False, 'valeurfonc': '350000.00', 'nbcomm': 1, 'l_codinsee': ['78220'], 'nbpar': 2, 'l_idpar': ['782200000C2911', '782200000C2912'], 'nbparmut': 2, 'l_idparmut': ['782200000C2911', '782200000C2912'], 'sterr': '1064.00', 'nbvolmut': 0, 'nblocmut': 1, 'l_idlocmut': ['782200015813198_0'], 'sbati': '90.00', 'codtypbien': '111', 'libtypbien': 'UNE MAISON'}}, {'id': 10289855, 'type': 'Feature', 'geometry': {'type': 'MultiPolygon', 'coordinates': [[[[1.899208, 48.71781], [1.899602, 48.71772], [1.899872, 48.717658], [1.900128, 48.717598], [1.900168, 48.717494], [1.90023, 48.71733], [1.900268, 48.717227], [1.9004, 48.716896], [1.900442, 48.716796], [1.900483, 48.716695], [1.900548, 48.71653], [1.900638, 48.716302], [1.900673, 48.716278], [1.901142, 48.715958], [1.901514, 48.715703], [1.901868, 48.715891], [1.901982, 48.715934], [1.902223, 48.715992], [1.902876, 48.71623], [1.9034, 48.716484], [1.903897, 48.716677], [1.904168, 48.716764], [1.904121, 48.716785], [1.903756, 48.716947], [1.903532, 48.717047], [1.903367, 48.717121], [1.903309, 48.717146], [1.903273, 48.717162], [1.903134, 48.717225], [1.903056, 48.717259], [1.902793, 48.717376], [1.90257, 48.717476], [1.902543, 48.717488], [1.902179, 48.71765], [1.901934, 48.717759], [1.901871, 48.717787], [1.901463, 48.717966], [1.900872, 48.718225], [1.900775, 48.718271], [1.901166, 48.71877], [1.899875, 48.718499], [1.899429, 48.718028], [1.899208, 48.71781]]]]}, 'properties': {'idmutinvar': '9b53ea8610e2ae83281f7c182192e3ba', 'idopendata': '9b53ea8610e2ae83281f7c182192e3ba', 'datemut': '2023-02-16', 'anneemut': 2023, 'coddep': '78', 'libnatmut': 'Vente', 'vefa': False, 'valeurfonc': '125840.00', 'nbcomm': 1, 'l_codinsee': ['78220'], 'nbpar': 1, 'l_idpar': ['78220000AO0219'], 'nbparmut': 0, 'l_idparmut': None, 'sterr': '0.00', 'nbvolmut': 0, 'nblocmut': 3, 'l_idlocmut': ['782200015780674_0', '782200015780675_0', '782200015780676_0'], 'sbati': '27.00', 'codtypbien': '121', 'libtypbien': 'UN APPARTEMENT'}}]\n"
     ]
    }
   ],
   "source": [
    "print(data[\"features\"])"
   ]
  },
  {
   "cell_type": "code",
   "execution_count": 6,
   "metadata": {},
   "outputs": [
    {
     "name": "stdout",
     "output_type": "stream",
     "text": [
      "         id     type                                           geometry  \\\n",
      "0  10179531  Feature  {'type': 'MultiPolygon', 'coordinates': [[[[1....   \n",
      "1  10179925  Feature  {'type': 'MultiPolygon', 'coordinates': [[[[1....   \n",
      "2  10179958  Feature  {'type': 'MultiPolygon', 'coordinates': [[[[1....   \n",
      "3  10180369  Feature  {'type': 'MultiPolygon', 'coordinates': [[[[1....   \n",
      "4  10180454  Feature  {'type': 'MultiPolygon', 'coordinates': [[[[1....   \n",
      "\n",
      "                                          properties  \n",
      "0  {'idmutinvar': '02770392cd0518ff5cfedef603fbe5...  \n",
      "1  {'idmutinvar': '0fd6a5a5302c8f571b609895e6b8d0...  \n",
      "2  {'idmutinvar': '7c302dd087b66bc3ed16e217713986...  \n",
      "3  {'idmutinvar': '5a54c5ecc046b898a465647c288a07...  \n",
      "4  {'idmutinvar': 'de094980803a4d6c80831ae8a99f1f...  \n",
      "Index(['id', 'type', 'geometry', 'properties'], dtype='object')\n"
     ]
    }
   ],
   "source": [
    "# Conversion en DataFrame pandas\n",
    "df = pd.DataFrame(data[\"features\"])\n",
    "print(df.head())\n",
    "print(df.columns)"
   ]
  },
  {
   "cell_type": "code",
   "execution_count": 28,
   "metadata": {},
   "outputs": [
    {
     "data": {
      "text/html": [
       "<div>\n",
       "<style scoped>\n",
       "    .dataframe tbody tr th:only-of-type {\n",
       "        vertical-align: middle;\n",
       "    }\n",
       "\n",
       "    .dataframe tbody tr th {\n",
       "        vertical-align: top;\n",
       "    }\n",
       "\n",
       "    .dataframe thead th {\n",
       "        text-align: right;\n",
       "    }\n",
       "</style>\n",
       "<table border=\"1\" class=\"dataframe\">\n",
       "  <thead>\n",
       "    <tr style=\"text-align: right;\">\n",
       "      <th></th>\n",
       "      <th>id</th>\n",
       "      <th>type</th>\n",
       "      <th>geometry</th>\n",
       "      <th>properties</th>\n",
       "    </tr>\n",
       "  </thead>\n",
       "  <tbody>\n",
       "    <tr>\n",
       "      <th>0</th>\n",
       "      <td>10179531</td>\n",
       "      <td>Feature</td>\n",
       "      <td>{'type': 'MultiPolygon', 'coordinates': [[[[1....</td>\n",
       "      <td>{'idmutinvar': '02770392cd0518ff5cfedef603fbe5...</td>\n",
       "    </tr>\n",
       "  </tbody>\n",
       "</table>\n",
       "</div>"
      ],
      "text/plain": [
       "         id     type                                           geometry  \\\n",
       "0  10179531  Feature  {'type': 'MultiPolygon', 'coordinates': [[[[1....   \n",
       "\n",
       "                                          properties  \n",
       "0  {'idmutinvar': '02770392cd0518ff5cfedef603fbe5...  "
      ]
     },
     "execution_count": 28,
     "metadata": {},
     "output_type": "execute_result"
    }
   ],
   "source": [
    "df.head(1)"
   ]
  },
  {
   "cell_type": "markdown",
   "metadata": {},
   "source": [
    "On a importé un fichier geojson mais qu'on a traité comme un json classique ; le code ci-dessous vise à mieux prendre en compte cette dimension spatiale (et le côté \"geo\" du fichier geojson)"
   ]
  },
  {
   "cell_type": "code",
   "execution_count": 7,
   "metadata": {},
   "outputs": [
    {
     "name": "stderr",
     "output_type": "stream",
     "text": [
      "Skipping field l_codinsee: unsupported OGR type: 5\n",
      "Skipping field l_idpar: unsupported OGR type: 5\n",
      "Skipping field l_idparmut: unsupported OGR type: 5\n",
      "Skipping field l_idlocmut: unsupported OGR type: 5\n"
     ]
    },
    {
     "name": "stdout",
     "output_type": "stream",
     "text": [
      "                         idmutinvar                        idopendata  \\\n",
      "0  02770392cd0518ff5cfedef603fbe5e8  02770392cd0518ff5cfedef603fbe5e8   \n",
      "1  0fd6a5a5302c8f571b609895e6b8d0b0  0fd6a5a5302c8f571b609895e6b8d0b0   \n",
      "2  7c302dd087b66bc3ed16e217713986a4  7c302dd087b66bc3ed16e217713986a4   \n",
      "3  5a54c5ecc046b898a465647c288a0729  5a54c5ecc046b898a465647c288a0729   \n",
      "4  de094980803a4d6c80831ae8a99f1f14  de094980803a4d6c80831ae8a99f1f14   \n",
      "\n",
      "     datemut  anneemut coddep libnatmut   vefa valeurfonc  nbcomm  nbpar  \\\n",
      "0 2024-01-08      2024     78     Vente  False  280740.00       1      1   \n",
      "1 2024-01-23      2024     78     Vente  False  120000.00       1      1   \n",
      "2 2024-04-04      2024     78     Vente  False  465000.00       2      2   \n",
      "3 2024-02-15      2024     78     Vente  False   90000.00       1      1   \n",
      "4 2024-06-28      2024     78     Vente  False  498874.00       1      1   \n",
      "\n",
      "   nbparmut    sterr  nbvolmut  nblocmut   sbati codtypbien  \\\n",
      "0         0     0.00         0         3   90.00        121   \n",
      "1         0     0.00         1         0    0.00        102   \n",
      "2         2  1014.00         0         4  326.00        152   \n",
      "3         0     0.00         0         3   34.00        121   \n",
      "4         1   983.00         0         1  170.00        111   \n",
      "\n",
      "                                  libtypbien  \\\n",
      "0                             UN APPARTEMENT   \n",
      "1  BATI - INDETERMINE : Vente avec volume(s)   \n",
      "2             BATI MIXTE - LOGEMENT/ACTIVITE   \n",
      "3                             UN APPARTEMENT   \n",
      "4                                 UNE MAISON   \n",
      "\n",
      "                                            geometry  \n",
      "0  MULTIPOLYGON (((1.89364 48.71596, 1.89382 48.7...  \n",
      "1  MULTIPOLYGON (((1.89657 48.71715, 1.89666 48.7...  \n",
      "2  MULTIPOLYGON (((1.90259 48.72143, 1.90255 48.7...  \n",
      "3  MULTIPOLYGON (((1.89921 48.71781, 1.8996 48.71...  \n",
      "4  MULTIPOLYGON (((1.90013 48.71268, 1.90016 48.7...  \n"
     ]
    }
   ],
   "source": [
    "mut_gdf_old = gpd.read_file(StringIO(response.text))\n",
    "\n",
    "# Afficher un aperçu des données\n",
    "print(mut_gdf_old.head())"
   ]
  },
  {
   "cell_type": "markdown",
   "metadata": {},
   "source": [
    "Ok, mieux, mais il faudrait comprendre et régler ce qui s'affiche juste au dessus \"Skipping field l_codinsee: unsupported OGR type: 5\" (et les autres erreurs du même type)"
   ]
  },
  {
   "cell_type": "markdown",
   "metadata": {},
   "source": [
    "On voit qu'il s'agit des variables qui sont de type listes (d'où le \"l_\"). Il faudrait changer ça. "
   ]
  },
  {
   "cell_type": "code",
   "execution_count": 24,
   "metadata": {},
   "outputs": [
    {
     "name": "stdout",
     "output_type": "stream",
     "text": [
      "{'idmutinvar': '02770392cd0518ff5cfedef603fbe5e8', 'idopendata': '02770392cd0518ff5cfedef603fbe5e8', 'datemut': '2024-01-08', 'anneemut': 2024, 'coddep': '78', 'libnatmut': 'Vente', 'vefa': False, 'valeurfonc': '280740.00', 'nbcomm': 1, 'l_codinsee': ['78220'], 'nbpar': 1, 'l_idpar': ['78220000AN0156'], 'nbparmut': 0, 'l_idparmut': None, 'sterr': '0.00', 'nbvolmut': 0, 'nblocmut': 3, 'l_idlocmut': ['782200015592988_0', '782200015592989_0', '782200015592990_0'], 'sbati': '90.00', 'codtypbien': '121', 'libtypbien': 'UN APPARTEMENT'}\n"
     ]
    }
   ],
   "source": [
    "print(data['features'][0]['properties'])"
   ]
  },
  {
   "cell_type": "markdown",
   "metadata": {},
   "source": [
    "Voilà la solution : "
   ]
  },
  {
   "cell_type": "code",
   "execution_count": 25,
   "metadata": {},
   "outputs": [],
   "source": [
    "for feature in data[\"features\"]:\n",
    "    properties = feature[\"properties\"]\n",
    "    for key, value in properties.items():\n",
    "        if isinstance(value, list):  # Vérifie si c'est une liste\n",
    "            properties[key] = \", \".join(map(str, value))  # Convertit en chaîne séparée par des virgules\n",
    "\n",
    "mut_gdf = gpd.GeoDataFrame.from_features(data[\"features\"])\n"
   ]
  },
  {
   "cell_type": "markdown",
   "metadata": {},
   "source": [
    "Vérifions : "
   ]
  },
  {
   "cell_type": "code",
   "execution_count": 26,
   "metadata": {},
   "outputs": [
    {
     "name": "stdout",
     "output_type": "stream",
     "text": [
      "18\n"
     ]
    }
   ],
   "source": [
    "a = 0\n",
    "for i in list(mut_gdf_old.keys()):\n",
    "    a+=1\n",
    "print(a)"
   ]
  },
  {
   "cell_type": "code",
   "execution_count": 27,
   "metadata": {},
   "outputs": [
    {
     "name": "stdout",
     "output_type": "stream",
     "text": [
      "22\n"
     ]
    }
   ],
   "source": [
    "mut_gdf.head()"
   ]
  },
  {
   "cell_type": "markdown",
   "metadata": {},
   "source": [
    "Les colonnes ont pour la plupart des types \"object\" qui nous empêchent de travailler : "
   ]
  },
  {
   "cell_type": "code",
   "execution_count": 94,
   "metadata": {},
   "outputs": [
    {
     "data": {
      "text/plain": [
       "geometry      geometry\n",
       "idmutinvar      object\n",
       "idopendata      object\n",
       "datemut         object\n",
       "anneemut         int64\n",
       "coddep          object\n",
       "libnatmut       object\n",
       "vefa              bool\n",
       "valeurfonc      object\n",
       "nbcomm           int64\n",
       "l_codinsee      object\n",
       "nbpar            int64\n",
       "l_idpar         object\n",
       "nbparmut         int64\n",
       "l_idparmut      object\n",
       "sterr           object\n",
       "nbvolmut         int64\n",
       "nblocmut         int64\n",
       "l_idlocmut      object\n",
       "sbati           object\n",
       "codtypbien      object\n",
       "libtypbien      object\n",
       "dtype: object"
      ]
     },
     "execution_count": 94,
     "metadata": {},
     "output_type": "execute_result"
    }
   ],
   "source": [
    "mut_gdf.dtypes"
   ]
  },
  {
   "cell_type": "markdown",
   "metadata": {},
   "source": [
    "On peut changer le type d'une colonne en un autre type à spécifier. Par exemple, pour changer 'sterr' en décimaux : "
   ]
  },
  {
   "cell_type": "code",
   "execution_count": 95,
   "metadata": {},
   "outputs": [],
   "source": [
    "mut_gdf['sterr']  = mut_gdf[\"sterr\"].astype(float)"
   ]
  },
  {
   "cell_type": "markdown",
   "metadata": {},
   "source": [
    "On peut vérifier :"
   ]
  },
  {
   "cell_type": "code",
   "execution_count": 96,
   "metadata": {},
   "outputs": [
    {
     "data": {
      "text/plain": [
       "geometry      geometry\n",
       "idmutinvar      object\n",
       "idopendata      object\n",
       "datemut         object\n",
       "anneemut         int64\n",
       "coddep          object\n",
       "libnatmut       object\n",
       "vefa              bool\n",
       "valeurfonc      object\n",
       "nbcomm           int64\n",
       "l_codinsee      object\n",
       "nbpar            int64\n",
       "l_idpar         object\n",
       "nbparmut         int64\n",
       "l_idparmut      object\n",
       "sterr          float64\n",
       "nbvolmut         int64\n",
       "nblocmut         int64\n",
       "l_idlocmut      object\n",
       "sbati           object\n",
       "codtypbien      object\n",
       "libtypbien      object\n",
       "dtype: object"
      ]
     },
     "execution_count": 96,
     "metadata": {},
     "output_type": "execute_result"
    }
   ],
   "source": [
    "mut_gdf.dtypes"
   ]
  },
  {
   "cell_type": "markdown",
   "metadata": {},
   "source": [
    "On cherche une API pour les données par IRIS"
   ]
  },
  {
   "cell_type": "code",
   "execution_count": 31,
   "metadata": {},
   "outputs": [
    {
     "ename": "NameError",
     "evalue": "name 'url_iris' is not defined",
     "output_type": "error",
     "traceback": [
      "\u001b[0;31m---------------------------------------------------------------------------\u001b[0m",
      "\u001b[0;31mNameError\u001b[0m                                 Traceback (most recent call last)",
      "Cell \u001b[0;32mIn[31], line 7\u001b[0m\n\u001b[1;32m      5\u001b[0m url_iris_act \u001b[38;5;241m=\u001b[39m BASE_URL_API_IRIS \u001b[38;5;241m+\u001b[39m \u001b[38;5;124mf\u001b[39m\u001b[38;5;124m\"\u001b[39m\u001b[38;5;124minsee/activite/\u001b[39m\u001b[38;5;132;01m{\u001b[39;00mcode_iris\u001b[38;5;132;01m}\u001b[39;00m\u001b[38;5;124m\"\u001b[39m\n\u001b[1;32m      6\u001b[0m \u001b[38;5;66;03m# %% \u001b[39;00m\n\u001b[0;32m----> 7\u001b[0m \u001b[38;5;28mprint\u001b[39m(\u001b[43murl_iris\u001b[49m)\n",
      "\u001b[0;31mNameError\u001b[0m: name 'url_iris' is not defined"
     ]
    }
   ],
   "source": [
    "\n",
    "BASE_URL_API_IRIS = \"https://pyris.datajazz.io/api/\" \n",
    "code_iris = \"786860101\"\n",
    "url_iris_pop = BASE_URL_API_IRIS + f\"insee/population/{code_iris}\"\n",
    "url_iris_log = BASE_URL_API_IRIS + f\"insee/logement/{code_iris}\"\n",
    "url_iris_act = BASE_URL_API_IRIS + f\"insee/activite/{code_iris}\"\n",
    "# %% \n",
    "print(url_iris)"
   ]
  },
  {
   "cell_type": "code",
   "execution_count": null,
   "metadata": {},
   "outputs": [],
   "source": [
    "response_iris_pop = requests.get(url_iris_pop)\n",
    "response_iris_log = requests.get(url_iris_log)\n",
    "response_iris_act = requests.get(url_iris_act)\n",
    "\n",
    "# Vérification du succès de la requête\n",
    "if response_iris.status_code == 200:\n",
    "    data_iris_pop = response_iris_pop.json()\n",
    "    data_iris_log = response_iris_log.json()\n",
    "    data_iris_act = response_iris_act.json()\n",
    "    data_iris_all = data_iris_pop | data_iris_log | data_iris_act\n",
    "else:\n",
    "    print(f\"Erreur : {response_iris.status_code}\")\n",
    "# %%"
   ]
  },
  {
   "cell_type": "code",
   "execution_count": null,
   "metadata": {},
   "outputs": [
    {
     "name": "stdout",
     "output_type": "stream",
     "text": [
      "dict_keys(['population_male', 'population', 'population_female', 'label', 'census', 'iris', 'city', 'citycode'])\n",
      "dict_keys(['logement', 'unoccupied', 'second_residence', 'house', 'main_residence', 'appartment', 'label', 'census', 'iris', 'city', 'citycode'])\n",
      "dict_keys(['retraite', 'taux_chomage', 'inactif', 'autre_inactif', 'city', 'etudiant', 'chomeur', 'citycode', 'actif', 'population', 'label', 'census', 'iris'])\n",
      "dict_keys(['population_male', 'population', 'population_female', 'label', 'census', 'iris', 'city', 'citycode', 'logement', 'unoccupied', 'second_residence', 'house', 'main_residence', 'appartment', 'retraite', 'taux_chomage', 'inactif', 'autre_inactif', 'etudiant', 'chomeur', 'actif'])\n"
     ]
    }
   ],
   "source": [
    "print(data_iris_pop.keys())\n",
    "print(data_iris_log.keys())\n",
    "print(data_iris_act.keys())\n",
    "print(data_iris_all.keys())"
   ]
  },
  {
   "cell_type": "markdown",
   "metadata": {},
   "source": [
    "Puisqu'on ne trouve pas d'API permettant de récupérer les données voulues, on essaie avec des données csv Insee"
   ]
  },
  {
   "cell_type": "code",
   "execution_count": 17,
   "metadata": {},
   "outputs": [],
   "source": [
    "zip_file = ZipFile('data/BASE_TD_FILO_DISP_IRIS_2020_CSV.zip')\n",
    "data_rev_disp_2020 = pd.read_csv(zip_file.open(\"BASE_TD_FILO_DISP_IRIS_2020.csv\"), sep = \";\")"
   ]
  },
  {
   "cell_type": "code",
   "execution_count": 18,
   "metadata": {},
   "outputs": [
    {
     "data": {
      "text/html": [
       "<div>\n",
       "<style scoped>\n",
       "    .dataframe tbody tr th:only-of-type {\n",
       "        vertical-align: middle;\n",
       "    }\n",
       "\n",
       "    .dataframe tbody tr th {\n",
       "        vertical-align: top;\n",
       "    }\n",
       "\n",
       "    .dataframe thead th {\n",
       "        text-align: right;\n",
       "    }\n",
       "</style>\n",
       "<table border=\"1\" class=\"dataframe\">\n",
       "  <thead>\n",
       "    <tr style=\"text-align: right;\">\n",
       "      <th></th>\n",
       "      <th>IRIS</th>\n",
       "      <th>DISP_TP6020</th>\n",
       "      <th>DISP_Q120</th>\n",
       "      <th>DISP_MED20</th>\n",
       "      <th>DISP_Q320</th>\n",
       "      <th>DISP_EQ20</th>\n",
       "      <th>DISP_D120</th>\n",
       "      <th>DISP_D220</th>\n",
       "      <th>DISP_D320</th>\n",
       "      <th>DISP_D420</th>\n",
       "      <th>...</th>\n",
       "      <th>DISP_PCHO20</th>\n",
       "      <th>DISP_PBEN20</th>\n",
       "      <th>DISP_PPEN20</th>\n",
       "      <th>DISP_PPAT20</th>\n",
       "      <th>DISP_PPSOC20</th>\n",
       "      <th>DISP_PPFAM20</th>\n",
       "      <th>DISP_PPMINI20</th>\n",
       "      <th>DISP_PPLOGT20</th>\n",
       "      <th>DISP_PIMPOT20</th>\n",
       "      <th>DISP_NOTE20</th>\n",
       "    </tr>\n",
       "  </thead>\n",
       "  <tbody>\n",
       "    <tr>\n",
       "      <th>0</th>\n",
       "      <td>010040101</td>\n",
       "      <td>20,3</td>\n",
       "      <td>14280</td>\n",
       "      <td>19450</td>\n",
       "      <td>25490</td>\n",
       "      <td>0,58</td>\n",
       "      <td>11000</td>\n",
       "      <td>13350</td>\n",
       "      <td>15320</td>\n",
       "      <td>17530</td>\n",
       "      <td>...</td>\n",
       "      <td>3,7</td>\n",
       "      <td>2,9</td>\n",
       "      <td>27,9</td>\n",
       "      <td>6,4</td>\n",
       "      <td>10,3</td>\n",
       "      <td>3,5</td>\n",
       "      <td>4,7</td>\n",
       "      <td>2,1</td>\n",
       "      <td>-12,3</td>\n",
       "      <td>0</td>\n",
       "    </tr>\n",
       "    <tr>\n",
       "      <th>1</th>\n",
       "      <td>010040102</td>\n",
       "      <td>25,6</td>\n",
       "      <td>13280</td>\n",
       "      <td>17910</td>\n",
       "      <td>23920</td>\n",
       "      <td>0,59</td>\n",
       "      <td>10120</td>\n",
       "      <td>12460</td>\n",
       "      <td>14200</td>\n",
       "      <td>15830</td>\n",
       "      <td>...</td>\n",
       "      <td>4,4</td>\n",
       "      <td>2,3</td>\n",
       "      <td>24,8</td>\n",
       "      <td>6,0</td>\n",
       "      <td>12,7</td>\n",
       "      <td>3,9</td>\n",
       "      <td>5,9</td>\n",
       "      <td>2,9</td>\n",
       "      <td>-11,8</td>\n",
       "      <td>0</td>\n",
       "    </tr>\n",
       "    <tr>\n",
       "      <th>2</th>\n",
       "      <td>010040201</td>\n",
       "      <td>18,4</td>\n",
       "      <td>14890</td>\n",
       "      <td>20210</td>\n",
       "      <td>26620</td>\n",
       "      <td>0,58</td>\n",
       "      <td>11240</td>\n",
       "      <td>13860</td>\n",
       "      <td>15990</td>\n",
       "      <td>18190</td>\n",
       "      <td>...</td>\n",
       "      <td>3,8</td>\n",
       "      <td>3,4</td>\n",
       "      <td>28,0</td>\n",
       "      <td>6,5</td>\n",
       "      <td>8,7</td>\n",
       "      <td>3,0</td>\n",
       "      <td>3,7</td>\n",
       "      <td>2,0</td>\n",
       "      <td>-13,9</td>\n",
       "      <td>0</td>\n",
       "    </tr>\n",
       "    <tr>\n",
       "      <th>3</th>\n",
       "      <td>010040202</td>\n",
       "      <td>8,4</td>\n",
       "      <td>19060</td>\n",
       "      <td>24870</td>\n",
       "      <td>32100</td>\n",
       "      <td>0,52</td>\n",
       "      <td>14380</td>\n",
       "      <td>17560</td>\n",
       "      <td>20110</td>\n",
       "      <td>22590</td>\n",
       "      <td>...</td>\n",
       "      <td>2,8</td>\n",
       "      <td>3,8</td>\n",
       "      <td>25,0</td>\n",
       "      <td>10,8</td>\n",
       "      <td>4,7</td>\n",
       "      <td>2,0</td>\n",
       "      <td>1,9</td>\n",
       "      <td>0,8</td>\n",
       "      <td>-17,0</td>\n",
       "      <td>0</td>\n",
       "    </tr>\n",
       "    <tr>\n",
       "      <th>4</th>\n",
       "      <td>010330102</td>\n",
       "      <td>22,9</td>\n",
       "      <td>14000</td>\n",
       "      <td>19810</td>\n",
       "      <td>29190</td>\n",
       "      <td>0,77</td>\n",
       "      <td>9380</td>\n",
       "      <td>12670</td>\n",
       "      <td>15070</td>\n",
       "      <td>17560</td>\n",
       "      <td>...</td>\n",
       "      <td>4,9</td>\n",
       "      <td>1,7</td>\n",
       "      <td>24,1</td>\n",
       "      <td>6,5</td>\n",
       "      <td>6,0</td>\n",
       "      <td>1,5</td>\n",
       "      <td>3,0</td>\n",
       "      <td>1,5</td>\n",
       "      <td>-13,0</td>\n",
       "      <td>0</td>\n",
       "    </tr>\n",
       "  </tbody>\n",
       "</table>\n",
       "<p>5 rows × 29 columns</p>\n",
       "</div>"
      ],
      "text/plain": [
       "        IRIS DISP_TP6020 DISP_Q120 DISP_MED20 DISP_Q320 DISP_EQ20 DISP_D120  \\\n",
       "0  010040101        20,3     14280      19450     25490      0,58     11000   \n",
       "1  010040102        25,6     13280      17910     23920      0,59     10120   \n",
       "2  010040201        18,4     14890      20210     26620      0,58     11240   \n",
       "3  010040202         8,4     19060      24870     32100      0,52     14380   \n",
       "4  010330102        22,9     14000      19810     29190      0,77      9380   \n",
       "\n",
       "  DISP_D220 DISP_D320 DISP_D420  ... DISP_PCHO20 DISP_PBEN20 DISP_PPEN20  \\\n",
       "0     13350     15320     17530  ...         3,7         2,9        27,9   \n",
       "1     12460     14200     15830  ...         4,4         2,3        24,8   \n",
       "2     13860     15990     18190  ...         3,8         3,4        28,0   \n",
       "3     17560     20110     22590  ...         2,8         3,8        25,0   \n",
       "4     12670     15070     17560  ...         4,9         1,7        24,1   \n",
       "\n",
       "  DISP_PPAT20 DISP_PPSOC20 DISP_PPFAM20 DISP_PPMINI20 DISP_PPLOGT20  \\\n",
       "0         6,4         10,3          3,5           4,7           2,1   \n",
       "1         6,0         12,7          3,9           5,9           2,9   \n",
       "2         6,5          8,7          3,0           3,7           2,0   \n",
       "3        10,8          4,7          2,0           1,9           0,8   \n",
       "4         6,5          6,0          1,5           3,0           1,5   \n",
       "\n",
       "  DISP_PIMPOT20 DISP_NOTE20  \n",
       "0         -12,3           0  \n",
       "1         -11,8           0  \n",
       "2         -13,9           0  \n",
       "3         -17,0           0  \n",
       "4         -13,0           0  \n",
       "\n",
       "[5 rows x 29 columns]"
      ]
     },
     "execution_count": 18,
     "metadata": {},
     "output_type": "execute_result"
    }
   ],
   "source": [
    "data_rev_disp_2020.head()"
   ]
  },
  {
   "cell_type": "markdown",
   "metadata": {},
   "source": [
    "On va chercher tous les IRIS de Paris 15ème"
   ]
  },
  {
   "cell_type": "code",
   "execution_count": null,
   "metadata": {},
   "outputs": [
    {
     "name": "stdout",
     "output_type": "stream",
     "text": [
      "https://pyris.datajazz.io/api/city/code/75115\n",
      "<class 'list'>\n",
      "['751155912', '751155711', '751155721', '751156021', '751155718', '751155717', '751155716', '751155712', '751155710', '751155808', '751156023', '751155914', '751155908', '751156012', '751155703', '751155911', '751155707', '751155907', '751155731', '751155999', '751156007', '751156019', '751156017', '751155809', '751156013', '751155708', '751155702', '751156005', '751156010', '751155705', '751155812', '751155803', '751155813', '751155810', '751155801', '751155723', '751156020', '751155704', '751155804', '751155903', '751155805', '751155720', '751155919', '751156006', '751155904', '751156008', '751155729', '751155909', '751156018', '751155910', '751156015', '751156004', '751155730', '751155915', '751155715', '751156002', '751155819', '751156001', '751155815', '751155920', '751155714', '751155807', '751155701', '751156016', '751155814', '751155802', '751155816', '751155706', '751155916', '751156009', '751155902', '751155713', '751155913', '751155918', '751155905', '751156099', '751156003', '751155724', '751155727', '751155906', '751155901', '751155732', '751155722', '751155818', '751155728', '751155733', '751156014', '751155709', '751155726', '751155811', '751155725', '751155806', '751155817', '751156022', '751155917', '751155719']\n"
     ]
    }
   ],
   "source": [
    "base_url_iris = \"https://pyris.datajazz.io/api/city/code\"\n",
    "\n",
    "code_insee = \"75115\" #attention, un code Insee n'est que rarement le code postal\n",
    "url_iris_code = base_url_iris + f\"/{code_insee}\"\n",
    "# %% \n",
    "print(url_iris_code)\n",
    "\n",
    "response = requests.get(url_iris_code)#, params=params)\n",
    "# Vérification du succès de la requête\n",
    "if response.status_code == 200:\n",
    "    data_iris = response.json()  # On récupère les données au format JSON\n",
    "else:\n",
    "    print(f\"Erreur : {response.status_code}\")\n",
    "# %%\n",
    "print(type(data_iris))\n",
    "print(data_iris) #on a la lis"
   ]
  },
  {
   "cell_type": "markdown",
   "metadata": {},
   "source": [
    "On a ainsi obtenu la liste des IRIS présents dans Paris 15ème\n",
    "On va maintenant obtenir les coordonnées géographiques de tous ces IRIS"
   ]
  },
  {
   "cell_type": "markdown",
   "metadata": {},
   "source": [
    "Dans l'autre sens : on part des adresses et on leur attribue leur IRIS\n",
    "\n",
    "Ci-dessous : voici comment récupérer l'IRIS d'une coordonnée géographique\n",
    "Problème : si on doit requêter les coordonnées de toutes les adresses qui nous intéresse, ça pourrait être un peu fastidieux\n"
   ]
  },
  {
   "cell_type": "code",
   "execution_count": 39,
   "metadata": {},
   "outputs": [
    {
     "name": "stdout",
     "output_type": "stream",
     "text": [
      "https://pyris.datajazz.io/api/coords?geojson=true&lat=48.71715&lon=1.89657\n",
      "ok\n",
      "<class 'dict'>\n",
      "{'type': 'Feature', 'properties': {'citycode': '78220', 'name': 'Romanie', 'type': 'H', 'complete_code': '782200101', 'city': 'Les Essarts-le-Roi', 'iris': '0101'}, 'geometry': {'type': 'MultiPolygon', 'coordinates': [[[[1.90474453630957, 48.7321779179585], [1.90478480712923, 48.7320082808386], [1.90489087669467, 48.731683632815], [1.90547752335322, 48.7304225083681], [1.9046318996036, 48.7272718676691], [1.90385347442541, 48.7261718156424], [1.90356993378123, 48.725494577739], [1.90315828618928, 48.724508528237], [1.90275443203992, 48.723540538254], [1.902586834332, 48.7229111369132], [1.90246401921244, 48.7223505099009], [1.90255053433326, 48.7214679825293], [1.90397696723255, 48.7212580126309], [1.90427152155834, 48.7212148423911], [1.90463698119621, 48.72116152812], [1.90468870702931, 48.7211584048468], [1.90735739523449, 48.721027254024], [1.91025304884677, 48.7209637810208], [1.91220008973699, 48.7213098679956], [1.91504411954173, 48.7219978005539], [1.91550250376696, 48.7226415201527], [1.91565311024105, 48.7228524749297], [1.91576679686049, 48.7230082238477], [1.91584765942269, 48.7231079047386], [1.91594950864463, 48.7231789918483], [1.91602821605776, 48.7231860033719], [1.91642614839244, 48.723205808428], [1.91660024780259, 48.7232019920422], [1.91710120758023, 48.7231705584912], [1.91753584176177, 48.7231250285809], [1.91801840369583, 48.7230628409358], [1.92075011361693, 48.7223846092889], [1.9238198250633, 48.721562743693], [1.92626784043743, 48.7208557416344], [1.92703326853652, 48.7204232150589], [1.92739639434011, 48.7202834572157], [1.9291659797677, 48.7196409075086], [1.92995201835527, 48.7193947460774], [1.93054663890913, 48.7192682982094], [1.93276907138349, 48.7188683333857], [1.93405145418143, 48.7187248699484], [1.93515293332533, 48.7188408467495], [1.93607346051073, 48.7188976313686], [1.93837577406335, 48.7189909970269], [1.93975934035001, 48.7188728691311], [1.93909336956985, 48.7173260867713], [1.93863111752604, 48.7164593434749], [1.93790655920766, 48.7132921582564], [1.93756048579787, 48.7115528561384], [1.93826207197187, 48.710487587904], [1.93948116834689, 48.7096728622687], [1.9419428461693, 48.7093268162326], [1.94176304019327, 48.7087423337546], [1.94151660658838, 48.7070859321645], [1.94211360699018, 48.7061957555157], [1.94292889794128, 48.7055989545474], [1.94239249946178, 48.7041000956167], [1.9419740361006, 48.703490107031], [1.94069965721965, 48.7018623542839], [1.94035090036639, 48.7014355809227], [1.93979094971438, 48.7007685553918], [1.93939844765822, 48.7002883179117], [1.93903072989618, 48.6997255429725], [1.93830563721946, 48.6984264720837], [1.93816199728434, 48.6981391439131], [1.93984049274339, 48.6977232010417], [1.94255060727925, 48.6970249382171], [1.9430505252966, 48.6964941505022], [1.94322860685926, 48.6962888371028], [1.94325164031738, 48.6961577101362], [1.94322235677511, 48.6960603016835], [1.94295876405907, 48.6955218471954], [1.94284103389708, 48.6951618919179], [1.94314908549349, 48.6951142483401], [1.94334125963705, 48.6950853670576], [1.9423759223962, 48.6933686046778], [1.94141839865239, 48.6916716904663], [1.94045919584669, 48.689993640846], [1.93859525375454, 48.6878451707401], [1.93815249391971, 48.6877710654519], [1.93768148947868, 48.6879503757571], [1.93605778649836, 48.6882921165136], [1.93530837875571, 48.6885319007865], [1.93487309717131, 48.6886908296566], [1.93443777627657, 48.6888515556584], [1.93394740173278, 48.6890468698008], [1.93295247004209, 48.6895992813299], [1.93080266319837, 48.6917452046771], [1.93024729649603, 48.6923258203909], [1.93000911662003, 48.6927437654649], [1.92792197043056, 48.6949360716123], [1.92653777124578, 48.6955775805318], [1.92404502356229, 48.6967330548476], [1.9212564795042, 48.698025687146], [1.91873536541187, 48.6991951779722], [1.91821808991652, 48.6994351597322], [1.91624499942089, 48.700350060678], [1.91389317375902, 48.7014377886173], [1.9120158856852, 48.7016275724849], [1.91055881594198, 48.7013462143683], [1.90638328847023, 48.7023577563271], [1.90407902317729, 48.7025565436323], [1.90054298040937, 48.7031667185912], [1.89866568093109, 48.7035128110675], [1.89800798285598, 48.7037028344668], [1.89748836960854, 48.703853651737], [1.8941880978535, 48.7045854553197], [1.89127623703789, 48.7051660595627], [1.88908205884158, 48.7055477361392], [1.88828227466592, 48.7056419323661], [1.88833299129163, 48.7056855823805], [1.88841452078551, 48.7057502086534], [1.88852039444272, 48.7058204588561], [1.888669616757, 48.7058974094932], [1.88890668494153, 48.7059976663594], [1.8890415348287, 48.7060474967889], [1.89024921624648, 48.7076095233426], [1.89025655890829, 48.7104637881242], [1.89026839972241, 48.7107382533713], [1.89029472787307, 48.7109705756437], [1.89033716983005, 48.7111481767399], [1.89035878243399, 48.7112185406624], [1.89039488532135, 48.7113106279262], [1.89050372943592, 48.7115617079044], [1.89097544839112, 48.7126153880243], [1.89107216050312, 48.7128299236984], [1.89134629661124, 48.7134270558852], [1.89146954130853, 48.7136404883111], [1.89155788665323, 48.7137690412557], [1.89165989903335, 48.7138941229845], [1.89183779361451, 48.7140945697316], [1.89189095338902, 48.7141517333352], [1.89251180299681, 48.7148096508469], [1.89287217895649, 48.7151871960705], [1.89298319005758, 48.7152727810383], [1.89364683662873, 48.716254016559], [1.89413594337641, 48.7175187774163], [1.89382272273987, 48.7189578023081], [1.89255660012982, 48.7201676034838], [1.89183437544641, 48.7208571248881], [1.8909339197298, 48.7217122954098], [1.89162094218952, 48.723035569434], [1.89250103502766, 48.7236545108704], [1.89551163247989, 48.7257503931769], [1.89627133742422, 48.7262800381499], [1.89976916506686, 48.7287230235343], [1.90113662300782, 48.7296783068951], [1.90265078205473, 48.7307401645788], [1.90470699813759, 48.7321523873276], [1.90474453630957, 48.7321779179585]]]]}}\n"
     ]
    }
   ],
   "source": [
    "base_url_api = \"https://pyris.datajazz.io/api/\"\n",
    "lat, lon = 48.71715, 1.89657\n",
    "\n",
    "url_adresse_to_iris = base_url_api + f\"coords?geojson=true&lat={lat}&lon={lon}\"\n",
    "# %% \n",
    "print(url_adresse_to_iris)\n",
    "\n",
    "response_adresse_to_iris = requests.get(url_adresse_to_iris)#, params=params)\n",
    "# Vérification du succès de la requête\n",
    "if response_adresse_to_iris.status_code == 200:\n",
    "    data_adresse_to_iris = response_adresse_to_iris.json()  # On récupère les données au format JSON\n",
    "    print(\"ok\")\n",
    "else:\n",
    "    print(f\"Erreur : {response_adresse_to_iris.status_code}\")\n",
    "# %%\n",
    "print(type(data_adresse_to_iris))\n",
    "print(data_adresse_to_iris) "
   ]
  },
  {
   "cell_type": "markdown",
   "metadata": {},
   "source": [
    "Puisque c'est un peu laborieux, dans l'autre sens : on a récupéré un fichier des coordonnées spatiales des IRIS en ile de France"
   ]
  },
  {
   "cell_type": "code",
   "execution_count": 14,
   "metadata": {},
   "outputs": [],
   "source": [
    "iris = gpd.read_file(\"data/iris.geojson\")  \n",
    "iris = iris.to_crs(epsg=4326)  # Assurez-vous d'utiliser le même système de coordonnées (WGS84)"
   ]
  },
  {
   "cell_type": "markdown",
   "metadata": {},
   "source": [
    "On regarde dans quel système géographique est le tableau geopandas des données DVF"
   ]
  },
  {
   "cell_type": "code",
   "execution_count": 12,
   "metadata": {},
   "outputs": [
    {
     "data": {
      "text/plain": [
       "<Geographic 2D CRS: EPSG:4326>\n",
       "Name: WGS 84\n",
       "Axis Info [ellipsoidal]:\n",
       "- Lat[north]: Geodetic latitude (degree)\n",
       "- Lon[east]: Geodetic longitude (degree)\n",
       "Area of Use:\n",
       "- name: World.\n",
       "- bounds: (-180.0, -90.0, 180.0, 90.0)\n",
       "Datum: World Geodetic System 1984 ensemble\n",
       "- Ellipsoid: WGS 84\n",
       "- Prime Meridian: Greenwich"
      ]
     },
     "execution_count": 12,
     "metadata": {},
     "output_type": "execute_result"
    }
   ],
   "source": [
    "mut_gdf_old[\"geometry\"].crs"
   ]
  },
  {
   "cell_type": "markdown",
   "metadata": {},
   "source": [
    "Ok, on est bien en format 4326 (=WGS 84) pour les deux fichiers, on va pouvoir affecter des IRIS à nos adresses de la base DVF (pour ensuite relier ça aux fichiers Insee)"
   ]
  },
  {
   "cell_type": "code",
   "execution_count": 15,
   "metadata": {},
   "outputs": [
    {
     "name": "stdout",
     "output_type": "stream",
     "text": [
      "                         idmutinvar                        idopendata  \\\n",
      "0  02770392cd0518ff5cfedef603fbe5e8  02770392cd0518ff5cfedef603fbe5e8   \n",
      "1  0fd6a5a5302c8f571b609895e6b8d0b0  0fd6a5a5302c8f571b609895e6b8d0b0   \n",
      "2  7c302dd087b66bc3ed16e217713986a4  7c302dd087b66bc3ed16e217713986a4   \n",
      "3  5a54c5ecc046b898a465647c288a0729  5a54c5ecc046b898a465647c288a0729   \n",
      "4  de094980803a4d6c80831ae8a99f1f14  de094980803a4d6c80831ae8a99f1f14   \n",
      "\n",
      "     datemut  anneemut coddep libnatmut   vefa valeurfonc  nbcomm  nbpar  ...  \\\n",
      "0 2024-01-08      2024     78     Vente  False  280740.00       1      1  ...   \n",
      "1 2024-01-23      2024     78     Vente  False  120000.00       1      1  ...   \n",
      "2 2024-04-04      2024     78     Vente  False  465000.00       2      2  ...   \n",
      "3 2024-02-15      2024     78     Vente  False   90000.00       1      1  ...   \n",
      "4 2024-06-28      2024     78     Vente  False  498874.00       1      1  ...   \n",
      "\n",
      "                                            geometry index_right  \\\n",
      "0  MULTIPOLYGON (((1.89364 48.71596, 1.89382 48.7...      1987.0   \n",
      "1  MULTIPOLYGON (((1.89657 48.71715, 1.89666 48.7...      1987.0   \n",
      "2  MULTIPOLYGON (((1.90259 48.72143, 1.90255 48.7...      2515.0   \n",
      "3  MULTIPOLYGON (((1.89921 48.71781, 1.8996 48.71...      1987.0   \n",
      "4  MULTIPOLYGON (((1.90013 48.71268, 1.90016 48.7...      1987.0   \n",
      "\n",
      "                                           geo_point   dep insee_com  \\\n",
      "0  { \"lon\": 1.91690951787, \"lat\": 48.709650397600...  78.0   78220.0   \n",
      "1  { \"lon\": 1.91690951787, \"lat\": 48.709650397600...  78.0   78220.0   \n",
      "2  { \"lon\": 1.9355392685599999, \"lat\": 48.7270304...  78.0   78334.0   \n",
      "3  { \"lon\": 1.91690951787, \"lat\": 48.709650397600...  78.0   78220.0   \n",
      "4  { \"lon\": 1.91690951787, \"lat\": 48.709650397600...  78.0   78220.0   \n",
      "\n",
      "              nom_com   iris    code_iris         nom_iris typ_iris  \n",
      "0  Les Essarts-le-Roi  101.0  782200101.0          Romanie        H  \n",
      "1  Les Essarts-le-Roi  101.0  782200101.0          Romanie        H  \n",
      "2     Lévis-Saint-Nom    0.0  783340000.0  Lévis-Saint-Nom        Z  \n",
      "3  Les Essarts-le-Roi  101.0  782200101.0          Romanie        H  \n",
      "4  Les Essarts-le-Roi  101.0  782200101.0          Romanie        H  \n",
      "\n",
      "[5 rows x 27 columns]\n"
     ]
    }
   ],
   "source": [
    "data_mut_avec_iris = gpd.sjoin(mut_gdf_old, iris, how=\"left\", predicate=\"intersects\")\n",
    "\n",
    "# Vérifier les résultats\n",
    "print(data_mut_avec_iris.head())"
   ]
  },
  {
   "cell_type": "markdown",
   "metadata": {},
   "source": [
    "Les iris apparaissent bien dans le fichier des mutations\n",
    "Dernière étape : relier ça aux données Insee \"test\" (celle des revenus disp de 2020)"
   ]
  },
  {
   "cell_type": "code",
   "execution_count": null,
   "metadata": {},
   "outputs": [],
   "source": [
    "data_mut_et_insee = data_mut_avec_iris.join(data_rev_disp_2020, how=\"left\")"
   ]
  },
  {
   "cell_type": "code",
   "execution_count": 21,
   "metadata": {},
   "outputs": [
    {
     "data": {
      "text/html": [
       "<div>\n",
       "<style scoped>\n",
       "    .dataframe tbody tr th:only-of-type {\n",
       "        vertical-align: middle;\n",
       "    }\n",
       "\n",
       "    .dataframe tbody tr th {\n",
       "        vertical-align: top;\n",
       "    }\n",
       "\n",
       "    .dataframe thead th {\n",
       "        text-align: right;\n",
       "    }\n",
       "</style>\n",
       "<table border=\"1\" class=\"dataframe\">\n",
       "  <thead>\n",
       "    <tr style=\"text-align: right;\">\n",
       "      <th></th>\n",
       "      <th>idmutinvar</th>\n",
       "      <th>idopendata</th>\n",
       "      <th>datemut</th>\n",
       "      <th>anneemut</th>\n",
       "      <th>coddep</th>\n",
       "      <th>libnatmut</th>\n",
       "      <th>vefa</th>\n",
       "      <th>valeurfonc</th>\n",
       "      <th>nbcomm</th>\n",
       "      <th>nbpar</th>\n",
       "      <th>...</th>\n",
       "      <th>DISP_PCHO20</th>\n",
       "      <th>DISP_PBEN20</th>\n",
       "      <th>DISP_PPEN20</th>\n",
       "      <th>DISP_PPAT20</th>\n",
       "      <th>DISP_PPSOC20</th>\n",
       "      <th>DISP_PPFAM20</th>\n",
       "      <th>DISP_PPMINI20</th>\n",
       "      <th>DISP_PPLOGT20</th>\n",
       "      <th>DISP_PIMPOT20</th>\n",
       "      <th>DISP_NOTE20</th>\n",
       "    </tr>\n",
       "  </thead>\n",
       "  <tbody>\n",
       "    <tr>\n",
       "      <th>0</th>\n",
       "      <td>02770392cd0518ff5cfedef603fbe5e8</td>\n",
       "      <td>02770392cd0518ff5cfedef603fbe5e8</td>\n",
       "      <td>2024-01-08</td>\n",
       "      <td>2024</td>\n",
       "      <td>78</td>\n",
       "      <td>Vente</td>\n",
       "      <td>False</td>\n",
       "      <td>280740.00</td>\n",
       "      <td>1</td>\n",
       "      <td>1</td>\n",
       "      <td>...</td>\n",
       "      <td>3,7</td>\n",
       "      <td>2,9</td>\n",
       "      <td>27,9</td>\n",
       "      <td>6,4</td>\n",
       "      <td>10,3</td>\n",
       "      <td>3,5</td>\n",
       "      <td>4,7</td>\n",
       "      <td>2,1</td>\n",
       "      <td>-12,3</td>\n",
       "      <td>0</td>\n",
       "    </tr>\n",
       "    <tr>\n",
       "      <th>1</th>\n",
       "      <td>0fd6a5a5302c8f571b609895e6b8d0b0</td>\n",
       "      <td>0fd6a5a5302c8f571b609895e6b8d0b0</td>\n",
       "      <td>2024-01-23</td>\n",
       "      <td>2024</td>\n",
       "      <td>78</td>\n",
       "      <td>Vente</td>\n",
       "      <td>False</td>\n",
       "      <td>120000.00</td>\n",
       "      <td>1</td>\n",
       "      <td>1</td>\n",
       "      <td>...</td>\n",
       "      <td>4,4</td>\n",
       "      <td>2,3</td>\n",
       "      <td>24,8</td>\n",
       "      <td>6,0</td>\n",
       "      <td>12,7</td>\n",
       "      <td>3,9</td>\n",
       "      <td>5,9</td>\n",
       "      <td>2,9</td>\n",
       "      <td>-11,8</td>\n",
       "      <td>0</td>\n",
       "    </tr>\n",
       "    <tr>\n",
       "      <th>2</th>\n",
       "      <td>7c302dd087b66bc3ed16e217713986a4</td>\n",
       "      <td>7c302dd087b66bc3ed16e217713986a4</td>\n",
       "      <td>2024-04-04</td>\n",
       "      <td>2024</td>\n",
       "      <td>78</td>\n",
       "      <td>Vente</td>\n",
       "      <td>False</td>\n",
       "      <td>465000.00</td>\n",
       "      <td>2</td>\n",
       "      <td>2</td>\n",
       "      <td>...</td>\n",
       "      <td>3,8</td>\n",
       "      <td>3,4</td>\n",
       "      <td>28,0</td>\n",
       "      <td>6,5</td>\n",
       "      <td>8,7</td>\n",
       "      <td>3,0</td>\n",
       "      <td>3,7</td>\n",
       "      <td>2,0</td>\n",
       "      <td>-13,9</td>\n",
       "      <td>0</td>\n",
       "    </tr>\n",
       "    <tr>\n",
       "      <th>3</th>\n",
       "      <td>5a54c5ecc046b898a465647c288a0729</td>\n",
       "      <td>5a54c5ecc046b898a465647c288a0729</td>\n",
       "      <td>2024-02-15</td>\n",
       "      <td>2024</td>\n",
       "      <td>78</td>\n",
       "      <td>Vente</td>\n",
       "      <td>False</td>\n",
       "      <td>90000.00</td>\n",
       "      <td>1</td>\n",
       "      <td>1</td>\n",
       "      <td>...</td>\n",
       "      <td>2,8</td>\n",
       "      <td>3,8</td>\n",
       "      <td>25,0</td>\n",
       "      <td>10,8</td>\n",
       "      <td>4,7</td>\n",
       "      <td>2,0</td>\n",
       "      <td>1,9</td>\n",
       "      <td>0,8</td>\n",
       "      <td>-17,0</td>\n",
       "      <td>0</td>\n",
       "    </tr>\n",
       "    <tr>\n",
       "      <th>4</th>\n",
       "      <td>de094980803a4d6c80831ae8a99f1f14</td>\n",
       "      <td>de094980803a4d6c80831ae8a99f1f14</td>\n",
       "      <td>2024-06-28</td>\n",
       "      <td>2024</td>\n",
       "      <td>78</td>\n",
       "      <td>Vente</td>\n",
       "      <td>False</td>\n",
       "      <td>498874.00</td>\n",
       "      <td>1</td>\n",
       "      <td>1</td>\n",
       "      <td>...</td>\n",
       "      <td>4,9</td>\n",
       "      <td>1,7</td>\n",
       "      <td>24,1</td>\n",
       "      <td>6,5</td>\n",
       "      <td>6,0</td>\n",
       "      <td>1,5</td>\n",
       "      <td>3,0</td>\n",
       "      <td>1,5</td>\n",
       "      <td>-13,0</td>\n",
       "      <td>0</td>\n",
       "    </tr>\n",
       "  </tbody>\n",
       "</table>\n",
       "<p>5 rows × 56 columns</p>\n",
       "</div>"
      ],
      "text/plain": [
       "                         idmutinvar                        idopendata  \\\n",
       "0  02770392cd0518ff5cfedef603fbe5e8  02770392cd0518ff5cfedef603fbe5e8   \n",
       "1  0fd6a5a5302c8f571b609895e6b8d0b0  0fd6a5a5302c8f571b609895e6b8d0b0   \n",
       "2  7c302dd087b66bc3ed16e217713986a4  7c302dd087b66bc3ed16e217713986a4   \n",
       "3  5a54c5ecc046b898a465647c288a0729  5a54c5ecc046b898a465647c288a0729   \n",
       "4  de094980803a4d6c80831ae8a99f1f14  de094980803a4d6c80831ae8a99f1f14   \n",
       "\n",
       "     datemut  anneemut coddep libnatmut   vefa valeurfonc  nbcomm  nbpar  ...  \\\n",
       "0 2024-01-08      2024     78     Vente  False  280740.00       1      1  ...   \n",
       "1 2024-01-23      2024     78     Vente  False  120000.00       1      1  ...   \n",
       "2 2024-04-04      2024     78     Vente  False  465000.00       2      2  ...   \n",
       "3 2024-02-15      2024     78     Vente  False   90000.00       1      1  ...   \n",
       "4 2024-06-28      2024     78     Vente  False  498874.00       1      1  ...   \n",
       "\n",
       "   DISP_PCHO20 DISP_PBEN20  DISP_PPEN20  DISP_PPAT20 DISP_PPSOC20  \\\n",
       "0          3,7         2,9         27,9          6,4         10,3   \n",
       "1          4,4         2,3         24,8          6,0         12,7   \n",
       "2          3,8         3,4         28,0          6,5          8,7   \n",
       "3          2,8         3,8         25,0         10,8          4,7   \n",
       "4          4,9         1,7         24,1          6,5          6,0   \n",
       "\n",
       "  DISP_PPFAM20 DISP_PPMINI20 DISP_PPLOGT20  DISP_PIMPOT20 DISP_NOTE20  \n",
       "0          3,5           4,7           2,1          -12,3           0  \n",
       "1          3,9           5,9           2,9          -11,8           0  \n",
       "2          3,0           3,7           2,0          -13,9           0  \n",
       "3          2,0           1,9           0,8          -17,0           0  \n",
       "4          1,5           3,0           1,5          -13,0           0  \n",
       "\n",
       "[5 rows x 56 columns]"
      ]
     },
     "execution_count": 21,
     "metadata": {},
     "output_type": "execute_result"
    }
   ],
   "source": [
    "data_mut_et_insee.head(5)"
   ]
  },
  {
   "cell_type": "markdown",
   "metadata": {},
   "source": [
    "On commence à faire vite-fait un peu de visualisation spatiale"
   ]
  },
  {
   "cell_type": "code",
   "execution_count": 27,
   "metadata": {},
   "outputs": [
    {
     "ename": "NameError",
     "evalue": "name 'carti_download' is not defined",
     "output_type": "error",
     "traceback": [
      "\u001b[0;31m---------------------------------------------------------------------------\u001b[0m",
      "\u001b[0;31mNameError\u001b[0m                                 Traceback (most recent call last)",
      "Cell \u001b[0;32mIn[27], line 1\u001b[0m\n\u001b[0;32m----> 1\u001b[0m idf \u001b[38;5;241m=\u001b[39m \u001b[43mcarti_download\u001b[49m(\n\u001b[1;32m      2\u001b[0m     values\u001b[38;5;241m=\u001b[39m[\u001b[38;5;124m\"\u001b[39m\u001b[38;5;124m11\u001b[39m\u001b[38;5;124m\"\u001b[39m],\n\u001b[1;32m      3\u001b[0m     crs\u001b[38;5;241m=\u001b[39m\u001b[38;5;241m4326\u001b[39m,\n\u001b[1;32m      4\u001b[0m     borders\u001b[38;5;241m=\u001b[39m\u001b[38;5;124m\"\u001b[39m\u001b[38;5;124mDEPARTEMENT\u001b[39m\u001b[38;5;124m\"\u001b[39m,\n\u001b[1;32m      5\u001b[0m     vectorfile_format\u001b[38;5;241m=\u001b[39m\u001b[38;5;124m\"\u001b[39m\u001b[38;5;124mgeojson\u001b[39m\u001b[38;5;124m\"\u001b[39m,\n\u001b[1;32m      6\u001b[0m     filter_by\u001b[38;5;241m=\u001b[39m\u001b[38;5;124m\"\u001b[39m\u001b[38;5;124mREGION\u001b[39m\u001b[38;5;124m\"\u001b[39m,\n\u001b[1;32m      7\u001b[0m     source\u001b[38;5;241m=\u001b[39m\u001b[38;5;124m\"\u001b[39m\u001b[38;5;124mEXPRESS-COG-CARTO-TERRITOIRE\u001b[39m\u001b[38;5;124m\"\u001b[39m,\n\u001b[1;32m      8\u001b[0m     year\u001b[38;5;241m=\u001b[39m\u001b[38;5;241m2022\u001b[39m,\n\u001b[1;32m      9\u001b[0m )\n\u001b[1;32m     11\u001b[0m petite_couronne_departements \u001b[38;5;241m=\u001b[39m idf\u001b[38;5;241m.\u001b[39mloc[\n\u001b[1;32m     12\u001b[0m     idf[\u001b[38;5;124m\"\u001b[39m\u001b[38;5;124mINSEE_DEP\u001b[39m\u001b[38;5;124m\"\u001b[39m]\u001b[38;5;241m.\u001b[39misin([\u001b[38;5;124m\"\u001b[39m\u001b[38;5;124m75\u001b[39m\u001b[38;5;124m\"\u001b[39m, \u001b[38;5;124m\"\u001b[39m\u001b[38;5;124m78\u001b[39m\u001b[38;5;124m\"\u001b[39m, \u001b[38;5;124m\"\u001b[39m\u001b[38;5;124m92\u001b[39m\u001b[38;5;124m\"\u001b[39m, \u001b[38;5;124m\"\u001b[39m\u001b[38;5;124m93\u001b[39m\u001b[38;5;124m\"\u001b[39m, \u001b[38;5;124m\"\u001b[39m\u001b[38;5;124m94\u001b[39m\u001b[38;5;124m\"\u001b[39m, \u001b[38;5;124m\"\u001b[39m\u001b[38;5;124m95\u001b[39m\u001b[38;5;124m\"\u001b[39m])\n\u001b[1;32m     13\u001b[0m ]\u001b[38;5;241m.\u001b[39mto_crs(\u001b[38;5;241m2154\u001b[39m)\n",
      "\u001b[0;31mNameError\u001b[0m: name 'carti_download' is not defined"
     ]
    }
   ],
   "source": [
    "idf = carti_download(\n",
    "    values=[\"11\"],\n",
    "    crs=4326,\n",
    "    borders=\"DEPARTEMENT\",\n",
    "    vectorfile_format=\"geojson\",\n",
    "    filter_by=\"REGION\",\n",
    "    source=\"EXPRESS-COG-CARTO-TERRITOIRE\",\n",
    "    year=2022,\n",
    ")\n",
    "\n",
    "petite_couronne_departements = idf.loc[\n",
    "    idf[\"INSEE_DEP\"].isin([\"75\", \"78\", \"92\", \"93\", \"94\", \"95\"])\n",
    "].to_crs(2154)\n",
    "\n",
    "\n",
    "\n"
   ]
  }
 ],
 "metadata": {
  "kernelspec": {
   "display_name": "base",
   "language": "python",
   "name": "python3"
  },
  "language_info": {
   "codemirror_mode": {
    "name": "ipython",
    "version": 3
   },
   "file_extension": ".py",
   "mimetype": "text/x-python",
   "name": "python",
   "nbconvert_exporter": "python",
   "pygments_lexer": "ipython3",
   "version": "3.12.7"
  }
 },
 "nbformat": 4,
 "nbformat_minor": 2
}
