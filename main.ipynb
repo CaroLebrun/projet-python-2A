{
 "cells": [
  {
   "cell_type": "markdown",
   "metadata": {},
   "source": [
    "Importation des packages"
   ]
  },
  {
   "cell_type": "code",
   "execution_count": 3,
   "metadata": {},
   "outputs": [
    {
     "name": "stdout",
     "output_type": "stream",
     "text": [
      "Requirement already satisfied: py7zr in /opt/conda/lib/python3.12/site-packages (0.20.8)\n",
      "Requirement already satisfied: geojson in /opt/conda/lib/python3.12/site-packages (3.2.0)\n",
      "Requirement already satisfied: geopandas in /opt/conda/lib/python3.12/site-packages (1.0.1)\n",
      "Requirement already satisfied: openpyxl in /opt/conda/lib/python3.12/site-packages (3.1.5)\n",
      "Requirement already satisfied: tqdm in /opt/conda/lib/python3.12/site-packages (4.67.1)\n",
      "Requirement already satisfied: s3fs in /opt/conda/lib/python3.12/site-packages (2023.12.2)\n",
      "Requirement already satisfied: texttable in /opt/conda/lib/python3.12/site-packages (from py7zr) (1.7.0)\n",
      "Requirement already satisfied: pycryptodomex>=3.16.0 in /opt/conda/lib/python3.12/site-packages (from py7zr) (3.21.0)\n",
      "Requirement already satisfied: pyzstd>=0.15.9 in /opt/conda/lib/python3.12/site-packages (from py7zr) (0.16.2)\n",
      "Requirement already satisfied: pyppmd<1.2.0,>=1.1.0 in /opt/conda/lib/python3.12/site-packages (from py7zr) (1.1.0)\n",
      "Requirement already satisfied: pybcj<1.1.0,>=1.0.0 in /opt/conda/lib/python3.12/site-packages (from py7zr) (1.0.2)\n",
      "Requirement already satisfied: multivolumefile>=0.2.3 in /opt/conda/lib/python3.12/site-packages (from py7zr) (0.2.3)\n",
      "Requirement already satisfied: inflate64<1.1.0,>=1.0.0 in /opt/conda/lib/python3.12/site-packages (from py7zr) (1.0.0)\n",
      "Requirement already satisfied: brotli>=1.1.0 in /opt/conda/lib/python3.12/site-packages (from py7zr) (1.1.0)\n",
      "Requirement already satisfied: psutil in /opt/conda/lib/python3.12/site-packages (from py7zr) (6.1.0)\n",
      "Requirement already satisfied: numpy>=1.22 in /opt/conda/lib/python3.12/site-packages (from geopandas) (2.2.0)\n",
      "Requirement already satisfied: pyogrio>=0.7.2 in /opt/conda/lib/python3.12/site-packages (from geopandas) (0.10.0)\n",
      "Requirement already satisfied: packaging in /opt/conda/lib/python3.12/site-packages (from geopandas) (24.2)\n",
      "Requirement already satisfied: pandas>=1.4.0 in /opt/conda/lib/python3.12/site-packages (from geopandas) (2.2.3)\n",
      "Requirement already satisfied: pyproj>=3.3.0 in /opt/conda/lib/python3.12/site-packages (from geopandas) (3.7.0)\n",
      "Requirement already satisfied: shapely>=2.0.0 in /opt/conda/lib/python3.12/site-packages (from geopandas) (2.0.6)\n",
      "Requirement already satisfied: et-xmlfile in /opt/conda/lib/python3.12/site-packages (from openpyxl) (2.0.0)\n",
      "Requirement already satisfied: aiobotocore<3.0.0,>=2.5.4 in /opt/conda/lib/python3.12/site-packages (from s3fs) (2.15.2)\n",
      "Requirement already satisfied: fsspec==2023.12.2 in /opt/conda/lib/python3.12/site-packages (from s3fs) (2023.12.2)\n",
      "Requirement already satisfied: aiohttp!=4.0.0a0,!=4.0.0a1 in /opt/conda/lib/python3.12/site-packages (from s3fs) (3.11.10)\n",
      "Requirement already satisfied: botocore<1.35.37,>=1.35.16 in /opt/conda/lib/python3.12/site-packages (from aiobotocore<3.0.0,>=2.5.4->s3fs) (1.35.36)\n",
      "Requirement already satisfied: wrapt<2.0.0,>=1.10.10 in /opt/conda/lib/python3.12/site-packages (from aiobotocore<3.0.0,>=2.5.4->s3fs) (1.17.0)\n",
      "Requirement already satisfied: aioitertools<1.0.0,>=0.5.1 in /opt/conda/lib/python3.12/site-packages (from aiobotocore<3.0.0,>=2.5.4->s3fs) (0.12.0)\n",
      "Requirement already satisfied: aiohappyeyeballs>=2.3.0 in /opt/conda/lib/python3.12/site-packages (from aiohttp!=4.0.0a0,!=4.0.0a1->s3fs) (2.4.4)\n",
      "Requirement already satisfied: aiosignal>=1.1.2 in /opt/conda/lib/python3.12/site-packages (from aiohttp!=4.0.0a0,!=4.0.0a1->s3fs) (1.3.1)\n",
      "Requirement already satisfied: attrs>=17.3.0 in /opt/conda/lib/python3.12/site-packages (from aiohttp!=4.0.0a0,!=4.0.0a1->s3fs) (24.2.0)\n",
      "Requirement already satisfied: frozenlist>=1.1.1 in /opt/conda/lib/python3.12/site-packages (from aiohttp!=4.0.0a0,!=4.0.0a1->s3fs) (1.5.0)\n",
      "Requirement already satisfied: multidict<7.0,>=4.5 in /opt/conda/lib/python3.12/site-packages (from aiohttp!=4.0.0a0,!=4.0.0a1->s3fs) (6.1.0)\n",
      "Requirement already satisfied: propcache>=0.2.0 in /opt/conda/lib/python3.12/site-packages (from aiohttp!=4.0.0a0,!=4.0.0a1->s3fs) (0.2.1)\n",
      "Requirement already satisfied: yarl<2.0,>=1.17.0 in /opt/conda/lib/python3.12/site-packages (from aiohttp!=4.0.0a0,!=4.0.0a1->s3fs) (1.18.3)\n",
      "Requirement already satisfied: python-dateutil>=2.8.2 in /opt/conda/lib/python3.12/site-packages (from pandas>=1.4.0->geopandas) (2.9.0.post0)\n",
      "Requirement already satisfied: pytz>=2020.1 in /opt/conda/lib/python3.12/site-packages (from pandas>=1.4.0->geopandas) (2024.1)\n",
      "Requirement already satisfied: tzdata>=2022.7 in /opt/conda/lib/python3.12/site-packages (from pandas>=1.4.0->geopandas) (2024.2)\n",
      "Requirement already satisfied: certifi in /opt/conda/lib/python3.12/site-packages (from pyogrio>=0.7.2->geopandas) (2024.8.30)\n",
      "Requirement already satisfied: jmespath<2.0.0,>=0.7.1 in /opt/conda/lib/python3.12/site-packages (from botocore<1.35.37,>=1.35.16->aiobotocore<3.0.0,>=2.5.4->s3fs) (1.0.1)\n",
      "Requirement already satisfied: urllib3!=2.2.0,<3,>=1.25.4 in /opt/conda/lib/python3.12/site-packages (from botocore<1.35.37,>=1.35.16->aiobotocore<3.0.0,>=2.5.4->s3fs) (1.26.20)\n",
      "Requirement already satisfied: six>=1.5 in /opt/conda/lib/python3.12/site-packages (from python-dateutil>=2.8.2->pandas>=1.4.0->geopandas) (1.17.0)\n",
      "Requirement already satisfied: idna>=2.0 in /opt/conda/lib/python3.12/site-packages (from yarl<2.0,>=1.17.0->aiohttp!=4.0.0a0,!=4.0.0a1->s3fs) (3.10)\n"
     ]
    },
    {
     "name": "stdout",
     "output_type": "stream",
     "text": [
      "Requirement already satisfied: PyYAML in /opt/conda/lib/python3.12/site-packages (6.0.2)\n",
      "Requirement already satisfied: xlrd in /opt/conda/lib/python3.12/site-packages (2.0.1)\n",
      "Collecting git+https://github.com/inseefrlab/cartiflette\n",
      "  Cloning https://github.com/inseefrlab/cartiflette to /tmp/pip-req-build-rljnv4jz\n",
      "  Running command git clone --filter=blob:none --quiet https://github.com/inseefrlab/cartiflette /tmp/pip-req-build-rljnv4jz\n",
      "  Resolved https://github.com/inseefrlab/cartiflette to commit f6b0c5d049bd6dcae7b437bd931957371da24278\n",
      "  Installing build dependencies ... \u001b[?25ldone\n",
      "\u001b[?25h  Getting requirements to build wheel ... \u001b[?25ldone\n",
      "\u001b[?25h  Preparing metadata (pyproject.toml) ... \u001b[?25ldone\n",
      "\u001b[?25hRequirement already satisfied: PyYAML<7.0,>=6.0 in /opt/conda/lib/python3.12/site-packages (from cartiflette==0.0.2) (6.0.2)\n",
      "Requirement already satisfied: appdirs<2.0.0,>=1.4.4 in /opt/conda/lib/python3.12/site-packages (from cartiflette==0.0.2) (1.4.4)\n",
      "Requirement already satisfied: charset-normalizer<4.0.0,>=3.2.0 in /opt/conda/lib/python3.12/site-packages (from cartiflette==0.0.2) (3.4.0)\n",
      "Requirement already satisfied: diskcache<6.0.0,>=5.6.3 in /opt/conda/lib/python3.12/site-packages (from cartiflette==0.0.2) (5.6.3)\n",
      "Requirement already satisfied: fastexcel<0.12.0,>=0.11.6 in /opt/conda/lib/python3.12/site-packages (from cartiflette==0.0.2) (0.11.6)\n",
      "Requirement already satisfied: fiona<2.0.0,>=1.9.4.post1 in /opt/conda/lib/python3.12/site-packages (from fiona[s3]<2.0.0,>=1.9.4.post1->cartiflette==0.0.2) (1.10.1)\n",
      "Requirement already satisfied: geopandas<2.0.0,>=1.0.1 in /opt/conda/lib/python3.12/site-packages (from cartiflette==0.0.2) (1.0.1)\n",
      "Requirement already satisfied: matplotlib<4.0.0,>=3.7.1 in /opt/conda/lib/python3.12/site-packages (from cartiflette==0.0.2) (3.9.4)\n",
      "Requirement already satisfied: openpyxl<4.0.0,>=3.1.5 in /opt/conda/lib/python3.12/site-packages (from cartiflette==0.0.2) (3.1.5)\n",
      "Requirement already satisfied: owslib<0.29.0,>=0.28.1 in /opt/conda/lib/python3.12/site-packages (from cartiflette==0.0.2) (0.28.1)\n",
      "Requirement already satisfied: pandas<3.0.0,>=2.2.2 in /opt/conda/lib/python3.12/site-packages (from cartiflette==0.0.2) (2.2.3)\n",
      "Requirement already satisfied: pebble<6.0.0,>=5.0.3 in /opt/conda/lib/python3.12/site-packages (from cartiflette==0.0.2) (5.1.0)\n",
      "Requirement already satisfied: polars<2.0.0,>=1.8.1 in /opt/conda/lib/python3.12/site-packages (from cartiflette==0.0.2) (1.17.1)\n",
      "Requirement already satisfied: py7zr<0.21.0,>=0.20.4 in /opt/conda/lib/python3.12/site-packages (from cartiflette==0.0.2) (0.20.8)\n",
      "Requirement already satisfied: pyarrow<18.0.0,>=17.0.0 in /opt/conda/lib/python3.12/site-packages (from cartiflette==0.0.2) (17.0.0)\n",
      "Requirement already satisfied: python-dotenv<2.0.0,>=1.0.0 in /opt/conda/lib/python3.12/site-packages (from cartiflette==0.0.2) (1.0.1)\n",
      "Requirement already satisfied: python-magic<0.5.0,>=0.4.14 in /opt/conda/lib/python3.12/site-packages (from cartiflette==0.0.2) (0.4.27)\n",
      "Requirement already satisfied: requests<3.0.0,>=2.28.2 in /opt/conda/lib/python3.12/site-packages (from cartiflette==0.0.2) (2.32.3)\n",
      "Requirement already satisfied: requests-cache<2.0.0,>=1.1.0 in /opt/conda/lib/python3.12/site-packages (from cartiflette==0.0.2) (1.2.1)\n",
      "Requirement already satisfied: retrying<2.0.0,>=1.3.4 in /opt/conda/lib/python3.12/site-packages (from cartiflette==0.0.2) (1.3.4)\n",
      "Requirement already satisfied: s3fs<2024.0.0,>=2023.3.0 in /opt/conda/lib/python3.12/site-packages (from cartiflette==0.0.2) (2023.12.2)\n",
      "Requirement already satisfied: topojson<2.0,>=1.5 in /opt/conda/lib/python3.12/site-packages (from cartiflette==0.0.2) (1.9)\n",
      "Requirement already satisfied: unidecode<2.0.0,>=1.3.6 in /opt/conda/lib/python3.12/site-packages (from cartiflette==0.0.2) (1.3.8)\n",
      "Requirement already satisfied: urllib3<2 in /opt/conda/lib/python3.12/site-packages (from cartiflette==0.0.2) (1.26.20)\n",
      "Requirement already satisfied: xlrd<3.0.0,>=2.0.1 in /opt/conda/lib/python3.12/site-packages (from cartiflette==0.0.2) (2.0.1)\n",
      "Requirement already satisfied: attrs>=19.2.0 in /opt/conda/lib/python3.12/site-packages (from fiona<2.0.0,>=1.9.4.post1->fiona[s3]<2.0.0,>=1.9.4.post1->cartiflette==0.0.2) (24.2.0)\n",
      "Requirement already satisfied: certifi in /opt/conda/lib/python3.12/site-packages (from fiona<2.0.0,>=1.9.4.post1->fiona[s3]<2.0.0,>=1.9.4.post1->cartiflette==0.0.2) (2024.8.30)\n",
      "Requirement already satisfied: click~=8.0 in /opt/conda/lib/python3.12/site-packages (from fiona<2.0.0,>=1.9.4.post1->fiona[s3]<2.0.0,>=1.9.4.post1->cartiflette==0.0.2) (8.1.7)\n",
      "Requirement already satisfied: click-plugins>=1.0 in /opt/conda/lib/python3.12/site-packages (from fiona<2.0.0,>=1.9.4.post1->fiona[s3]<2.0.0,>=1.9.4.post1->cartiflette==0.0.2) (1.1.1)\n",
      "Requirement already satisfied: cligj>=0.5 in /opt/conda/lib/python3.12/site-packages (from fiona<2.0.0,>=1.9.4.post1->fiona[s3]<2.0.0,>=1.9.4.post1->cartiflette==0.0.2) (0.7.2)\n",
      "Requirement already satisfied: boto3>=1.3.1 in /opt/conda/lib/python3.12/site-packages (from fiona[s3]<2.0.0,>=1.9.4.post1->cartiflette==0.0.2) (1.35.36)\n",
      "Requirement already satisfied: numpy>=1.22 in /opt/conda/lib/python3.12/site-packages (from geopandas<2.0.0,>=1.0.1->cartiflette==0.0.2) (2.2.0)\n",
      "Requirement already satisfied: pyogrio>=0.7.2 in /opt/conda/lib/python3.12/site-packages (from geopandas<2.0.0,>=1.0.1->cartiflette==0.0.2) (0.10.0)\n",
      "Requirement already satisfied: packaging in /opt/conda/lib/python3.12/site-packages (from geopandas<2.0.0,>=1.0.1->cartiflette==0.0.2) (24.2)\n",
      "Requirement already satisfied: pyproj>=3.3.0 in /opt/conda/lib/python3.12/site-packages (from geopandas<2.0.0,>=1.0.1->cartiflette==0.0.2) (3.7.0)\n",
      "Requirement already satisfied: shapely>=2.0.0 in /opt/conda/lib/python3.12/site-packages (from geopandas<2.0.0,>=1.0.1->cartiflette==0.0.2) (2.0.6)\n",
      "Requirement already satisfied: contourpy>=1.0.1 in /opt/conda/lib/python3.12/site-packages (from matplotlib<4.0.0,>=3.7.1->cartiflette==0.0.2) (1.3.1)\n",
      "Requirement already satisfied: cycler>=0.10 in /opt/conda/lib/python3.12/site-packages (from matplotlib<4.0.0,>=3.7.1->cartiflette==0.0.2) (0.12.1)\n",
      "Requirement already satisfied: fonttools>=4.22.0 in /opt/conda/lib/python3.12/site-packages (from matplotlib<4.0.0,>=3.7.1->cartiflette==0.0.2) (4.55.3)\n",
      "Requirement already satisfied: kiwisolver>=1.3.1 in /opt/conda/lib/python3.12/site-packages (from matplotlib<4.0.0,>=3.7.1->cartiflette==0.0.2) (1.4.7)\n",
      "Requirement already satisfied: pillow>=8 in /opt/conda/lib/python3.12/site-packages (from matplotlib<4.0.0,>=3.7.1->cartiflette==0.0.2) (11.0.0)\n",
      "Requirement already satisfied: pyparsing>=2.3.1 in /opt/conda/lib/python3.12/site-packages (from matplotlib<4.0.0,>=3.7.1->cartiflette==0.0.2) (3.2.0)\n",
      "Requirement already satisfied: python-dateutil>=2.7 in /opt/conda/lib/python3.12/site-packages (from matplotlib<4.0.0,>=3.7.1->cartiflette==0.0.2) (2.9.0.post0)\n",
      "Requirement already satisfied: et-xmlfile in /opt/conda/lib/python3.12/site-packages (from openpyxl<4.0.0,>=3.1.5->cartiflette==0.0.2) (2.0.0)\n",
      "Requirement already satisfied: lxml in /opt/conda/lib/python3.12/site-packages (from owslib<0.29.0,>=0.28.1->cartiflette==0.0.2) (5.3.0)\n",
      "Requirement already satisfied: pytz in /opt/conda/lib/python3.12/site-packages (from owslib<0.29.0,>=0.28.1->cartiflette==0.0.2) (2024.1)\n",
      "Requirement already satisfied: tzdata>=2022.7 in /opt/conda/lib/python3.12/site-packages (from pandas<3.0.0,>=2.2.2->cartiflette==0.0.2) (2024.2)\n",
      "Requirement already satisfied: texttable in /opt/conda/lib/python3.12/site-packages (from py7zr<0.21.0,>=0.20.4->cartiflette==0.0.2) (1.7.0)\n",
      "Requirement already satisfied: pycryptodomex>=3.16.0 in /opt/conda/lib/python3.12/site-packages (from py7zr<0.21.0,>=0.20.4->cartiflette==0.0.2) (3.21.0)\n",
      "Requirement already satisfied: pyzstd>=0.15.9 in /opt/conda/lib/python3.12/site-packages (from py7zr<0.21.0,>=0.20.4->cartiflette==0.0.2) (0.16.2)\n",
      "Requirement already satisfied: pyppmd<1.2.0,>=1.1.0 in /opt/conda/lib/python3.12/site-packages (from py7zr<0.21.0,>=0.20.4->cartiflette==0.0.2) (1.1.0)\n",
      "Requirement already satisfied: pybcj<1.1.0,>=1.0.0 in /opt/conda/lib/python3.12/site-packages (from py7zr<0.21.0,>=0.20.4->cartiflette==0.0.2) (1.0.2)\n",
      "Requirement already satisfied: multivolumefile>=0.2.3 in /opt/conda/lib/python3.12/site-packages (from py7zr<0.21.0,>=0.20.4->cartiflette==0.0.2) (0.2.3)\n",
      "Requirement already satisfied: inflate64<1.1.0,>=1.0.0 in /opt/conda/lib/python3.12/site-packages (from py7zr<0.21.0,>=0.20.4->cartiflette==0.0.2) (1.0.0)\n",
      "Requirement already satisfied: brotli>=1.1.0 in /opt/conda/lib/python3.12/site-packages (from py7zr<0.21.0,>=0.20.4->cartiflette==0.0.2) (1.1.0)\n",
      "Requirement already satisfied: psutil in /opt/conda/lib/python3.12/site-packages (from py7zr<0.21.0,>=0.20.4->cartiflette==0.0.2) (6.1.0)\n",
      "Requirement already satisfied: idna<4,>=2.5 in /opt/conda/lib/python3.12/site-packages (from requests<3.0.0,>=2.28.2->cartiflette==0.0.2) (3.10)\n",
      "Requirement already satisfied: cattrs>=22.2 in /opt/conda/lib/python3.12/site-packages (from requests-cache<2.0.0,>=1.1.0->cartiflette==0.0.2) (24.1.2)\n",
      "Requirement already satisfied: platformdirs>=2.5 in /opt/conda/lib/python3.12/site-packages (from requests-cache<2.0.0,>=1.1.0->cartiflette==0.0.2) (4.3.6)\n",
      "Requirement already satisfied: url-normalize>=1.4 in /opt/conda/lib/python3.12/site-packages (from requests-cache<2.0.0,>=1.1.0->cartiflette==0.0.2) (1.4.3)\n",
      "Requirement already satisfied: six>=1.7.0 in /opt/conda/lib/python3.12/site-packages (from retrying<2.0.0,>=1.3.4->cartiflette==0.0.2) (1.17.0)\n",
      "Requirement already satisfied: aiobotocore<3.0.0,>=2.5.4 in /opt/conda/lib/python3.12/site-packages (from s3fs<2024.0.0,>=2023.3.0->cartiflette==0.0.2) (2.15.2)\n",
      "Requirement already satisfied: fsspec==2023.12.2 in /opt/conda/lib/python3.12/site-packages (from s3fs<2024.0.0,>=2023.3.0->cartiflette==0.0.2) (2023.12.2)\n",
      "Requirement already satisfied: aiohttp!=4.0.0a0,!=4.0.0a1 in /opt/conda/lib/python3.12/site-packages (from s3fs<2024.0.0,>=2023.3.0->cartiflette==0.0.2) (3.11.10)\n",
      "Requirement already satisfied: botocore<1.35.37,>=1.35.16 in /opt/conda/lib/python3.12/site-packages (from aiobotocore<3.0.0,>=2.5.4->s3fs<2024.0.0,>=2023.3.0->cartiflette==0.0.2) (1.35.36)\n",
      "Requirement already satisfied: wrapt<2.0.0,>=1.10.10 in /opt/conda/lib/python3.12/site-packages (from aiobotocore<3.0.0,>=2.5.4->s3fs<2024.0.0,>=2023.3.0->cartiflette==0.0.2) (1.17.0)\n",
      "Requirement already satisfied: aioitertools<1.0.0,>=0.5.1 in /opt/conda/lib/python3.12/site-packages (from aiobotocore<3.0.0,>=2.5.4->s3fs<2024.0.0,>=2023.3.0->cartiflette==0.0.2) (0.12.0)\n",
      "Requirement already satisfied: aiohappyeyeballs>=2.3.0 in /opt/conda/lib/python3.12/site-packages (from aiohttp!=4.0.0a0,!=4.0.0a1->s3fs<2024.0.0,>=2023.3.0->cartiflette==0.0.2) (2.4.4)\n",
      "Requirement already satisfied: aiosignal>=1.1.2 in /opt/conda/lib/python3.12/site-packages (from aiohttp!=4.0.0a0,!=4.0.0a1->s3fs<2024.0.0,>=2023.3.0->cartiflette==0.0.2) (1.3.1)\n",
      "Requirement already satisfied: frozenlist>=1.1.1 in /opt/conda/lib/python3.12/site-packages (from aiohttp!=4.0.0a0,!=4.0.0a1->s3fs<2024.0.0,>=2023.3.0->cartiflette==0.0.2) (1.5.0)\n",
      "Requirement already satisfied: multidict<7.0,>=4.5 in /opt/conda/lib/python3.12/site-packages (from aiohttp!=4.0.0a0,!=4.0.0a1->s3fs<2024.0.0,>=2023.3.0->cartiflette==0.0.2) (6.1.0)\n",
      "Requirement already satisfied: propcache>=0.2.0 in /opt/conda/lib/python3.12/site-packages (from aiohttp!=4.0.0a0,!=4.0.0a1->s3fs<2024.0.0,>=2023.3.0->cartiflette==0.0.2) (0.2.1)\n",
      "Requirement already satisfied: yarl<2.0,>=1.17.0 in /opt/conda/lib/python3.12/site-packages (from aiohttp!=4.0.0a0,!=4.0.0a1->s3fs<2024.0.0,>=2023.3.0->cartiflette==0.0.2) (1.18.3)\n",
      "Requirement already satisfied: jmespath<2.0.0,>=0.7.1 in /opt/conda/lib/python3.12/site-packages (from boto3>=1.3.1->fiona[s3]<2.0.0,>=1.9.4.post1->cartiflette==0.0.2) (1.0.1)\n",
      "Requirement already satisfied: s3transfer<0.11.0,>=0.10.0 in /opt/conda/lib/python3.12/site-packages (from boto3>=1.3.1->fiona[s3]<2.0.0,>=1.9.4.post1->cartiflette==0.0.2) (0.10.4)\n"
     ]
    }
   ],
   "source": [
    "!pip install py7zr geojson geopandas openpyxl tqdm s3fs\n",
    "!pip install PyYAML xlrd\n",
    "!pip install git+https://github.com/inseefrlab/cartiflette"
   ]
  },
  {
   "cell_type": "code",
   "execution_count": 4,
   "metadata": {},
   "outputs": [
    {
     "name": "stdout",
     "output_type": "stream",
     "text": [
      "This is an experimental version of cartiflette published on PyPi.\n",
      "To use the latest stable version, you can install it directly from GitHub with the following command:\n",
      "pip install git+https://github.com/inseeFrLab/cartiflette.git\n"
     ]
    }
   ],
   "source": [
    "import pandas as pd\n",
    "import numpy as np\n",
    "import geopandas as gpd\n",
    "import geojson\n",
    "import requests\n",
    "import time\n",
    "import os\n",
    "import re\n",
    "import magic\n",
    "import matplotlib.pyplot as plt\n",
    "import zipfile\n",
    "import cartiflette\n",
    "from io import StringIO"
   ]
  },
  {
   "cell_type": "markdown",
   "metadata": {},
   "source": [
    "On veut d'abord récupérer les données de la base DVF à partir de l'API publique dédiée. On peut regarder la documentation de cette API sur le site suivant : \n",
    "https://apidf-preprod.cerema.fr/swagger/#/DVF%2B%20(acc%C3%A8s%20libre)/dvf_opendata_geomutations_list\n"
   ]
  },
  {
   "cell_type": "markdown",
   "metadata": {},
   "source": [
    "I. Importation des données DVF"
   ]
  },
  {
   "cell_type": "markdown",
   "metadata": {},
   "source": [
    "A. Paramétrage de l'API"
   ]
  },
  {
   "cell_type": "markdown",
   "metadata": {},
   "source": [
    "On écrit la racine de l'API : "
   ]
  },
  {
   "cell_type": "code",
   "execution_count": 8,
   "metadata": {},
   "outputs": [],
   "source": [
    "base_api_dvf_url = \"https://apidf-preprod.cerema.fr\""
   ]
  },
  {
   "cell_type": "markdown",
   "metadata": {},
   "source": [
    "On va récupérer les données DVF des villes suivantes : \n",
    "1. Zone ouest :\n",
    "- Paris 16 : 75116\n",
    "- Paris 17: 75117\n",
    "- Clichy : 92024\n",
    "- Levallois : 92044\n",
    "- Neuilly : 92051\n",
    "- Boulogne-Billancourt : 92012\n",
    "\n",
    "2. Zone sud\n",
    "- Paris 13 : 75113\n",
    "- Paris 14 : 75114\n",
    "- Paris 15 : 75115\n",
    "- Issy-les-Moulineaux : 92040\n",
    "- Vanves : 92075\n",
    "- Malakoff : 92046\n",
    "- Montrouge : 92049\n",
    "- Gentilly : 94037\n",
    "- Ivry-sur-Seine : 94041\n"
   ]
  },
  {
   "cell_type": "markdown",
   "metadata": {},
   "source": [
    "On constate en faisant tourner naïvement l'API qu'on obtient toujours des données par paquets en nombre limité (par défaut, 100). On peut modifier cela par le paramètre \"page_size\", mais la limite est de 500. Pour un paramètre supérieur à 500, on n'obtient que des pages de 500. "
   ]
  },
  {
   "cell_type": "markdown",
   "metadata": {},
   "source": [
    "On cherche donc à faire boucler nos requêtes à l'API jusqu'à obtenir toutes les données concernant la commune qui nous intéresse. Or on constate que la réponse \"data\" que l'on obtient possède une clé \"next\", qui donne l'url de notre requête complété par un argument \"page\". L'API fonctionne donc ainsi : s'il y a plus de 500 observations pour une commune, l'API nous renvoie une première page qui contient 500 observations, avec l'url pour requêter la page suivant qui contient 500 autres observations, et ainsi de suite jusqu'à la dernière page, qui donne pour valeur \"None\" à la clé \"next\". "
   ]
  },
  {
   "cell_type": "markdown",
   "metadata": {},
   "source": [
    "Le code ci-dessous permet de récupérer les données."
   ]
  },
  {
   "cell_type": "code",
   "execution_count": 9,
   "metadata": {},
   "outputs": [
    {
     "data": {
      "text/plain": [
       "'data_dvf_sud = recup_donnees_dvf(\"92040\",2014) \\n\\ncode_insee_ville_banlieue_sud = [\"92040\", \"92075\", \"92046\", \"92049\", \"94037\", \"94041\"]\\ncode_insee_arrond_sud = [\"75113\", \"75114\", \"75115\"]\\n\\nfor code_insee_ville in code_insee_ville_banlieue_sud: \\n    print(code_insee_ville)\\n    for annee in range(2013,2022):\\n        print(annee)\\n        data_temp = recup_donnees_dvf(code_insee_ville,str(annee))\\n        data_dvf_sud = pd.concat([data_dvf_sud, data_temp], axis = 0)\\n\\ndata_dvf_sud.shape'"
      ]
     },
     "execution_count": 9,
     "metadata": {},
     "output_type": "execute_result"
    }
   ],
   "source": [
    "\"\"\"data_dvf_sud = recup_donnees_dvf(\"92040\",2014) \n",
    "\n",
    "code_insee_ville_banlieue_sud = [\"92040\", \"92075\", \"92046\", \"92049\", \"94037\", \"94041\"]\n",
    "code_insee_arrond_sud = [\"75113\", \"75114\", \"75115\"]\n",
    "\n",
    "for code_insee_ville in code_insee_ville_banlieue_sud: \n",
    "    print(code_insee_ville)\n",
    "    for annee in range(2013,2022):\n",
    "        print(annee)\n",
    "        data_temp = recup_donnees_dvf(code_insee_ville,str(annee))\n",
    "        data_dvf_sud = pd.concat([data_dvf_sud, data_temp], axis = 0)\n",
    "\n",
    "data_dvf_sud.shape\"\"\""
   ]
  },
  {
   "cell_type": "code",
   "execution_count": 10,
   "metadata": {},
   "outputs": [
    {
     "data": {
      "text/plain": [
       "'data_dvf_sud = recup_donnees_dvf_all_years(\"92040\") \\n\\ncode_insee_ville_banlieue_sud = [\"92075\", \"92046\", \"92049\", \"94037\", \"94041\"]\\ncode_insee_arrond_sud = [\"75113\", \"75114\", \"75115\"]\\n\\nfor code_insee_ville in code_insee_ville_banlieue_sud: \\n    print(code_insee_ville)\\n    data_temp = recup_donnees_dvf_all_years(code_insee_ville)\\n    data_dvf_sud = pd.concat([data_dvf_sud, data_temp], axis = 0)\\n\\ndata_dvf_sud.shape'"
      ]
     },
     "execution_count": 10,
     "metadata": {},
     "output_type": "execute_result"
    }
   ],
   "source": [
    "\"\"\"data_dvf_sud = recup_donnees_dvf_all_years(\"92040\") \n",
    "\n",
    "code_insee_ville_banlieue_sud = [\"92075\", \"92046\", \"92049\", \"94037\", \"94041\"]\n",
    "code_insee_arrond_sud = [\"75113\", \"75114\", \"75115\"]\n",
    "\n",
    "for code_insee_ville in code_insee_ville_banlieue_sud: \n",
    "    print(code_insee_ville)\n",
    "    data_temp = recup_donnees_dvf_all_years(code_insee_ville)\n",
    "    data_dvf_sud = pd.concat([data_dvf_sud, data_temp], axis = 0)\n",
    "\n",
    "data_dvf_sud.shape\"\"\""
   ]
  },
  {
   "cell_type": "code",
   "execution_count": 11,
   "metadata": {},
   "outputs": [],
   "source": [
    "#data_dvf_sud.shape"
   ]
  },
  {
   "cell_type": "markdown",
   "metadata": {},
   "source": [
    "Difficulté : l'API peut arrêter de nous répondre de manière imprévue au milieu de la boucle de requête des pages. Dans ce cas, toutes les données obtenues sur les pages précédentes sont perdues. On a donc intérêt, pour pouvoir travailler sereinement, à télécharger ces données. "
   ]
  },
  {
   "cell_type": "markdown",
   "metadata": {},
   "source": [
    "Pour ce faire, on va essayer, commune par commune, de requêter toutes les pages, et, AVANT de passer au requêtage pour la commune suivante, on sauvegarde notre geodataframe au format geojson. "
   ]
  },
  {
   "cell_type": "code",
   "execution_count": 12,
   "metadata": {},
   "outputs": [
    {
     "data": {
      "text/plain": [
       "'code_insee_pour_enregistre = [\"92012\"]\\nfor code_insee in code_insee_pour_enregistre: \\n    url = base_api_dvf_url + f\"/dvf_opendata/geomutations/?code_insee={code_insee}&page_size=100\"\\n    response = requests.get(url)\\n    data = response.json()\\n    print(data[\\'count\\'])\\n    gdf = recup_donnees_dvf_all_years(code_insee)\\n    name = f\\'data/dvf/data_code_insee={code_insee}.geojson\\'\\n    gdf.to_file(name, driver=\"GeoJSON\")\\n    gdf = gpd.read_file(name)\\n    print(len(gdf))'"
      ]
     },
     "execution_count": 12,
     "metadata": {},
     "output_type": "execute_result"
    }
   ],
   "source": [
    "\"\"\"code_insee_pour_enregistre = [\"92012\"]\n",
    "for code_insee in code_insee_pour_enregistre: \n",
    "    url = base_api_dvf_url + f\"/dvf_opendata/geomutations/?code_insee={code_insee}&page_size=100\"\n",
    "    response = requests.get(url)\n",
    "    data = response.json()\n",
    "    print(data['count'])\n",
    "    gdf = recup_donnees_dvf_all_years(code_insee)\n",
    "    name = f'data/dvf/data_code_insee={code_insee}.geojson'\n",
    "    gdf.to_file(name, driver=\"GeoJSON\")\n",
    "    gdf = gpd.read_file(name)\n",
    "    print(len(gdf))\"\"\""
   ]
  },
  {
   "cell_type": "markdown",
   "metadata": {},
   "source": [
    "On fait pareil pour la zone ouest de Paris"
   ]
  },
  {
   "cell_type": "code",
   "execution_count": 13,
   "metadata": {},
   "outputs": [
    {
     "data": {
      "text/plain": [
       "'data_dvf_ouest_banlieue = recup_donnees_dvf(\"92040\",2014) \\n\\ncode_insee_ville_banlieue_ouest = [\"92040\", \"92075\", \"92046\", \"92049\", \"94037\", \"94041\"]\\n\\nfor code_insee_ville in code_insee_ville_banlieue_ouest: \\n    print(code_insee_ville)\\n    for annee in range(2013,2022):\\n        print(annee)\\n        data_temp = recup_donnees_dvf(code_insee_ville,str(annee))\\n        data_dvf_ouest = pd.concat([data_dvf_ouest, data_temp], axis = 0)\\n\\ndata_dvf_ouest_banlieue.shape'"
      ]
     },
     "execution_count": 13,
     "metadata": {},
     "output_type": "execute_result"
    }
   ],
   "source": [
    "\"\"\"data_dvf_ouest_banlieue = recup_donnees_dvf(\"92040\",2014) \n",
    "\n",
    "code_insee_ville_banlieue_ouest = [\"92040\", \"92075\", \"92046\", \"92049\", \"94037\", \"94041\"]\n",
    "\n",
    "for code_insee_ville in code_insee_ville_banlieue_ouest: \n",
    "    print(code_insee_ville)\n",
    "    for annee in range(2013,2022):\n",
    "        print(annee)\n",
    "        data_temp = recup_donnees_dvf(code_insee_ville,str(annee))\n",
    "        data_dvf_ouest = pd.concat([data_dvf_ouest, data_temp], axis = 0)\n",
    "\n",
    "data_dvf_ouest_banlieue.shape\"\"\""
   ]
  },
  {
   "cell_type": "code",
   "execution_count": 14,
   "metadata": {},
   "outputs": [
    {
     "data": {
      "text/plain": [
       "'data_dvf_ouest_paris = recup_donnees_dvf(\"75116\",2012)\\n\\ncode_insee_arrond_ouest = [\"75116\", \"75117\"]\\n\\nfor code_insee_ville in code_insee_arrond_ouest: \\n    print(code_insee_ville)\\n    for annee in range(2013,2022):\\n        print(annee)\\n        data_temp = recup_donnees_dvf(code_insee_ville,str(annee))\\n        data_dvf_ouest_paris = pd.concat([data_dvf_ouest_paris, data_temp], axis = 0)\\n'"
      ]
     },
     "execution_count": 14,
     "metadata": {},
     "output_type": "execute_result"
    }
   ],
   "source": [
    "\"\"\"data_dvf_ouest_paris = recup_donnees_dvf(\"75116\",2012)\n",
    "\n",
    "code_insee_arrond_ouest = [\"75116\", \"75117\"]\n",
    "\n",
    "for code_insee_ville in code_insee_arrond_ouest: \n",
    "    print(code_insee_ville)\n",
    "    for annee in range(2013,2022):\n",
    "        print(annee)\n",
    "        data_temp = recup_donnees_dvf(code_insee_ville,str(annee))\n",
    "        data_dvf_ouest_paris = pd.concat([data_dvf_ouest_paris, data_temp], axis = 0)\n",
    "\"\"\""
   ]
  },
  {
   "cell_type": "markdown",
   "metadata": {},
   "source": [
    "Ci-dessous, le code pour reconstituer les fichiers geojson à partir des sauvegardes faites à cause de l'API défectueuse (en deux temps : la zone ouest puis la zone sud)"
   ]
  },
  {
   "cell_type": "code",
   "execution_count": 15,
   "metadata": {},
   "outputs": [
    {
     "name": "stdout",
     "output_type": "stream",
     "text": [
      "134410 134410\n"
     ]
    }
   ],
   "source": [
    "obs_tot = 0\n",
    "list_gpd_ouest = []\n",
    "for geo_file in os.listdir(\"data/dvf/cluster_ouest\"): \n",
    "    geo_file_temp = gpd.read_file(\"data/dvf/cluster_ouest/\"+geo_file)  \n",
    "    list_gpd_ouest.append(geo_file_temp)\n",
    "    obs_tot += len(geo_file_temp)\n",
    "\n",
    "all_gpd_ouest = pd.concat(list_gpd_ouest)\n",
    "print(len(all_gpd_ouest), obs_tot)"
   ]
  },
  {
   "cell_type": "code",
   "execution_count": 16,
   "metadata": {},
   "outputs": [
    {
     "name": "stdout",
     "output_type": "stream",
     "text": [
      "119319 119319\n"
     ]
    }
   ],
   "source": [
    "obs_tot = 0\n",
    "list_gpd_sud = []\n",
    "for geo_file in os.listdir(\"data/dvf/cluster_sud\"): \n",
    "    geo_file_temp = gpd.read_file(\"data/dvf/cluster_sud/\"+geo_file)  \n",
    "    obs_tot += len(geo_file_temp)\n",
    "    list_gpd_sud.append(geo_file_temp)\n",
    "\n",
    "all_gpd_sud = pd.concat(list_gpd_sud)\n",
    "print(len(all_gpd_sud), obs_tot)"
   ]
  },
  {
   "cell_type": "markdown",
   "metadata": {},
   "source": [
    "II. Récupération de données Insee par IRIS pour avoir des variables de contrôle dans notre régression"
   ]
  },
  {
   "cell_type": "markdown",
   "metadata": {},
   "source": [
    "Il n'y a pas d'API permettant de récupérer les données voulues par IRIS, donc on doit passer par l'importation de tous les fichiers. On importe trois types de fichiers : un qui contient des informations sur le revenu disponible ('BASE_TD_FILO_DISP_IRIS), un qui donne des informations sur les logements ('base_ic_logement') et un sur les occupations professionnelles des habitants de l'IRIS ('base-ic-activite-residents')."
   ]
  },
  {
   "cell_type": "code",
   "execution_count": 17,
   "metadata": {},
   "outputs": [
    {
     "name": "stdout",
     "output_type": "stream",
     "text": [
      "BASE_TD_FILO_DISP_IRIS_2020_XLSX.zip\n",
      "base-ic-activite-residents-2020_csv.zip\n"
     ]
    },
    {
     "name": "stderr",
     "output_type": "stream",
     "text": [
      "/tmp/ipykernel_33056/2103325727.py:26: DtypeWarning: Columns (1,3) have mixed types. Specify dtype option on import or set low_memory=False.\n",
      "  df_temp = pd.read_csv(zip_file.open(nom_racine_fichier + \".\" + extension),\n"
     ]
    },
    {
     "name": "stdout",
     "output_type": "stream",
     "text": [
      "base-ic-activite-residents-2021_csv.zip\n"
     ]
    },
    {
     "name": "stderr",
     "output_type": "stream",
     "text": [
      "/tmp/ipykernel_33056/2103325727.py:26: DtypeWarning: Columns (1,3) have mixed types. Specify dtype option on import or set low_memory=False.\n",
      "  df_temp = pd.read_csv(zip_file.open(nom_racine_fichier + \".\" + extension),\n"
     ]
    },
    {
     "name": "stdout",
     "output_type": "stream",
     "text": [
      "base-ic-activite-residents-2015.zip\n",
      "base-ic-logement-2014.zip\n",
      "base-ic-logement-2015.zip\n",
      "base-ic-activite-residents-2016.zip\n",
      "base-ic-activite-residents-2014.zip\n",
      "base-ic-activite-residents-2019_csv.zip\n"
     ]
    },
    {
     "name": "stderr",
     "output_type": "stream",
     "text": [
      "/tmp/ipykernel_33056/2103325727.py:26: DtypeWarning: Columns (1,4) have mixed types. Specify dtype option on import or set low_memory=False.\n",
      "  df_temp = pd.read_csv(zip_file.open(nom_racine_fichier + \".\" + extension),\n"
     ]
    },
    {
     "name": "stdout",
     "output_type": "stream",
     "text": [
      "base-ic-activite-residents-2018_csv.zip\n"
     ]
    },
    {
     "name": "stderr",
     "output_type": "stream",
     "text": [
      "/tmp/ipykernel_33056/2103325727.py:26: DtypeWarning: Columns (1,4) have mixed types. Specify dtype option on import or set low_memory=False.\n",
      "  df_temp = pd.read_csv(zip_file.open(nom_racine_fichier + \".\" + extension),\n"
     ]
    },
    {
     "name": "stdout",
     "output_type": "stream",
     "text": [
      "base-ic-logement-2019_csv.zip\n"
     ]
    },
    {
     "name": "stderr",
     "output_type": "stream",
     "text": [
      "/tmp/ipykernel_33056/2103325727.py:26: DtypeWarning: Columns (1,4,81,82,83,84,85,86,91,92,93,94) have mixed types. Specify dtype option on import or set low_memory=False.\n",
      "  df_temp = pd.read_csv(zip_file.open(nom_racine_fichier + \".\" + extension),\n"
     ]
    },
    {
     "name": "stdout",
     "output_type": "stream",
     "text": [
      "base-ic-activite-residents-2017_csv.zip\n"
     ]
    },
    {
     "name": "stderr",
     "output_type": "stream",
     "text": [
      "/tmp/ipykernel_33056/2103325727.py:26: DtypeWarning: Columns (1,4) have mixed types. Specify dtype option on import or set low_memory=False.\n",
      "  df_temp = pd.read_csv(zip_file.open(nom_racine_fichier + \".\" + extension),\n"
     ]
    },
    {
     "name": "stdout",
     "output_type": "stream",
     "text": [
      "BASE_TD_FILO_DISP_IRIS_2019.zip\n",
      "base-ic-logement-2017_csv.zip\n"
     ]
    },
    {
     "name": "stderr",
     "output_type": "stream",
     "text": [
      "/tmp/ipykernel_33056/2103325727.py:26: DtypeWarning: Columns (1,4,81,82,83,84,85,86,91,92,93,94) have mixed types. Specify dtype option on import or set low_memory=False.\n",
      "  df_temp = pd.read_csv(zip_file.open(nom_racine_fichier + \".\" + extension),\n"
     ]
    },
    {
     "name": "stdout",
     "output_type": "stream",
     "text": [
      "base-ic-logement-2016.zip\n",
      "BASE_TD_FILO_DISP_IRIS_2020_CSV.zip\n",
      "BASE_TD_FILO_DISP_IRIS_2018.zip\n",
      "BASE_TD_FILO_IRIS_2021_DISP_CSV.zip\n",
      "base-ic-logement-2018_csv.zip\n"
     ]
    },
    {
     "name": "stderr",
     "output_type": "stream",
     "text": [
      "/tmp/ipykernel_33056/2103325727.py:26: DtypeWarning: Columns (1,4,81,82,83,84,85,86,91,92,93,94) have mixed types. Specify dtype option on import or set low_memory=False.\n",
      "  df_temp = pd.read_csv(zip_file.open(nom_racine_fichier + \".\" + extension),\n"
     ]
    },
    {
     "name": "stdout",
     "output_type": "stream",
     "text": [
      "base-ic-logement-2020_csv.zip\n"
     ]
    },
    {
     "name": "stderr",
     "output_type": "stream",
     "text": [
      "/tmp/ipykernel_33056/2103325727.py:26: DtypeWarning: Columns (1,3) have mixed types. Specify dtype option on import or set low_memory=False.\n",
      "  df_temp = pd.read_csv(zip_file.open(nom_racine_fichier + \".\" + extension),\n"
     ]
    },
    {
     "name": "stdout",
     "output_type": "stream",
     "text": [
      "base-ic-logement-2021_csv.zip\n"
     ]
    },
    {
     "name": "stderr",
     "output_type": "stream",
     "text": [
      "/tmp/ipykernel_33056/2103325727.py:26: DtypeWarning: Columns (1,3,80,81,82,83,84,85,90,91,92,93) have mixed types. Specify dtype option on import or set low_memory=False.\n",
      "  df_temp = pd.read_csv(zip_file.open(nom_racine_fichier + \".\" + extension),\n"
     ]
    }
   ],
   "source": [
    "dfs_activite = []\n",
    "dfs_logement = []\n",
    "dfs_revenu = []\n",
    "dates_df = []\n",
    "\n",
    "\n",
    "for f in os.listdir(\"data/insee\"):\n",
    "    if f.lower().endswith(\".zip\"): #si c'est un zip\n",
    "        print(f)\n",
    "        zip_file = zipfile.ZipFile(\"data/insee/\"+f) #on le dézipe\n",
    "        nom_racine_dossier = f.rsplit(\".\",1)[0]\n",
    "        for f_in_zip in zipfile.ZipFile(\"data/insee/\"+f).namelist():\n",
    "            if f_in_zip[0:4] == \"meta\" :\n",
    "                pass\n",
    "            else :\n",
    "                nom_racine_fichier = f_in_zip.rsplit(\".\",1)[0]\n",
    "                extension = f_in_zip.rsplit(\".\",1)[1] #on récupère l'extension\n",
    "                \n",
    "                # Recherche de l'année\n",
    "                schema_date = r\"(\\d{4})\"\n",
    "                match = re.search(schema_date, f)\n",
    "                    \n",
    "                annee_extraite = match.group(1)\n",
    "                \n",
    "                if extension.lower() == \"csv\":\n",
    "                    df_temp = pd.read_csv(zip_file.open(nom_racine_fichier + \".\" + extension), \n",
    "                                            sep = \";\", dtype = {'IRIS' : str})\n",
    "                                            \n",
    "                elif extension in (\"xls\", \"xlsx\"):\n",
    "                    df_temp = pd.read_excel(zip_file.open(nom_racine_fichier + \".\" + extension),\n",
    "                                            skiprows = 5, dtype = {'IRIS' : str})\n",
    "                    \n",
    "                df_temp['IRIS'] = df_temp['IRIS'].apply(lambda x: '0' + x if len(x) == 8 else x)\n",
    "                \n",
    "                deux_derniers_chiffres_annee = annee_extraite[2:4]\n",
    "                df_temp['annee'] = annee_extraite\n",
    "                \n",
    "                if \"activite\" in nom_racine_fichier:\n",
    "                    df_temp.columns = [col.replace(f'{deux_derniers_chiffres_annee}_', '_') for col in df_temp.columns]\n",
    "                    dfs_activite.append(df_temp)\n",
    "                elif \"logement\" in nom_racine_fichier:\n",
    "                    df_temp.columns = [col.replace(f'{deux_derniers_chiffres_annee}_', '_') for col in df_temp.columns]\n",
    "                    dfs_logement.append(df_temp)\n",
    "                elif \"DISP\" in nom_racine_fichier:\n",
    "                    colonnes_a_traiter = [col for col in df_temp.columns if col.endswith(deux_derniers_chiffres_annee)]\n",
    "                    df_temp = df_temp.rename(columns={col: col[:-2] for col in colonnes_a_traiter})\n",
    "                    dfs_revenu.append(df_temp)\n",
    "                else :\n",
    "                    print('un fichier n a pas été traité')\n",
    "\n",
    "                dates_df.append(annee_extraite)\n",
    "    else :\n",
    "        nom_racine_fichier = f.rsplit(\".\",1)[0]\n",
    "        extension = f.rsplit(\".\",1)[1] #on récupère l'extension\n",
    "                \n",
    "        schema_date = r\"(\\d{4})\"\n",
    "        match = re.search(schema_date, f)     \n",
    "        annee_extraite = match.group(1)\n",
    "\n",
    "        df_temp = pd.read_excel(\"data/insee/\" + nom_racine_fichier + \".\" + extension,\n",
    "                                            skiprows = 5, dtype = {'IRIS' : str})\n",
    "                    \n",
    "        df_temp['IRIS'] = df_temp['IRIS'].apply(lambda x: '0' + x if len(x) == 8 else x)\n",
    "        deux_derniers_chiffres_annee = annee_extraite[2:4]\n",
    "        df_temp['annee'] = annee_extraite\n",
    "                \n",
    "        if \"DISP\" in nom_racine_fichier:\n",
    "            colonnes_a_traiter = [col for col in df_temp.columns if col.endswith(deux_derniers_chiffres_annee)]\n",
    "            df_temp = df_temp.rename(columns={col: col[:-2] for col in colonnes_a_traiter})\n",
    "            dfs_revenu.append(df_temp)\n",
    "\n",
    "        dates_df.append(annee_extraite)\n"
   ]
  },
  {
   "cell_type": "code",
   "execution_count": 18,
   "metadata": {},
   "outputs": [],
   "source": [
    "dfs_clean_activite = pd.concat(dfs_activite, ignore_index = True)\n",
    "dfs_clean_revenu = pd.concat(dfs_revenu, ignore_index = True)\n",
    "dfs_clean_logement = pd.concat(dfs_logement, ignore_index = True)"
   ]
  },
  {
   "cell_type": "code",
   "execution_count": 19,
   "metadata": {},
   "outputs": [
    {
     "name": "stdout",
     "output_type": "stream",
     "text": [
      "(395824, 131)\n",
      "(122018, 36)\n",
      "(395824, 123)\n"
     ]
    }
   ],
   "source": [
    "print(dfs_clean_activite.shape)\n",
    "print(dfs_clean_revenu.shape)\n",
    "print(dfs_clean_logement.shape)\n"
   ]
  },
  {
   "cell_type": "code",
   "execution_count": 20,
   "metadata": {},
   "outputs": [],
   "source": [
    "df_fusion_inter = pd.merge(dfs_clean_activite, dfs_clean_revenu,how = \"outer\", on=['IRIS','annee']) \n",
    "df_fusion_all_insee = pd.merge(df_fusion_inter, dfs_clean_logement, how = \"outer\",on=['IRIS', 'annee'])#, 'LIBIRIS','TYP_IRIS','MODIF_IRIS','LAB_IRIS','COM', 'LIBCOM'])"
   ]
  },
  {
   "cell_type": "markdown",
   "metadata": {},
   "source": [
    "Vérifions que le dataframe obtenu n'a pas de problème."
   ]
  },
  {
   "cell_type": "code",
   "execution_count": 21,
   "metadata": {},
   "outputs": [
    {
     "name": "stdout",
     "output_type": "stream",
     "text": [
      "(411921, 165)\n",
      "(411921, 286)\n"
     ]
    }
   ],
   "source": [
    "print(df_fusion_inter.shape)\n",
    "print(df_fusion_all_insee.shape)"
   ]
  },
  {
   "cell_type": "markdown",
   "metadata": {},
   "source": [
    "III. Fusion de nos deux jeux de données\n"
   ]
  },
  {
   "cell_type": "markdown",
   "metadata": {},
   "source": [
    "Troisième et dernière étape d'importation des données : un fichier pour faire la correspondance entre les adresses/coordonnées des données DVF et les IRIS des données Insee.\n",
    "\n",
    "On utilise un fichier des données géographiques des IRIS d'Île-de-France."
   ]
  },
  {
   "cell_type": "code",
   "execution_count": 22,
   "metadata": {},
   "outputs": [],
   "source": [
    "iris = gpd.read_file(\"data/iris.geojson\")  \n",
    "iris = iris.to_crs(epsg=4326)  # Assurez-vous d'utiliser le même système de coordonnées (WGS84)\n",
    "iris['code_iris'] = iris['code_iris'].astype(str)"
   ]
  },
  {
   "cell_type": "markdown",
   "metadata": {},
   "source": [
    "On regarde dans quel système géographique est le tableau geopandas des données DVF"
   ]
  },
  {
   "cell_type": "code",
   "execution_count": 23,
   "metadata": {},
   "outputs": [
    {
     "name": "stdout",
     "output_type": "stream",
     "text": [
      "EPSG:4326\n",
      "EPSG:4326\n"
     ]
    }
   ],
   "source": [
    "print(all_gpd_sud[\"geometry\"].crs)\n",
    "print(all_gpd_ouest[\"geometry\"].crs)"
   ]
  },
  {
   "cell_type": "markdown",
   "metadata": {},
   "source": [
    "Ok, on est bien en format 4326 (=WGS 84) pour les deux fichiers, on va pouvoir affecter des IRIS à nos adresses de la base DVF (pour ensuite relier ça aux fichiers Insee)"
   ]
  },
  {
   "cell_type": "code",
   "execution_count": 24,
   "metadata": {},
   "outputs": [
    {
     "name": "stdout",
     "output_type": "stream",
     "text": [
      "                         idmutinvar                        idopendata  \\\n",
      "0  fa9de5c7a1e81d2444750667e6b84a1d  fa9de5c7a1e81d2444750667e6b84a1d   \n",
      "1  75282c4570d05ce529a3711943474c49  75282c4570d05ce529a3711943474c49   \n",
      "2  6e99d204be41e221eb1d8e9d3f344758  6e99d204be41e221eb1d8e9d3f344758   \n",
      "3  408b6bb88d4b954c39a1bc23c98c6fd0  408b6bb88d4b954c39a1bc23c98c6fd0   \n",
      "4  332627df7e0255a0090d116f4dc3b483  332627df7e0255a0090d116f4dc3b483   \n",
      "\n",
      "     datemut anneemut coddep libnatmut   vefa valeurfonc nbcomm l_codinsee  \\\n",
      "0 2024-06-03     2024     75     Vente  False  290000.00      1      75114   \n",
      "1 2024-05-29     2024     75   Echange  False     500.00      1      75114   \n",
      "2 2024-02-12     2024     75     Vente  False  504900.00      1      75114   \n",
      "3 2024-01-19     2024     75     Vente  False  400000.00      1      75114   \n",
      "4 2024-03-20     2024     75     Vente  False  210000.00      1      75114   \n",
      "\n",
      "   ...                                           geometry index_right  \\\n",
      "0  ...  MULTIPOLYGON (((2.31026 48.82763, 2.31021 48.8...      2139.0   \n",
      "1  ...  MULTIPOLYGON (((2.32593 48.83405, 2.32605 48.8...       727.0   \n",
      "2  ...  MULTIPOLYGON (((2.32096 48.83909, 2.32102 48.8...      3783.0   \n",
      "3  ...  MULTIPOLYGON (((2.31217 48.83066, 2.31213 48.8...      1095.0   \n",
      "4  ...  MULTIPOLYGON (((2.3308 48.8307, 2.33082 48.830...       571.0   \n",
      "\n",
      "                                           geo_point   dep insee_com  \\\n",
      "0  { \"lon\": 2.3093112798300002, \"lat\": 48.8274934...  75.0   75114.0   \n",
      "1  { \"lon\": 2.3250946131800001, \"lat\": 48.8345701...  75.0   75114.0   \n",
      "2  { \"lon\": 2.3201594653800002, \"lat\": 48.8383156...  75.0   75114.0   \n",
      "3  { \"lon\": 2.31478869685, \"lat\": 48.829552509899...  75.0   75114.0   \n",
      "4  { \"lon\": 2.3292684931699998, \"lat\": 48.8292242...  75.0   75114.0   \n",
      "\n",
      "                    nom_com    iris  code_iris            nom_iris typ_iris  \n",
      "0  Paris 14e Arrondissement  5605.0  751145605         Plaisance 5        H  \n",
      "1  Paris 14e Arrondissement  5622.0  751145622        Plaisance 22        H  \n",
      "2  Paris 14e Arrondissement  5624.0  751145624        Plaisance 24        H  \n",
      "3  Paris 14e Arrondissement  5608.0  751145608         Plaisance 8        H  \n",
      "4  Paris 14e Arrondissement  5511.0  751145511  Petit Montrouge 11        H  \n",
      "\n",
      "[5 rows x 31 columns]\n",
      "Index(['idmutinvar', 'idopendata', 'datemut', 'anneemut', 'coddep',\n",
      "       'libnatmut', 'vefa', 'valeurfonc', 'nbcomm', 'l_codinsee', 'nbpar',\n",
      "       'l_idpar', 'nbparmut', 'l_idparmut', 'sterr', 'nbvolmut', 'nblocmut',\n",
      "       'l_idlocmut', 'sbati', 'codtypbien', 'libtypbien', 'geometry',\n",
      "       'index_right', 'geo_point', 'dep', 'insee_com', 'nom_com', 'iris',\n",
      "       'code_iris', 'nom_iris', 'typ_iris'],\n",
      "      dtype='object')\n",
      "(119319, 22)\n",
      "(126961, 31)\n"
     ]
    }
   ],
   "source": [
    "data_mut_sud_avec_iris = gpd.sjoin(all_gpd_sud, iris, how=\"left\", predicate=\"intersects\")\n",
    "data_mut_ouest_avec_iris = gpd.sjoin(all_gpd_ouest, iris, how=\"left\", predicate=\"intersects\")\n",
    "\n",
    "# Vérifier les résultats\n",
    "print(data_mut_sud_avec_iris.head())\n",
    "print(data_mut_sud_avec_iris.columns)\n",
    "print(all_gpd_sud.shape)\n",
    "print(data_mut_sud_avec_iris.shape)"
   ]
  },
  {
   "cell_type": "markdown",
   "metadata": {},
   "source": [
    "Les deux codes ci-dessous servent à éliminer les ventes qui sont à cheval entre deux IRIS (on a assez d'observations comme ça et elles pourraient brouiller les résultats de la régression)."
   ]
  },
  {
   "cell_type": "code",
   "execution_count": 25,
   "metadata": {},
   "outputs": [],
   "source": [
    "non_unique_ids_sud = data_mut_sud_avec_iris['idmutinvar'][data_mut_sud_avec_iris['idmutinvar'].duplicated(keep=False)]\n",
    "data_mut_sud_avec_iris_unique = data_mut_sud_avec_iris[~data_mut_sud_avec_iris['idmutinvar'].isin(non_unique_ids_sud)]\n",
    "data_mut_sud_avec_iris = data_mut_sud_avec_iris_unique"
   ]
  },
  {
   "cell_type": "code",
   "execution_count": 26,
   "metadata": {},
   "outputs": [
    {
     "name": "stdout",
     "output_type": "stream",
     "text": [
      "(140041, 31)\n",
      "(129306, 31)\n"
     ]
    }
   ],
   "source": [
    "non_unique_ids_ouest = data_mut_ouest_avec_iris['idmutinvar'][data_mut_ouest_avec_iris['idmutinvar'].duplicated(keep=False)]\n",
    "data_mut_ouest_avec_iris_unique = data_mut_ouest_avec_iris[~data_mut_ouest_avec_iris['idmutinvar'].isin(non_unique_ids_ouest)]\n",
    "print(data_mut_ouest_avec_iris.shape)\n",
    "print(data_mut_ouest_avec_iris_unique.shape)\n",
    "\n",
    "data_mut_ouest_avec_iris = data_mut_ouest_avec_iris_unique"
   ]
  },
  {
   "cell_type": "markdown",
   "metadata": {},
   "source": [
    "On enlève les ventes faites après 2021 car les données Insee s'arrêtent en 2021"
   ]
  },
  {
   "cell_type": "code",
   "execution_count": 27,
   "metadata": {},
   "outputs": [
    {
     "data": {
      "text/plain": [
       "(96924, 31)"
      ]
     },
     "execution_count": 27,
     "metadata": {},
     "output_type": "execute_result"
    }
   ],
   "source": [
    "data_mut_sud_avec_iris = data_mut_sud_avec_iris[data_mut_sud_avec_iris['anneemut'].astype(int) < 2022]\n",
    "data_mut_sud_avec_iris.shape\n",
    "\n",
    "data_mut_ouest_avec_iris = data_mut_ouest_avec_iris[data_mut_ouest_avec_iris['anneemut'].astype(int) < 2022]\n",
    "data_mut_ouest_avec_iris.shape"
   ]
  },
  {
   "cell_type": "markdown",
   "metadata": {},
   "source": [
    "Dernière étape : relier ça aux données Insee"
   ]
  },
  {
   "cell_type": "code",
   "execution_count": 28,
   "metadata": {},
   "outputs": [],
   "source": [
    "data_mut_ouest_et_insee = pd.merge(left = data_mut_ouest_avec_iris,\n",
    "                            right = df_fusion_all_insee, \n",
    "                            how = \"inner\",\n",
    "                            left_on = [\"code_iris\", \"anneemut\"],\n",
    "                            right_on = [\"IRIS\", \"annee\"])\n",
    "\n",
    "data_mut_sud_et_insee = pd.merge(left = data_mut_sud_avec_iris,\n",
    "                            right = df_fusion_all_insee, \n",
    "                            how = \"inner\",\n",
    "                            left_on = [\"code_iris\", \"anneemut\"],\n",
    "                            right_on = [\"IRIS\", \"annee\"])\n",
    "                            "
   ]
  },
  {
   "cell_type": "code",
   "execution_count": 29,
   "metadata": {},
   "outputs": [
    {
     "data": {
      "text/plain": [
       "(109677, 317)"
      ]
     },
     "execution_count": 29,
     "metadata": {},
     "output_type": "execute_result"
    }
   ],
   "source": [
    "data_mut_ouest_et_insee.shape"
   ]
  },
  {
   "cell_type": "markdown",
   "metadata": {},
   "source": [
    "Ci-dessous, on va regarder les variables des trois jeux de données Insee et vérifier qu'ils sont bien présents dans le jeu de données final (on va regarder sur 2019 car on sait qu'il y a bien pour cette année des données DVF et Insee complètes)"
   ]
  },
  {
   "cell_type": "code",
   "execution_count": 30,
   "metadata": {},
   "outputs": [],
   "source": [
    "data_mut_ouest_et_insee_2019 = data_mut_ouest_et_insee[data_mut_ouest_et_insee[\"anneemut\"] == \"2019\"]"
   ]
  },
  {
   "cell_type": "code",
   "execution_count": 31,
   "metadata": {},
   "outputs": [
    {
     "data": {
      "text/plain": [
       "Index(['IRIS', 'LIBIRIS', 'COM', 'LIBCOM', 'DISP_TP60', 'DISP_Q1', 'DISP_MED',\n",
       "       'DISP_Q3', 'DISP_EQ', 'DISP_D1', 'DISP_D2', 'DISP_D3', 'DISP_D4',\n",
       "       'DISP_D6', 'DISP_D7', 'DISP_D8', 'DISP_D9', 'DISP_RD', 'DISP_S80S20',\n",
       "       'DISP_GI', 'DISP_PTSAC', 'DISP_PBEN', 'DISP_PPEN', 'DISP_PPAT',\n",
       "       'DISP_PPSOC', 'DISP_PPFAM', 'DISP_PPMINI', 'DISP_PPLOGT', 'DISP_PIMPOT',\n",
       "       'note', 'annee'],\n",
       "      dtype='object')"
      ]
     },
     "execution_count": 31,
     "metadata": {},
     "output_type": "execute_result"
    }
   ],
   "source": [
    "dfs_revenu[1].columns"
   ]
  },
  {
   "cell_type": "code",
   "execution_count": 32,
   "metadata": {},
   "outputs": [
    {
     "data": {
      "text/plain": [
       "Index(['IRIS', 'REG', 'DEP', 'UU2010', 'COM', 'LIBCOM', 'TRIRIS', 'GRD_QUART',\n",
       "       'LIBIRIS', 'TYP_IRIS',\n",
       "       ...\n",
       "       'P_RP_TTEGOU', 'P_RP_GARL', 'P_RP_VOIT1P', 'P_RP_VOIT1', 'P_RP_VOIT2P',\n",
       "       'P_RP_HABFOR', 'P_RP_CASE', 'P_RP_MIBOIS', 'P_RP_MIDUR', 'annee'],\n",
       "      dtype='object', length=103)"
      ]
     },
     "execution_count": 32,
     "metadata": {},
     "output_type": "execute_result"
    }
   ],
   "source": [
    "dfs_logement[1].columns"
   ]
  },
  {
   "cell_type": "code",
   "execution_count": 33,
   "metadata": {},
   "outputs": [
    {
     "data": {
      "text/plain": [
       "Index(['IRIS', 'COM', 'TYP_IRIS', 'LAB_IRIS', 'P_POP1564', 'P_POP1524',\n",
       "       'P_POP2554', 'P_POP5564', 'P_H1564', 'P_H1524',\n",
       "       ...\n",
       "       'P_ACTOCC15P_ILT4', 'P_ACTOCC15P_ILT5', 'C_ACTOCC15P',\n",
       "       'C_ACTOCC15P_PAS', 'C_ACTOCC15P_MAR', 'C_ACTOCC15P_VELO',\n",
       "       'C_ACTOCC15P_2ROUESMOT', 'C_ACTOCC15P_VOIT', 'C_ACTOCC15P_TCOM',\n",
       "       'annee'],\n",
       "      dtype='object', length=120)"
      ]
     },
     "execution_count": 33,
     "metadata": {},
     "output_type": "execute_result"
    }
   ],
   "source": [
    "dfs_activite[1].columns"
   ]
  },
  {
   "cell_type": "code",
   "execution_count": 34,
   "metadata": {},
   "outputs": [
    {
     "name": "stdout",
     "output_type": "stream",
     "text": [
      "3972      699.425612\n",
      "3973      699.425612\n",
      "3974      930.481123\n",
      "3975      728.812234\n",
      "3976      930.481123\n",
      "             ...    \n",
      "104030    545.286834\n",
      "104031    451.183533\n",
      "104032    482.932487\n",
      "104033    461.540601\n",
      "104034    395.633423\n",
      "Name: P_ACTOCC15P_ILT3, Length: 15282, dtype: float64\n",
      "3972      635.607826\n",
      "3973      635.607826\n",
      "3974      962.532561\n",
      "3975      841.889822\n",
      "3976      962.532561\n",
      "             ...    \n",
      "104030    925.419814\n",
      "104031    553.256033\n",
      "104032    847.114612\n",
      "104033    671.328478\n",
      "104034    561.035751\n",
      "Name: P_RP_VOIT1P, Length: 15282, dtype: float64\n",
      "3972      14120\n",
      "3973      14120\n",
      "3974      17170\n",
      "3975      14810\n",
      "3976      17170\n",
      "          ...  \n",
      "104030    16820\n",
      "104031    13320\n",
      "104032    16640\n",
      "104033    15920\n",
      "104034    17220\n",
      "Name: DISP_D1, Length: 15282, dtype: object\n"
     ]
    }
   ],
   "source": [
    "print(data_mut_ouest_et_insee_2019['P_ACTOCC15P_ILT3']) #activite\n",
    "print(data_mut_ouest_et_insee_2019['P_RP_VOIT1P']) #logement\n",
    "print(data_mut_ouest_et_insee_2019['DISP_D1']) #revenu"
   ]
  },
  {
   "cell_type": "markdown",
   "metadata": {},
   "source": [
    "IV. Nettoyage du jeu de données"
   ]
  },
  {
   "cell_type": "markdown",
   "metadata": {},
   "source": [
    "Regardons d'abord notre jeu de données :"
   ]
  },
  {
   "cell_type": "code",
   "execution_count": 35,
   "metadata": {},
   "outputs": [
    {
     "name": "stdout",
     "output_type": "stream",
     "text": [
      "(109677, 317)\n"
     ]
    }
   ],
   "source": [
    "print(data_mut_ouest_et_insee.shape)"
   ]
  },
  {
   "cell_type": "markdown",
   "metadata": {},
   "source": [
    "On a énormément de colonnes dans ce jeu de données, sont-elles toutes utilisables ?"
   ]
  },
  {
   "cell_type": "code",
   "execution_count": 36,
   "metadata": {},
   "outputs": [
    {
     "name": "stdout",
     "output_type": "stream",
     "text": [
      "                         0\n",
      "idmutinvar        0.000000\n",
      "idopendata        0.000000\n",
      "datemut           0.000000\n",
      "anneemut          0.000000\n",
      "coddep            0.000000\n",
      "...                    ...\n",
      "P_RPMAISON_ACH17  0.766751\n",
      "P_RPAPPART_ACH17  0.766751\n",
      "P_RP_ACH18        0.868268\n",
      "P_RPMAISON_ACH18  0.868268\n",
      "P_RPAPPART_ACH18  0.868268\n",
      "\n",
      "[317 rows x 1 columns]\n"
     ]
    }
   ],
   "source": [
    "df_verif = pd.DataFrame(data_mut_ouest_et_insee.isna().sum() / len(data_mut_ouest_et_insee)) \n",
    "print(df_verif)"
   ]
  },
  {
   "cell_type": "markdown",
   "metadata": {},
   "source": [
    "Visiblement, certaines colonnes sont presque vides (on affiche ici le pourcentage d'observations manquantes). On va supprimer toutes les colonnes qui ont plus de 10% d'observations manquantes."
   ]
  },
  {
   "cell_type": "code",
   "execution_count": 37,
   "metadata": {},
   "outputs": [
    {
     "name": "stdout",
     "output_type": "stream",
     "text": [
      "(109677, 237)\n"
     ]
    }
   ],
   "source": [
    "df_to_drop = df_verif[df_verif[0] > 0.1]\n",
    "to_drop = []\n",
    "for index, row in df_to_drop.iterrows():\n",
    "    to_drop.append(index)\n",
    "data_mut_ouest_et_insee = data_mut_ouest_et_insee.drop(to_drop, axis=1)\n",
    "print(data_mut_ouest_et_insee.shape)"
   ]
  },
  {
   "cell_type": "markdown",
   "metadata": {},
   "source": [
    "Vérifions qu'on a bien enlevé toutes les colonnes vides : "
   ]
  },
  {
   "cell_type": "code",
   "execution_count": 38,
   "metadata": {},
   "outputs": [
    {
     "name": "stdout",
     "output_type": "stream",
     "text": [
      "(0, 1)\n"
     ]
    }
   ],
   "source": [
    "df_verif = pd.DataFrame(data_mut_ouest_et_insee.isna().sum() / len(data_mut_ouest_et_insee))\n",
    "df_to_drop = df_verif[df_verif[0] > 0.1]\n",
    "print(df_to_drop.shape)"
   ]
  },
  {
   "cell_type": "markdown",
   "metadata": {},
   "source": [
    "Vérifions aussi que nous avons conservé les variables qui nous intéressaient le plus dans les jeux de données INSEE :"
   ]
  },
  {
   "cell_type": "code",
   "execution_count": 39,
   "metadata": {},
   "outputs": [
    {
     "name": "stdout",
     "output_type": "stream",
     "text": [
      "False\n",
      "False\n",
      "False\n"
     ]
    }
   ],
   "source": [
    "print('P_ACTOCC15P_ILT3' in to_drop)\n",
    "print('P_RP_VOIT1P' in to_drop)\n",
    "print('DISP_D1' in to_drop)"
   ]
  },
  {
   "cell_type": "markdown",
   "metadata": {},
   "source": [
    "Maintenant qu'on a épuré les colonnes, on peut regarder les lignes. Il faut enlever toutes les transactions qui ne nous intéressent pas. En particulier, certaines transactions affichent une surface batie vendue de 0 ET une surface de terrain vendue de 0. D'autres transactions présentent une valeur de vente de 0. "
   ]
  },
  {
   "cell_type": "code",
   "execution_count": 40,
   "metadata": {},
   "outputs": [],
   "source": [
    "df_ouest = data_mut_ouest_et_insee\n",
    "df_ouest['valeurfonc']  = df_ouest[\"valeurfonc\"].astype(float)\n",
    "df_ouest['sbati']  = df_ouest[\"sbati\"].astype(float)\n",
    "df_ouest['sterr']  = df_ouest[\"sterr\"].astype(float)\n",
    "df_ouest['stot']  = df_ouest[\"sterr\"] + df_ouest[\"sbati\"]\n"
   ]
  },
  {
   "cell_type": "code",
   "execution_count": 41,
   "metadata": {},
   "outputs": [
    {
     "name": "stdout",
     "output_type": "stream",
     "text": [
      "109677\n",
      "89989\n"
     ]
    }
   ],
   "source": [
    "print(len(df_ouest))\n",
    "df_ouest = df_ouest[df_ouest['stot']>0]\n",
    "df_ouest = df_ouest[df_ouest['valeurfonc']>0]\n",
    "print(len(df_ouest))"
   ]
  },
  {
   "cell_type": "markdown",
   "metadata": {},
   "source": [
    "On va également s'assurer que les transactions ne concernent que des maisons ou des appartements (voire la documentation)."
   ]
  },
  {
   "cell_type": "code",
   "execution_count": 42,
   "metadata": {},
   "outputs": [
    {
     "name": "stdout",
     "output_type": "stream",
     "text": [
      "83030\n"
     ]
    }
   ],
   "source": [
    "df_ouest = df_ouest[df_ouest[\"codtypbien\"].str.startswith(('11', \"12\"))]\n",
    "print(len(df_ouest))"
   ]
  },
  {
   "cell_type": "code",
   "execution_count": 43,
   "metadata": {},
   "outputs": [
    {
     "name": "stdout",
     "output_type": "stream",
     "text": [
      "77753\n"
     ]
    }
   ],
   "source": [
    "biens_retenus = ['UN APPARTEMENT', 'UNE MAISON']\n",
    "df_ouest = df_ouest[df_ouest['libtypbien'].isin(biens_retenus)]\n",
    "print(len(df_ouest))"
   ]
  },
  {
   "cell_type": "code",
   "execution_count": 44,
   "metadata": {},
   "outputs": [],
   "source": [
    "data_mut_ouest_et_insee = df_ouest"
   ]
  },
  {
   "cell_type": "markdown",
   "metadata": {},
   "source": [
    "On va répéter exactement la même chose pour la zone sud : "
   ]
  },
  {
   "cell_type": "code",
   "execution_count": 45,
   "metadata": {},
   "outputs": [
    {
     "name": "stdout",
     "output_type": "stream",
     "text": [
      "(95139, 317)\n"
     ]
    },
    {
     "name": "stdout",
     "output_type": "stream",
     "text": [
      "False\n",
      "False\n",
      "False\n",
      "(50773, 238)\n"
     ]
    }
   ],
   "source": [
    "print(data_mut_sud_et_insee.shape)\n",
    "df_sud = data_mut_sud_et_insee\n",
    "df_verif = pd.DataFrame(data_mut_sud_et_insee.isna().sum() / len(data_mut_sud_et_insee)) \n",
    "df_to_drop = df_verif[df_verif[0] > 0.1]\n",
    "to_drop = []\n",
    "for index, row in df_to_drop.iterrows():\n",
    "    to_drop.append(index)\n",
    "data_mut_sud_et_insee = data_mut_sud_et_insee.drop(to_drop, axis=1)\n",
    "df_sud = data_mut_sud_et_insee\n",
    "print('P_ACTOCC15P_ILT3' in to_drop)\n",
    "print('P_RP_VOIT1P' in to_drop)\n",
    "print('DISP_D1' in to_drop)\n",
    "df_sud['valeurfonc']  = df_sud[\"valeurfonc\"].astype(float)\n",
    "df_sud['sbati']  = df_sud[\"sbati\"].astype(float)\n",
    "df_sud['sterr']  = df_sud[\"sterr\"].astype(float)\n",
    "df_sud['stot']  = df_sud[\"sterr\"] + df_ouest[\"sbati\"]\n",
    "df_sud = df_sud[(df_sud['stot']>0) & (df_sud['valeurfonc']>0)]\n",
    "df_sud = df_sud[df_sud[\"codtypbien\"].str.startswith(('11', \"12\"))]\n",
    "df_sud = df_sud[df_sud['libtypbien'].isin(biens_retenus)]\n",
    "data_mut_sud_et_insee = df_sud\n",
    "print(data_mut_sud_et_insee.shape)"
   ]
  },
  {
   "cell_type": "markdown",
   "metadata": {},
   "source": [
    "V. Visualisation"
   ]
  },
  {
   "cell_type": "markdown",
   "metadata": {},
   "source": [
    "On commence à faire vite-fait un peu de visualisation spatiale"
   ]
  },
  {
   "cell_type": "code",
   "execution_count": null,
   "metadata": {},
   "outputs": [],
   "source": [
    "\"\"\"idf = cartiflette.carti_download(\n",
    "    values=[\"11\"],\n",
    "    crs=4326,\n",
    "    borders=\"DEPARTEMENT\",\n",
    "    vectorfile_format=\"geojson\",\n",
    "    filter_by=\"REGION\",\n",
    "    source=\"EXPRESS-COG-CARTO-TERRITOIRE\",\n",
    "    year=2022,\n",
    ")\n",
    "\n",
    "departements_paris_92 = idf.loc[\n",
    "    idf[\"INSEE_DEP\"].isin([\"75\", \"92\"])\n",
    "].to_crs(2154)\n",
    "\n",
    "fig, ax = plt.subplots(figsize=(12, 12))\n",
    "base = departements_paris_92.boundary.plot(ax=ax, edgecolor=\"black\", linewidth=0.5, figsize=(10, 10))\n",
    "\n",
    "data_mut_et_insee_pour_vis = data_mut_ouest_et_insee\n",
    "data_mut_et_insee_pour_vis[\"geometry\"] = data_mut_et_insee_pour_vis[\"geometry\"].to_crs(2154)\n",
    "\n",
    "data_mut_et_insee_pour_vis.plot(ax=ax)\n",
    "\n",
    "plt.show()\n",
    "\n",
    "\"\"\""
   ]
  },
  {
   "cell_type": "markdown",
   "metadata": {},
   "source": [
    "On a sélectionné ici au début du code les villes de Vanves et Issy les Moulineaux, d'où le fait que les tâches de couleur s'affichent sur une zone localisée (uniquement les villes concernées)\n",
    "= > il faudra ajuster l'API et le fond de carte selon la commune choisie, mais au moins on sait le faire fonctionner grosso modo"
   ]
  },
  {
   "cell_type": "markdown",
   "metadata": {},
   "source": [
    "On veut afficher le prix au mètre carré sur la carte, on crée donc cette variable dans notre data_frame"
   ]
  },
  {
   "cell_type": "code",
   "execution_count": 47,
   "metadata": {},
   "outputs": [],
   "source": [
    "# Calcul de prix_m2\n",
    "data_mut_ouest_et_insee['prix_m2'] = data_mut_ouest_et_insee['valeurfonc'] / data_mut_ouest_et_insee['sbati']\n"
   ]
  },
  {
   "cell_type": "markdown",
   "metadata": {},
   "source": [
    "On convertit toutes les géométries de multipolygon à point"
   ]
  },
  {
   "cell_type": "code",
   "execution_count": 48,
   "metadata": {},
   "outputs": [
    {
     "name": "stdout",
     "output_type": "stream",
     "text": [
      "['MultiPolygon']\n",
      "['Point']\n"
     ]
    }
   ],
   "source": [
    "\n",
    "print(data_mut_ouest_et_insee.geometry.geom_type.unique())\n",
    "\n",
    "data_mut_ouest_et_insee['geometry'] = data_mut_ouest_et_insee.geometry.centroid\n",
    "\n",
    "print(data_mut_ouest_et_insee.geometry.geom_type.unique())\n",
    "\n"
   ]
  },
  {
   "cell_type": "markdown",
   "metadata": {},
   "source": [
    "On convertit la géométrie en données WGS 84 (coordonnées gps classiques) pour pouvoir la bibliothèque Folium de Python"
   ]
  },
  {
   "cell_type": "code",
   "execution_count": 49,
   "metadata": {},
   "outputs": [
    {
     "name": "stdout",
     "output_type": "stream",
     "text": [
      "                   geometry\n",
      "0  POINT (2.29097 48.89223)\n",
      "1   POINT (2.2931 48.89651)\n",
      "2  POINT (2.27706 48.89362)\n",
      "3  POINT (2.29215 48.89798)\n",
      "5  POINT (2.28119 48.89536)\n"
     ]
    }
   ],
   "source": [
    "\n",
    "data_mut_ouest_et_insee = data_mut_ouest_et_insee.to_crs(epsg=4326)\n",
    "print(data_mut_ouest_et_insee[['geometry']].head())\n"
   ]
  },
  {
   "cell_type": "markdown",
   "metadata": {},
   "source": [
    "on veut des cartes seulement pour 2019, 2020 et 2021."
   ]
  },
  {
   "cell_type": "code",
   "execution_count": 50,
   "metadata": {},
   "outputs": [
    {
     "name": "stdout",
     "output_type": "stream",
     "text": [
      "   annee       prix_m2                  geometry\n",
      "0   2021  10927.835052  POINT (2.29097 48.89223)\n",
      "1   2021   8298.969072   POINT (2.2931 48.89651)\n",
      "2   2021   9795.918367  POINT (2.27706 48.89362)\n",
      "3   2021   9320.000000  POINT (2.29215 48.89798)\n",
      "5   2021  11539.075630  POINT (2.28119 48.89536)\n"
     ]
    }
   ],
   "source": [
    "data_mut_ouest_et_insee['annee'] = data_mut_ouest_et_insee['datemut'].dt.year\n",
    "\n",
    "annees_interet = [2019, 2020, 2021]\n",
    "data_filtre_annees = data_mut_ouest_et_insee[data_mut_ouest_et_insee['annee'].isin(annees_interet)]\n",
    "\n",
    "\n",
    "print(data_filtre_annees[['annee', 'prix_m2', 'geometry']].head())\n",
    "\n"
   ]
  },
  {
   "cell_type": "code",
   "execution_count": 51,
   "metadata": {},
   "outputs": [
    {
     "name": "stdout",
     "output_type": "stream",
     "text": [
      "2019 : 10911, 2020 : 17746, 2021 : 10296\n"
     ]
    }
   ],
   "source": [
    "# Filtrer les données par année\n",
    "data_2019 = data_mut_ouest_et_insee[data_mut_ouest_et_insee['datemut'].dt.year == 2019]\n",
    "data_2020 = data_mut_ouest_et_insee[data_mut_ouest_et_insee['datemut'].dt.year == 2020]\n",
    "data_2021 = data_mut_ouest_et_insee[data_mut_ouest_et_insee['datemut'].dt.year == 2021]\n",
    "\n",
    "print(f\"2019 : {len(data_2019)}, 2020 : {len(data_2020)}, 2021 : {len(data_2021)}\")\n"
   ]
  },
  {
   "cell_type": "markdown",
   "metadata": {},
   "source": [
    "On crée une première carte avec des points en la centrant directement avec location = (48.89, 2.29), j'ai pris Levallois Perret"
   ]
  },
  {
   "cell_type": "code",
   "execution_count": null,
   "metadata": {},
   "outputs": [],
   "source": [
    "\"\"\"\n",
    "import folium\n",
    "\n",
    "# Fonction pour créer une carte\n",
    "def create_map(data, year):\n",
    "    m = folium.Map(location=[48.8918307474864, 2.292034072558762], zoom_start=16)  # Coordonnées centrées sur Paris\n",
    "    for _, row in data.iterrows():\n",
    "        folium.CircleMarker(\n",
    "            location=[row.geometry.y, row.geometry.x],\n",
    "            radius=5,\n",
    "            color='blue',\n",
    "            fill=True,\n",
    "            fill_color='blue',\n",
    "            fill_opacity=0.7,\n",
    "            popup=f\"Prix m² : {row['prix_m2']:.2f} €\\nDate : {row['datemut']}\"\n",
    "        ).add_to(m)\n",
    "    return m\n",
    "\n",
    "\n",
    "carte_2019 = create_map(data_2019, 2019)\n",
    "carte_2020 = create_map(data_2020, 2020)\n",
    "carte_2021 = create_map(data_2021, 2021)\n",
    "\n",
    "carte_2019\n",
    "\"\"\""
   ]
  },
  {
   "cell_type": "markdown",
   "metadata": {},
   "source": [
    "Pour une visualisation plus aérée et lisible, on prend un échantillon aléatoire de 10% des des données."
   ]
  },
  {
   "cell_type": "code",
   "execution_count": 53,
   "metadata": {},
   "outputs": [],
   "source": [
    "\n",
    "reduced_data = data_mut_ouest_et_insee.sample(frac=0.1, random_state=42)\n"
   ]
  },
  {
   "cell_type": "markdown",
   "metadata": {},
   "source": [
    "On fait une nouvelle carte avec des clusters"
   ]
  },
  {
   "cell_type": "code",
   "execution_count": null,
   "metadata": {},
   "outputs": [],
   "source": [
    "\"\"\"from folium.plugins import MarkerCluster\n",
    "\n",
    "m = folium.Map(location=[48.8918307474864, 2.29], zoom_start=16)\n",
    "marker_cluster = MarkerCluster().add_to(m)\n",
    "\n",
    "for _, row in reduced_data.iterrows():\n",
    "    folium.Marker(\n",
    "        location=[row.geometry.y, row.geometry.x],\n",
    "        popup=f\"Prix m² : {row['prix_m2']:.2f} €<br>Type : {row['libtypbien']}\",\n",
    "    ).add_to(marker_cluster)\n",
    "\n",
    "m\n",
    "\"\"\""
   ]
  },
  {
   "cell_type": "markdown",
   "metadata": {},
   "source": [
    "VI. Differences in differences"
   ]
  },
  {
   "cell_type": "markdown",
   "metadata": {},
   "source": [
    "On cherche à appliquer ce modèle à deux ensembles : l'Ouest parisien et le Sud parisien. Dans chaque ensemble, on établit un groupe \"contrôle\" (villes en bordures du périphérique) et un groupe \"traitement\" (arrondissements parisiens en bordure du périphérique). "
   ]
  },
  {
   "cell_type": "code",
   "execution_count": 55,
   "metadata": {},
   "outputs": [
    {
     "name": "stdout",
     "output_type": "stream",
     "text": [
      "['92' '75']\n"
     ]
    }
   ],
   "source": [
    "print(data_mut_ouest_et_insee['coddep'].unique())"
   ]
  },
  {
   "cell_type": "code",
   "execution_count": 56,
   "metadata": {},
   "outputs": [],
   "source": [
    "crtl_sud = data_mut_ouest_et_insee[data_mut_ouest_et_insee['coddep']=='92']\n",
    "trtm_sud = data_mut_ouest_et_insee[data_mut_ouest_et_insee['coddep']=='75']"
   ]
  },
  {
   "cell_type": "code",
   "execution_count": 57,
   "metadata": {},
   "outputs": [
    {
     "name": "stdout",
     "output_type": "stream",
     "text": [
      "['idmutinvar', 'idopendata', 'datemut', 'anneemut', 'coddep', 'libnatmut', 'vefa', 'valeurfonc', 'nbcomm', 'l_codinsee', 'nbpar', 'l_idpar', 'nbparmut', 'sterr', 'nbvolmut', 'nblocmut', 'l_idlocmut', 'sbati', 'codtypbien', 'libtypbien', 'geometry', 'index_right', 'geo_point', 'dep', 'insee_com', 'nom_com', 'iris', 'code_iris', 'nom_iris', 'typ_iris', 'IRIS', 'COM_x', 'TYP_IRIS_x', 'LAB_IRIS_x', 'P_POP1564', 'P_POP1524', 'P_POP2554', 'P_POP5564', 'P_H1564', 'P_H1524', 'P_H2554', 'P_H5564', 'P_F1564', 'P_F1524', 'P_F2554', 'P_F5564', 'P_ACT1564', 'P_ACT1524', 'P_ACT2554', 'P_ACT5564', 'P_HACT1564', 'P_HACT1524', 'P_HACT2554', 'P_HACT5564', 'P_FACT1564', 'P_FACT1524', 'P_FACT2554', 'P_FACT5564', 'P_ACTOCC1564', 'P_ACTOCC1524', 'P_ACTOCC2554', 'P_ACTOCC5564', 'P_HACTOCC1564', 'P_HACTOCC1524', 'P_HACTOCC2554', 'P_HACTOCC5564', 'P_FACTOCC1564', 'P_FACTOCC1524', 'P_FACTOCC2554', 'P_FACTOCC5564', 'P_CHOM1564', 'P_CHOM1524', 'P_CHOM2554', 'P_CHOM5564', 'P_INACT1564', 'P_HINACT1564', 'P_FINACT1564', 'P_ETUD1564', 'P_HETUD1564', 'P_FETUD1564', 'P_RETR1564', 'P_HRETR1564', 'P_FRETR1564', 'P_AINACT1564', 'P_HAINACT1564', 'P_FAINACT1564', 'C_ACT1564', 'C_ACT1564_CS1', 'C_ACT1564_CS2', 'C_ACT1564_CS3', 'C_ACT1564_CS4', 'C_ACT1564_CS5', 'C_ACT1564_CS6', 'C_ACTOCC1564', 'C_ACTOCC1564_CS1', 'C_ACTOCC1564_CS2', 'C_ACTOCC1564_CS3', 'C_ACTOCC1564_CS4', 'C_ACTOCC1564_CS5', 'C_ACTOCC1564_CS6', 'P_ACTOCC15P', 'P_HACTOCC15P', 'P_FACTOCC15P', 'P_SAL15P', 'P_HSAL15P', 'P_FSAL15P', 'P_NSAL15P', 'P_HNSAL15P', 'P_FNSAL15P', 'P_ACTOCC15P_TP', 'P_SAL15P_TP', 'P_HSAL15P_TP', 'P_FSAL15P_TP', 'P_NSAL15P_TP', 'P_SAL15P_CDI', 'P_SAL15P_CDD', 'P_SAL15P_INTERIM', 'P_SAL15P_EMPAID', 'P_SAL15P_APPR', 'P_NSAL15P_INDEP', 'P_NSAL15P_EMPLOY', 'P_NSAL15P_AIDFAM', 'P_ACTOCC15P_ILT1', 'P_ACTOCC15P_ILT2P', 'P_ACTOCC15P_ILT2', 'P_ACTOCC15P_ILT3', 'P_ACTOCC15P_ILT4', 'P_ACTOCC15P_ILT5', 'C_ACTOCC15P', 'C_ACTOCC15P_PAS', 'C_ACTOCC15P_MAR', 'C_ACTOCC15P_VOIT', 'C_ACTOCC15P_TCOM', 'annee', 'DISP_Q1', 'DISP_MED', 'DISP_Q3', 'DISP_EQ', 'DISP_D1', 'DISP_D2', 'DISP_D3', 'DISP_D4', 'DISP_D6', 'DISP_D7', 'DISP_D8', 'DISP_D9', 'DISP_RD', 'DISP_S80S20', 'DISP_GI', 'DISP_PBEN', 'DISP_PPEN', 'DISP_PPAT', 'DISP_PPSOC', 'DISP_PPFAM', 'DISP_PPMINI', 'DISP_PPLOGT', 'DISP_PIMPOT', 'COM', 'TYP_IRIS_y', 'LAB_IRIS_y', 'P_LOG', 'P_RP', 'P_RSECOCC', 'P_LOGVAC', 'P_MAISON', 'P_APPART', 'P_RP_1P', 'P_RP_2P', 'P_RP_3P', 'P_RP_4P', 'P_RP_5PP', 'P_NBPI_RP', 'P_RPMAISON', 'P_NBPI_RPMAISON', 'P_RPAPPART', 'P_NBPI_RPAPPART', 'P_RP_M30M2', 'P_RP_3040M2', 'P_RP_4060M2', 'P_RP_6080M2', 'P_RP_80100M2', 'P_RP_100120M2', 'P_RP_120M2P', 'P_RP_ACHTOT', 'P_RP_ACH19', 'P_RP_ACH45', 'P_RP_ACH70', 'P_RP_ACH90', 'P_RP_ACH05', 'P_RPMAISON_ACHTOT', 'P_RPMAISON_ACH19', 'P_RPMAISON_ACH45', 'P_RPMAISON_ACH70', 'P_RPMAISON_ACH90', 'P_RPMAISON_ACH05', 'P_RPAPPART_ACHTOT', 'P_RPAPPART_ACH19', 'P_RPAPPART_ACH45', 'P_RPAPPART_ACH70', 'P_RPAPPART_ACH90', 'P_RPAPPART_ACH05', 'P_MEN', 'P_MEN_ANEM0002', 'P_MEN_ANEM0204', 'P_MEN_ANEM0509', 'P_MEN_ANEM10P', 'P_PMEN', 'P_PMEN_ANEM0002', 'P_PMEN_ANEM0204', 'P_PMEN_ANEM0509', 'P_PMEN_ANEM10P', 'P_NBPI_RP_ANEM0002', 'P_NBPI_RP_ANEM0204', 'P_NBPI_RP_ANEM0509', 'P_NBPI_RP_ANEM10P', 'P_RP_PROP', 'P_RP_LOC', 'P_RP_LOCHLMV', 'P_RP_GRAT', 'P_NPER_RP', 'P_NPER_RP_PROP', 'P_NPER_RP_LOC', 'P_NPER_RP_LOCHLMV', 'P_NPER_RP_GRAT', 'P_ANEM_RP', 'P_ANEM_RP_PROP', 'P_ANEM_RP_LOC', 'P_ANEM_RP_LOCHLMV', 'P_ANEM_RP_GRAT', 'P_RP_SDB', 'P_RP_CCCOLL', 'P_RP_CCIND', 'P_RP_CINDELEC', 'P_RP_GARL', 'P_RP_VOIT1P', 'P_RP_VOIT1', 'P_RP_VOIT2P', 'stot', 'prix_m2']\n"
     ]
    }
   ],
   "source": [
    "print(list(data_mut_ouest_et_insee.columns))"
   ]
  },
  {
   "cell_type": "code",
   "execution_count": 58,
   "metadata": {},
   "outputs": [],
   "source": [
    "import statsmodels.formula.api as sm\n",
    "data_mut_ouest_et_insee['prix_m2'] = data_mut_ouest_et_insee['valeurfonc'] / data_mut_ouest_et_insee['stot']\n"
   ]
  },
  {
   "cell_type": "code",
   "execution_count": 59,
   "metadata": {},
   "outputs": [
    {
     "name": "stdout",
     "output_type": "stream",
     "text": [
      "['37090', '37000', '36600', '39310', '38430', '36720', '44850', '37240', '34640', '31650', '38840', '37550', '31010', '24370', '43030', '30230', '41820', '31980', '22440', '37740', '41200', '20920', '35010', '30990', '36360', '40210', '40600', '37810', '21410', '36530', '35890', '35510', '36650', '36800', '43390', '32630', '30750', '35990', '24010', '31100', '37780', '20830', '35830', '41600', '29010', 30500, 37530, 35980, 36640, 36310, 33240, 39370, 36830, 35470, 30000, 35940, 38910, 35450, 34830, 44170, 35460, 40730, 30780, 23500, 20110, 36720, 20630, 28550, 30310.0, 36340.0, 34780.0, 36240.0, 35420.0, 40140.0, 32650.0, 37710.0, 41790.0, 20050.0, 35070.0, 35390.0, 35860.0, 35680.0, 33700.0, 44050.0, 29270.0, 38010.0, 35920.0, 29890.0, 20330.0, 22750.0, 29250.0, 21160.0, 38880.0, 35440.0, 31370.0, 33900.0, 42020.0, 34800.0, 35300.0, 28510.0, 34470.0, 27780.0, 33510.0, 36760.0, 29260.0, 28760.0, 34410.0, 32120.0, 34590.0, 34460.0, 39630.0, 19670.0, 19790.0, 34560.0, 29420.55555555556, 28271.33333333334, 33618.66666666666, 34381.33333333334, 41010.66666666666, 35630.909090909096, 32209.333333333325, 32640.0, 27537.5, 33973.33333333332, 38547.33333333334, 31034.0, 33333.88888888889, 33707.39130434783, 31700.4, 33636.66666666666, 37109.23076923076, 21093.33333333333, 34680.95238095239, 33979.42307692307, 19997.2, 27481.0, 19629.33333333333, 35618.0, 32221.0, 38410.66666666666, 30909.0, 33795.0, 33631.666666666664, 26543.75, 20815.23809523809, 31627.5, 34082.30769230769, 40905.5, 29656.5, 31114.444444444445, 20245.0, 32670.555555555555, 32531.0, 27754.166666666664, 28897.5, 26500.555555555555, 38027.142857142855, 28576.875, 33085.23809523809, 19083.04347826087, 'ns', '24690', '24710', '20990', '16890', '21930', '26640', '25850', '25470', '23540', '21610', '20590', '24020', '26440', '17860', '25060', '30690', '22760', '22140', '17710', '16240', '24650', '19600', '29480', '25580', '17540', '17920', '23990', '24900', '20530', '21320', '22590', '24120', '16430', '23280', '22630', '25360', '21860', '18400', '17270', '23250', '21190', 24450, 22420, 24670, 17330, 21680, 21030, 21690, 19380, 20480, 20210, 22860, 28080, 20280, 22310, 22100, 15230, 23870, 16450, 17310, 20700, 19580, 15740, 19940.0, 24210.0, 23540.0, 20100.0, 21240.0, 21800.0, 23940.0, 19210.0, 21580.0, 19690.0, 24090.0, 28010.0, 21570.0, 20430.0, 16890.0, 22480.0, 16550.0, 19520.0, 14990.0, 15180.0, 20650.0, 16740.0, 21280.0, 16140.0, 18080.0, 21820.0, 18310.0, 23100.0, 19770.0, 20220.0, 21900.0, 19470.0, 20610.0, 18710.0, 16360.0, 23410.0, 23240.0, 19220.0, 26800.0, 20030.0, 13410.0, 19120.0, 20450.0, 20740.0, 16120.0, 18150.0, 19153.888888888887, 19779.5, 26010.0, 19500.869565217392, 16468.387096774197, 22626.0, 21218.888888888887, 22815.555555555555, 17272.5, 19176.66666666667, 18473.08558558559, 20423.571428571435, 15598.717948717947, 18907.33333333333, 21520.0, 15903.333333333332, 20025.714285714286, 21359.444444444445, 18916.66666666667, 18325.0, 12345.333333333336, 14946.0, 18876.153846153844, 25664.666666666668, 15312.5, 16367.142857142857, 19022.0, 18634.54385964912, 18315.555555555555, 11630.0, 20583.641025641024, 16182.5, 20501.2, 17765.0, 21391.0, 20968.33333333333, 15064.8, 19442.33333333333, 18403.5, 18553.33333333333, 14974.868421052632, 19298.13953488372, 19289.0, 17724.166666666668, '40430', '43680', '34910', '35330', '50840', '43010', '47910', '47690', '48390', '48010', '42190', '41900', '51290', '50310', '47410', '45310', '37900', '39380', '46240', '49750', '40540', '28220', '46350', '34750', '32810', '45270', '43710', '47900', '40500', '42650', '48400', '49070', '43890', '42870', '50280', '44290', '42330', '40830', '24530', '55160', '46480', '35430', '44870', '52170', '46740', '52090', '39530', '30800', '42830', '43240', '44670', '38450', '51830', '48610', '48570', '36440', '48120', '46420', '33350', '49320', '47110', '36610', '42560', '41830', '29680', '59150', '22250', '39290', '33920', '41240', '38200', '36270', '35130', '24860', '46090', '21840', '35710', '41110', '44510', '38970', '45480', '46590', '30680', '46670', '46330', '39060', '47570', '48440', '48620', '41380', '39200', '38300', '42710', '29920', '32200', '41180', '45300', '34020', '47440', '54460', '41230', '41140', '37950', '48350', '47310', '47850', '43670', '47530', '43460', '30440', '41370', '52260', '46200', '47230', '42530', '49160', '28780', '41300', '37100', '44280', '47620', '47450', '38680', '49120', '44110', '41860', '41290', '46040', '52890', '49910', '47330', '41100', '44950', '48780', '33210', 44780, 41770, 39530, 47400, 43820, 47570, 36880, 39710, 44880, 45260, 37660, 50670, 42380, 41640, 45230, 37810, 40890, 46280, 45400, 44330, 47200, 28940, 34030, 56330, 49610, 48430, 37390, 45210, 52110, 47310, 42970, 49380, 42390, 33360, 40130, 29090, 42500, 40560, 40850, 49160, 30750, nan, 40830, 46130, 34930, 43520, 48230, 44060, 38290, 45500, 35910, 46500, 34650, 51200, 33150, 48340, 47820, 41930, 49280, 44040, 45290, 50600, 50230, 24730, 41620, 44480.0, 45200.0, 35740.0, 41450.0, 49950.0, 38240.0, 32820.0, 47650.0, 45650.0, 46270.0, 38690.0, 45640.0, 30740.0, 29200.0, 36970.0, 44030.0, 49670.0, 40110.0, 22120.0, 50750.0, 49490.0, 47710.0, 46620.0, 39150.0, 40680.0, 33930.0, 41730.0, 47600.0, 30430.0, 37210.0, 43580.0, 48530.0, 43000.0, 43130.0, 48160.0, 44150.0, 51460.0, 40300.0, 39140.0, 49130.0, 38490.0, 33630.0, 45590.0, 42950.0, 44230.0, 41260.0, 56460.0, 45580.0, 44520.0, 38250.0, 43950.0, 47240.0, 48760.0, 41990.0, 51270.0, 37460.0, 28320.0, 40500.0, 47550.0, 44970.0, 35380.0, 34100.0, 49890.0, 48480.0, 52910.0, 32190.0, 36620.0, 28190.0, 39410.0, 38660.0, 46240.0, 39340.0, 45150.0, 49460.0, 41760.0, 42180.0, 43080.0, 44920.0, 39960.0, 46480.0, 45960.0, 36380.0, 28390.0, 47520.0, 41110.0, 35500.0, 31300.0, 44560.0, 43470.0, 42410.0, 52130.0, 43460.0, 37420.0, 41020.0, 37180.0, 47690.0, 45300.0, 45940.0, 48220.0, 44410.0, 40660.0, 39750.0, 36220.0, 38360.0, 27320.0, 34390.0, 42930.0, 40370.0, 38900.0, 40340.0, 38100.0, 52360.0, 33830.0, 32720.0, 48240.0, 42050.0, 44090.0, 42670.0, 38930.0, 32320.0, 45170.0, 46430.0, 21450.0, 24690.0, 41070.0, 45890.0, 35270.0, 47006.8, 41486.78571428572, 37579.523809523824, 35816.8, 45868.66666666666, 41326.0, 39766.5, 24399.5, 42277.33333333334, 37696.0, 44637.0, 43804.0, 39706.83333333333, 28205.555555555555, 36153.33333333334, 45100.66666666666, 41676.66666666666, 45311.42857142857, 38676.66666666666, 46192.222222222226, 38452.33333333333, 43934.0, 43890.0, 40180.64516129031, 46925.0, 42534.0, 44784.0, 52608.33333333334, 45704.5, 47650.55555555556, 36670.8, 40257.0, 49405.0, 42825.33333333334, 36096.5, 40685.33333333334, 45832.30769230768, 41569.64285714287, 38834.13333333333, 27830.303030303032, 34154.0, 33810.0, 43629.56521739131, 36304.444444444445, 43402.8, 37167.5, 37622.0, 40504.0, 37565.33333333334, 42842.0, 43189.58333333334, 27095.6, 33248.57142857143, 40074.0, 49357.14285714288, 48619.33333333334, 39659.42307692307, 31514.2, 35533.66666666666, 42032.66666666666, 37772.35294117647, 33273.0, 31471.5, 42266.0, 46418.83333333332, 21907.0, 42011.33333333334, 39583.84615384616, 32191.75, 37520.0, 45550.0, 45781.0, 32598.309523809523, 34101.333333333336, 49678.0, 38710.0, 35626.61111111111, 40987.87878787879, 46336.0, 38521.42857142857, 42844.5, 39838.0, 46957.41935483871, 38214.0, 36696.66666666666, 46533.82352941177, 49291.333333333336, 32800.5, 37043.04347826087, 48118.51851851852, 45144.66666666666, 37131.333333333336, 45451.333333333336, 38796.0, 40622.66666666666, 37655.41666666667, 41708.04761904762, 41205.2, 44036.5, 39861.0, 38031.0, 38240.66666666666, 42114.6, 43013.80952380952, 39154.0, 43889.2, 43334.36231884058, 27431.0, 46513.88888888889, 43103.75, 42533.58333333333, 45165.55555555556, 39359.5, 49378.333333333336, 21603.846153846152, 41300.4, 39602.5, 41800.0, 27005.0, 45537.0, 38592.05555555556, 39761.90476190476, 40578.0, 47577.083333333336, 43799.0, 44532.608695652176, 27170.93023255814, 43868.57142857143, 38095.333333333336, 34152.42857142857, 34814.27777777778, 44206.0, 48323.22580645161, 35092.820512820515, 36564.64285714286, 24491.33333333333, '40420', '42850', '38810', '37290', '36790', '36040', '34650', '45220', '38990', '31600', '32450', '34010', '38290', '34790', '29440', '32930', '33490', '46680', '30540', '38870', '42130', '38060', '35920', '34360', '31730', '41680', '31170', '31540', '35630', '52280', '35850', '37180', '33390', '44210', '39810', '33860', '35700', '35000', '29310', '30510', '30760', '43370', '35970', '41510', '35910', '32170', '34600', '38390', '39510', '36060', '30110', '38570', '42790', '36130', '31970', '30930', '33560', '32100', '30980', '40350', '42430', '35220', '34770', '33250', '37160', '35530', '37880', '32540', '31640', '33690', '33180', '52360', '34290', '43820', '34130', 38440, 30580, 32430, 33260, 36690, 29140, 34860, 36670, 34380, 35060, 30830, 30360, 33450, 40450, 38520, 35370, 34760, 42570, 34840, 36440, 38130, 32510, 39940, 30410, 43540, 30230, 35580, 36550, 31940, 36260, 42790, 41170, 31720, 31360, 37250.0, 31480.0, 32600.0, 32230.0, 34020.0, 39620.0, 39200.0, 31400.0, 35350.0, 30390.0, 35870.0, 43830.0, 37770.0, 29020.0, 30490.0, 34790.0, 28780.0, 34710.0, 36270.0, 38500.0, 30320.0, 34190.0, 29870.0, 32260.0, 43150.0, 42650.0, 35930.0, 39850.0, 31420.0, 41960.0, 35590.0, 30450.0, 34640.0, 42860.0, 31570.0, 52020.0, 34350.0, 32560.0, 34750.0, 27360.0, 37450.0, 38840.0, 30040.0, 33570.0, 30730.0, 30080.0, 38470.0, 28740.0, 40690.0, 29960.0, 36770.0, 30030.0, 34810.0, 34700.0, 26720.0, 30470.0, 41250.0, 31250.0, 32330.0, 33720.0, 32630.0, 49910.0, 31380.0, 34890.0, 31920.0, 39490.0, 38019.444444444445, 29049.0, 28074.782608695656, 33356.19047619047, 35956.4, 37229.33333333334, 29130.71428571428, 29503.833333333336, 29277.02702702703, 31124.761904761912, 30541.111111111113, 34703.0, 26289.0, 33352.0, 33083.66666666668, 29718.266666666663, 36279.523809523824, 31547.933333333323, 31407.77777777778, 31598.0, 30370.95238095237, 39939.5652173913, 34060.66666666666, 36289.6, 29543.333333333325, 25475.0, 30271.428571428554, 33832.0, 37228.0, 31467.0, 29997.333333333325, 34108.0, 40637.33333333334, 29270.833333333336, 34153.80952380953, 38929.0, 33561.33333333334, 38802.777777777774, 34824.0, 49095.33333333334, 39098.33333333333, 28496.25, 25527.33333333333, 32663.33333333333, 35694.8, 39308.09523809524, 34420.0, 28723.5, 31894.444444444445, 34244.666666666664, 28607.0, 33696.06060606061, 29009.0, 33200.0, 32738.0, 30263.0, 28805.5, 27968.69565217392, 33231.11111111111, 34735.833333333336, 33604.666666666664, 29673.0, 37854.0, 28138.571428571428, 37699.0, 28479.04761904762, 38440.833333333336, 30257.33333333333, 32111.388888888887, 34268.57142857143, 25072.17391304348, 33012.0, 28566.666666666668, 33462.608695652176, 32247.6, 28264.285714285717, 40974.0, 30441.33333333333, 29481.11111111111, 46412.0, '39790', '44960', '37420', '29830', '28680', '35580', '51940', '33420', '30770', '33910', '38310', '39040', '38900', '34510', '20250', '55690', '24040', '46450', '42180', '40410', '25500', '48250', '40300', '40910', '51380', '21160', '33550', '56110', '49660', '21650', '43050', '36050', '53190', '32330', '51870', '36150', '41850', '35100', '23230', '62210', '22050', '49890', '42990', '29450', '47090', '51030', '44310', '50690', '40480', '43450', '41480', '26330', '25660', '38040', '44460', '48940', '35210', '37510', '28250', '32750', '38020', '40530', '32440', '39010', '23830', '47880', '30670', '22890', '39710', '37300', '58880', '55720', '28960', '47350', '33040', '34160', '40950', '31510', '38880', '36880', '27980', '41570', '48830', '39660', '36930', '46830', '21710', '48290', '26500', '34460', '19880', '40580', '39590', '48150', '17880', '33680', '47610', '44300', '25280', '41660', '23720', '21370', '25030', 32050, 41940, 41120, 51650, 38350, 26390, 38680, 39690, 23720, 38870, 28950, 43360, 37540, 40040, 45040, 30590, 19740, 33130, 47390, 46810, 33690, 34260, 19060, 27910, 39290, 27530, 45470, 49620, 33440, 40970, 49040, 25330, 26330, 37650, 38780, 48590, 20510, 22400, 45250, 57040, 36400, 32130, 21320, 45980, 53030, 37700, 23910, 39460, 25770, 17850, 25150.0, 46010.0, 49370.0, 46680.0, 37330.0, 40190.0, 39680.0, 39910.0, 31770.0, 26160.0, 29530.0, 38170.0, 31500.0, 32030.0, 33000.0, 33600.0, 28690.0, 27040.0, 26760.0, 53210.0, 38190.0, 35110.0, 39350.0, 40090.0, 36020.0, 21300.0, 49830.0, 32910.0, 47680.0, 34670.0, 38400.0, 35900.0, 24720.0, 48100.0, 37320.0, 47260.0, 49650.0, 42270.0, 53960.0, 41100.0, 19190.0, 18690.0, 39430.0, 23270.0, 38160.0, 44600.0, 41740.0, 23620.0, 41950.0, 20250.0, 57570.0, 36650.0, 39300.0, 47900.0, 30560.0, 31580.0, 36930.0, 36060.0, 33970.0, 28900.0, 32980.0, 46920.0, 25370.0, 22950.0, 37620.0, 55610.0, 26680.0, 48500.0, 33680.0, 17650.0, 30880.0, 25240.0, 20310.0, 45680.0, 35820.0, 39260.0, 36040.0, 38850.0, 53650.0, 45530.0, 42750.0, 45010.0, 42230.0, 43790.0, 30980.0, 30290.0, 42400.0, 23510.0, 35650.0, 37910.0, 37750.0, 27070.0, 31180.0, 24110.0, 46960.0, 40050.0, 45100.0, 37830.0, 38200.0, 36280.0, 19180.0, 42110.0, 17950.0, 45270.0, 20070.0, 26840.0, 44690.0, 18120.0, 23646.0, 37935.5, 39244.16666666667, 39473.33333333334, 44886.0, 31414.28571428572, 35342.77777777778, 36697.91666666667, 36587.222222222226, 37334.0, 30300.5, 31984.0, 29866.0, 28072.666666666675, 42646.66666666666, 38393.0, 34618.66666666666, 44344.5, 44825.41666666668, 25186.66666666666, 34497.0, 39208.66666666666, 29237.78571428572, 24908.0, 42980.66666666666, 29911.333333333325, 17632.0, 41273.33333333334, 44913.84615384614, 33839.0, 17212.8, 30104.666666666675, 33819.2105263158, 34964.4, 52508.33333333332, 44136.0, 24150.5, 20192.0, 35755.38461538463, 41839.6, 32298.0, 19649.0, 45337.82608695653, 32269.6, 35930.83333333334, 36498.33333333334, 26789.56521739131, 23191.25, 23942.22222222222, 46438.722222222226, 45201.6, 40149.444444444445, 49669.0, 38652.222222222226, 51082.57142857143, 36121.5, 23434.5, 18104.444444444445, 18739.0, 26718.66666666667, 33408.0, 44102.0, 41378.0, 18066.6, 19031.0, 28400.0, 31236.5, 16116.956521739132, 37603.68421052632, 32242.0, 22910.0, 28688.846153846152, 39637.5, 44927.2, 38236.0, 29539.714285714286, 32453.0, 42716.15384615384, 38893.29166666667, 37731.90476190476, 35776.0, 50823.33333333333, 23947.0, 37956.66666666666, 45241.11111111111, 44896.0, 35497.619047619046, 37008.0, 30622.0, 44096.5, 35362.380952380954, 34181.666666666664, 30109.0, 46926.0, 17820.0, 28112.5, 29888.666666666668, 34119.5, 18206.75, 38709.333333333336, 38320.0, 22511.0, 33924.666666666664, 25411.11111111111, 41235.833333333336, 47619.333333333336, 24255.33333333333, 38060.95238095238, 57203.5, 35196.19047619047, 22193.333333333336, 34726.666666666664, 44609.66666666666, 36902.5, 33808.0, 26802.333333333336, 24143.0, 41980.0, 23118.571428571428, 27699.5, 19185.0, '51180', '54900', '52820', '52730', '50430', '53000', '60670', '43220', '50540', '44320', '45240', '42970', '43230', '44360', '47280', '51570', '41760', '49240', '40160', '53600', '53310', '40380', '62570', '50500', '31190', '49740', '49090', '42730', '39270', '47660', '51450', '41700', '43570', '51620', '50480', '38550', '45280', '49020', '57000', '43910', '47990', '39930', '48760', '41190', '46780', '41420', '50210', '58600', '38480', '50080', 47760, 48730, 52280, 51010, 41360, 50150, 48830, 42250, 49000, 57540, 47040, 40800, 39540, 45420, 50820, 41150, 53070, 39330, 49590, 42850, 58900, 43730, 57620.0, 49230.0, 60350.0, 53400.0, 40100.0, 45910.0, 49770.0, 52470.0, 41660.0, 39950.0, 48890.0, 39040.0, 50220.0, 52370.0, 48390.0, 48210.0, 52010.0, 43160.0, 45540.0, 53530.0, 45460.0, 49480.0, 43880.0, 38020.0, 37200.0, 38560.0, 42920.0, 49530.0, 56490.0, 56150.0, 45370.0, 44850.0, 47150.0, 50050.0, 46910.0, 46900.0, 41330.0, 46630.0, 47640.0, 41290.0, 29990.0, 38310.0, 47370.0, 42880.0, 39924.16666666667, 38574.0, 40326.4, 51012.5, 44715.83333333334, 37495.0, 46454.0, 55131.33333333335, 45101.0, 45622.0, 49352.85714285715, 41917.66666666666, 48274.0, 50473.33333333334, 29278.125, 34585.33333333334, 47210.47619047619, 45252.38095238095, 43000.33333333334, 55096.0, 47904.285714285696, 38143.33333333333, 35893.0, 43660.66666666667, 45091.0, 45328.0, 36083.5, 41289.66666666667, 40744.61538461538, 37745.333333333336, 48095.0, 47980.41666666667, 41855.21739130435, 54889.64285714286, 49893.0, 41348.4375, 48848.333333333336, 46803.90476190476, 35879.25, 33475.0, 38820.41666666667, 56705.0, 42701.333333333336, 44258.66666666666, 44813.52380952381, 49709.0, 44338.66666666666, 27798.0, 40291.33333333333]\n"
     ]
    }
   ],
   "source": [
    "print(list(data_mut_ouest_et_insee['DISP_MED'].unique()))"
   ]
  },
  {
   "cell_type": "code",
   "execution_count": 60,
   "metadata": {},
   "outputs": [
    {
     "name": "stdout",
     "output_type": "stream",
     "text": [
      "77753\n",
      "77368\n"
     ]
    }
   ],
   "source": [
    "print(len(data_mut_ouest_et_insee))\n",
    "def est_un_nombre(valeur):\n",
    "    try:\n",
    "        a = str(valeur).replace(',', \".\")\n",
    "        float(a)\n",
    "        return True\n",
    "    except ValueError:\n",
    "        return False\n",
    "\n",
    "# Filtrage pour ne garder que les valeurs convertibles en nombre\n",
    "data_mut_ouest_et_insee = data_mut_ouest_et_insee[data_mut_ouest_et_insee['DISP_MED'].apply(est_un_nombre)]\n",
    "print(len(data_mut_ouest_et_insee))"
   ]
  },
  {
   "cell_type": "code",
   "execution_count": 61,
   "metadata": {},
   "outputs": [],
   "source": [
    "data_mut_ouest_et_insee['DISP_MED'] = data_mut_ouest_et_insee['DISP_MED'].astype(float)"
   ]
  },
  {
   "cell_type": "code",
   "execution_count": 62,
   "metadata": {},
   "outputs": [
    {
     "name": "stdout",
     "output_type": "stream",
     "text": [
      "36878.01222831851\n"
     ]
    }
   ],
   "source": [
    "print(data_mut_ouest_et_insee[\"DISP_MED\"].mean())"
   ]
  },
  {
   "cell_type": "code",
   "execution_count": 63,
   "metadata": {},
   "outputs": [
    {
     "name": "stdout",
     "output_type": "stream",
     "text": [
      "Intercept        10067.507638\n",
      "P_ACT1564           -5.170967\n",
      "P_CHOM1564          -6.577778\n",
      "C_ACT1564_CS3        4.966894\n",
      "P_H1564              5.025007\n",
      "P_MAISON           -10.293793\n",
      "dtype: float64\n"
     ]
    }
   ],
   "source": [
    "result = sm.ols(formula=\"prix_m2 ~ P_ACT1564 + P_CHOM1564 + C_ACT1564_CS3 + P_H1564 + P_MAISON\", data=data_mut_ouest_et_insee).fit()\n",
    "print(result.params)"
   ]
  },
  {
   "cell_type": "code",
   "execution_count": 64,
   "metadata": {},
   "outputs": [
    {
     "name": "stdout",
     "output_type": "stream",
     "text": [
      "Intercept         0.000000e+00\n",
      "P_ACT1564        1.689695e-224\n",
      "P_CHOM1564        2.194438e-48\n",
      "C_ACT1564_CS3     0.000000e+00\n",
      "P_H1564          6.424116e-129\n",
      "P_MAISON          1.649687e-86\n",
      "dtype: float64\n"
     ]
    }
   ],
   "source": [
    "print(result.pvalues)"
   ]
  },
  {
   "cell_type": "code",
   "execution_count": 65,
   "metadata": {},
   "outputs": [
    {
     "name": "stdout",
     "output_type": "stream",
     "text": [
      "['2021' '2020' '2019' '2018' '2017' '2016' '2014']\n"
     ]
    }
   ],
   "source": [
    "print(crtl_sud['anneemut'].unique())"
   ]
  },
  {
   "cell_type": "code",
   "execution_count": 66,
   "metadata": {},
   "outputs": [],
   "source": [
    "crtl_sud_an = {}\n",
    "for annee in crtl_sud['anneemut'].unique() : \n",
    "    crtl_sud_an[annee] = crtl_sud[crtl_sud['anneemut']==annee]"
   ]
  },
  {
   "cell_type": "code",
   "execution_count": 67,
   "metadata": {},
   "outputs": [
    {
     "name": "stdout",
     "output_type": "stream",
     "text": [
      "2021\n",
      "0.04354295697146256\n",
      "2020\n",
      "0.034470452139881466\n",
      "2019\n",
      "-0.014488181484985218\n",
      "2018\n",
      "-0.07779534283315664\n",
      "2017\n",
      "-0.13118616308008751\n",
      "2016\n",
      "-0.19788295296294692\n",
      "2014\n",
      "-0.20028479573360694\n"
     ]
    }
   ],
   "source": [
    "for annee in crtl_sud['anneemut'].unique() :\n",
    "    print(annee)\n",
    "    df = crtl_sud_an[annee]\n",
    "    pred = result.params[\"Intercept\"] \n",
    "    for covar in [\"P_CHOM1564\",'C_ACT1564_CS3', 'P_H1564', \"P_MAISON\", \"P_ACT1564\"]:\n",
    "        pred +=  result.params[covar]*df[covar].mean()\n",
    "    print((df['prix_m2'].mean() - pred)/df['prix_m2'].mean())  "
   ]
  },
  {
   "cell_type": "code",
   "execution_count": 68,
   "metadata": {},
   "outputs": [
    {
     "name": "stdout",
     "output_type": "stream",
     "text": [
      "2021\n",
      "0.15085706401347315\n",
      "2020\n",
      "0.14892209034741108\n",
      "2019\n",
      "0.09667441835684198\n",
      "2018\n",
      "0.0352714243662213\n",
      "2017\n",
      "-0.016093283500236366\n",
      "2016\n",
      "-0.09037022242254308\n",
      "2014\n",
      "-0.11781714588893903\n"
     ]
    }
   ],
   "source": [
    "trtm_sud_an = {}\n",
    "for annee in trtm_sud['anneemut'].unique() : \n",
    "    trtm_sud_an[annee] = trtm_sud[trtm_sud['anneemut']==annee]\n",
    "for annee in trtm_sud['anneemut'].unique() :\n",
    "    print(annee)\n",
    "    df = trtm_sud_an[annee]\n",
    "    pred = result.params[\"Intercept\"] \n",
    "    for covar in [\"P_CHOM1564\",'C_ACT1564_CS3', 'P_H1564', \"P_MAISON\", \"P_ACT1564\"]:\n",
    "        pred +=  result.params[covar]*df[covar].mean()\n",
    "    print((df['prix_m2'].mean() - pred)/df['prix_m2'].mean())  "
   ]
  },
  {
   "cell_type": "code",
   "execution_count": 69,
   "metadata": {},
   "outputs": [
    {
     "ename": "NameError",
     "evalue": "name 'isaure' is not defined",
     "output_type": "error",
     "traceback": [
      "\u001b[0;31m---------------------------------------------------------------------------\u001b[0m",
      "\u001b[0;31mNameError\u001b[0m                                 Traceback (most recent call last)",
      "Cell \u001b[0;32mIn[69], line 1\u001b[0m\n\u001b[0;32m----> 1\u001b[0m \u001b[43misaure\u001b[49m\n",
      "\u001b[0;31mNameError\u001b[0m: name 'isaure' is not defined"
     ]
    }
   ],
   "source": [
    "isaure"
   ]
  },
  {
   "cell_type": "code",
   "execution_count": null,
   "metadata": {},
   "outputs": [
    {
     "data": {
      "text/plain": [
       "Index(['idmutinvar', 'idopendata', 'datemut', 'anneemut', 'coddep',\n",
       "       'libnatmut', 'vefa', 'valeurfonc', 'nbcomm', 'l_codinsee',\n",
       "       ...\n",
       "       'P_ANEM_RP_GRAT', 'P_RP_SDB', 'P_RP_CCCOLL', 'P_RP_CCIND',\n",
       "       'P_RP_CINDELEC', 'P_RP_GARL', 'P_RP_VOIT1P', 'P_RP_VOIT1',\n",
       "       'P_RP_VOIT2P', 'stot'],\n",
       "      dtype='object', length=238)"
      ]
     },
     "execution_count": 52,
     "metadata": {},
     "output_type": "execute_result"
    }
   ],
   "source": [
    "data_mut_ouest_et_insee.columns\n"
   ]
  },
  {
   "cell_type": "code",
   "execution_count": null,
   "metadata": {},
   "outputs": [],
   "source": [
    "# Créer une copie pour travailler\n",
    "data_diff = data_mut_ouest_et_insee.copy()\n",
    "\n",
    "# Ajouter une colonne \"groupe\"\n",
    "data_diff['groupe'] = data_diff['l_codinsee'].apply(\n",
    "    lambda x: 'traitement' if x in ['75116', '75117'] else \n",
    "              'controle' if x in ['92012', '92024', '92044', '92051'] else \n",
    "              'hors_etude'\n",
    ")\n",
    "\n",
    "# Filtrer uniquement les groupes traitement et contrôle\n",
    "data_diff = data_diff[data_diff['groupe'] != 'hors_etude']\n"
   ]
  },
  {
   "cell_type": "code",
   "execution_count": null,
   "metadata": {},
   "outputs": [
    {
     "name": "stdout",
     "output_type": "stream",
     "text": [
      "     datemut periode\n",
      "1 2021-03-18   apres\n",
      "2 2021-06-02   apres\n",
      "4 2021-02-26   apres\n",
      "6 2021-05-11   apres\n",
      "7 2021-04-14   apres\n"
     ]
    }
   ],
   "source": [
    "\n",
    "cutoff_date = pd.to_datetime(\"2019-07-01\")\n",
    "\n",
    "data_diff['periode'] = data_diff['datemut'].apply(\n",
    "    lambda x: 'avant' if x < cutoff_date else 'apres'\n",
    ")\n",
    "print(data_diff[['datemut', 'periode']].head())\n",
    "\n"
   ]
  },
  {
   "cell_type": "code",
   "execution_count": null,
   "metadata": {},
   "outputs": [
    {
     "name": "stdout",
     "output_type": "stream",
     "text": [
      "periode\n",
      "avant    47195\n",
      "apres    35835\n",
      "Name: count, dtype: int64\n"
     ]
    }
   ],
   "source": [
    "print(data_diff['periode'].value_counts())\n"
   ]
  },
  {
   "cell_type": "code",
   "execution_count": null,
   "metadata": {},
   "outputs": [
    {
     "name": "stdout",
     "output_type": "stream",
     "text": [
      "       groupe periode  traitement  apres\n",
      "1  traitement   apres           1      1\n",
      "2  traitement   apres           1      1\n",
      "4  traitement   apres           1      1\n",
      "6  traitement   apres           1      1\n",
      "7  traitement   apres           1      1\n"
     ]
    }
   ],
   "source": [
    "# Encodage binaire pour traitement et après\n",
    "data_diff['traitement'] = (data_diff['groupe'] == 'traitement').astype(int)\n",
    "data_diff['apres'] = (data_diff['periode'] == 'apres').astype(int)\n",
    "\n",
    "# Vérifions les nouvelles colonnes\n",
    "print(data_diff[['groupe', 'periode', 'traitement', 'apres']].head())\n"
   ]
  },
  {
   "cell_type": "code",
   "execution_count": null,
   "metadata": {},
   "outputs": [
    {
     "name": "stdout",
     "output_type": "stream",
     "text": [
      "traitement\n",
      "1    44028\n",
      "0    39002\n",
      "Name: count, dtype: int64\n",
      "apres\n",
      "0    47195\n",
      "1    35835\n",
      "Name: count, dtype: int64\n"
     ]
    }
   ],
   "source": [
    "print(data_diff['traitement'].value_counts())\n",
    "print(data_diff['apres'].value_counts())\n"
   ]
  },
  {
   "cell_type": "code",
   "execution_count": null,
   "metadata": {},
   "outputs": [
    {
     "name": "stdout",
     "output_type": "stream",
     "text": [
      "<class 'geopandas.geodataframe.GeoDataFrame'>\n",
      "Index: 83030 entries, 1 to 109676\n",
      "Columns: 242 entries, idmutinvar to apres\n",
      "dtypes: datetime64[ms](1), float64(184), geometry(1), int64(2), object(54)\n",
      "memory usage: 153.9+ MB\n",
      "None\n"
     ]
    }
   ],
   "source": [
    "print(data_diff.info())\n"
   ]
  },
  {
   "cell_type": "code",
   "execution_count": null,
   "metadata": {},
   "outputs": [
    {
     "name": "stdout",
     "output_type": "stream",
     "text": [
      "groupe      periode\n",
      "controle    apres      17089\n",
      "            avant      21913\n",
      "traitement  apres      18746\n",
      "            avant      25282\n",
      "dtype: int64\n"
     ]
    }
   ],
   "source": [
    "print(data_diff.groupby(['groupe', 'periode']).size())\n",
    "\n"
   ]
  },
  {
   "cell_type": "code",
   "execution_count": null,
   "metadata": {},
   "outputs": [],
   "source": [
    "variables_controle = ['DISP_MED', 'DISP_RD', \n",
    "                      'P_ACT1564', 'P_CHOM1564', \n",
    "                      'P_RP_4060M2', 'P_RP_6080M2', \n",
    "                      'P_RP_PROP', 'P_RP_LOC', \n",
    "                      'P_ANEM_RP']\n"
   ]
  },
  {
   "cell_type": "code",
   "execution_count": null,
   "metadata": {},
   "outputs": [],
   "source": [
    "with open(\"colonnes_data.txt\", \"w\") as f:\n",
    "    for col in data_mut_ouest_et_insee.columns:\n",
    "        f.write(col + \"\\n\")\n",
    "\n",
    "\n",
    "\n"
   ]
  },
  {
   "cell_type": "code",
   "execution_count": null,
   "metadata": {},
   "outputs": [
    {
     "name": "stdout",
     "output_type": "stream",
     "text": [
      "   valeurfonc  sbati       prix_m2\n",
      "1    451000.0   30.0  15033.333333\n",
      "2    701780.0   50.0  14035.600000\n",
      "4    213650.0   19.0  11244.736842\n",
      "6    854009.0   77.0  11091.025974\n",
      "7    335000.0   34.0   9852.941176\n"
     ]
    }
   ],
   "source": [
    "\n",
    "# Calculer le prix au m²\n",
    "data_diff['prix_m2'] = data_diff['valeurfonc'] / data_diff['sbati']\n",
    "\n",
    "# Vérifier un aperçu des données\n",
    "print(data_diff[['valeurfonc', 'sbati', 'prix_m2']].head())\n"
   ]
  },
  {
   "cell_type": "code",
   "execution_count": null,
   "metadata": {},
   "outputs": [
    {
     "ename": "ValueError",
     "evalue": "mismatch between column_names and columns coded by given terms",
     "output_type": "error",
     "traceback": [
      "\u001b[0;31m---------------------------------------------------------------------------\u001b[0m",
      "\u001b[0;31mValueError\u001b[0m                                Traceback (most recent call last)",
      "Cell \u001b[0;32mIn[81], line 7\u001b[0m\n\u001b[1;32m      4\u001b[0m formule \u001b[38;5;241m=\u001b[39m \u001b[38;5;124m'\u001b[39m\u001b[38;5;124mprix_m2 ~ traitement + apres + traitement:apres + \u001b[39m\u001b[38;5;124m'\u001b[39m \u001b[38;5;241m+\u001b[39m \u001b[38;5;124m'\u001b[39m\u001b[38;5;124m + \u001b[39m\u001b[38;5;124m'\u001b[39m\u001b[38;5;241m.\u001b[39mjoin(variables_controle)\n\u001b[1;32m      6\u001b[0m \u001b[38;5;66;03m# Ajuster le modèle\u001b[39;00m\n\u001b[0;32m----> 7\u001b[0m modele \u001b[38;5;241m=\u001b[39m \u001b[43msmf\u001b[49m\u001b[38;5;241;43m.\u001b[39;49m\u001b[43mols\u001b[49m\u001b[43m(\u001b[49m\u001b[43mformula\u001b[49m\u001b[38;5;241;43m=\u001b[39;49m\u001b[43mformule\u001b[49m\u001b[43m,\u001b[49m\u001b[43m \u001b[49m\u001b[43mdata\u001b[49m\u001b[38;5;241;43m=\u001b[39;49m\u001b[43mdata_diff\u001b[49m\u001b[43m)\u001b[49m\u001b[38;5;241m.\u001b[39mfit()\n\u001b[1;32m      9\u001b[0m \u001b[38;5;66;03m# Résultats\u001b[39;00m\n\u001b[1;32m     10\u001b[0m \u001b[38;5;28mprint\u001b[39m(modele\u001b[38;5;241m.\u001b[39msummary())\n",
      "File \u001b[0;32m/opt/conda/lib/python3.12/site-packages/statsmodels/base/model.py:203\u001b[0m, in \u001b[0;36mModel.from_formula\u001b[0;34m(cls, formula, data, subset, drop_cols, *args, **kwargs)\u001b[0m\n\u001b[1;32m    200\u001b[0m \u001b[38;5;28;01mif\u001b[39;00m missing \u001b[38;5;241m==\u001b[39m \u001b[38;5;124m'\u001b[39m\u001b[38;5;124mnone\u001b[39m\u001b[38;5;124m'\u001b[39m:  \u001b[38;5;66;03m# with patsy it's drop or raise. let's raise.\u001b[39;00m\n\u001b[1;32m    201\u001b[0m     missing \u001b[38;5;241m=\u001b[39m \u001b[38;5;124m'\u001b[39m\u001b[38;5;124mraise\u001b[39m\u001b[38;5;124m'\u001b[39m\n\u001b[0;32m--> 203\u001b[0m tmp \u001b[38;5;241m=\u001b[39m \u001b[43mhandle_formula_data\u001b[49m\u001b[43m(\u001b[49m\u001b[43mdata\u001b[49m\u001b[43m,\u001b[49m\u001b[43m \u001b[49m\u001b[38;5;28;43;01mNone\u001b[39;49;00m\u001b[43m,\u001b[49m\u001b[43m \u001b[49m\u001b[43mformula\u001b[49m\u001b[43m,\u001b[49m\u001b[43m \u001b[49m\u001b[43mdepth\u001b[49m\u001b[38;5;241;43m=\u001b[39;49m\u001b[43meval_env\u001b[49m\u001b[43m,\u001b[49m\n\u001b[1;32m    204\u001b[0m \u001b[43m                          \u001b[49m\u001b[43mmissing\u001b[49m\u001b[38;5;241;43m=\u001b[39;49m\u001b[43mmissing\u001b[49m\u001b[43m)\u001b[49m\n\u001b[1;32m    205\u001b[0m ((endog, exog), missing_idx, design_info) \u001b[38;5;241m=\u001b[39m tmp\n\u001b[1;32m    206\u001b[0m max_endog \u001b[38;5;241m=\u001b[39m \u001b[38;5;28mcls\u001b[39m\u001b[38;5;241m.\u001b[39m_formula_max_endog\n",
      "File \u001b[0;32m/opt/conda/lib/python3.12/site-packages/statsmodels/formula/formulatools.py:63\u001b[0m, in \u001b[0;36mhandle_formula_data\u001b[0;34m(Y, X, formula, depth, missing)\u001b[0m\n\u001b[1;32m     61\u001b[0m \u001b[38;5;28;01melse\u001b[39;00m:\n\u001b[1;32m     62\u001b[0m     \u001b[38;5;28;01mif\u001b[39;00m data_util\u001b[38;5;241m.\u001b[39m_is_using_pandas(Y, \u001b[38;5;28;01mNone\u001b[39;00m):\n\u001b[0;32m---> 63\u001b[0m         result \u001b[38;5;241m=\u001b[39m \u001b[43mdmatrices\u001b[49m\u001b[43m(\u001b[49m\u001b[43mformula\u001b[49m\u001b[43m,\u001b[49m\u001b[43m \u001b[49m\u001b[43mY\u001b[49m\u001b[43m,\u001b[49m\u001b[43m \u001b[49m\u001b[43mdepth\u001b[49m\u001b[43m,\u001b[49m\u001b[43m \u001b[49m\u001b[43mreturn_type\u001b[49m\u001b[38;5;241;43m=\u001b[39;49m\u001b[38;5;124;43m'\u001b[39;49m\u001b[38;5;124;43mdataframe\u001b[39;49m\u001b[38;5;124;43m'\u001b[39;49m\u001b[43m,\u001b[49m\n\u001b[1;32m     64\u001b[0m \u001b[43m                           \u001b[49m\u001b[43mNA_action\u001b[49m\u001b[38;5;241;43m=\u001b[39;49m\u001b[43mna_action\u001b[49m\u001b[43m)\u001b[49m\n\u001b[1;32m     65\u001b[0m     \u001b[38;5;28;01melse\u001b[39;00m:\n\u001b[1;32m     66\u001b[0m         result \u001b[38;5;241m=\u001b[39m dmatrices(formula, Y, depth, return_type\u001b[38;5;241m=\u001b[39m\u001b[38;5;124m'\u001b[39m\u001b[38;5;124mdataframe\u001b[39m\u001b[38;5;124m'\u001b[39m,\n\u001b[1;32m     67\u001b[0m                            NA_action\u001b[38;5;241m=\u001b[39mna_action)\n",
      "File \u001b[0;32m/opt/conda/lib/python3.12/site-packages/patsy/highlevel.py:319\u001b[0m, in \u001b[0;36mdmatrices\u001b[0;34m(formula_like, data, eval_env, NA_action, return_type)\u001b[0m\n\u001b[1;32m    309\u001b[0m \u001b[38;5;250m\u001b[39m\u001b[38;5;124;03m\"\"\"Construct two design matrices given a formula_like and data.\u001b[39;00m\n\u001b[1;32m    310\u001b[0m \n\u001b[1;32m    311\u001b[0m \u001b[38;5;124;03mThis function is identical to :func:`dmatrix`, except that it requires\u001b[39;00m\n\u001b[0;32m   (...)\u001b[0m\n\u001b[1;32m    316\u001b[0m \u001b[38;5;124;03mSee :func:`dmatrix` for details.\u001b[39;00m\n\u001b[1;32m    317\u001b[0m \u001b[38;5;124;03m\"\"\"\u001b[39;00m\n\u001b[1;32m    318\u001b[0m eval_env \u001b[38;5;241m=\u001b[39m EvalEnvironment\u001b[38;5;241m.\u001b[39mcapture(eval_env, reference\u001b[38;5;241m=\u001b[39m\u001b[38;5;241m1\u001b[39m)\n\u001b[0;32m--> 319\u001b[0m (lhs, rhs) \u001b[38;5;241m=\u001b[39m \u001b[43m_do_highlevel_design\u001b[49m\u001b[43m(\u001b[49m\n\u001b[1;32m    320\u001b[0m \u001b[43m    \u001b[49m\u001b[43mformula_like\u001b[49m\u001b[43m,\u001b[49m\u001b[43m \u001b[49m\u001b[43mdata\u001b[49m\u001b[43m,\u001b[49m\u001b[43m \u001b[49m\u001b[43meval_env\u001b[49m\u001b[43m,\u001b[49m\u001b[43m \u001b[49m\u001b[43mNA_action\u001b[49m\u001b[43m,\u001b[49m\u001b[43m \u001b[49m\u001b[43mreturn_type\u001b[49m\n\u001b[1;32m    321\u001b[0m \u001b[43m\u001b[49m\u001b[43m)\u001b[49m\n\u001b[1;32m    322\u001b[0m \u001b[38;5;28;01mif\u001b[39;00m lhs\u001b[38;5;241m.\u001b[39mshape[\u001b[38;5;241m1\u001b[39m] \u001b[38;5;241m==\u001b[39m \u001b[38;5;241m0\u001b[39m:\n\u001b[1;32m    323\u001b[0m     \u001b[38;5;28;01mraise\u001b[39;00m PatsyError(\u001b[38;5;124m\"\u001b[39m\u001b[38;5;124mmodel is missing required outcome variables\u001b[39m\u001b[38;5;124m\"\u001b[39m)\n",
      "File \u001b[0;32m/opt/conda/lib/python3.12/site-packages/patsy/highlevel.py:164\u001b[0m, in \u001b[0;36m_do_highlevel_design\u001b[0;34m(formula_like, data, eval_env, NA_action, return_type)\u001b[0m\n\u001b[1;32m    161\u001b[0m \u001b[38;5;28;01mdef\u001b[39;00m \u001b[38;5;21mdata_iter_maker\u001b[39m():\n\u001b[1;32m    162\u001b[0m     \u001b[38;5;28;01mreturn\u001b[39;00m \u001b[38;5;28miter\u001b[39m([data])\n\u001b[0;32m--> 164\u001b[0m design_infos \u001b[38;5;241m=\u001b[39m \u001b[43m_try_incr_builders\u001b[49m\u001b[43m(\u001b[49m\n\u001b[1;32m    165\u001b[0m \u001b[43m    \u001b[49m\u001b[43mformula_like\u001b[49m\u001b[43m,\u001b[49m\u001b[43m \u001b[49m\u001b[43mdata_iter_maker\u001b[49m\u001b[43m,\u001b[49m\u001b[43m \u001b[49m\u001b[43meval_env\u001b[49m\u001b[43m,\u001b[49m\u001b[43m \u001b[49m\u001b[43mNA_action\u001b[49m\n\u001b[1;32m    166\u001b[0m \u001b[43m\u001b[49m\u001b[43m)\u001b[49m\n\u001b[1;32m    167\u001b[0m \u001b[38;5;28;01mif\u001b[39;00m design_infos \u001b[38;5;129;01mis\u001b[39;00m \u001b[38;5;129;01mnot\u001b[39;00m \u001b[38;5;28;01mNone\u001b[39;00m:\n\u001b[1;32m    168\u001b[0m     \u001b[38;5;28;01mreturn\u001b[39;00m build_design_matrices(\n\u001b[1;32m    169\u001b[0m         design_infos, data, NA_action\u001b[38;5;241m=\u001b[39mNA_action, return_type\u001b[38;5;241m=\u001b[39mreturn_type\n\u001b[1;32m    170\u001b[0m     )\n",
      "File \u001b[0;32m/opt/conda/lib/python3.12/site-packages/patsy/highlevel.py:56\u001b[0m, in \u001b[0;36m_try_incr_builders\u001b[0;34m(formula_like, data_iter_maker, eval_env, NA_action)\u001b[0m\n\u001b[1;32m     54\u001b[0m \u001b[38;5;28;01mif\u001b[39;00m \u001b[38;5;28misinstance\u001b[39m(formula_like, ModelDesc):\n\u001b[1;32m     55\u001b[0m     \u001b[38;5;28;01massert\u001b[39;00m \u001b[38;5;28misinstance\u001b[39m(eval_env, EvalEnvironment)\n\u001b[0;32m---> 56\u001b[0m     \u001b[38;5;28;01mreturn\u001b[39;00m \u001b[43mdesign_matrix_builders\u001b[49m\u001b[43m(\u001b[49m\n\u001b[1;32m     57\u001b[0m \u001b[43m        \u001b[49m\u001b[43m[\u001b[49m\u001b[43mformula_like\u001b[49m\u001b[38;5;241;43m.\u001b[39;49m\u001b[43mlhs_termlist\u001b[49m\u001b[43m,\u001b[49m\u001b[43m \u001b[49m\u001b[43mformula_like\u001b[49m\u001b[38;5;241;43m.\u001b[39;49m\u001b[43mrhs_termlist\u001b[49m\u001b[43m]\u001b[49m\u001b[43m,\u001b[49m\n\u001b[1;32m     58\u001b[0m \u001b[43m        \u001b[49m\u001b[43mdata_iter_maker\u001b[49m\u001b[43m,\u001b[49m\n\u001b[1;32m     59\u001b[0m \u001b[43m        \u001b[49m\u001b[43meval_env\u001b[49m\u001b[43m,\u001b[49m\n\u001b[1;32m     60\u001b[0m \u001b[43m        \u001b[49m\u001b[43mNA_action\u001b[49m\u001b[43m,\u001b[49m\n\u001b[1;32m     61\u001b[0m \u001b[43m    \u001b[49m\u001b[43m)\u001b[49m\n\u001b[1;32m     62\u001b[0m \u001b[38;5;28;01melse\u001b[39;00m:\n\u001b[1;32m     63\u001b[0m     \u001b[38;5;28;01mreturn\u001b[39;00m \u001b[38;5;28;01mNone\u001b[39;00m\n",
      "File \u001b[0;32m/opt/conda/lib/python3.12/site-packages/patsy/build.py:790\u001b[0m, in \u001b[0;36mdesign_matrix_builders\u001b[0;34m(termlists, data_iter_maker, eval_env, NA_action)\u001b[0m\n\u001b[1;32m    787\u001b[0m             \u001b[38;5;28;01mfor\u001b[39;00m column_name \u001b[38;5;129;01min\u001b[39;00m _subterm_column_names_iter(factor_infos, subterm):\n\u001b[1;32m    788\u001b[0m                 column_names\u001b[38;5;241m.\u001b[39mappend(column_name)\n\u001b[1;32m    789\u001b[0m     design_infos\u001b[38;5;241m.\u001b[39mappend(\n\u001b[0;32m--> 790\u001b[0m         \u001b[43mDesignInfo\u001b[49m\u001b[43m(\u001b[49m\n\u001b[1;32m    791\u001b[0m \u001b[43m            \u001b[49m\u001b[43mcolumn_names\u001b[49m\u001b[43m,\u001b[49m\n\u001b[1;32m    792\u001b[0m \u001b[43m            \u001b[49m\u001b[43mfactor_infos\u001b[49m\u001b[38;5;241;43m=\u001b[39;49m\u001b[43mthis_design_factor_infos\u001b[49m\u001b[43m,\u001b[49m\n\u001b[1;32m    793\u001b[0m \u001b[43m            \u001b[49m\u001b[43mterm_codings\u001b[49m\u001b[38;5;241;43m=\u001b[39;49m\u001b[43mterm_to_subterm_infos\u001b[49m\u001b[43m,\u001b[49m\n\u001b[1;32m    794\u001b[0m \u001b[43m        \u001b[49m\u001b[43m)\u001b[49m\n\u001b[1;32m    795\u001b[0m     )\n\u001b[1;32m    796\u001b[0m \u001b[38;5;28;01mreturn\u001b[39;00m design_infos\n",
      "File \u001b[0;32m/opt/conda/lib/python3.12/site-packages/patsy/design_info.py:370\u001b[0m, in \u001b[0;36mDesignInfo.__init__\u001b[0;34m(self, column_names, factor_infos, term_codings)\u001b[0m\n\u001b[1;32m    368\u001b[0m         idx \u001b[38;5;241m+\u001b[39m\u001b[38;5;241m=\u001b[39m term_columns\n\u001b[1;32m    369\u001b[0m     \u001b[38;5;28;01mif\u001b[39;00m idx \u001b[38;5;241m!=\u001b[39m \u001b[38;5;28mlen\u001b[39m(\u001b[38;5;28mself\u001b[39m\u001b[38;5;241m.\u001b[39mcolumn_names):\n\u001b[0;32m--> 370\u001b[0m         \u001b[38;5;28;01mraise\u001b[39;00m \u001b[38;5;167;01mValueError\u001b[39;00m(\n\u001b[1;32m    371\u001b[0m             \u001b[38;5;124m\"\u001b[39m\u001b[38;5;124mmismatch between column_names and columns \u001b[39m\u001b[38;5;124m\"\u001b[39m \u001b[38;5;124m\"\u001b[39m\u001b[38;5;124mcoded by given terms\u001b[39m\u001b[38;5;124m\"\u001b[39m\n\u001b[1;32m    372\u001b[0m         )\n\u001b[1;32m    373\u001b[0m     \u001b[38;5;28mself\u001b[39m\u001b[38;5;241m.\u001b[39mterm_name_slices \u001b[38;5;241m=\u001b[39m OrderedDict(\n\u001b[1;32m    374\u001b[0m         [(term\u001b[38;5;241m.\u001b[39mname(), slice_) \u001b[38;5;28;01mfor\u001b[39;00m (term, slice_) \u001b[38;5;129;01min\u001b[39;00m \u001b[38;5;28mself\u001b[39m\u001b[38;5;241m.\u001b[39mterm_slices\u001b[38;5;241m.\u001b[39mitems()]\n\u001b[1;32m    375\u001b[0m     )\n\u001b[1;32m    377\u001b[0m \u001b[38;5;66;03m# Guarantees:\u001b[39;00m\n\u001b[1;32m    378\u001b[0m \u001b[38;5;66;03m#   term_name_slices is never None\u001b[39;00m\n\u001b[1;32m    379\u001b[0m \u001b[38;5;66;03m#   The slices in term_name_slices are in order and exactly cover the\u001b[39;00m\n\u001b[0;32m   (...)\u001b[0m\n\u001b[1;32m    382\u001b[0m \u001b[38;5;66;03m#   If term_slices is not None, then its slices match the ones in\u001b[39;00m\n\u001b[1;32m    383\u001b[0m \u001b[38;5;66;03m#     term_name_slices.\u001b[39;00m\n",
      "\u001b[0;31mValueError\u001b[0m: mismatch between column_names and columns coded by given terms"
     ]
    }
   ],
   "source": [
    "import statsmodels.formula.api as smf\n",
    "\n",
    "# Formuler le modèle Diff-in-Diff avec variables de contrôle\n",
    "formule = 'prix_m2 ~ traitement + apres + traitement:apres + ' + ' + '.join(variables_controle)\n",
    "\n",
    "# Ajuster le modèle\n",
    "modele = smf.ols(formula=formule, data=data_diff).fit()\n",
    "\n",
    "# Résultats\n",
    "print(modele.summary())\n"
   ]
  },
  {
   "cell_type": "code",
   "execution_count": null,
   "metadata": {},
   "outputs": [
    {
     "name": "stdout",
     "output_type": "stream",
     "text": [
      "Valeurs manquantes par colonne :\n",
      "prix_m2          0\n",
      "traitement       0\n",
      "apres            0\n",
      "DISP_MED       274\n",
      "DISP_RD        274\n",
      "P_ACT1564        0\n",
      "P_CHOM1564       0\n",
      "P_RP_4060M2      0\n",
      "P_RP_6080M2      0\n",
      "P_RP_PROP        0\n",
      "P_RP_LOC         0\n",
      "P_ANEM_RP        0\n",
      "dtype: int64\n"
     ]
    }
   ],
   "source": [
    "# Vérifiez les valeurs manquantes dans les colonnes utilisées\n",
    "missing_values = data_diff[variables_utilisees].isnull().sum()\n",
    "print(\"Valeurs manquantes par colonne :\")\n",
    "print(missing_values)\n"
   ]
  },
  {
   "cell_type": "code",
   "execution_count": null,
   "metadata": {},
   "outputs": [],
   "source": [
    "data_diff_clean = data_diff.dropna(subset=variables_utilisees)\n"
   ]
  },
  {
   "cell_type": "code",
   "execution_count": null,
   "metadata": {},
   "outputs": [
    {
     "name": "stdout",
     "output_type": "stream",
     "text": [
      "Colonnes manquantes : []\n"
     ]
    }
   ],
   "source": [
    "# Liste des colonnes utilisées dans la formule\n",
    "variables_utilisees = ['prix_m2', 'traitement', 'apres'] + variables_controle\n",
    "\n",
    "# Vérifiez si toutes ces colonnes existent dans data_diff\n",
    "missing_columns = [col for col in variables_utilisees if col not in data_diff.columns]\n",
    "print(\"Colonnes manquantes :\", missing_columns)\n"
   ]
  }
 ],
 "metadata": {
  "kernelspec": {
   "display_name": "base",
   "language": "python",
   "name": "python3"
  },
  "language_info": {
   "codemirror_mode": {
    "name": "ipython",
    "version": 3
   },
   "file_extension": ".py",
   "mimetype": "text/x-python",
   "name": "python",
   "nbconvert_exporter": "python",
   "pygments_lexer": "ipython3",
   "version": "3.12.7"
  }
 },
 "nbformat": 4,
 "nbformat_minor": 2
}
