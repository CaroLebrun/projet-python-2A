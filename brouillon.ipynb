{
 "cells": [
  {
   "cell_type": "markdown",
   "metadata": {},
   "source": [
    "Importation des packages"
   ]
  },
  {
   "cell_type": "code",
   "execution_count": 68,
   "metadata": {},
   "outputs": [],
   "source": [
    "import pandas as pd\n",
    "import geopandas as gpd\n",
    "import requests\n",
    "from io import StringIO"
   ]
  },
  {
   "cell_type": "markdown",
   "metadata": {},
   "source": [
    "Paramétrage de l'API"
   ]
  },
  {
   "cell_type": "code",
   "execution_count": 69,
   "metadata": {},
   "outputs": [
    {
     "name": "stdout",
     "output_type": "stream",
     "text": [
      "https://apidf-preprod.cerema.fr/dvf_opendata/geomutations/?anneemut=2020&code_insee=59350\n"
     ]
    }
   ],
   "source": [
    "BASE_URL_API = \"https://apidf-preprod.cerema.fr\"\n",
    "#code_insee, nom =  \"59512\", \"Roubaix\" #\"75015\", \"Paris\"\n",
    "#code_insee Lille = 59350\n",
    "code_insee = \"78220\"\n",
    "url = BASE_URL_API + f\"/dvf_opendata/geomutations/?anneemut=2020&code_insee=59350\"\n",
    "# %% \n",
    "print(url)"
   ]
  },
  {
   "cell_type": "code",
   "execution_count": 70,
   "metadata": {},
   "outputs": [
    {
     "name": "stdout",
     "output_type": "stream",
     "text": [
      "<class 'dict'>\n",
      "dict_keys(['type', 'count', 'next', 'previous', 'features'])\n"
     ]
    }
   ],
   "source": [
    "response = requests.get(url)#, params=params)\n",
    "# Vérification du succès de la requête\n",
    "if response.status_code == 200:\n",
    "    data = response.json()  # On récupère les données au format JSON\n",
    "else:\n",
    "    print(f\"Erreur : {response.status_code}\")\n",
    "# %%\n",
    "print(type(data))\n",
    "print(data.keys())"
   ]
  },
  {
   "cell_type": "markdown",
   "metadata": {},
   "source": [
    "Data est un dictionnaire ; on va transformer son entrée \"features\" en un dataframe python"
   ]
  },
  {
   "cell_type": "code",
   "execution_count": 72,
   "metadata": {},
   "outputs": [
    {
     "name": "stdout",
     "output_type": "stream",
     "text": [
      "        id     type                                           geometry  \\\n",
      "0  8341428  Feature  {'type': 'MultiPolygon', 'coordinates': [[[[3....   \n",
      "1  8341455  Feature  {'type': 'MultiPolygon', 'coordinates': [[[[3....   \n",
      "2  8341456  Feature  {'type': 'MultiPolygon', 'coordinates': [[[[3....   \n",
      "3  8341460  Feature  {'type': 'MultiPolygon', 'coordinates': [[[[3....   \n",
      "4  8341463  Feature  {'type': 'MultiPolygon', 'coordinates': [[[[3....   \n",
      "\n",
      "                                          properties  \n",
      "0  {'idmutinvar': '83a68c1f0c617ae2609e8ade54c118...  \n",
      "1  {'idmutinvar': '45005cd8bafee591ed6debb57bbc66...  \n",
      "2  {'idmutinvar': 'ebbcec3f97add3b68e7b452f8ba73f...  \n",
      "3  {'idmutinvar': '7bcb49cdc14b9303042d3938d9ff75...  \n",
      "4  {'idmutinvar': 'aee36b8e79a346304326d5bbed32e4...  \n",
      "Index(['id', 'type', 'geometry', 'properties'], dtype='object')\n"
     ]
    }
   ],
   "source": [
    "# Conversion en DataFrame pandas\n",
    "df = pd.DataFrame(data[\"features\"])\n",
    "print(df.head())\n",
    "print(df.columns)"
   ]
  },
  {
   "cell_type": "code",
   "execution_count": 73,
   "metadata": {},
   "outputs": [
    {
     "data": {
      "text/html": [
       "<div>\n",
       "<style scoped>\n",
       "    .dataframe tbody tr th:only-of-type {\n",
       "        vertical-align: middle;\n",
       "    }\n",
       "\n",
       "    .dataframe tbody tr th {\n",
       "        vertical-align: top;\n",
       "    }\n",
       "\n",
       "    .dataframe thead th {\n",
       "        text-align: right;\n",
       "    }\n",
       "</style>\n",
       "<table border=\"1\" class=\"dataframe\">\n",
       "  <thead>\n",
       "    <tr style=\"text-align: right;\">\n",
       "      <th></th>\n",
       "      <th>id</th>\n",
       "      <th>type</th>\n",
       "      <th>geometry</th>\n",
       "      <th>properties</th>\n",
       "    </tr>\n",
       "  </thead>\n",
       "  <tbody>\n",
       "    <tr>\n",
       "      <th>0</th>\n",
       "      <td>8341428</td>\n",
       "      <td>Feature</td>\n",
       "      <td>{'type': 'MultiPolygon', 'coordinates': [[[[3....</td>\n",
       "      <td>{'idmutinvar': '83a68c1f0c617ae2609e8ade54c118...</td>\n",
       "    </tr>\n",
       "  </tbody>\n",
       "</table>\n",
       "</div>"
      ],
      "text/plain": [
       "        id     type                                           geometry  \\\n",
       "0  8341428  Feature  {'type': 'MultiPolygon', 'coordinates': [[[[3....   \n",
       "\n",
       "                                          properties  \n",
       "0  {'idmutinvar': '83a68c1f0c617ae2609e8ade54c118...  "
      ]
     },
     "execution_count": 73,
     "metadata": {},
     "output_type": "execute_result"
    }
   ],
   "source": [
    "df.head(1)"
   ]
  },
  {
   "cell_type": "markdown",
   "metadata": {},
   "source": [
    "On a importé un fichier geojson mais qu'on a traité comme un json classique ; le code ci-dessous vise à mieux prendre en compte cette dimension spatiale (et le côté \"geo\" du fichier geojson)"
   ]
  },
  {
   "cell_type": "code",
   "execution_count": 74,
   "metadata": {},
   "outputs": [
    {
     "name": "stderr",
     "output_type": "stream",
     "text": [
      "Skipping field l_codinsee: unsupported OGR type: 5\n",
      "Skipping field l_idpar: unsupported OGR type: 5\n",
      "Skipping field l_idparmut: unsupported OGR type: 5\n",
      "Skipping field l_idlocmut: unsupported OGR type: 5\n"
     ]
    },
    {
     "name": "stdout",
     "output_type": "stream",
     "text": [
      "                         idmutinvar                        idopendata  \\\n",
      "0  83a68c1f0c617ae2609e8ade54c11804  83a68c1f0c617ae2609e8ade54c11804   \n",
      "1  45005cd8bafee591ed6debb57bbc6613  45005cd8bafee591ed6debb57bbc6613   \n",
      "2  ebbcec3f97add3b68e7b452f8ba73f21  ebbcec3f97add3b68e7b452f8ba73f21   \n",
      "3  7bcb49cdc14b9303042d3938d9ff7510  7bcb49cdc14b9303042d3938d9ff7510   \n",
      "4  aee36b8e79a346304326d5bbed32e4f5  aee36b8e79a346304326d5bbed32e4f5   \n",
      "\n",
      "     datemut  anneemut coddep                           libnatmut   vefa  \\\n",
      "0 2020-09-10      2020     59                               Vente  False   \n",
      "1 2020-12-23      2020     59  Vente en l'état futur d'achèvement   True   \n",
      "2 2020-12-17      2020     59                               Vente  False   \n",
      "3 2020-07-07      2020     59                               Vente  False   \n",
      "4 2020-12-04      2020     59                               Vente  False   \n",
      "\n",
      "  valeurfonc  nbcomm  nbpar  nbparmut sterr  nbvolmut  nblocmut  sbati  \\\n",
      "0  200000.00       1      1         0  0.00         0         1  37.00   \n",
      "1  238800.02       1      1         0  0.00         0         0   0.00   \n",
      "2  294000.00       1      1         0  0.00         0         1  40.00   \n",
      "3       1.00       1      1         0  0.00         0         1  54.00   \n",
      "4    4500.00       1      1         0  0.00         0         1   0.00   \n",
      "\n",
      "  codtypbien                                 libtypbien  \\\n",
      "0        121                             UN APPARTEMENT   \n",
      "1        101  BATI - INDETERMINE : Vefa sans descriptif   \n",
      "2        121                             UN APPARTEMENT   \n",
      "3        121                             UN APPARTEMENT   \n",
      "4        131                             UNE DEPENDANCE   \n",
      "\n",
      "                                            geometry  \n",
      "0  MULTIPOLYGON (((3.05323 50.6372, 3.05317 50.63...  \n",
      "1  MULTIPOLYGON (((3.06685 50.62606, 3.06694 50.6...  \n",
      "2  MULTIPOLYGON (((3.05946 50.64373, 3.05957 50.6...  \n",
      "3  MULTIPOLYGON (((3.05761 50.6304, 3.05759 50.63...  \n",
      "4  MULTIPOLYGON (((3.0738 50.61993, 3.07384 50.61...  \n"
     ]
    }
   ],
   "source": [
    "mut_gdf = gpd.read_file(StringIO(response.text))\n",
    "\n",
    "# Afficher un aperçu des données\n",
    "print(mut_gdf.head())"
   ]
  },
  {
   "cell_type": "markdown",
   "metadata": {},
   "source": [
    "Ok, mieux, mais il faudrait comprendre et régler ce qui s'affiche juste au dessus \"Skipping field l_codinsee: unsupported OGR type: 5\" (et les autres erreurs du même type)"
   ]
  },
  {
   "cell_type": "code",
   "execution_count": 75,
   "metadata": {},
   "outputs": [
    {
     "name": "stdout",
     "output_type": "stream",
     "text": [
      "Index(['idmutinvar', 'idopendata', 'datemut', 'anneemut', 'coddep',\n",
      "       'libnatmut', 'vefa', 'valeurfonc', 'nbcomm', 'nbpar', 'nbparmut',\n",
      "       'sterr', 'nbvolmut', 'nblocmut', 'sbati', 'codtypbien', 'libtypbien',\n",
      "       'geometry'],\n",
      "      dtype='object')\n"
     ]
    }
   ],
   "source": [
    "# Afficher les colonnes\n",
    "print(mut_gdf.columns)"
   ]
  },
  {
   "cell_type": "code",
   "execution_count": 76,
   "metadata": {},
   "outputs": [
    {
     "data": {
      "text/html": [
       "<div>\n",
       "<style scoped>\n",
       "    .dataframe tbody tr th:only-of-type {\n",
       "        vertical-align: middle;\n",
       "    }\n",
       "\n",
       "    .dataframe tbody tr th {\n",
       "        vertical-align: top;\n",
       "    }\n",
       "\n",
       "    .dataframe thead th {\n",
       "        text-align: right;\n",
       "    }\n",
       "</style>\n",
       "<table border=\"1\" class=\"dataframe\">\n",
       "  <thead>\n",
       "    <tr style=\"text-align: right;\">\n",
       "      <th></th>\n",
       "      <th>idmutinvar</th>\n",
       "      <th>idopendata</th>\n",
       "      <th>datemut</th>\n",
       "      <th>anneemut</th>\n",
       "      <th>coddep</th>\n",
       "      <th>libnatmut</th>\n",
       "      <th>vefa</th>\n",
       "      <th>valeurfonc</th>\n",
       "      <th>nbcomm</th>\n",
       "      <th>nbpar</th>\n",
       "      <th>nbparmut</th>\n",
       "      <th>sterr</th>\n",
       "      <th>nbvolmut</th>\n",
       "      <th>nblocmut</th>\n",
       "      <th>sbati</th>\n",
       "      <th>codtypbien</th>\n",
       "      <th>libtypbien</th>\n",
       "      <th>geometry</th>\n",
       "    </tr>\n",
       "  </thead>\n",
       "  <tbody>\n",
       "    <tr>\n",
       "      <th>0</th>\n",
       "      <td>83a68c1f0c617ae2609e8ade54c11804</td>\n",
       "      <td>83a68c1f0c617ae2609e8ade54c11804</td>\n",
       "      <td>2020-09-10</td>\n",
       "      <td>2020</td>\n",
       "      <td>59</td>\n",
       "      <td>Vente</td>\n",
       "      <td>False</td>\n",
       "      <td>200000.00</td>\n",
       "      <td>1</td>\n",
       "      <td>1</td>\n",
       "      <td>0</td>\n",
       "      <td>0.00</td>\n",
       "      <td>0</td>\n",
       "      <td>1</td>\n",
       "      <td>37.00</td>\n",
       "      <td>121</td>\n",
       "      <td>UN APPARTEMENT</td>\n",
       "      <td>MULTIPOLYGON (((3.05323 50.6372, 3.05317 50.63...</td>\n",
       "    </tr>\n",
       "    <tr>\n",
       "      <th>1</th>\n",
       "      <td>45005cd8bafee591ed6debb57bbc6613</td>\n",
       "      <td>45005cd8bafee591ed6debb57bbc6613</td>\n",
       "      <td>2020-12-23</td>\n",
       "      <td>2020</td>\n",
       "      <td>59</td>\n",
       "      <td>Vente en l'état futur d'achèvement</td>\n",
       "      <td>True</td>\n",
       "      <td>238800.02</td>\n",
       "      <td>1</td>\n",
       "      <td>1</td>\n",
       "      <td>0</td>\n",
       "      <td>0.00</td>\n",
       "      <td>0</td>\n",
       "      <td>0</td>\n",
       "      <td>0.00</td>\n",
       "      <td>101</td>\n",
       "      <td>BATI - INDETERMINE : Vefa sans descriptif</td>\n",
       "      <td>MULTIPOLYGON (((3.06685 50.62606, 3.06694 50.6...</td>\n",
       "    </tr>\n",
       "    <tr>\n",
       "      <th>2</th>\n",
       "      <td>ebbcec3f97add3b68e7b452f8ba73f21</td>\n",
       "      <td>ebbcec3f97add3b68e7b452f8ba73f21</td>\n",
       "      <td>2020-12-17</td>\n",
       "      <td>2020</td>\n",
       "      <td>59</td>\n",
       "      <td>Vente</td>\n",
       "      <td>False</td>\n",
       "      <td>294000.00</td>\n",
       "      <td>1</td>\n",
       "      <td>1</td>\n",
       "      <td>0</td>\n",
       "      <td>0.00</td>\n",
       "      <td>0</td>\n",
       "      <td>1</td>\n",
       "      <td>40.00</td>\n",
       "      <td>121</td>\n",
       "      <td>UN APPARTEMENT</td>\n",
       "      <td>MULTIPOLYGON (((3.05946 50.64373, 3.05957 50.6...</td>\n",
       "    </tr>\n",
       "    <tr>\n",
       "      <th>3</th>\n",
       "      <td>7bcb49cdc14b9303042d3938d9ff7510</td>\n",
       "      <td>7bcb49cdc14b9303042d3938d9ff7510</td>\n",
       "      <td>2020-07-07</td>\n",
       "      <td>2020</td>\n",
       "      <td>59</td>\n",
       "      <td>Vente</td>\n",
       "      <td>False</td>\n",
       "      <td>1.00</td>\n",
       "      <td>1</td>\n",
       "      <td>1</td>\n",
       "      <td>0</td>\n",
       "      <td>0.00</td>\n",
       "      <td>0</td>\n",
       "      <td>1</td>\n",
       "      <td>54.00</td>\n",
       "      <td>121</td>\n",
       "      <td>UN APPARTEMENT</td>\n",
       "      <td>MULTIPOLYGON (((3.05761 50.6304, 3.05759 50.63...</td>\n",
       "    </tr>\n",
       "    <tr>\n",
       "      <th>4</th>\n",
       "      <td>aee36b8e79a346304326d5bbed32e4f5</td>\n",
       "      <td>aee36b8e79a346304326d5bbed32e4f5</td>\n",
       "      <td>2020-12-04</td>\n",
       "      <td>2020</td>\n",
       "      <td>59</td>\n",
       "      <td>Vente</td>\n",
       "      <td>False</td>\n",
       "      <td>4500.00</td>\n",
       "      <td>1</td>\n",
       "      <td>1</td>\n",
       "      <td>0</td>\n",
       "      <td>0.00</td>\n",
       "      <td>0</td>\n",
       "      <td>1</td>\n",
       "      <td>0.00</td>\n",
       "      <td>131</td>\n",
       "      <td>UNE DEPENDANCE</td>\n",
       "      <td>MULTIPOLYGON (((3.0738 50.61993, 3.07384 50.61...</td>\n",
       "    </tr>\n",
       "  </tbody>\n",
       "</table>\n",
       "</div>"
      ],
      "text/plain": [
       "                         idmutinvar                        idopendata  \\\n",
       "0  83a68c1f0c617ae2609e8ade54c11804  83a68c1f0c617ae2609e8ade54c11804   \n",
       "1  45005cd8bafee591ed6debb57bbc6613  45005cd8bafee591ed6debb57bbc6613   \n",
       "2  ebbcec3f97add3b68e7b452f8ba73f21  ebbcec3f97add3b68e7b452f8ba73f21   \n",
       "3  7bcb49cdc14b9303042d3938d9ff7510  7bcb49cdc14b9303042d3938d9ff7510   \n",
       "4  aee36b8e79a346304326d5bbed32e4f5  aee36b8e79a346304326d5bbed32e4f5   \n",
       "\n",
       "     datemut  anneemut coddep                           libnatmut   vefa  \\\n",
       "0 2020-09-10      2020     59                               Vente  False   \n",
       "1 2020-12-23      2020     59  Vente en l'état futur d'achèvement   True   \n",
       "2 2020-12-17      2020     59                               Vente  False   \n",
       "3 2020-07-07      2020     59                               Vente  False   \n",
       "4 2020-12-04      2020     59                               Vente  False   \n",
       "\n",
       "  valeurfonc  nbcomm  nbpar  nbparmut sterr  nbvolmut  nblocmut  sbati  \\\n",
       "0  200000.00       1      1         0  0.00         0         1  37.00   \n",
       "1  238800.02       1      1         0  0.00         0         0   0.00   \n",
       "2  294000.00       1      1         0  0.00         0         1  40.00   \n",
       "3       1.00       1      1         0  0.00         0         1  54.00   \n",
       "4    4500.00       1      1         0  0.00         0         1   0.00   \n",
       "\n",
       "  codtypbien                                 libtypbien  \\\n",
       "0        121                             UN APPARTEMENT   \n",
       "1        101  BATI - INDETERMINE : Vefa sans descriptif   \n",
       "2        121                             UN APPARTEMENT   \n",
       "3        121                             UN APPARTEMENT   \n",
       "4        131                             UNE DEPENDANCE   \n",
       "\n",
       "                                            geometry  \n",
       "0  MULTIPOLYGON (((3.05323 50.6372, 3.05317 50.63...  \n",
       "1  MULTIPOLYGON (((3.06685 50.62606, 3.06694 50.6...  \n",
       "2  MULTIPOLYGON (((3.05946 50.64373, 3.05957 50.6...  \n",
       "3  MULTIPOLYGON (((3.05761 50.6304, 3.05759 50.63...  \n",
       "4  MULTIPOLYGON (((3.0738 50.61993, 3.07384 50.61...  "
      ]
     },
     "execution_count": 76,
     "metadata": {},
     "output_type": "execute_result"
    }
   ],
   "source": [
    "mut_gdf.head()"
   ]
  },
  {
   "cell_type": "markdown",
   "metadata": {},
   "source": [
    "Description des variables de ce dataframe :\n",
    "- idmutinvar = identifiant unique entre les diff bases pour retrouver chaque mutation\n",
    "- idopendata = identifiant de mutation utilisé depuis l'ouverture de données DVF\n",
    "- datemut = date de signature de l'acte de vente\n",
    "- anneemut = annee de signature du doc\n",
    "- codedep\n",
    "- libnatmut = Libellé de nature de mutation tel que défini dans la donnée source DVF 6 catégories : Vente, Vente en l'état futur d'achèvement, Adjudication, Echange, Vente terrain à bâtir et Expropriation.\n",
    "- vefa = booléen selon si la vente est en VEFA (vente en l'état futur d'achèvement) ou non\n",
    "- valeurfonc = valeur foncière en euro déclarée lors de la vente ; prix net vendeur, inclut la TVA mais n'inclut pas les frais de notaire, d'agence ou des meubles. \n",
    "- nbcomm = nombre de communes concernée par la mutation (i.e. sur lesquelles se trouve la parcelle cadastrale concernée par la mutation)\n",
    "- nbpar = comme nbcomm mais pour les parcelles.\n",
    "- nbparmut = nb de parcelles ayant muté (i.e. dont la pleine propriété a été transférée lors de la mutation)\n",
    "- sterr = surface de terrain ayant muté (mutation = transfert de propriété, donc surface de terrain ayant muté = surface du terrain qui a été vendu)\n",
    "- nbvolmut = variable obscure, flemme \n",
    "- nblocmut = nb de locaux ayant muté\n",
    "- sbati = surface de l'ensemble du bati ayant muté\n",
    "- codtypbien = typologie des biens ; on pourra s'en servir pour filter les maisons et appartements et virer tous les types de batiments bizarres (cf schéma ici) https://doc-datafoncier.cerema.fr/doc/dv3f/mutation/codtypbien\n",
    "- libtypbien = comme codtypbien mais pour la base DV3F et non issu de juste DVF\n",
    "- geometry"
   ]
  },
  {
   "cell_type": "code",
   "execution_count": 77,
   "metadata": {},
   "outputs": [
    {
     "data": {
      "text/plain": [
       "100"
      ]
     },
     "execution_count": 77,
     "metadata": {},
     "output_type": "execute_result"
    }
   ],
   "source": [
    "len(mut_gdf)"
   ]
  },
  {
   "cell_type": "code",
   "execution_count": 78,
   "metadata": {},
   "outputs": [
    {
     "name": "stdout",
     "output_type": "stream",
     "text": [
      "2020.0 2020.0\n"
     ]
    }
   ],
   "source": [
    "maxi = 0\n",
    "mini = 10000000000000000000000000000000000000\n",
    "for index, row in mut_gdf.iterrows():\n",
    "    if float(row[\"anneemut\"]) > maxi : \n",
    "        maxi = float(row[\"anneemut\"])\n",
    "    if float(row[\"anneemut\"]) < mini : \n",
    "        mini = float(row[\"anneemut\"])\n",
    "print(mini, maxi)"
   ]
  },
  {
   "cell_type": "markdown",
   "metadata": {},
   "source": [
    "On est donc capable de trouver des valeurs qui ont l'air pas trop extrêmes pour la valeur de la transaction. "
   ]
  },
  {
   "cell_type": "code",
   "execution_count": 79,
   "metadata": {},
   "outputs": [
    {
     "data": {
      "text/plain": [
       "14"
      ]
     },
     "execution_count": 79,
     "metadata": {},
     "output_type": "execute_result"
    }
   ],
   "source": [
    "mut_gdf_verif_vente = mut_gdf[mut_gdf[\"libnatmut\"] != \"Vente\"]\n",
    "len(mut_gdf_verif_vente)\n",
    "    "
   ]
  },
  {
   "cell_type": "markdown",
   "metadata": {},
   "source": [
    "Toutes les observations sont des ventes donc pas de problème de ce côté. Par ailleurs, on remarque qu'on peut travailler sur des colonnes de types object sans changer ce type s'il s'agit de texte (on n'a pas besoin de les transformer en string)."
   ]
  },
  {
   "cell_type": "markdown",
   "metadata": {},
   "source": [
    "Mais on a un problème avec la surface transférée : parfois on voit 0 pour le terrain vendu et pour le bâti vendu (respectivement sterr et sbati). Il faut écarter ces anomalies. "
   ]
  },
  {
   "cell_type": "code",
   "execution_count": 80,
   "metadata": {},
   "outputs": [
    {
     "data": {
      "text/plain": [
       "idmutinvar            object\n",
       "idopendata            object\n",
       "datemut       datetime64[ms]\n",
       "anneemut               int32\n",
       "coddep                object\n",
       "libnatmut             object\n",
       "vefa                    bool\n",
       "valeurfonc            object\n",
       "nbcomm                 int32\n",
       "nbpar                  int32\n",
       "nbparmut               int32\n",
       "sterr                 object\n",
       "nbvolmut               int32\n",
       "nblocmut               int32\n",
       "sbati                 object\n",
       "codtypbien            object\n",
       "libtypbien            object\n",
       "geometry            geometry\n",
       "dtype: object"
      ]
     },
     "execution_count": 80,
     "metadata": {},
     "output_type": "execute_result"
    }
   ],
   "source": [
    "mut_gdf.dtypes"
   ]
  },
  {
   "cell_type": "code",
   "execution_count": 81,
   "metadata": {},
   "outputs": [],
   "source": [
    "mut_gdf['sterr']  = mut_gdf[\"sterr\"].astype(float)\n",
    "mut_gdf['sbati']  = mut_gdf[\"sbati\"].astype(float)"
   ]
  },
  {
   "cell_type": "code",
   "execution_count": 82,
   "metadata": {},
   "outputs": [
    {
     "data": {
      "text/plain": [
       "idmutinvar            object\n",
       "idopendata            object\n",
       "datemut       datetime64[ms]\n",
       "anneemut               int32\n",
       "coddep                object\n",
       "libnatmut             object\n",
       "vefa                    bool\n",
       "valeurfonc            object\n",
       "nbcomm                 int32\n",
       "nbpar                  int32\n",
       "nbparmut               int32\n",
       "sterr                float64\n",
       "nbvolmut               int32\n",
       "nblocmut               int32\n",
       "sbati                float64\n",
       "codtypbien            object\n",
       "libtypbien            object\n",
       "geometry            geometry\n",
       "dtype: object"
      ]
     },
     "execution_count": 82,
     "metadata": {},
     "output_type": "execute_result"
    }
   ],
   "source": [
    "mut_gdf.dtypes"
   ]
  },
  {
   "cell_type": "code",
   "execution_count": 83,
   "metadata": {},
   "outputs": [
    {
     "data": {
      "text/plain": [
       "70"
      ]
     },
     "execution_count": 83,
     "metadata": {},
     "output_type": "execute_result"
    }
   ],
   "source": [
    "mut_gdf_ano = mut_gdf[mut_gdf[\"sterr\"]==0]\n",
    "len(mut_gdf_ano)\n"
   ]
  },
  {
   "cell_type": "code",
   "execution_count": 84,
   "metadata": {},
   "outputs": [
    {
     "data": {
      "text/plain": [
       "12"
      ]
     },
     "execution_count": 84,
     "metadata": {},
     "output_type": "execute_result"
    }
   ],
   "source": [
    "mut_gdf_anomalie = mut_gdf_ano[mut_gdf_ano[\"sbati\"]==0]\n",
    "len(mut_gdf_anomalie)"
   ]
  },
  {
   "cell_type": "code",
   "execution_count": 85,
   "metadata": {},
   "outputs": [
    {
     "ename": "ValueError",
     "evalue": "The truth value of a Series is ambiguous. Use a.empty, a.bool(), a.item(), a.any() or a.all().",
     "output_type": "error",
     "traceback": [
      "\u001b[0;31m---------------------------------------------------------------------------\u001b[0m",
      "\u001b[0;31mValueError\u001b[0m                                Traceback (most recent call last)",
      "\u001b[0;32m/tmp/ipykernel_44835/811907794.py\u001b[0m in \u001b[0;36m?\u001b[0;34m()\u001b[0m\n\u001b[0;32m----> 1\u001b[0;31m \u001b[0mmut_gdf_filtre\u001b[0m \u001b[0;34m=\u001b[0m \u001b[0mmut_gdf\u001b[0m\u001b[0;34m[\u001b[0m\u001b[0mmut_gdf\u001b[0m\u001b[0;34m[\u001b[0m\u001b[0;34m'sterr'\u001b[0m\u001b[0;34m]\u001b[0m \u001b[0;34m!=\u001b[0m \u001b[0;36m0\u001b[0m \u001b[0;32mor\u001b[0m \u001b[0mmut_gdf\u001b[0m\u001b[0;34m[\u001b[0m\u001b[0;34m'sbati'\u001b[0m\u001b[0;34m]\u001b[0m \u001b[0;34m!=\u001b[0m \u001b[0;36m0\u001b[0m\u001b[0;34m]\u001b[0m\u001b[0;34m\u001b[0m\u001b[0;34m\u001b[0m\u001b[0m\n\u001b[0m",
      "\u001b[0;32m/opt/conda/lib/python3.12/site-packages/pandas/core/generic.py\u001b[0m in \u001b[0;36m?\u001b[0;34m(self)\u001b[0m\n\u001b[1;32m   1575\u001b[0m     \u001b[0;34m@\u001b[0m\u001b[0mfinal\u001b[0m\u001b[0;34m\u001b[0m\u001b[0;34m\u001b[0m\u001b[0m\n\u001b[1;32m   1576\u001b[0m     \u001b[0;32mdef\u001b[0m \u001b[0m__nonzero__\u001b[0m\u001b[0;34m(\u001b[0m\u001b[0mself\u001b[0m\u001b[0;34m)\u001b[0m \u001b[0;34m->\u001b[0m \u001b[0mNoReturn\u001b[0m\u001b[0;34m:\u001b[0m\u001b[0;34m\u001b[0m\u001b[0;34m\u001b[0m\u001b[0m\n\u001b[0;32m-> 1577\u001b[0;31m         raise ValueError(\n\u001b[0m\u001b[1;32m   1578\u001b[0m             \u001b[0;34mf\"\u001b[0m\u001b[0;34mThe truth value of a \u001b[0m\u001b[0;34m{\u001b[0m\u001b[0mtype\u001b[0m\u001b[0;34m(\u001b[0m\u001b[0mself\u001b[0m\u001b[0;34m)\u001b[0m\u001b[0;34m.\u001b[0m\u001b[0m__name__\u001b[0m\u001b[0;34m}\u001b[0m\u001b[0;34m is ambiguous. \u001b[0m\u001b[0;34m\"\u001b[0m\u001b[0;34m\u001b[0m\u001b[0;34m\u001b[0m\u001b[0m\n\u001b[1;32m   1579\u001b[0m             \u001b[0;34m\"Use a.empty, a.bool(), a.item(), a.any() or a.all().\"\u001b[0m\u001b[0;34m\u001b[0m\u001b[0;34m\u001b[0m\u001b[0m\n\u001b[1;32m   1580\u001b[0m         \u001b[0;34m)\u001b[0m\u001b[0;34m\u001b[0m\u001b[0;34m\u001b[0m\u001b[0m\n",
      "\u001b[0;31mValueError\u001b[0m: The truth value of a Series is ambiguous. Use a.empty, a.bool(), a.item(), a.any() or a.all()."
     ]
    }
   ],
   "source": [
    "mut_gdf_filtre = mut_gdf[mut_gdf['sterr'] != 0 or mut_gdf['sbati'] != 0]"
   ]
  },
  {
   "cell_type": "code",
   "execution_count": null,
   "metadata": {},
   "outputs": [],
   "source": []
  }
 ],
 "metadata": {
  "kernelspec": {
   "display_name": "base",
   "language": "python",
   "name": "python3"
  },
  "language_info": {
   "codemirror_mode": {
    "name": "ipython",
    "version": 3
   },
   "file_extension": ".py",
   "mimetype": "text/x-python",
   "name": "python",
   "nbconvert_exporter": "python",
   "pygments_lexer": "ipython3",
   "version": "3.12.7"
  }
 },
 "nbformat": 4,
 "nbformat_minor": 2
}
